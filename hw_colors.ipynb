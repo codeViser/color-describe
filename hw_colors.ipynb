{
 "cells": [
  {
   "cell_type": "markdown",
   "metadata": {},
   "source": [
    "# Pragmatic color descriptions"
   ]
  },
  {
   "cell_type": "code",
   "execution_count": 1,
   "metadata": {},
   "outputs": [],
   "source": [
    "__author__ = \"Shubham Chowdhary\"\n",
    "__version__ = \"Original System, XCS224u\""
   ]
  },
  {
   "cell_type": "markdown",
   "metadata": {},
   "source": [
    "## Set-up"
   ]
  },
  {
   "cell_type": "code",
   "execution_count": 3,
   "metadata": {},
   "outputs": [],
   "source": [
    "from colors import ColorsCorpusReader\n",
    "from nltk.translate.bleu_score import corpus_bleu\n",
    "import numpy as np\n",
    "import os\n",
    "import pandas as pd\n",
    "from sklearn.model_selection import train_test_split\n",
    "from torch_color_describer import ContextualColorDescriber\n",
    "from torch_color_describer import create_example_dataset\n",
    "\n",
    "import utils\n",
    "from utils import START_SYMBOL, END_SYMBOL, UNK_SYMBOL"
   ]
  },
  {
   "cell_type": "code",
   "execution_count": 4,
   "metadata": {},
   "outputs": [],
   "source": [
    "utils.fix_random_seeds()"
   ]
  },
  {
   "cell_type": "code",
   "execution_count": 5,
   "metadata": {},
   "outputs": [],
   "source": [
    "COLORS_SRC_FILENAME = os.path.join(\n",
    "    \"data\", \"colors\", \"filteredCorpus.csv\")"
   ]
  },
  {
   "cell_type": "markdown",
   "metadata": {},
   "source": [
    "## All two-word examples as a dev corpus\n"
   ]
  },
  {
   "cell_type": "code",
   "execution_count": 6,
   "outputs": [],
   "source": [
    "#DONE(schowdhary): Use 2-word datasets for fast experimental testing of the model architecture until you find good scoring models. Please remember to use full dataset train/dev split on the final pipeline you choose to proceed with."
   ],
   "metadata": {
    "collapsed": false,
    "pycharm": {
     "name": "#%%\n"
    }
   }
  },
  {
   "cell_type": "code",
   "execution_count": 7,
   "metadata": {},
   "outputs": [],
   "source": [
    "dev_corpus = ColorsCorpusReader(\n",
    "    COLORS_SRC_FILENAME,\n",
    "    word_count=2,\n",
    "    normalize_colors=True)"
   ]
  },
  {
   "cell_type": "code",
   "execution_count": 8,
   "metadata": {},
   "outputs": [],
   "source": [
    "dev_examples = list(dev_corpus.read())"
   ]
  },
  {
   "cell_type": "markdown",
   "metadata": {},
   "source": [
    "This subset has about one-third the examples of the full corpus:"
   ]
  },
  {
   "cell_type": "code",
   "execution_count": 9,
   "metadata": {},
   "outputs": [
    {
     "data": {
      "text/plain": "13890"
     },
     "execution_count": 9,
     "metadata": {},
     "output_type": "execute_result"
    }
   ],
   "source": [
    "len(dev_examples)"
   ]
  },
  {
   "cell_type": "markdown",
   "metadata": {},
   "source": [
    "## Dev dataset\n",
    "\n",
    "The first step is to extract the raw color and raw texts from the corpus:"
   ]
  },
  {
   "cell_type": "code",
   "metadata": {
    "pycharm": {
     "name": "#%%\n"
    }
   },
   "source": [
    "dev_rawcols, dev_texts = zip(*[[ex.colors, ex.contents] for ex in dev_examples])"
   ],
   "execution_count": null,
   "outputs": []
  },
  {
   "cell_type": "markdown",
   "metadata": {
    "pycharm": {
     "name": "#%% md\n"
    }
   },
   "source": [
    "## Random train–test split for development\n",
    "\n",
    "For the sake of development runs, we create a random train–test split:"
   ]
  },
  {
   "cell_type": "code",
   "metadata": {
    "pycharm": {
     "name": "#%%\n"
    }
   },
   "source": [
    "dev_rawcols_train, dev_rawcols_test, dev_texts_train, dev_texts_test = \\\n",
    "    train_test_split(dev_rawcols, dev_texts)"
   ],
   "execution_count": null,
   "outputs": []
  },
  {
   "cell_type": "markdown",
   "metadata": {
    "pycharm": {
     "name": "#%% md\n"
    }
   },
   "source": [
    "### We try following tokenization techniques\n",
    "\n",
    "1. Lowering the case and space splitting the content, maybe sentiment splitting can be tried?\n",
    "2. Generating vocab only from the training examples and then replacing all the solo occurrences with \\<UNK\\> in train and dev/test set."
   ]
  },
  {
   "cell_type": "code",
   "source": [
    "if 'IS_GRADESCOPE_ENV' not in os.environ:\n",
    "\n",
    "    def basic_tokenize(s):\n",
    "        # Improved on punctuation splitting by using the TweetTokenizer below\n",
    "        return [START_SYMBOL] + s.lower().split() + [END_SYMBOL]\n",
    "\n",
    "    from nltk.tokenize import TweetTokenizer\n",
    "    sentiment_tknzr = TweetTokenizer(preserve_case=False)\n",
    "\n",
    "    def tweet_tokenize(s):\n",
    "        return [START_SYMBOL] + sentiment_tknzr.tokenize(s) + [END_SYMBOL]"
   ],
   "metadata": {
    "collapsed": false,
    "pycharm": {
     "name": "#%%\n"
    }
   },
   "execution_count": null,
   "outputs": []
  },
  {
   "cell_type": "code",
   "execution_count": 12,
   "outputs": [],
   "source": [
    "if 'IS_GRADESCOPE_ENV' not in os.environ:\n",
    "    from collections import Counter\n",
    "    # Since we are using a small dataset for now, we will create a vocab using that. We will reuse this pipeline later-on when we reiterate this process for full dataset\n",
    "    def create_vocab_from_content_dataset(train_texts, lowest_allowed_freq, tokenizer):\n",
    "        \"\"\"\n",
    "        This routine creates vocab from the content dataset passed to it by converting all text to lower-case. As a safely measure, it also returns a lower-cased space split copy of dataset. Please use that version of dataset for further training in the pipeline.\n",
    "\n",
    "        Parameters\n",
    "        ----------\n",
    "        train_texts : list\n",
    "            list of utterances from training set\n",
    "\n",
    "        lowest_allowed_freq : int\n",
    "            least frequency for the words that should be the part of vocab\n",
    "\n",
    "        tokenizer : func(str)->list of str\n",
    "            tokenizer that splits a text to a list of tokens\n",
    "\n",
    "        Returns\n",
    "        -------\n",
    "        list\n",
    "            training vocab list\n",
    "        list of list\n",
    "            list of transformed word sequences\n",
    "        list\n",
    "            list of words with very few occurrences that are removed from training transformed word sequences. Should be removed from dev/test set too during preprocessing\n",
    "\n",
    "\n",
    "        \"\"\"\n",
    "\n",
    "        train_word_seqs = [tokenizer(text) for text in train_texts]\n",
    "        train_words_list = [word for word_seq in train_word_seqs for word in word_seq]\n",
    "\n",
    "        ctr_train_words_list = Counter(train_words_list)\n",
    "        banned_words = [k for (k, v) in ctr_train_words_list.most_common() if v < lowest_allowed_freq]\n",
    "\n",
    "        train_words_vocab = sorted(set(train_words_list) - set(banned_words))\n",
    "        train_words_vocab += [UNK_SYMBOL]\n",
    "\n",
    "        filled_train_word_seqs = [[word if word not in banned_words else UNK_SYMBOL for word in word_seq] for word_seq in train_word_seqs]\n",
    "\n",
    "        return train_words_vocab, filled_train_word_seqs, banned_words\n",
    "\n",
    "    def transform_test_content(test_texts, train_vocab, tokenizer):\n",
    "        \"\"\"\n",
    "\n",
    "        Parameters\n",
    "        ----------\n",
    "        test_texts : list\n",
    "            list of utturances from test/dev set\n",
    "\n",
    "        train_vocab : list\n",
    "            list of vocab words that was formed using the training set\n",
    "\n",
    "        tokenizer : func(str)->list of str\n",
    "            tokenizer that splits a string text to list of string tokens\n",
    "\n",
    "        Returns\n",
    "        -------\n",
    "         list of list\n",
    "            trainable list of word sequences\n",
    "\n",
    "        \"\"\"\n",
    "        test_word_seqs = [tokenizer(text) for text in test_texts]\n",
    "        filled_test_word_seqs = [[word if word in train_vocab else UNK_SYMBOL for word in word_seq] for word_seq in test_word_seqs]\n",
    "\n",
    "        return filled_test_word_seqs"
   ],
   "metadata": {
    "collapsed": false,
    "pycharm": {
     "name": "#%%\n"
    }
   }
  },
  {
   "cell_type": "code",
   "execution_count": 13,
   "outputs": [],
   "source": [
    "if 'IS_GRADESCOPE_ENV' not in os.environ:\n",
    "    # DONE(schowdhary): see behaviour with lowest_allowed_freq=2 (& 1 also) in the bigger dataset.\n",
    "    # There was not much difference. Just that with a smaller vocab we can get similar accuracy scores\n",
    "    dev_train_vocab, filled_dev_train_word_seqs, dev_train_removed_words = create_vocab_from_content_dataset(train_texts=dev_texts_train, lowest_allowed_freq=1, tokenizer=tweet_tokenize)\n",
    "\n",
    "    print(len(dev_train_removed_words), \" these many words were removed from the train vocab\")\n",
    "    print(\"Size of train set vocab, \", len(dev_train_vocab))\n",
    "    print(\"Banned words:\\n\", dev_train_removed_words)\n",
    "    print(\"A sample tokenized train text:\\n\", filled_dev_train_word_seqs[360])\n",
    "    print(\"And the actual text was:\\n\", dev_texts_train[360])"
   ],
   "metadata": {
    "collapsed": false,
    "pycharm": {
     "name": "#%%\n"
    }
   }
  },
  {
   "cell_type": "markdown",
   "source": [
    "When we used simple space splits and excluded words with freq < 2, a lot of combined color words got excluded. So we decided to split even on punctuations to be sure that we include more color words. As can be seen, we still are discarding approx 50% words from the train set full vocab to \\<UNK\\> if we remove words with freq < 2. Some are typo words but some of these are real words that, though rare, give real sense for colors. Hence, we decide not to remove freq=1 words from the train_vocab for now. **_This also calls for the need to use subword tokenizers like the BERT_**."
   ],
   "metadata": {
    "collapsed": false,
    "pycharm": {
     "name": "#%% md\n"
    }
   }
  },
  {
   "cell_type": "code",
   "source": [
    "if 'IS_GRADESCOPE_ENV' not in os.environ:\n",
    "    def tokenize_example_on_vocab(s, train_vocab, tokenizer):\n",
    "        \"\"\"\n",
    "\n",
    "        Parameters\n",
    "        ----------\n",
    "        s : str\n",
    "            string text\n",
    "        train_vocab : list\n",
    "            list of supported words from training dataset\n",
    "        tokenizer : func(str)-> list of str\n",
    "            tokenizer function that takes string converts it into list of tokens\n",
    "\n",
    "        Returns\n",
    "        -------\n",
    "        list\n",
    "            list of words in a tokenized format\n",
    "        \"\"\"\n",
    "        tokens_s = tokenizer(s)\n",
    "        filled_word_seq = [word if word in train_vocab else UNK_SYMBOL for word in tokens_s]\n",
    "\n",
    "        return filled_word_seq"
   ],
   "metadata": {
    "collapsed": false,
    "pycharm": {
     "name": "#%%\n"
    }
   },
   "execution_count": null,
   "outputs": []
  },
  {
   "cell_type": "code",
   "execution_count": 16,
   "outputs": [],
   "source": [
    "def tokenize_example(s):\n",
    "    if 'IS_GRADESCOPE_ENV' not in os.environ:\n",
    "        return tokenize_example_on_vocab(s, train_vocab=dev_train_vocab, tokenizer=tweet_tokenize)\n",
    "    else:\n",
    "        return [START_SYMBOL] + s.lower().split() + [END_SYMBOL]\n"
   ],
   "metadata": {
    "collapsed": false,
    "pycharm": {
     "name": "#%%\n"
    }
   }
  },
  {
   "cell_type": "code",
   "execution_count": 17,
   "metadata": {},
   "outputs": [],
   "source": [
    "if 'IS_GRADESCOPE_ENV' not in os.environ:\n",
    "    print(\"Tokenized text:\")\n",
    "    print(tokenize_example(dev_texts_train[376]))\n",
    "    print(\"Actual text:\")\n",
    "    print(dev_texts_train[376])"
   ]
  },
  {
   "cell_type": "markdown",
   "metadata": {
    "pycharm": {
     "name": "#%% md\n"
    }
   },
   "source": [
    "## Use the tokenizer"
   ]
  },
  {
   "cell_type": "code",
   "metadata": {
    "pycharm": {
     "name": "#%%\n"
    }
   },
   "source": [
    "dev_seqs_train = [tokenize_example(s) for s in dev_texts_train]\n",
    "\n",
    "dev_seqs_test = [tokenize_example(s) for s in dev_texts_test]"
   ],
   "execution_count": null,
   "outputs": []
  },
  {
   "cell_type": "markdown",
   "metadata": {
    "pycharm": {
     "name": "#%% md\n"
    }
   },
   "source": [
    "We use only the train set to derive a vocabulary for the model:"
   ]
  },
  {
   "cell_type": "code",
   "metadata": {
    "pycharm": {
     "name": "#%%\n"
    }
   },
   "source": [
    "dev_vocab = sorted({w for toks in dev_seqs_train for w in toks})\n",
    "\n",
    "dev_vocab += [UNK_SYMBOL]"
   ],
   "execution_count": null,
   "outputs": []
  },
  {
   "cell_type": "code",
   "execution_count": 22,
   "metadata": {},
   "outputs": [],
   "source": [
    "len(dev_vocab)"
   ]
  },
  {
   "cell_type": "code",
   "execution_count": 23,
   "metadata": {},
   "outputs": [
    {
     "data": {
      "text/plain": "1050"
     },
     "execution_count": 23,
     "metadata": {},
     "output_type": "execute_result"
    }
   ],
   "source": [
    "if 'IS_GRADESCOPE_ENV' not in os.environ:\n",
    "    import cmath\n",
    "    from itertools import product\n",
    "\n",
    "# Based on Monroe et. al. 2016\n",
    "def represent_color_context(colors):\n",
    "    # return [color for color in colors]\n",
    "    return [represent_color(color) for color in colors]\n",
    "\n",
    "def represent_color(color):\n",
    "\n",
    "    if 'IS_GRADESCOPE_ENV' not in os.environ:\n",
    "        # the color loaded from the dataset here is a 3-d vector (HLS) with range (0-1, 0-1, 0-1) that was scaled from (0-360, 0-100, 0-100)\n",
    "\n",
    "        # HLS to HVS\n",
    "        actual_hue = 360 * color[0]\n",
    "        l = color[1]\n",
    "        s_l = color[2]\n",
    "\n",
    "        v = l + s_l * min(l, 1-l)\n",
    "        s_v = 0. if v == 0 else 2 * (1 - (l/v))\n",
    "\n",
    "        # hvs_color is in range (0-360, 0-1, 0-1)\n",
    "\n",
    "        # HVS to fourier representation\n",
    "        # Monroe et. al. (2016) requires (h, s, v) in (0-360, 0-200, 0-200)\n",
    "        # which is then normalized as (h/360, s/200, v/200).\n",
    "        # So the fourier transformation requires them in the range (h, s, v) ~ (0-1, 0-1, 0-1)\n",
    "\n",
    "        f_real = []\n",
    "        f_imag = []\n",
    "\n",
    "        # collect the values across the cross-product of axes\n",
    "        for j, k, l in product((0, 1, 2), repeat = 3):\n",
    "            f_hat_jkl = cmath.rect(1, (-2 * cmath.pi * (j * (actual_hue/360.0) + k * s_v + l * v)))\n",
    "            f_real.append(f_hat_jkl.real)\n",
    "            f_imag.append(f_hat_jkl.imag)\n",
    "\n",
    "        f_color = f_real + f_imag\n",
    "\n",
    "        return f_color\n",
    "\n",
    "    else:\n",
    "        return color"
   ]
  },
  {
   "cell_type": "code",
   "execution_count": 24,
   "metadata": {},
   "outputs": [],
   "source": [
    "print(represent_color_context(dev_rawcols_train[0]))\n",
    "\n",
    "if 'IS_GRADESCOPE_ENV' not in os.environ:\n",
    "    res = represent_color_context(dev_rawcols_train[370])\n",
    "    print(\"Color representation raw:\\n\", dev_rawcols_train[370])\n",
    "    print(\"Length of one color's dimension:\\n\", len(res[0]))"
   ]
  },
  {
   "cell_type": "markdown",
   "metadata": {
    "pycharm": {
     "name": "#%% md\n"
    }
   },
   "source": [
    "## Use the color representer"
   ]
  },
  {
   "cell_type": "code",
   "metadata": {
    "pycharm": {
     "name": "#%%\n"
    }
   },
   "source": [
    "dev_cols_train = [represent_color_context(colors) for colors in dev_rawcols_train]\n",
    "\n",
    "dev_cols_test = [represent_color_context(colors) for colors in dev_rawcols_test]"
   ],
   "execution_count": null,
   "outputs": []
  },
  {
   "cell_type": "markdown",
   "metadata": {
    "pycharm": {
     "name": "#%% md\n"
    }
   },
   "source": [
    "At this point, our preprocessing steps are complete, and we can fit a first model."
   ]
  },
  {
   "cell_type": "code",
   "metadata": {
    "pycharm": {
     "name": "#%%\n"
    }
   },
   "source": [
    "dev_mod = ContextualColorDescriber(\n",
    "    dev_vocab,\n",
    "    early_stopping=True)"
   ],
   "execution_count": null,
   "outputs": []
  },
  {
   "cell_type": "code",
   "execution_count": 29,
   "metadata": {},
   "outputs": [],
   "source": [
    "if 'IS_GRADESCOPE_ENV' not in os.environ:\n",
    "    %time _ = dev_mod.fit(dev_cols_train, dev_seqs_train)\n",
    "else:\n",
    "    dev_mod.fit(dev_cols_train, dev_seqs_train)"
   ]
  },
  {
   "cell_type": "code",
   "execution_count": 30,
   "metadata": {},
   "outputs": [
    {
     "name": "stderr",
     "output_type": "stream",
     "text": [
      "Stopping after epoch 107. Validation score did not improve by tol=1e-05 for more than 10 epochs. Final error is 39.15624952316284"
     ]
    },
    {
     "name": "stdout",
     "output_type": "stream",
     "text": [
      "Wall time: 7min 2s\n"
     ]
    }
   ],
   "source": [
    "evaluation = dev_mod.evaluate(dev_cols_test, dev_seqs_test)"
   ]
  },
  {
   "cell_type": "code",
   "execution_count": 31,
   "metadata": {},
   "outputs": [],
   "source": [
    "evaluation.keys()"
   ]
  },
  {
   "cell_type": "code",
   "execution_count": 32,
   "metadata": {},
   "outputs": [
    {
     "data": {
      "text/plain": "dict_keys(['listener_accuracy', 'corpus_bleu', 'target_index', 'predicted_index', 'predicted_utterance'])"
     },
     "execution_count": 32,
     "metadata": {},
     "output_type": "execute_result"
    }
   ],
   "source": [
    "evaluation['listener_accuracy']"
   ]
  },
  {
   "cell_type": "code",
   "execution_count": 33,
   "metadata": {},
   "outputs": [
    {
     "data": {
      "text/plain": "0.7926864382378347"
     },
     "execution_count": 33,
     "metadata": {},
     "output_type": "execute_result"
    }
   ],
   "source": [
    "dev_mod.listener_accuracy(dev_cols_test, dev_seqs_test)"
   ]
  },
  {
   "cell_type": "code",
   "execution_count": 34,
   "metadata": {},
   "outputs": [
    {
     "data": {
      "text/plain": "0.7926864382378347"
     },
     "execution_count": 34,
     "metadata": {},
     "output_type": "execute_result"
    }
   ],
   "source": [
    "evaluation['corpus_bleu']"
   ]
  },
  {
   "cell_type": "code",
   "execution_count": 35,
   "metadata": {},
   "outputs": [
    {
     "data": {
      "text/plain": "0.6637952127945157"
     },
     "execution_count": 35,
     "metadata": {},
     "output_type": "execute_result"
    }
   ],
   "source": [
    "bleu, predicted_utterances = dev_mod.corpus_bleu(dev_cols_test, dev_seqs_test)\n",
    "\n",
    "bleu"
   ]
  },
  {
   "cell_type": "code",
   "execution_count": 36,
   "metadata": {},
   "outputs": [
    {
     "data": {
      "text/plain": "0.6637952127945157"
     },
     "execution_count": 36,
     "metadata": {},
     "output_type": "execute_result"
    }
   ],
   "source": [
    "evaluation['target_index'][: 5]"
   ]
  },
  {
   "cell_type": "code",
   "execution_count": 37,
   "metadata": {},
   "outputs": [
    {
     "data": {
      "text/plain": "[2, 2, 2, 2, 2]"
     },
     "execution_count": 37,
     "metadata": {},
     "output_type": "execute_result"
    }
   ],
   "source": [
    "evaluation['predicted_index'][: 5]"
   ]
  },
  {
   "cell_type": "code",
   "execution_count": 38,
   "metadata": {},
   "outputs": [
    {
     "data": {
      "text/plain": "[0, 2, 2, 0, 2]"
     },
     "execution_count": 38,
     "metadata": {},
     "output_type": "execute_result"
    }
   ],
   "source": [
    "evaluation['predicted_utterance'][: 5]"
   ]
  },
  {
   "cell_type": "markdown",
   "metadata": {
    "pycharm": {
     "name": "#%% md\n"
    }
   },
   "source": [
    "We can also see the model's predicted sequences given color context inputs:"
   ]
  },
  {
   "cell_type": "code",
   "metadata": {
    "pycharm": {
     "name": "#%%\n"
    }
   },
   "source": [
    "dev_mod.predict(dev_cols_test[: 1])"
   ],
   "execution_count": null,
   "outputs": []
  },
  {
   "cell_type": "code",
   "execution_count": 40,
   "metadata": {},
   "outputs": [
    {
     "data": {
      "text/plain": "[['<s>', 'bright', 'purple', '</s>']]"
     },
     "execution_count": 40,
     "metadata": {},
     "output_type": "execute_result"
    }
   ],
   "source": [
    "dev_seqs_test[: 1]"
   ]
  },
  {
   "cell_type": "markdown",
   "metadata": {
    "pycharm": {
     "name": "#%% md\n"
    }
   },
   "source": [
    "**_Evaluating fourier color representations,_**\n",
    "For normalized HSL values, the result: **_Error: 52.733 (unstable perplexity calculations), listener_accuracy: 0.3852, bleu: 0.4948_**\n",
    "For fourier transformed HSV-HSL values, the result: **_Error: 39.156, listener_accuracy: 0.79268, blue: 0.66379_**\n",
    "\n",
    "**_As we can see, the fourier transformation really improves the learning._**"
   ]
  },
  {
   "cell_type": "markdown",
   "source": [
    "## GloVe embeddings\n",
    "\n",
    "The above model uses a random initial embedding, as configured by the decoder used by `ContextualColorDescriber`. Lets instead try using GloVe inputs.\n"
   ],
   "metadata": {
    "collapsed": false,
    "pycharm": {
     "name": "#%% md\n"
    }
   }
  },
  {
   "cell_type": "code",
   "metadata": {
    "pycharm": {
     "name": "#%%\n"
    }
   },
   "source": [
    "GLOVE_HOME = os.path.join('data', 'glove.6B')"
   ],
   "execution_count": null,
   "outputs": []
  },
  {
   "cell_type": "code",
   "execution_count": 42,
   "metadata": {},
   "outputs": [],
   "source": [
    "def create_glove_embedding(vocab, glove_base_filename='glove.6B.50d.txt'):\n",
    "\n",
    "    glove_lookup = utils.glove2dict(\n",
    "        os.path.join(GLOVE_HOME, glove_base_filename))\n",
    "\n",
    "    glove_embedding, glove_vocab = utils.create_pretrained_embedding(\n",
    "            glove_lookup, vocab)\n",
    "\n",
    "    return glove_embedding, glove_vocab\n",
    "\n"
   ]
  },
  {
   "cell_type": "markdown",
   "metadata": {
    "pycharm": {
     "name": "#%% md\n"
    }
   },
   "source": [
    "## Try the GloVe representations"
   ]
  },
  {
   "cell_type": "code",
   "metadata": {
    "pycharm": {
     "name": "#%%\n"
    }
   },
   "source": [
    "# TODO(schowdhary): Try character level tokenization and representations"
   ],
   "execution_count": null,
   "outputs": []
  },
  {
   "cell_type": "markdown",
   "source": [
    "Let's see if GloVe helped for our development data:"
   ],
   "metadata": {
    "collapsed": false,
    "pycharm": {
     "name": "#%% md\n"
    }
   }
  },
  {
   "cell_type": "code",
   "metadata": {
    "pycharm": {
     "name": "#%%\n"
    }
   },
   "source": [
    "dev_glove_embedding, dev_glove_vocab = create_glove_embedding(dev_vocab)"
   ],
   "execution_count": null,
   "outputs": []
  },
  {
   "cell_type": "code",
   "execution_count": 47,
   "metadata": {},
   "outputs": [],
   "source": [
    "len(dev_vocab)"
   ]
  },
  {
   "cell_type": "code",
   "execution_count": 48,
   "metadata": {},
   "outputs": [
    {
     "data": {
      "text/plain": "1050"
     },
     "execution_count": 48,
     "metadata": {},
     "output_type": "execute_result"
    }
   ],
   "source": [
    "len(dev_glove_vocab)"
   ]
  },
  {
   "cell_type": "code",
   "execution_count": 49,
   "metadata": {},
   "outputs": [
    {
     "data": {
      "text/plain": "1050"
     },
     "execution_count": 49,
     "metadata": {},
     "output_type": "execute_result"
    }
   ],
   "source": [
    "dev_mod_glove = ContextualColorDescriber(\n",
    "    dev_glove_vocab,\n",
    "    embedding=dev_glove_embedding,\n",
    "    early_stopping=True)"
   ]
  },
  {
   "cell_type": "code",
   "execution_count": 50,
   "metadata": {},
   "outputs": [],
   "source": [
    "_ = dev_mod_glove.fit(dev_cols_train, dev_seqs_train)"
   ]
  },
  {
   "cell_type": "code",
   "execution_count": 51,
   "metadata": {},
   "outputs": [
    {
     "name": "stderr",
     "output_type": "stream",
     "text": [
      "Stopping after epoch 93. Validation score did not improve by tol=1e-05 for more than 10 epochs. Final error is 40.069143533706665"
     ]
    }
   ],
   "source": [
    "dev_mod_glove.listener_accuracy(dev_cols_test, dev_seqs_test)"
   ]
  },
  {
   "cell_type": "code",
   "execution_count": 52,
   "metadata": {},
   "outputs": [
    {
     "data": {
      "text/plain": "0.788367405701123"
     },
     "execution_count": 52,
     "metadata": {},
     "output_type": "execute_result"
    }
   ],
   "source": [
    "# further evaluating the GloVe embedding-based model\n",
    "\n",
    "if 'IS_GRADESCOPE_ENV' not in os.environ:\n",
    "    dev_glove_embedding, dev_glove_vocab = create_glove_embedding(dev_vocab, glove_base_filename='glove.6B.50d.txt')\n",
    "\n",
    "    print(\"Total vocab size before:\\n\", len(dev_vocab))\n",
    "    print(\"Vocab size for GloVe embeddings:\\n\", len(dev_glove_vocab))\n",
    "\n",
    "    custom_dev_mod_glove = ContextualColorDescriber(\n",
    "        dev_glove_vocab,\n",
    "        embedding=dev_glove_embedding,\n",
    "        early_stopping=True)\n",
    "\n",
    "    _ = custom_dev_mod_glove.fit(dev_cols_train, dev_seqs_train)\n"
   ]
  },
  {
   "cell_type": "code",
   "execution_count": 55,
   "outputs": [
    {
     "name": "stdout",
     "output_type": "stream",
     "text": [
      "Total vocab size before:\n",
      " 1050\n",
      "Vocab size for GloVe embeddings:\n",
      " 1050\n"
     ]
    },
    {
     "name": "stderr",
     "output_type": "stream",
     "text": [
      "Stopping after epoch 114. Validation score did not improve by tol=1e-05 for more than 10 epochs. Final error is 36.531978368759155"
     ]
    }
   ],
   "source": [
    "if 'IS_GRADESCOPE_ENV' not in os.environ:\n",
    "    print(custom_dev_mod_glove.listener_accuracy(dev_cols_test, dev_seqs_test))"
   ],
   "metadata": {
    "collapsed": false,
    "pycharm": {
     "name": "#%%\n"
    }
   }
  },
  {
   "cell_type": "markdown",
   "source": [
    "**_GloVe 50d, 100d embeddings work fine with accuracy ~ 0.7877_**\n",
    "Error goes down further with 200d upto 32.58, but test accuracy does not improve. This suggests no significant learning."
   ],
   "metadata": {
    "collapsed": false,
    "pycharm": {
     "name": "#%% md\n"
    }
   }
  },
  {
   "cell_type": "markdown",
   "source": [
    "### Already learnt representations (from word-relatedness research work)"
   ],
   "metadata": {
    "collapsed": false,
    "pycharm": {
     "name": "#%% md\n"
    }
   }
  },
  {
   "cell_type": "code",
   "source": [
    "if 'IS_GRADESCOPE_ENV' not in os.environ:\n",
    "\n",
    "    VSM_HOME = os.path.join('data', 'vsmdata')\n",
    "\n",
    "    def create_df_vsm():\n",
    "        full_matrix_df = pd.read_csv(os.path.join(VSM_HOME, \"best_devset_word_repr_vsm.csv.gz\"), index_col=0)\n",
    "        return full_matrix_df\n",
    "\n",
    "    custom_vsm = create_df_vsm()\n",
    "\n",
    "    custom_vsm_lookup = {word:custom_vsm.loc[word] for word in custom_vsm.index}\n",
    "\n",
    "    print(custom_vsm_lookup[\"water\"])"
   ],
   "metadata": {
    "collapsed": false,
    "pycharm": {
     "name": "#%%\n"
    }
   },
   "execution_count": null,
   "outputs": []
  },
  {
   "cell_type": "code",
   "execution_count": 57,
   "outputs": [
    {
     "name": "stdout",
     "output_type": "stream",
     "text": [
      "0       0.007726\n",
      "1      -0.002936\n",
      "2       0.001923\n",
      "3      -0.002022\n",
      "4       0.029006\n",
      "          ...   \n",
      "1275    0.009053\n",
      "1276   -0.020875\n",
      "1277    0.027672\n",
      "1278    0.033489\n",
      "1279    0.011569\n",
      "Name: water, Length: 1280, dtype: float64\n"
     ]
    }
   ],
   "source": [
    "if 'IS_GRADESCOPE_ENV' not in os.environ:\n",
    "    custom_vsm_embedding, custom_vsm_vocab = utils.create_pretrained_embedding(\n",
    "            custom_vsm_lookup, dev_vocab)\n",
    "\n",
    "    print(\"Total vocab size before:\\n\", len(dev_vocab))\n",
    "    print(\"Vocab size for Custom word-relatedness VSM embeddings:\\n\", len(custom_vsm_vocab))\n",
    "\n",
    "    custom_vsm_dev_mod = ContextualColorDescriber(\n",
    "        custom_vsm_vocab,\n",
    "        embedding=custom_vsm_embedding,\n",
    "        early_stopping=True)\n",
    "\n",
    "    _ = custom_vsm_dev_mod.fit(dev_cols_train, dev_seqs_train)"
   ],
   "metadata": {
    "collapsed": false,
    "pycharm": {
     "name": "#%%\n"
    }
   }
  },
  {
   "cell_type": "code",
   "execution_count": 58,
   "outputs": [
    {
     "name": "stdout",
     "output_type": "stream",
     "text": [
      "Total vocab size before:\n",
      " 1050\n",
      "Vocab size for Custom word-relatedness VSM embeddings:\n",
      " 1050\n"
     ]
    },
    {
     "name": "stderr",
     "output_type": "stream",
     "text": [
      "Stopping after epoch 15. Validation score did not improve by tol=1e-05 for more than 10 epochs. Final error is 52.26255178451538"
     ]
    }
   ],
   "source": [
    "if 'IS_GRADESCOPE_ENV' not in os.environ:\n",
    "    print(custom_vsm_dev_mod.listener_accuracy(dev_cols_test, dev_seqs_test))"
   ],
   "metadata": {
    "collapsed": false,
    "pycharm": {
     "name": "#%%\n"
    }
   }
  },
  {
   "cell_type": "markdown",
   "source": [
    "**_Not a promissing performace._**"
   ],
   "metadata": {
    "collapsed": false,
    "pycharm": {
     "name": "#%% md\n"
    }
   }
  },
  {
   "cell_type": "markdown",
   "source": [
    "## Color-Input Describer (as used by Monroe et. al.)"
   ],
   "metadata": {
    "collapsed": false
   }
  },
  {
   "cell_type": "code",
   "execution_count": 68,
   "metadata": {},
   "outputs": [],
   "source": [
    "from torch_color_describer import Decoder\n",
    "import torch\n",
    "import torch.nn as nn\n",
    "\n",
    "\n",
    "class ColorContextDecoder(Decoder):\n",
    "    def __init__(self, color_dim, *args, **kwargs):\n",
    "        self.color_dim = color_dim\n",
    "        super().__init__(*args, **kwargs)\n",
    "\n",
    "        self.rnn = nn.GRU(\n",
    "            input_size=self.embed_dim + self.color_dim, # -> embed_dim + c (from get_embeddings below)\n",
    "            hidden_size=self.hidden_dim,\n",
    "            batch_first=True)\n",
    "\n",
    "\n",
    "    def get_embeddings(self, word_seqs, target_colors=None):\n",
    "        # word_seqs -> (m, k)\n",
    "        word_seqs_embedding = self.embedding(word_seqs) # -> (m, k, embed_dim)\n",
    "        # target_colors -> (m, c)\n",
    "        target_colors = torch.unsqueeze(target_colors, 1) # -> (m, 1, c)\n",
    "        target_colors_across_word_seqs = torch.repeat_interleave(target_colors, word_seqs.shape[1], dim=1) # -> (m, k, c)\n",
    "\n",
    "        return torch.cat((word_seqs_embedding, target_colors_across_word_seqs), dim=2) # -> (m, k, embed_dim + c)\n",
    "\n"
   ]
  },
  {
   "cell_type": "code",
   "execution_count": 78,
   "metadata": {},
   "outputs": [],
   "source": [
    "from torch_color_describer import EncoderDecoder\n",
    "\n",
    "class ColorizedEncoderDecoder(EncoderDecoder):\n",
    "\n",
    "    def forward(self,\n",
    "            color_seqs,\n",
    "            word_seqs,\n",
    "            seq_lengths=None,\n",
    "            hidden=None,\n",
    "            targets=None):\n",
    "        if hidden is None:\n",
    "            hidden = self.encoder(color_seqs)\n",
    "\n",
    "        # color_seqs -> (m, 3, color_dim)\n",
    "\n",
    "        target_color_seq = color_seqs[:, 2, :] # -> (m, 1, color_dim)\n",
    "        target_color_seq = torch.squeeze(target_color_seq, dim=1) # -> (m, color_dim)\n",
    "\n",
    "        output, hidden = self.decoder(\n",
    "            word_seqs, seq_lengths=seq_lengths, hidden=hidden, target_colors=target_color_seq)\n",
    "\n",
    "        if self.training:\n",
    "            return output\n",
    "        else:\n",
    "            return output, hidden"
   ]
  },
  {
   "cell_type": "code",
   "execution_count": 79,
   "metadata": {},
   "outputs": [],
   "source": [
    "from torch_color_describer import Encoder\n",
    "\n",
    "class ColorizedInputDescriber(ContextualColorDescriber):\n",
    "\n",
    "    def build_graph(self):\n",
    "\n",
    "        encoder = Encoder(\n",
    "            color_dim=self.color_dim,\n",
    "            hidden_dim=self.hidden_dim)\n",
    "\n",
    "        color_context_decoder = ColorContextDecoder(\n",
    "            color_dim=self.color_dim,\n",
    "            vocab_size=self.vocab_size,\n",
    "            embed_dim=self.embed_dim,\n",
    "            embedding=self.embedding,\n",
    "            hidden_dim=self.hidden_dim,\n",
    "            freeze_embedding=self.freeze_embedding)\n",
    "\n",
    "        return ColorizedEncoderDecoder(encoder, color_context_decoder)\n",
    "\n"
   ]
  },
  {
   "cell_type": "code",
   "execution_count": 80,
   "metadata": {},
   "outputs": [],
   "source": [
    "def test_full_system(describer_class):\n",
    "    toy_color_seqs, toy_word_seqs, toy_vocab = create_example_dataset(\n",
    "        group_size=50, vec_dim=2)\n",
    "\n",
    "    toy_color_seqs_train, toy_color_seqs_test, toy_word_seqs_train, toy_word_seqs_test = \\\n",
    "        train_test_split(toy_color_seqs, toy_word_seqs)\n",
    "\n",
    "    toy_mod = describer_class(toy_vocab)\n",
    "\n",
    "    _ = toy_mod.fit(toy_color_seqs_train, toy_word_seqs_train)\n",
    "\n",
    "    acc = toy_mod.listener_accuracy(toy_color_seqs_test, toy_word_seqs_test)\n",
    "\n",
    "    return acc"
   ]
  },
  {
   "cell_type": "code",
   "execution_count": 81,
   "metadata": {},
   "outputs": [
    {
     "name": "stderr",
     "output_type": "stream",
     "text": [
      "Finished epoch 1000 of 1000; error is 0.11461793631315231"
     ]
    },
    {
     "data": {
      "text/plain": "1.0"
     },
     "execution_count": 81,
     "metadata": {},
     "output_type": "execute_result"
    }
   ],
   "source": [
    "test_full_system(ColorizedInputDescriber)"
   ]
  },
  {
   "cell_type": "code",
   "execution_count": 102,
   "outputs": [
    {
     "name": "stderr",
     "output_type": "stream",
     "text": [
      "Stopping after epoch 71. Validation score did not improve by tol=1e-05 for more than 10 epochs. Final error is 43.2279314994812"
     ]
    }
   ],
   "source": [
    "# trying this model to get a ballpark for its performance\n",
    "if 'IS_GRADESCOPE_ENV' not in os.environ:\n",
    "    decoder_with_target_dev_mod = ColorizedInputDescriber(\n",
    "        dev_vocab,\n",
    "        embed_dim=128,\n",
    "        hidden_dim=128,\n",
    "        optimizer_class=torch.optim.Adam,\n",
    "        eta=0.001,\n",
    "        early_stopping=True)\n",
    "\n",
    "    _ = decoder_with_target_dev_mod.fit(dev_cols_train, dev_seqs_train)"
   ],
   "metadata": {
    "collapsed": false,
    "pycharm": {
     "name": "#%%\n"
    }
   }
  },
  {
   "cell_type": "code",
   "execution_count": 103,
   "outputs": [
    {
     "name": "stdout",
     "output_type": "stream",
     "text": [
      "listener_accuracy:\n",
      " 0.8016124388137057\n",
      "bleu:\n",
      " 0.6622045640998858\n"
     ]
    }
   ],
   "source": [
    "if 'IS_GRADESCOPE_ENV' not in os.environ:\n",
    "    print(\"listener_accuracy:\\n\", decoder_with_target_dev_mod.listener_accuracy(dev_cols_test, dev_seqs_test))\n",
    "    print(\"bleu:\\n\", decoder_with_target_dev_mod.corpus_bleu(dev_cols_test, dev_seqs_test)[0])"
   ],
   "metadata": {
    "collapsed": false,
    "pycharm": {
     "name": "#%%\n"
    }
   }
  },
  {
   "cell_type": "markdown",
   "source": [
    "This model on default parameters,\n",
    "-> listener_accuracy: 0.780, bleu: 0.664\n",
    "-> embedding + hidden dim = 100, 0.7929, 0.6626 (for embedding + hidden dim 200 or so, accuracy reduces)\n",
    "-> embed_dim 200 + hidden_dim 100, gives a reduced perf of 0.789 accuracy.\n",
    "-> **_embed_dim + hidden_dim 128, listener_accuracy: 0.7953, bleu: 0.6615_**\n",
    "-> **_similar to above, embed_dim + hidden_dim 128, optim adam+eta 0.001, listener_accuracy:0.802, bleu: 0.662_**\n",
    "-> embed_dim + hidden_dim 128 optim Adam + eta 0.004, listener_accuracy: 0.783, bleu: 0.657\n",
    "-> Adadelta + eta 0.2 does not produce good results."
   ],
   "metadata": {
    "collapsed": false,
    "pycharm": {
     "name": "#%% md\n"
    }
   }
  },
  {
   "cell_type": "markdown",
   "metadata": {},
   "source": [
    "## Original system"
   ]
  },
  {
   "cell_type": "markdown",
   "source": [
    "Apart from the experiments above, lets try some really promising techniques, like BERT representations in the Embedding Matrix, regularazation, etc. Since BERT embeddings are extremely costly to generate, we choose to generate it for the full train vocab at once. An enumeration of few things to try while integration:\n",
    "\n",
    "1. Generate training data/vocab with some trimming on words (to represent them as \\<UNK\\>\n",
    "2. Bert tokenization and representation for the entire train vocab to use them as the embedding matrix for the decoder later.\n",
    "3. Use fourier transformed color space as color feature vectors\n",
    "4. Do some experiments with the actual encoder decoder structure.\n",
    "5. Optimize for hyper-parameters"
   ],
   "metadata": {
    "collapsed": false,
    "pycharm": {
     "name": "#%% md\n"
    }
   }
  },
  {
   "cell_type": "markdown",
   "source": [
    "### 1. Generating full data and truncating vocab set"
   ],
   "metadata": {
    "collapsed": false,
    "pycharm": {
     "name": "#%% md\n"
    }
   }
  },
  {
   "cell_type": "code",
   "execution_count": 161,
   "outputs": [
    {
     "name": "stdout",
     "output_type": "stream",
     "text": [
      "Total examples:\n",
      " 46994\n"
     ]
    }
   ],
   "source": [
    "if 'IS_GRADESCOPE_ENV' not in os.environ:\n",
    "    full_corpus = ColorsCorpusReader(\n",
    "        COLORS_SRC_FILENAME,\n",
    "        normalize_colors=True)\n",
    "\n",
    "    full_examples = list(full_corpus.read())\n",
    "\n",
    "    print(\"Total examples:\\n\", len(full_examples))"
   ],
   "metadata": {
    "collapsed": false,
    "pycharm": {
     "name": "#%%\n"
    }
   }
  },
  {
   "cell_type": "code",
   "execution_count": 162,
   "outputs": [],
   "source": [
    "if 'IS_GRADESCOPE_ENV' not in os.environ:\n",
    "    full_rawcols, full_texts = zip(*[[ex.colors, ex.contents] for ex in full_examples])\n",
    "    full_rawcols_train, full_rawcols_test, full_texts_train, full_texts_test = \\\n",
    "    train_test_split(full_rawcols, full_texts)"
   ],
   "metadata": {
    "collapsed": false,
    "pycharm": {
     "name": "#%%\n"
    }
   }
  },
  {
   "cell_type": "code",
   "execution_count": 163,
   "outputs": [
    {
     "name": "stdout",
     "output_type": "stream",
     "text": [
      "Total vocab size:\n",
      " 2997\n",
      "Total vocab words removed:\n",
      " 0\n"
     ]
    }
   ],
   "source": [
    "if 'IS_GRADESCOPE_ENV' not in os.environ:\n",
    "    full_train_vocab, filled_full_train_word_seqs, full_train_removed_words = create_vocab_from_content_dataset(train_texts=full_texts_train, lowest_allowed_freq=1, tokenizer=tweet_tokenize)\n",
    "\n",
    "    print(\"Total vocab size:\\n\", len(full_train_vocab))\n",
    "    print(\"Total vocab words removed:\\n\", len(full_train_removed_words))"
   ],
   "metadata": {
    "collapsed": false,
    "pycharm": {
     "name": "#%%\n"
    }
   }
  },
  {
   "cell_type": "code",
   "execution_count": 164,
   "outputs": [],
   "source": [
    "if 'IS_GRADESCOPE_ENV' not in os.environ:\n",
    "    def full_tokenize_example(s):\n",
    "        return tokenize_example_on_vocab(s, train_vocab=full_train_vocab, tokenizer=tweet_tokenize)"
   ],
   "metadata": {
    "collapsed": false,
    "pycharm": {
     "name": "#%%\n"
    }
   }
  },
  {
   "cell_type": "code",
   "execution_count": 165,
   "outputs": [],
   "source": [
    "if 'IS_GRADESCOPE_ENV' not in os.environ:\n",
    "    full_seqs_train = [full_tokenize_example(s) for s in full_texts_train]\n",
    "    full_seqs_test = [full_tokenize_example(s) for s in full_texts_test]\n",
    "    full_cols_train = [represent_color_context(colors) for colors in full_rawcols_train]\n",
    "    full_cols_test = [represent_color_context(colors) for colors in full_rawcols_test]"
   ],
   "metadata": {
    "collapsed": false,
    "pycharm": {
     "name": "#%%\n"
    }
   }
  },
  {
   "cell_type": "code",
   "execution_count": 166,
   "outputs": [
    {
     "name": "stderr",
     "output_type": "stream",
     "text": [
      "C:\\Users\\shubh\\My Drive\\MLDL\\stanfordXCS224U\\referenceRepo\\cs224u\\torch_color_describer.py:680: RuntimeWarning: divide by zero encountered in power\n",
      "  perp = [np.prod(s)**(-1/len(s)) for s in scores]\n",
      "Finished epoch 1 of 1000; error is 242.43494510650635C:\\Users\\shubh\\My Drive\\MLDL\\stanfordXCS224U\\referenceRepo\\cs224u\\torch_color_describer.py:680: RuntimeWarning: divide by zero encountered in power\n",
      "  perp = [np.prod(s)**(-1/len(s)) for s in scores]\n",
      "Finished epoch 2 of 1000; error is 229.89336442947388C:\\Users\\shubh\\My Drive\\MLDL\\stanfordXCS224U\\referenceRepo\\cs224u\\torch_color_describer.py:680: RuntimeWarning: divide by zero encountered in power\n",
      "  perp = [np.prod(s)**(-1/len(s)) for s in scores]\n",
      "Finished epoch 3 of 1000; error is 222.6670627593994C:\\Users\\shubh\\My Drive\\MLDL\\stanfordXCS224U\\referenceRepo\\cs224u\\torch_color_describer.py:680: RuntimeWarning: divide by zero encountered in power\n",
      "  perp = [np.prod(s)**(-1/len(s)) for s in scores]\n",
      "Finished epoch 4 of 1000; error is 220.36893367767334C:\\Users\\shubh\\My Drive\\MLDL\\stanfordXCS224U\\referenceRepo\\cs224u\\torch_color_describer.py:680: RuntimeWarning: divide by zero encountered in power\n",
      "  perp = [np.prod(s)**(-1/len(s)) for s in scores]\n",
      "Finished epoch 5 of 1000; error is 217.84491729736328C:\\Users\\shubh\\My Drive\\MLDL\\stanfordXCS224U\\referenceRepo\\cs224u\\torch_color_describer.py:680: RuntimeWarning: divide by zero encountered in power\n",
      "  perp = [np.prod(s)**(-1/len(s)) for s in scores]\n",
      "Finished epoch 6 of 1000; error is 216.52767133712769C:\\Users\\shubh\\My Drive\\MLDL\\stanfordXCS224U\\referenceRepo\\cs224u\\torch_color_describer.py:680: RuntimeWarning: divide by zero encountered in power\n",
      "  perp = [np.prod(s)**(-1/len(s)) for s in scores]\n",
      "Finished epoch 7 of 1000; error is 214.2848196029663C:\\Users\\shubh\\My Drive\\MLDL\\stanfordXCS224U\\referenceRepo\\cs224u\\torch_color_describer.py:680: RuntimeWarning: divide by zero encountered in power\n",
      "  perp = [np.prod(s)**(-1/len(s)) for s in scores]\n",
      "Finished epoch 8 of 1000; error is 212.62084245681763C:\\Users\\shubh\\My Drive\\MLDL\\stanfordXCS224U\\referenceRepo\\cs224u\\torch_color_describer.py:680: RuntimeWarning: divide by zero encountered in power\n",
      "  perp = [np.prod(s)**(-1/len(s)) for s in scores]\n",
      "Finished epoch 9 of 1000; error is 210.72723817825317C:\\Users\\shubh\\My Drive\\MLDL\\stanfordXCS224U\\referenceRepo\\cs224u\\torch_color_describer.py:680: RuntimeWarning: divide by zero encountered in power\n",
      "  perp = [np.prod(s)**(-1/len(s)) for s in scores]\n",
      "Finished epoch 10 of 1000; error is 207.77923583984375C:\\Users\\shubh\\My Drive\\MLDL\\stanfordXCS224U\\referenceRepo\\cs224u\\torch_color_describer.py:680: RuntimeWarning: divide by zero encountered in power\n",
      "  perp = [np.prod(s)**(-1/len(s)) for s in scores]\n",
      "Finished epoch 11 of 1000; error is 206.87123155593872C:\\Users\\shubh\\My Drive\\MLDL\\stanfordXCS224U\\referenceRepo\\cs224u\\torch_color_describer.py:680: RuntimeWarning: divide by zero encountered in power\n",
      "  perp = [np.prod(s)**(-1/len(s)) for s in scores]\n",
      "Finished epoch 12 of 1000; error is 204.3785924911499C:\\Users\\shubh\\My Drive\\MLDL\\stanfordXCS224U\\referenceRepo\\cs224u\\torch_color_describer.py:680: RuntimeWarning: divide by zero encountered in power\n",
      "  perp = [np.prod(s)**(-1/len(s)) for s in scores]\n",
      "Finished epoch 13 of 1000; error is 203.36840867996216C:\\Users\\shubh\\My Drive\\MLDL\\stanfordXCS224U\\referenceRepo\\cs224u\\torch_color_describer.py:680: RuntimeWarning: divide by zero encountered in power\n",
      "  perp = [np.prod(s)**(-1/len(s)) for s in scores]\n",
      "Finished epoch 14 of 1000; error is 201.8858585357666C:\\Users\\shubh\\My Drive\\MLDL\\stanfordXCS224U\\referenceRepo\\cs224u\\torch_color_describer.py:680: RuntimeWarning: divide by zero encountered in power\n",
      "  perp = [np.prod(s)**(-1/len(s)) for s in scores]\n",
      "Finished epoch 15 of 1000; error is 199.71006774902344C:\\Users\\shubh\\My Drive\\MLDL\\stanfordXCS224U\\referenceRepo\\cs224u\\torch_color_describer.py:680: RuntimeWarning: divide by zero encountered in power\n",
      "  perp = [np.prod(s)**(-1/len(s)) for s in scores]\n",
      "Finished epoch 16 of 1000; error is 198.23983097076416C:\\Users\\shubh\\My Drive\\MLDL\\stanfordXCS224U\\referenceRepo\\cs224u\\torch_color_describer.py:680: RuntimeWarning: divide by zero encountered in power\n",
      "  perp = [np.prod(s)**(-1/len(s)) for s in scores]\n",
      "Finished epoch 17 of 1000; error is 195.24900913238525C:\\Users\\shubh\\My Drive\\MLDL\\stanfordXCS224U\\referenceRepo\\cs224u\\torch_color_describer.py:680: RuntimeWarning: divide by zero encountered in power\n",
      "  perp = [np.prod(s)**(-1/len(s)) for s in scores]\n",
      "Finished epoch 18 of 1000; error is 194.5030975341797C:\\Users\\shubh\\My Drive\\MLDL\\stanfordXCS224U\\referenceRepo\\cs224u\\torch_color_describer.py:680: RuntimeWarning: divide by zero encountered in power\n",
      "  perp = [np.prod(s)**(-1/len(s)) for s in scores]\n",
      "Finished epoch 19 of 1000; error is 192.6949028968811C:\\Users\\shubh\\My Drive\\MLDL\\stanfordXCS224U\\referenceRepo\\cs224u\\torch_color_describer.py:680: RuntimeWarning: divide by zero encountered in power\n",
      "  perp = [np.prod(s)**(-1/len(s)) for s in scores]\n",
      "Finished epoch 20 of 1000; error is 190.31229972839355C:\\Users\\shubh\\My Drive\\MLDL\\stanfordXCS224U\\referenceRepo\\cs224u\\torch_color_describer.py:680: RuntimeWarning: divide by zero encountered in power\n",
      "  perp = [np.prod(s)**(-1/len(s)) for s in scores]\n",
      "Finished epoch 21 of 1000; error is 188.91806173324585C:\\Users\\shubh\\My Drive\\MLDL\\stanfordXCS224U\\referenceRepo\\cs224u\\torch_color_describer.py:680: RuntimeWarning: divide by zero encountered in power\n",
      "  perp = [np.prod(s)**(-1/len(s)) for s in scores]\n",
      "Finished epoch 22 of 1000; error is 186.37613201141357C:\\Users\\shubh\\My Drive\\MLDL\\stanfordXCS224U\\referenceRepo\\cs224u\\torch_color_describer.py:680: RuntimeWarning: divide by zero encountered in power\n",
      "  perp = [np.prod(s)**(-1/len(s)) for s in scores]\n",
      "Finished epoch 23 of 1000; error is 185.44343900680542C:\\Users\\shubh\\My Drive\\MLDL\\stanfordXCS224U\\referenceRepo\\cs224u\\torch_color_describer.py:680: RuntimeWarning: divide by zero encountered in power\n",
      "  perp = [np.prod(s)**(-1/len(s)) for s in scores]\n",
      "Finished epoch 24 of 1000; error is 183.72842407226562C:\\Users\\shubh\\My Drive\\MLDL\\stanfordXCS224U\\referenceRepo\\cs224u\\torch_color_describer.py:680: RuntimeWarning: divide by zero encountered in power\n",
      "  perp = [np.prod(s)**(-1/len(s)) for s in scores]\n",
      "Finished epoch 25 of 1000; error is 181.966721534729C:\\Users\\shubh\\My Drive\\MLDL\\stanfordXCS224U\\referenceRepo\\cs224u\\torch_color_describer.py:680: RuntimeWarning: divide by zero encountered in power\n",
      "  perp = [np.prod(s)**(-1/len(s)) for s in scores]\n",
      "Finished epoch 26 of 1000; error is 180.07850551605225C:\\Users\\shubh\\My Drive\\MLDL\\stanfordXCS224U\\referenceRepo\\cs224u\\torch_color_describer.py:680: RuntimeWarning: divide by zero encountered in power\n",
      "  perp = [np.prod(s)**(-1/len(s)) for s in scores]\n",
      "Finished epoch 27 of 1000; error is 178.9472050666809C:\\Users\\shubh\\My Drive\\MLDL\\stanfordXCS224U\\referenceRepo\\cs224u\\torch_color_describer.py:680: RuntimeWarning: divide by zero encountered in power\n",
      "  perp = [np.prod(s)**(-1/len(s)) for s in scores]\n",
      "Finished epoch 28 of 1000; error is 176.6273069381714C:\\Users\\shubh\\My Drive\\MLDL\\stanfordXCS224U\\referenceRepo\\cs224u\\torch_color_describer.py:680: RuntimeWarning: divide by zero encountered in power\n",
      "  perp = [np.prod(s)**(-1/len(s)) for s in scores]\n",
      "Finished epoch 29 of 1000; error is 175.15314102172852C:\\Users\\shubh\\My Drive\\MLDL\\stanfordXCS224U\\referenceRepo\\cs224u\\torch_color_describer.py:680: RuntimeWarning: divide by zero encountered in power\n",
      "  perp = [np.prod(s)**(-1/len(s)) for s in scores]\n",
      "Finished epoch 30 of 1000; error is 173.3472023010254C:\\Users\\shubh\\My Drive\\MLDL\\stanfordXCS224U\\referenceRepo\\cs224u\\torch_color_describer.py:680: RuntimeWarning: divide by zero encountered in power\n",
      "  perp = [np.prod(s)**(-1/len(s)) for s in scores]\n",
      "Finished epoch 31 of 1000; error is 171.57233905792236C:\\Users\\shubh\\My Drive\\MLDL\\stanfordXCS224U\\referenceRepo\\cs224u\\torch_color_describer.py:680: RuntimeWarning: divide by zero encountered in power\n",
      "  perp = [np.prod(s)**(-1/len(s)) for s in scores]\n",
      "Finished epoch 32 of 1000; error is 169.9318208694458C:\\Users\\shubh\\My Drive\\MLDL\\stanfordXCS224U\\referenceRepo\\cs224u\\torch_color_describer.py:680: RuntimeWarning: divide by zero encountered in power\n",
      "  perp = [np.prod(s)**(-1/len(s)) for s in scores]\n",
      "Finished epoch 33 of 1000; error is 169.14084815979004C:\\Users\\shubh\\My Drive\\MLDL\\stanfordXCS224U\\referenceRepo\\cs224u\\torch_color_describer.py:680: RuntimeWarning: divide by zero encountered in power\n",
      "  perp = [np.prod(s)**(-1/len(s)) for s in scores]\n",
      "Finished epoch 34 of 1000; error is 166.71939849853516C:\\Users\\shubh\\My Drive\\MLDL\\stanfordXCS224U\\referenceRepo\\cs224u\\torch_color_describer.py:680: RuntimeWarning: divide by zero encountered in power\n",
      "  perp = [np.prod(s)**(-1/len(s)) for s in scores]\n",
      "Finished epoch 35 of 1000; error is 165.13223028182983C:\\Users\\shubh\\My Drive\\MLDL\\stanfordXCS224U\\referenceRepo\\cs224u\\torch_color_describer.py:680: RuntimeWarning: divide by zero encountered in power\n",
      "  perp = [np.prod(s)**(-1/len(s)) for s in scores]\n",
      "Finished epoch 36 of 1000; error is 163.2677321434021C:\\Users\\shubh\\My Drive\\MLDL\\stanfordXCS224U\\referenceRepo\\cs224u\\torch_color_describer.py:680: RuntimeWarning: divide by zero encountered in power\n",
      "  perp = [np.prod(s)**(-1/len(s)) for s in scores]\n",
      "Finished epoch 37 of 1000; error is 160.7546272277832C:\\Users\\shubh\\My Drive\\MLDL\\stanfordXCS224U\\referenceRepo\\cs224u\\torch_color_describer.py:680: RuntimeWarning: divide by zero encountered in power\n",
      "  perp = [np.prod(s)**(-1/len(s)) for s in scores]\n",
      "Finished epoch 38 of 1000; error is 160.3128581047058C:\\Users\\shubh\\My Drive\\MLDL\\stanfordXCS224U\\referenceRepo\\cs224u\\torch_color_describer.py:680: RuntimeWarning: divide by zero encountered in power\n",
      "  perp = [np.prod(s)**(-1/len(s)) for s in scores]\n",
      "Finished epoch 39 of 1000; error is 158.3421425819397C:\\Users\\shubh\\My Drive\\MLDL\\stanfordXCS224U\\referenceRepo\\cs224u\\torch_color_describer.py:680: RuntimeWarning: divide by zero encountered in power\n",
      "  perp = [np.prod(s)**(-1/len(s)) for s in scores]\n",
      "Finished epoch 40 of 1000; error is 156.33941078186035C:\\Users\\shubh\\My Drive\\MLDL\\stanfordXCS224U\\referenceRepo\\cs224u\\torch_color_describer.py:680: RuntimeWarning: divide by zero encountered in power\n",
      "  perp = [np.prod(s)**(-1/len(s)) for s in scores]\n",
      "Finished epoch 41 of 1000; error is 154.64360094070435C:\\Users\\shubh\\My Drive\\MLDL\\stanfordXCS224U\\referenceRepo\\cs224u\\torch_color_describer.py:680: RuntimeWarning: divide by zero encountered in power\n",
      "  perp = [np.prod(s)**(-1/len(s)) for s in scores]\n",
      "Finished epoch 42 of 1000; error is 153.07436418533325C:\\Users\\shubh\\My Drive\\MLDL\\stanfordXCS224U\\referenceRepo\\cs224u\\torch_color_describer.py:680: RuntimeWarning: divide by zero encountered in power\n",
      "  perp = [np.prod(s)**(-1/len(s)) for s in scores]\n",
      "Finished epoch 43 of 1000; error is 151.2604489326477C:\\Users\\shubh\\My Drive\\MLDL\\stanfordXCS224U\\referenceRepo\\cs224u\\torch_color_describer.py:680: RuntimeWarning: divide by zero encountered in power\n",
      "  perp = [np.prod(s)**(-1/len(s)) for s in scores]\n",
      "Finished epoch 44 of 1000; error is 150.5583848953247C:\\Users\\shubh\\My Drive\\MLDL\\stanfordXCS224U\\referenceRepo\\cs224u\\torch_color_describer.py:680: RuntimeWarning: divide by zero encountered in power\n",
      "  perp = [np.prod(s)**(-1/len(s)) for s in scores]\n",
      "Finished epoch 45 of 1000; error is 148.0952091217041C:\\Users\\shubh\\My Drive\\MLDL\\stanfordXCS224U\\referenceRepo\\cs224u\\torch_color_describer.py:680: RuntimeWarning: divide by zero encountered in power\n",
      "  perp = [np.prod(s)**(-1/len(s)) for s in scores]\n",
      "Finished epoch 46 of 1000; error is 146.54872941970825C:\\Users\\shubh\\My Drive\\MLDL\\stanfordXCS224U\\referenceRepo\\cs224u\\torch_color_describer.py:680: RuntimeWarning: divide by zero encountered in power\n",
      "  perp = [np.prod(s)**(-1/len(s)) for s in scores]\n",
      "Finished epoch 47 of 1000; error is 144.81370401382446C:\\Users\\shubh\\My Drive\\MLDL\\stanfordXCS224U\\referenceRepo\\cs224u\\torch_color_describer.py:680: RuntimeWarning: divide by zero encountered in power\n",
      "  perp = [np.prod(s)**(-1/len(s)) for s in scores]\n",
      "Finished epoch 48 of 1000; error is 142.4940972328186C:\\Users\\shubh\\My Drive\\MLDL\\stanfordXCS224U\\referenceRepo\\cs224u\\torch_color_describer.py:680: RuntimeWarning: divide by zero encountered in power\n",
      "  perp = [np.prod(s)**(-1/len(s)) for s in scores]\n",
      "Finished epoch 49 of 1000; error is 141.7828540802002C:\\Users\\shubh\\My Drive\\MLDL\\stanfordXCS224U\\referenceRepo\\cs224u\\torch_color_describer.py:680: RuntimeWarning: divide by zero encountered in power\n",
      "  perp = [np.prod(s)**(-1/len(s)) for s in scores]\n",
      "Finished epoch 50 of 1000; error is 139.8936367034912C:\\Users\\shubh\\My Drive\\MLDL\\stanfordXCS224U\\referenceRepo\\cs224u\\torch_color_describer.py:680: RuntimeWarning: divide by zero encountered in power\n",
      "  perp = [np.prod(s)**(-1/len(s)) for s in scores]\n",
      "Finished epoch 51 of 1000; error is 137.84533596038818C:\\Users\\shubh\\My Drive\\MLDL\\stanfordXCS224U\\referenceRepo\\cs224u\\torch_color_describer.py:680: RuntimeWarning: divide by zero encountered in power\n",
      "  perp = [np.prod(s)**(-1/len(s)) for s in scores]\n",
      "Finished epoch 52 of 1000; error is 136.50820302963257C:\\Users\\shubh\\My Drive\\MLDL\\stanfordXCS224U\\referenceRepo\\cs224u\\torch_color_describer.py:680: RuntimeWarning: divide by zero encountered in power\n",
      "  perp = [np.prod(s)**(-1/len(s)) for s in scores]\n",
      "Finished epoch 53 of 1000; error is 134.79998111724854C:\\Users\\shubh\\My Drive\\MLDL\\stanfordXCS224U\\referenceRepo\\cs224u\\torch_color_describer.py:680: RuntimeWarning: divide by zero encountered in power\n",
      "  perp = [np.prod(s)**(-1/len(s)) for s in scores]\n",
      "Finished epoch 54 of 1000; error is 133.14652347564697C:\\Users\\shubh\\My Drive\\MLDL\\stanfordXCS224U\\referenceRepo\\cs224u\\torch_color_describer.py:680: RuntimeWarning: divide by zero encountered in power\n",
      "  perp = [np.prod(s)**(-1/len(s)) for s in scores]\n",
      "Finished epoch 55 of 1000; error is 131.78904151916504C:\\Users\\shubh\\My Drive\\MLDL\\stanfordXCS224U\\referenceRepo\\cs224u\\torch_color_describer.py:680: RuntimeWarning: divide by zero encountered in power\n",
      "  perp = [np.prod(s)**(-1/len(s)) for s in scores]\n",
      "Finished epoch 56 of 1000; error is 129.97320365905762C:\\Users\\shubh\\My Drive\\MLDL\\stanfordXCS224U\\referenceRepo\\cs224u\\torch_color_describer.py:680: RuntimeWarning: divide by zero encountered in power\n",
      "  perp = [np.prod(s)**(-1/len(s)) for s in scores]\n",
      "Finished epoch 57 of 1000; error is 128.1674666404724C:\\Users\\shubh\\My Drive\\MLDL\\stanfordXCS224U\\referenceRepo\\cs224u\\torch_color_describer.py:680: RuntimeWarning: divide by zero encountered in power\n",
      "  perp = [np.prod(s)**(-1/len(s)) for s in scores]\n",
      "Finished epoch 58 of 1000; error is 126.65720415115356C:\\Users\\shubh\\My Drive\\MLDL\\stanfordXCS224U\\referenceRepo\\cs224u\\torch_color_describer.py:680: RuntimeWarning: divide by zero encountered in power\n",
      "  perp = [np.prod(s)**(-1/len(s)) for s in scores]\n",
      "Finished epoch 59 of 1000; error is 125.07497096061707C:\\Users\\shubh\\My Drive\\MLDL\\stanfordXCS224U\\referenceRepo\\cs224u\\torch_color_describer.py:680: RuntimeWarning: divide by zero encountered in power\n",
      "  perp = [np.prod(s)**(-1/len(s)) for s in scores]\n",
      "Finished epoch 60 of 1000; error is 123.3032898902893C:\\Users\\shubh\\My Drive\\MLDL\\stanfordXCS224U\\referenceRepo\\cs224u\\torch_color_describer.py:680: RuntimeWarning: divide by zero encountered in power\n",
      "  perp = [np.prod(s)**(-1/len(s)) for s in scores]\n",
      "Finished epoch 61 of 1000; error is 121.58563327789307C:\\Users\\shubh\\My Drive\\MLDL\\stanfordXCS224U\\referenceRepo\\cs224u\\torch_color_describer.py:680: RuntimeWarning: divide by zero encountered in power\n",
      "  perp = [np.prod(s)**(-1/len(s)) for s in scores]\n",
      "Finished epoch 62 of 1000; error is 119.92332601547241C:\\Users\\shubh\\My Drive\\MLDL\\stanfordXCS224U\\referenceRepo\\cs224u\\torch_color_describer.py:680: RuntimeWarning: divide by zero encountered in power\n",
      "  perp = [np.prod(s)**(-1/len(s)) for s in scores]\n",
      "Finished epoch 63 of 1000; error is 118.15894341468811C:\\Users\\shubh\\My Drive\\MLDL\\stanfordXCS224U\\referenceRepo\\cs224u\\torch_color_describer.py:680: RuntimeWarning: divide by zero encountered in power\n",
      "  perp = [np.prod(s)**(-1/len(s)) for s in scores]\n",
      "Finished epoch 64 of 1000; error is 116.64379358291626C:\\Users\\shubh\\My Drive\\MLDL\\stanfordXCS224U\\referenceRepo\\cs224u\\torch_color_describer.py:680: RuntimeWarning: divide by zero encountered in power\n",
      "  perp = [np.prod(s)**(-1/len(s)) for s in scores]\n",
      "Finished epoch 65 of 1000; error is 115.25470399856567C:\\Users\\shubh\\My Drive\\MLDL\\stanfordXCS224U\\referenceRepo\\cs224u\\torch_color_describer.py:680: RuntimeWarning: divide by zero encountered in power\n",
      "  perp = [np.prod(s)**(-1/len(s)) for s in scores]\n",
      "Finished epoch 66 of 1000; error is 113.56547474861145C:\\Users\\shubh\\My Drive\\MLDL\\stanfordXCS224U\\referenceRepo\\cs224u\\torch_color_describer.py:680: RuntimeWarning: divide by zero encountered in power\n",
      "  perp = [np.prod(s)**(-1/len(s)) for s in scores]\n",
      "Finished epoch 67 of 1000; error is 112.07176542282104C:\\Users\\shubh\\My Drive\\MLDL\\stanfordXCS224U\\referenceRepo\\cs224u\\torch_color_describer.py:680: RuntimeWarning: divide by zero encountered in power\n",
      "  perp = [np.prod(s)**(-1/len(s)) for s in scores]\n",
      "Finished epoch 68 of 1000; error is 110.24604558944702C:\\Users\\shubh\\My Drive\\MLDL\\stanfordXCS224U\\referenceRepo\\cs224u\\torch_color_describer.py:680: RuntimeWarning: divide by zero encountered in power\n",
      "  perp = [np.prod(s)**(-1/len(s)) for s in scores]\n",
      "Finished epoch 69 of 1000; error is 108.96607995033264C:\\Users\\shubh\\My Drive\\MLDL\\stanfordXCS224U\\referenceRepo\\cs224u\\torch_color_describer.py:680: RuntimeWarning: divide by zero encountered in power\n",
      "  perp = [np.prod(s)**(-1/len(s)) for s in scores]\n",
      "Finished epoch 70 of 1000; error is 107.14408373832703C:\\Users\\shubh\\My Drive\\MLDL\\stanfordXCS224U\\referenceRepo\\cs224u\\torch_color_describer.py:680: RuntimeWarning: divide by zero encountered in power\n",
      "  perp = [np.prod(s)**(-1/len(s)) for s in scores]\n",
      "Finished epoch 71 of 1000; error is 105.5055320262909C:\\Users\\shubh\\My Drive\\MLDL\\stanfordXCS224U\\referenceRepo\\cs224u\\torch_color_describer.py:680: RuntimeWarning: divide by zero encountered in power\n",
      "  perp = [np.prod(s)**(-1/len(s)) for s in scores]\n",
      "Finished epoch 72 of 1000; error is 104.03404808044434C:\\Users\\shubh\\My Drive\\MLDL\\stanfordXCS224U\\referenceRepo\\cs224u\\torch_color_describer.py:680: RuntimeWarning: divide by zero encountered in power\n",
      "  perp = [np.prod(s)**(-1/len(s)) for s in scores]\n",
      "Finished epoch 73 of 1000; error is 102.50933122634888C:\\Users\\shubh\\My Drive\\MLDL\\stanfordXCS224U\\referenceRepo\\cs224u\\torch_color_describer.py:680: RuntimeWarning: divide by zero encountered in power\n",
      "  perp = [np.prod(s)**(-1/len(s)) for s in scores]\n",
      "Finished epoch 74 of 1000; error is 100.4956202507019C:\\Users\\shubh\\My Drive\\MLDL\\stanfordXCS224U\\referenceRepo\\cs224u\\torch_color_describer.py:680: RuntimeWarning: divide by zero encountered in power\n",
      "  perp = [np.prod(s)**(-1/len(s)) for s in scores]\n",
      "Finished epoch 75 of 1000; error is 99.20050358772278C:\\Users\\shubh\\My Drive\\MLDL\\stanfordXCS224U\\referenceRepo\\cs224u\\torch_color_describer.py:680: RuntimeWarning: divide by zero encountered in power\n",
      "  perp = [np.prod(s)**(-1/len(s)) for s in scores]\n",
      "Finished epoch 76 of 1000; error is 97.6147871017456C:\\Users\\shubh\\My Drive\\MLDL\\stanfordXCS224U\\referenceRepo\\cs224u\\torch_color_describer.py:680: RuntimeWarning: divide by zero encountered in power\n",
      "  perp = [np.prod(s)**(-1/len(s)) for s in scores]\n",
      "Finished epoch 77 of 1000; error is 96.02489757537842C:\\Users\\shubh\\My Drive\\MLDL\\stanfordXCS224U\\referenceRepo\\cs224u\\torch_color_describer.py:680: RuntimeWarning: divide by zero encountered in power\n",
      "  perp = [np.prod(s)**(-1/len(s)) for s in scores]\n",
      "Finished epoch 78 of 1000; error is 94.1890504360199C:\\Users\\shubh\\My Drive\\MLDL\\stanfordXCS224U\\referenceRepo\\cs224u\\torch_color_describer.py:680: RuntimeWarning: divide by zero encountered in power\n",
      "  perp = [np.prod(s)**(-1/len(s)) for s in scores]\n",
      "Finished epoch 79 of 1000; error is 92.68189764022827C:\\Users\\shubh\\My Drive\\MLDL\\stanfordXCS224U\\referenceRepo\\cs224u\\torch_color_describer.py:680: RuntimeWarning: divide by zero encountered in power\n",
      "  perp = [np.prod(s)**(-1/len(s)) for s in scores]\n",
      "Finished epoch 80 of 1000; error is 91.46831274032593C:\\Users\\shubh\\My Drive\\MLDL\\stanfordXCS224U\\referenceRepo\\cs224u\\torch_color_describer.py:680: RuntimeWarning: divide by zero encountered in power\n",
      "  perp = [np.prod(s)**(-1/len(s)) for s in scores]\n",
      "Finished epoch 81 of 1000; error is 89.63207364082336C:\\Users\\shubh\\My Drive\\MLDL\\stanfordXCS224U\\referenceRepo\\cs224u\\torch_color_describer.py:680: RuntimeWarning: divide by zero encountered in power\n",
      "  perp = [np.prod(s)**(-1/len(s)) for s in scores]\n",
      "Finished epoch 82 of 1000; error is 88.04075074195862C:\\Users\\shubh\\My Drive\\MLDL\\stanfordXCS224U\\referenceRepo\\cs224u\\torch_color_describer.py:680: RuntimeWarning: divide by zero encountered in power\n",
      "  perp = [np.prod(s)**(-1/len(s)) for s in scores]\n",
      "Finished epoch 83 of 1000; error is 86.61835527420044C:\\Users\\shubh\\My Drive\\MLDL\\stanfordXCS224U\\referenceRepo\\cs224u\\torch_color_describer.py:680: RuntimeWarning: divide by zero encountered in power\n",
      "  perp = [np.prod(s)**(-1/len(s)) for s in scores]\n",
      "Finished epoch 84 of 1000; error is 85.31490969657898C:\\Users\\shubh\\My Drive\\MLDL\\stanfordXCS224U\\referenceRepo\\cs224u\\torch_color_describer.py:680: RuntimeWarning: divide by zero encountered in power\n",
      "  perp = [np.prod(s)**(-1/len(s)) for s in scores]\n",
      "Finished epoch 85 of 1000; error is 83.55755829811096C:\\Users\\shubh\\My Drive\\MLDL\\stanfordXCS224U\\referenceRepo\\cs224u\\torch_color_describer.py:680: RuntimeWarning: divide by zero encountered in power\n",
      "  perp = [np.prod(s)**(-1/len(s)) for s in scores]\n",
      "Finished epoch 86 of 1000; error is 82.0913417339325C:\\Users\\shubh\\My Drive\\MLDL\\stanfordXCS224U\\referenceRepo\\cs224u\\torch_color_describer.py:680: RuntimeWarning: divide by zero encountered in power\n",
      "  perp = [np.prod(s)**(-1/len(s)) for s in scores]\n",
      "Finished epoch 87 of 1000; error is 80.63262152671814C:\\Users\\shubh\\My Drive\\MLDL\\stanfordXCS224U\\referenceRepo\\cs224u\\torch_color_describer.py:680: RuntimeWarning: divide by zero encountered in power\n",
      "  perp = [np.prod(s)**(-1/len(s)) for s in scores]\n",
      "Finished epoch 88 of 1000; error is 79.13703083992004C:\\Users\\shubh\\My Drive\\MLDL\\stanfordXCS224U\\referenceRepo\\cs224u\\torch_color_describer.py:680: RuntimeWarning: divide by zero encountered in power\n",
      "  perp = [np.prod(s)**(-1/len(s)) for s in scores]\n",
      "Finished epoch 89 of 1000; error is 77.56627345085144C:\\Users\\shubh\\My Drive\\MLDL\\stanfordXCS224U\\referenceRepo\\cs224u\\torch_color_describer.py:680: RuntimeWarning: divide by zero encountered in power\n",
      "  perp = [np.prod(s)**(-1/len(s)) for s in scores]\n",
      "Finished epoch 90 of 1000; error is 76.14711904525757C:\\Users\\shubh\\My Drive\\MLDL\\stanfordXCS224U\\referenceRepo\\cs224u\\torch_color_describer.py:680: RuntimeWarning: divide by zero encountered in power\n",
      "  perp = [np.prod(s)**(-1/len(s)) for s in scores]\n",
      "Finished epoch 91 of 1000; error is 74.68998074531555C:\\Users\\shubh\\My Drive\\MLDL\\stanfordXCS224U\\referenceRepo\\cs224u\\torch_color_describer.py:680: RuntimeWarning: divide by zero encountered in power\n",
      "  perp = [np.prod(s)**(-1/len(s)) for s in scores]\n",
      "Finished epoch 92 of 1000; error is 73.20829105377197C:\\Users\\shubh\\My Drive\\MLDL\\stanfordXCS224U\\referenceRepo\\cs224u\\torch_color_describer.py:680: RuntimeWarning: divide by zero encountered in power\n",
      "  perp = [np.prod(s)**(-1/len(s)) for s in scores]\n",
      "Finished epoch 93 of 1000; error is 71.8380274772644C:\\Users\\shubh\\My Drive\\MLDL\\stanfordXCS224U\\referenceRepo\\cs224u\\torch_color_describer.py:680: RuntimeWarning: divide by zero encountered in power\n",
      "  perp = [np.prod(s)**(-1/len(s)) for s in scores]\n",
      "Finished epoch 94 of 1000; error is 70.38616752624512C:\\Users\\shubh\\My Drive\\MLDL\\stanfordXCS224U\\referenceRepo\\cs224u\\torch_color_describer.py:680: RuntimeWarning: divide by zero encountered in power\n",
      "  perp = [np.prod(s)**(-1/len(s)) for s in scores]\n",
      "Finished epoch 95 of 1000; error is 68.98353266716003C:\\Users\\shubh\\My Drive\\MLDL\\stanfordXCS224U\\referenceRepo\\cs224u\\torch_color_describer.py:680: RuntimeWarning: divide by zero encountered in power\n",
      "  perp = [np.prod(s)**(-1/len(s)) for s in scores]\n",
      "Finished epoch 96 of 1000; error is 67.56196331977844C:\\Users\\shubh\\My Drive\\MLDL\\stanfordXCS224U\\referenceRepo\\cs224u\\torch_color_describer.py:680: RuntimeWarning: divide by zero encountered in power\n",
      "  perp = [np.prod(s)**(-1/len(s)) for s in scores]\n",
      "Stopping after epoch 97. Validation score did not improve by tol=1e-05 for more than 10 epochs. Final error is 66.20748805999756"
     ]
    },
    {
     "name": "stdout",
     "output_type": "stream",
     "text": [
      "Wall time: 23min 6s\n"
     ]
    },
    {
     "name": "stderr",
     "output_type": "stream",
     "text": [
      "C:\\Users\\shubh\\My Drive\\MLDL\\stanfordXCS224U\\referenceRepo\\cs224u\\torch_color_describer.py:680: RuntimeWarning: divide by zero encountered in power\n",
      "  perp = [np.prod(s)**(-1/len(s)) for s in scores]\n"
     ]
    },
    {
     "name": "stdout",
     "output_type": "stream",
     "text": [
      "listener_accuracy:\n",
      " 0.8322410417907907\n",
      "bleu:\n",
      " 0.4475212070639955\n"
     ]
    }
   ],
   "source": [
    "if 'IS_GRADESCOPE_ENV' not in os.environ:\n",
    "    full_mod = ContextualColorDescriber(\n",
    "        full_train_vocab,\n",
    "        early_stopping=True)\n",
    "\n",
    "    %time _ = full_mod.fit(full_cols_train, full_seqs_train)\n",
    "\n",
    "    print(\"listener_accuracy:\\n\", full_mod.listener_accuracy(full_cols_test, full_seqs_test))\n",
    "    print(\"bleu:\\n\", full_mod.corpus_bleu(full_cols_test, full_seqs_test)[0])"
   ],
   "metadata": {
    "collapsed": false,
    "pycharm": {
     "name": "#%%\n"
    }
   }
  },
  {
   "cell_type": "markdown",
   "source": [
    "**_Baseline for full train vocab: listener_accuracy: 0.832, bleu: 0.448_**"
   ],
   "metadata": {
    "collapsed": false
   }
  },
  {
   "cell_type": "code",
   "execution_count": 174,
   "outputs": [],
   "source": [
    "# trying to increase the relevant vocab size\n",
    "if 'IS_GRADESCOPE_ENV' not in os.environ:\n",
    "    from matplotlib import colors as mcolors\n",
    "\n",
    "    colors = dict(mcolors.BASE_COLORS, **mcolors.CSS4_COLORS)\n",
    "    color_vocab = colors.keys()\n",
    "    color_vocab = [color_word.lower() for color_word in color_vocab if len(color_word) > 2]\n",
    "\n",
    "    def is_subseq(x, y):\n",
    "        it = iter(y)\n",
    "        # return all(any(c == ch for c in it) for ch in x)\n",
    "        is_subsequence = False\n",
    "        max_seq_count = 4\n",
    "        curr_seq_count = 0\n",
    "\n",
    "        for ch in x:\n",
    "            if any(c == ch for c in it):\n",
    "                curr_seq_count+=1\n",
    "                if curr_seq_count == max_seq_count:\n",
    "                    is_subsequence = True\n",
    "                    break\n",
    "        return is_subsequence\n",
    "\n",
    "    def get_rare_vocab_from_banned_words(rejected_words):\n",
    "        wild_card_vocab = []\n",
    "        ctr = 0\n",
    "\n",
    "        for removed_word in rejected_words:\n",
    "            for color_word in color_vocab:\n",
    "                if is_subseq(color_word, removed_word):\n",
    "                    ctr += 1\n",
    "                    wild_card_vocab.append(removed_word)\n",
    "                    break\n",
    "\n",
    "        wild_card_vocab = set(wild_card_vocab)\n",
    "        still_removed_words = set(rejected_words) - wild_card_vocab\n",
    "        # print(wild_card_vocab)\n",
    "        # print(\"Total infrequent words with some color information:\\n\", ctr)\n",
    "        return sorted(wild_card_vocab), sorted(still_removed_words)"
   ],
   "metadata": {
    "collapsed": false,
    "pycharm": {
     "name": "#%%\n"
    }
   }
  },
  {
   "cell_type": "code",
   "execution_count": 175,
   "outputs": [],
   "source": [
    "# if 'IS_GRADESCOPE_ENV' not in os.environ:\n",
    "#     rare_vocab, truly_banned_vocab = get_rare_vocab_from_banned_words(full_train_removed_words)\n",
    "    # print(rare_vocab)"
   ],
   "metadata": {
    "collapsed": false,
    "pycharm": {
     "name": "#%%\n"
    }
   }
  },
  {
   "cell_type": "markdown",
   "source": [
    "**_This is an attempt to extract even more relevant color words from the infrequent words_**"
   ],
   "metadata": {
    "collapsed": false,
    "pycharm": {
     "name": "#%% md\n"
    }
   }
  },
  {
   "cell_type": "code",
   "execution_count": 186,
   "outputs": [],
   "source": [
    "if 'IS_GRADESCOPE_ENV' not in os.environ:\n",
    "    from collections import Counter\n",
    "\n",
    "    def create_tweaked_vocab_from_content_dataset(train_texts, lowest_allowed_freq, tokenizer):\n",
    "        train_word_seqs = [tokenizer(text) for text in train_texts]\n",
    "        train_words_list = [word for word_seq in train_word_seqs for word in word_seq]\n",
    "\n",
    "        ctr_train_words_list = Counter(train_words_list)\n",
    "        banned_words = [k for (k, v) in ctr_train_words_list.most_common() if v < lowest_allowed_freq]\n",
    "        banned_words = set(banned_words)\n",
    "\n",
    "        train_words_vocab = sorted(set(train_words_list) - banned_words)\n",
    "\n",
    "        rare_train_vocab, truly_banned_train_vocab = get_rare_vocab_from_banned_words(banned_words)\n",
    "\n",
    "        tweaked_train_words_vocab = sorted(set(train_words_vocab + rare_train_vocab))\n",
    "        tweaked_train_words_vocab += [UNK_SYMBOL]\n",
    "\n",
    "        filled_tweaked_train_word_seqs = [[word if word not in truly_banned_train_vocab else UNK_SYMBOL for word in word_seq] for word_seq in train_word_seqs]\n",
    "\n",
    "        return tweaked_train_words_vocab, filled_tweaked_train_word_seqs, truly_banned_train_vocab\n"
   ],
   "metadata": {
    "collapsed": false,
    "pycharm": {
     "name": "#%%\n"
    }
   }
  },
  {
   "cell_type": "code",
   "execution_count": 187,
   "outputs": [
    {
     "name": "stdout",
     "output_type": "stream",
     "text": [
      "Total vocab size:\n",
      " 1839\n",
      "Total vocab words removed:\n",
      " 1158\n",
      "Words removed from vocab:\n",
      " ['#49', '. . .', '. ..', '1.50', '13', '14', '15', '2012', '30s', '3rd', '4', '49/50', '5', '6', '7', ':-/', ':\\\\', ';-)', '=(', '=/', '=]', '___poppy', 'aaagh', 'abright', 'absence', 'accurate', 'ack', 'acronynyms', 'add', 'address', 'ahah', 'ahahha', 'ahhh', 'aka', 'album', 'alittle', 'alive', 'almsot', 'alomst', 'aloud', 'although', 'amazing', 'amost', 'anyone', 'anyways', 'apparel', 'appear', 'appears', 'appicane', 'apply', 'apposed', 'appreciate', 'arange', 'arent', 'aretha', 'arg', 'argh', 'arghhhhhhhhhhhhhhhh', 'argue', 'armyish', 'art', 'artist', 'athe', 'aua', 'auqa', 'autumn', 'avacado', 'available', 'avocados', 'awareness', 'away', 'aweome', 'awful', 'awhile', 'awkward', 'b.ue', 'babby', 'babyfood', 'baige', 'barf', 'barn', 'barneys', 'barnier', 'barnys', 'basketball', 'beach', 'bear', 'bee', 'berries', 'bfight', 'biege-tan', 'biggest', 'biking', 'bin', 'bingo', 'bird', 'birghtest', 'birhg', 'birte', 'bismol', 'bkue', 'ble', 'blie', \"blu'ish\", 'bluosh', 'blurdt', 'blusih', 'bluw', 'bly', 'boat', 'bodied', 'boogies', 'book', \"boy's\", 'braindead', 'brand', 'brat', 'bravo', 'bread', 'breast', 'brickish', 'bricks', 'bridesmaid', 'brigether', 'brigh', 'brighet', 'brighhtest', 'brighly', 'brighness', 'brighteset', 'brightess', 'brightet', 'brightiest', 'brightp', 'brightre', 'brighttest', 'brighttttt', 'brigt', 'brigth', 'brihgt', 'brishtest', 'brite-ist', 'brither', 'briwn', 'bro', 'broen', 'bron', 'brothers', 'bruight', 'bu', 'buddy', 'bueb', 'bull', 'bullish', 'bulls', 'bummer', 'burgandy', 'burgundy', 'bush', 'bustin', 'butnot', 'bye', 'c', 'cadillac', 'cadillacs', 'calibrated', 'calibration', 'calm', 'canary', 'cancer', 'cape', 'cardbord', 'carmel', 'carrot', 'cat', 'caught', 'cent', 'certain', 'chalk', 'chat', 'cheating', 'checkrobe', 'cheeks', 'cheeriest', 'cheerios', 'cheers', 'cheese', 'chicago', 'chick', 'chiminea', 'clash', 'class', 'clay-ish', 'clcik', 'cleveland', 'cloests', 'clored', 'closeist', 'closes', 'closetst', 'clostest', 'clothes', 'clothing', 'cloths', 'cloudless', 'coclor', 'cocoa', 'coffe', 'cold', 'collor', 'cologe', 'colorwise', 'colr', 'combined', 'comments', 'complete', 'completely', 'computers', 'concord', 'contacting', 'contain', 'cookie', 'coolest', 'coor', 'couldnt', 'count', 'counted', 'crater', 'crayola', 'crayons', 'crazy', 'cream', 'creamier', 'creamish', 'creme', 'cremish', 'crisp', 'cross', 'cruel', 'cuz', \"d'oh\", 'da', 'dadull', 'dafflodils', 'daffodil', 'damned', 'dandelion', 'dangerous', 'dangit', 'dar', 'darest', 'darish', 'darts', 'dary', 'dash', 'days', 'dcale', 'deal', 'deere', 'def', 'dell', 'desaturated', 'descibe', 'descibing', 'described', 'descript', 'desert', 'di', 'diareah', \"didn't\", 'died', 'diff', 'diffeeent', 'differenmt', 'differnet', 'difficult', 'dijon', 'dillest', 'diluted', 'dimmed', 'dimmest', 'dingiest', 'dinosaure', 'dinosaurer', 'dinosour', 'directions', 'dirtiest', 'discern', 'displays', 'distinctively', 'diuller', 'dlllest', 'dog', 'doin', 'dokie', 'dole', 'dolphins', 'doodoo', 'dooo', 'dr', 'dragger', 'drak', 'dress', 'drker', 'drkest', 'drops', 'drrkest', 'drunk', 'dsrk', 'duck', 'dude', 'duke', 'dulest', 'dulled', 'dullezt', 'dullist', 'dumb', 'during', 'dusk', 'duskier', 'eal', 'earthier', 'eeyore', 'eggs', 'ehh', 'electric', 'eletric', 'em', 'enjoy', 'enjoyed', 'enjoying', 'entrails', 'envy', 'eque', 'er', 'erange', 'eraser', 'erasers', 'etc', 'everything', 'everywhere', 'exaclty', 'exact', 'example', 'exists', 'exit', 'expensive', 'expert', 'expired', 'explain', 'explorer', 'explosion', 'ezpz', 'f', 'fading', 'failing', 'faint', 'faintly', 'faiult', 'familiar', 'famous', 'fan', 'fark', 'farkish', 'farthest', 'fascia', 'fawn', 'feedback', 'feelin', 'feels', 'female', 'fern', 'fhe', 'finished', 'fish', 'five', 'flashiest', 'flattest', 'fleash', 'fleshy', 'foamish', 'foamy', 'focusing', 'form', 'found', 'franklin', 'freakin', 'freaking', 'freeze', 'freezing', 'fresh', 'frogish', 'fuller', 'further', 'furthest', 'fuzzy', 'g', 'games', 'gark', 'gases', 'gatorade', 'gayish', 'geez', 'general', 'generic', 'georgia', 'gery', 'geryish', 'gettin', 'gey', 'gg', 'ghrren', 'girlish', 'given', 'gjgjgjg', 'glitchy', 'glow', 'glowing', 'goes', 'goinf', 'goo', 'goodness', 'gra', 'graphic', 'grasslike', 'grean', 'greish', 'greist', 'grenn', 'grief', 'group', 'grows', 'grrenish', 'grrnish', 'grrrrr', 'grrya', 'guac', 'gull', 'gum', 'gunmetal', 'guys', 'hahahaha', 'hahahahahha', 'hair', 'half', 'halfway', 'halloweenish', 'halowwen', 'handful', 'hang', 'happen', 'happy', 'hardest', \"hasn't\", \"haven't\", 'hdtv', 'heading', 'heads', 'healthy', 'heard', 'heart', 'heat', 'heathered', 'heck', 'help', 'helpful', 'herb', 'heyya', 'highest', 'hink', 'hinted', 'hinter', 'his', 'hiya', 'hlad', 'hmhm', 'hmmmm', 'home', 'homie', 'hooo', 'hooray', 'hopeless', 'hotdog', 'housee', 'howdy', 'however', 'hrm', 'hubby', 'human', 'hunting', 'hurry', 'hurts', 'icey', 'icing', 'icon', 'icy', 'iddle', 'idiot', 'ieange', 'ighter', 'iis', 'ilght', 'ill', 'impossible', 'improving', 'indeed', 'ine', 'infront', 'inot', 'instead', 'instructions', 'int', 'intensity', 'interesting', 'internet', 'intesne', 'inthe', 'ios', 'irabge', 'irange', 'irritating', 'isa', 'ishard', 'ismost', 'iss', 'jealoushy', 'jeans', 'jewel', 'jewelry', 'jimmy', 'jiob', 'jk', 'jo', 'job-not', 'john', 'joining', 'jr', 'jummy', 'kakhi', 'kay', 'keeps', 'kess', 'ketchup', 'kid', 'kight', 'killin', 'knew', 'kniucle', 'known', 'knuckle', 'kool', 'kow', 'labels', 'lacking', 'lackluster', 'lake', 'lame', 'lant', 'lapis', 'laptop', 'later', 'laundry', 'lazuli', 'lazy', 'lean', 'learning', 'lease', 'legit', 'lest', 'let', 'letter', 'letting', 'lght', 'lgiht', 'life', 'ligt', 'likea', 'lilc', 'liliac', 'limit', 'limr', 'lining', 'link', 'litest', 'litle', 'living', 'location', 'locations', 'logo', 'loks', 'lols', 'lookinh', 'lool', 'loook', 'loops', 'lord', 'lost', 'loud', 'loudest', 'loved', 'lovely', 'lowest', 'lttle', 'lucky', 'lueish', 'lunch', 'mac', 'mad', 'madder', 'mahogany', 'male', \"man's\", 'marine', 'marker', 'mary', 'mash', 'matches', 'matching', 'maube', 'mauvy', 'mave', 'meaning', 'meet', 'melon', 'mentioned', 'mic', 'middle-hue', 'middle-type', 'middlish', 'midway', 'milk', 'mind', 'minimum', 'missing', 'mittens', 'mixing', 'mized', 'mm', 'mmm', 'moon', 'mor', 'more-so', 'morning', 'mos', 'mossier', 'mot', 'mow', 'mtg', 'mucus', 'muddier', 'muppet', 'mushy', 'mustards', 'mustart', 'mute', 'muve', 'mybad', 'mylanta', 'nail', 'narwhal', 'nat', 'naw', 'nawh', 'nbd', 'nd', 'nearest', 'negative', \"neon'ish\", 'neon-esque', 'neon-ish', 'neone', 'neonest', 'neony', 'netiher', 'nick', 'nighttime', 'niiiiiiice', 'ninentendo', 'nk', 'nmeded', 'nnnnoooo', 'non-bright', 'non-muted', 'non-neon', 'non-reddish', 'non-target', 'nono', 'nooooo', 'not-as-bright', 'not-bright', 'nother', 'nothing', 'noy', 'npt', 'nrightest', 'nude', 'nut', 'nweird', 'oastel', 'oblong', 'obnoxious', 'oceanlike', 'oddball', 'oen', 'ohh', 'ohhh', 'oi', 'oilve', 'oink', 'okie', 'okkkk', 'olve', 'omre', 'one--the', 'one-not', 'one.the', 'onebut', 'onr', 'oo', 'ooo', 'oooh', 'opinion', 'ops', 'orage', 'order', 'orders', 'ornage', 'ose', 'ot', \"ot's\", 'otange', 'ouch', 'oueple', 'ouj', 'ourple', 'ours', 'overtones', 'owe', 'oye', 'p8', 'p;', 'pack', 'pain', 'painted', 'palish', 'park', 'parker', 'parrot', 'passsed', 'pastels', 'patel', \"patrick's\", 'pay', 'payed', 'pea-ish', 'pear', 'peel', 'pencil', 'per', 'perception', 'perhaps', 'periwinle', 'personally', 'peuple', 'pf', 'phot', 'picture', 'pie', 'pigment', 'piles', 'pimk', 'pinish', 'piss', 'pistacchio', 'pit', 'pixels', 'plant', \"plant's\", 'plants', \"plat's\", 'player', 'pnik', 'poilish', 'policemans', 'ponk', 'poopish', 'pop', 'poppingest', 'popular', 'porn', 'posh', 'position', 'possibly', 'pot', 'power', 'practically', 'precious', 'prettiest', 'priple', 'probly', 'process', 'product', 'prp', 'prussian', 'ps', 'pu', 'puce', 'pukey-kind', 'pumkin', 'pumpkins', 'pumpkn', 'punk', 'pup', 'pupr', 'purble', 'purlish', 'puse', 'q', 'qq', 'quality', 'queed', 'quick', 'quit', 'raddish', 'radiant', 'rained', 'randomly', 'ranger', 'raspberry', 'rats', 'realy', 'reason', 'recently', 'recover', 'red-ness', 'red-tone', 'redd', 'redderish', 'reddist', 'reddsih', 'reddy', 'reder', 'reed', 'reen', 'refer', 'reg', 'rel', 'related', 'remotely', 'repeat', 'res', 'review', 'rey', 'rgeen', 'richc', 'rid', 'ridiculous', 'rly', 'roayl', \"robbin's\", 'rockin', 'rocking', 'roseish', 'roses', 'rosier', 'rotting', 'roudn', 'rough', 'rougish', 'rounds', 'row', 'roy', 'rple', 'rsky', 'rsut', 'rubber', 'rude', 'rule', 'run', 'running', 'sadness', 'sag', 'same-ish', 'sang', 'says', 'school', 'schoolbus', 'scree', 'sea-foam', 'seafoamy', 'seahawk', 'seal', 'seattkle', 'seattle', 'sec', 'seeemed', 'seemingly', 'setting', 'sexist', 'sgood', 'shad', 'shae', 'shafe', 'shake', 'shape', 'shark', \"she's\", 'sherbert', 'shickingly', 'shinny', 'ship', 'shirt', 'shocking', 'shoot', \"should've\", 'shouldve', 'shrugs', 'sidewalk', 'sidnna', 'silly', 'simalar', 'siml', 'simlar', 'since', 'singer', 'single', 'sk', 'skt', 'sky-like', 'skyer', 'skyish', 'skys', 'slamon-like', 'slimy', 'slivre', 'slow', 'slughtly', 'smallest', 'smartest', 'smells', 'snot', 'soda', 'soe', 'solor', 'solors', 'somewhere', 'soo', 'soooo', 'soothing', 'sorrry', 'sory', 'soudns', 'sound', 'southwest', 'sparrow', 'speed', 'spelling', 'spicy', 'spilled', 'spit', 'squars', 'squatty', 'squint', 'squirt', 'srry', 'st', 'stalks', 'starting', 'stated', 'states', 'stay', 'step', 'stiks', 'stinking', 'store', 'stress', 'stuff', 'subtly', 'such', 'sucked', 'superman', 'swear', 'swimming', 't5he', 'tab', 'talk', 'tan-like', 'tanb', 'tanned', 'tanny', 'tans', 'tart', 'taste', 'taupe--not', 'tcu', 'tea', 'teammwork', 'teamwork', 'tee', 'tela', 'tellow', 'tend', 'terracotta-ish', 'text', 'thanks-i', 'thanksgiving', 'thee', 'thin', 'thing--pick', 'third', 'thop', 'thoroughly', 'thoughts', 'through', 'throwing', 'throws', 'tht', 'ticket', 'tiger', 'timer', 'tinges', 'tinit', 'tink', 'tinnt', 'tinting', 'tiny', 'tks', 'tne', 'toilet', 'told', 'torquois', 'torquoise', 'torquoisw', 'torture', 'total', 'tougher', 'toughie', 'toupe', 'toward', 'tractor', 'traffic', 'tranquil', 'tranquility', 'trees', 'trf', 'trouble', 'trtner', 'trueist', 'trump', 'trunk', 'trust', 'tthe', 'tuff', 'turkernation', 'turkmaster', 'turkopitcon', 'turned', 'turns', 'tutus', 'tweetie', 'twice', 'ty', 'typed', 'u2', 'ughh', 'ughhh', 'uhhh', 'uhhhhh', 'uhhm', 'uhmm', 'ummmm', 'ummmnot', 'uniform', 'united', 'unless', 'unsweeten', 'usixels', 'usual', 'value', 'values', 'variation', 'variations', 'varients', 'vary', 'vegie', 'verge', 'versus', 'vibratnt', 'viloet', 'vivd', 'vivied', 'vlose', 'vlue', 'vocabulary', 'volunteer', 'volunteers', 'vomited', 'wack', 'waht', 'walpaper', 'wanna', 'wanted', 'warning', 'wasabi', 'washout', 'wat', 'watered', 'watery', 'ways', \"we'll\", 'wear', 'weathered', 'weirder', 'went', 'west', 'weve', 'while', 'wiat', 'wiith', 'winkle', 'wins', 'wisley', 'witha', 'wityh', \"women's\", 'wondering', 'wonky', 'wont', 'woot', 'worj', 'worn', 'worrie', 'worried', 'worrries', 'worst', 'worth', \"wouldn't\", 'write', 'wrote', 'xp', 'yaeeaaa', 'yah', 'yallow', 'yard', 'ye', 'yeh', 'yelower', 'yess', 'yippee', 'yllow', 'yllw', 'yo', 'youd', \"your're\", 'yrp', 'ys', 'yuck', 'ywllow']\n",
      "A sample tokenized train text:\n",
      " ['<s>', 'purple', '</s>']\n",
      "And the actual text was:\n",
      " purple\n"
     ]
    }
   ],
   "source": [
    "if 'IS_GRADESCOPE_ENV' not in os.environ:\n",
    "    full_tweaked_train_vocab, filled_full_tweaked_train_word_seqs, full_train_tweaked_removed_words = create_tweaked_vocab_from_content_dataset(train_texts=full_texts_train, lowest_allowed_freq=2, tokenizer=tweet_tokenize)\n",
    "\n",
    "    print(\"Total vocab size:\\n\", len(full_tweaked_train_vocab))\n",
    "    print(\"Total vocab words removed:\\n\", len(full_train_tweaked_removed_words))\n",
    "    print(\"Words removed from vocab:\\n\", full_train_tweaked_removed_words)\n",
    "    print(\"A sample tokenized train text:\\n\", filled_full_tweaked_train_word_seqs[360])\n",
    "    print(\"And the actual text was:\\n\", full_texts_train[360])"
   ],
   "metadata": {
    "collapsed": false,
    "pycharm": {
     "name": "#%%\n"
    }
   }
  },
  {
   "cell_type": "code",
   "execution_count": 188,
   "outputs": [],
   "source": [
    "if 'IS_GRADESCOPE_ENV' not in os.environ:\n",
    "    def tweak_tokenize_example(s):\n",
    "        return tokenize_example_on_vocab(s, train_vocab=full_tweaked_train_vocab, tokenizer=tweet_tokenize)"
   ],
   "metadata": {
    "collapsed": false,
    "pycharm": {
     "name": "#%%\n"
    }
   }
  },
  {
   "cell_type": "code",
   "execution_count": 189,
   "outputs": [],
   "source": [
    "if 'IS_GRADESCOPE_ENV' not in os.environ:\n",
    "    full_tweaked_seqs_train = [tweak_tokenize_example(s) for s in full_texts_train]\n",
    "    full_tweaked_seqs_test = [tweak_tokenize_example(s) for s in full_texts_test]"
   ],
   "metadata": {
    "collapsed": false,
    "pycharm": {
     "name": "#%%\n"
    }
   }
  },
  {
   "cell_type": "code",
   "execution_count": 190,
   "outputs": [],
   "source": [
    "if 'IS_GRADESCOPE_ENV' not in os.environ:\n",
    "    full_cols_train = [represent_color_context(colors) for colors in full_rawcols_train]\n",
    "    full_cols_test = [represent_color_context(colors) for colors in full_rawcols_test]"
   ],
   "metadata": {
    "collapsed": false,
    "pycharm": {
     "name": "#%%\n"
    }
   }
  },
  {
   "cell_type": "code",
   "execution_count": 191,
   "outputs": [
    {
     "name": "stderr",
     "output_type": "stream",
     "text": [
      "C:\\Users\\shubh\\My Drive\\MLDL\\stanfordXCS224U\\referenceRepo\\cs224u\\torch_color_describer.py:680: RuntimeWarning: divide by zero encountered in power\n",
      "  perp = [np.prod(s)**(-1/len(s)) for s in scores]\n",
      "Finished epoch 1 of 1000; error is 226.40514278411865C:\\Users\\shubh\\My Drive\\MLDL\\stanfordXCS224U\\referenceRepo\\cs224u\\torch_color_describer.py:680: RuntimeWarning: divide by zero encountered in power\n",
      "  perp = [np.prod(s)**(-1/len(s)) for s in scores]\n",
      "Finished epoch 2 of 1000; error is 214.5031499862671C:\\Users\\shubh\\My Drive\\MLDL\\stanfordXCS224U\\referenceRepo\\cs224u\\torch_color_describer.py:680: RuntimeWarning: divide by zero encountered in power\n",
      "  perp = [np.prod(s)**(-1/len(s)) for s in scores]\n",
      "Finished epoch 3 of 1000; error is 208.14083576202393C:\\Users\\shubh\\My Drive\\MLDL\\stanfordXCS224U\\referenceRepo\\cs224u\\torch_color_describer.py:680: RuntimeWarning: divide by zero encountered in power\n",
      "  perp = [np.prod(s)**(-1/len(s)) for s in scores]\n",
      "Finished epoch 4 of 1000; error is 205.2681007385254C:\\Users\\shubh\\My Drive\\MLDL\\stanfordXCS224U\\referenceRepo\\cs224u\\torch_color_describer.py:680: RuntimeWarning: divide by zero encountered in power\n",
      "  perp = [np.prod(s)**(-1/len(s)) for s in scores]\n",
      "Finished epoch 5 of 1000; error is 203.6231017112732C:\\Users\\shubh\\My Drive\\MLDL\\stanfordXCS224U\\referenceRepo\\cs224u\\torch_color_describer.py:680: RuntimeWarning: divide by zero encountered in power\n",
      "  perp = [np.prod(s)**(-1/len(s)) for s in scores]\n",
      "Finished epoch 6 of 1000; error is 201.9239444732666C:\\Users\\shubh\\My Drive\\MLDL\\stanfordXCS224U\\referenceRepo\\cs224u\\torch_color_describer.py:680: RuntimeWarning: divide by zero encountered in power\n",
      "  perp = [np.prod(s)**(-1/len(s)) for s in scores]\n",
      "Finished epoch 7 of 1000; error is 199.89208889007568C:\\Users\\shubh\\My Drive\\MLDL\\stanfordXCS224U\\referenceRepo\\cs224u\\torch_color_describer.py:680: RuntimeWarning: divide by zero encountered in power\n",
      "  perp = [np.prod(s)**(-1/len(s)) for s in scores]\n",
      "Finished epoch 8 of 1000; error is 197.866765499115C:\\Users\\shubh\\My Drive\\MLDL\\stanfordXCS224U\\referenceRepo\\cs224u\\torch_color_describer.py:680: RuntimeWarning: divide by zero encountered in power\n",
      "  perp = [np.prod(s)**(-1/len(s)) for s in scores]\n",
      "Finished epoch 9 of 1000; error is 196.5257396697998C:\\Users\\shubh\\My Drive\\MLDL\\stanfordXCS224U\\referenceRepo\\cs224u\\torch_color_describer.py:680: RuntimeWarning: divide by zero encountered in power\n",
      "  perp = [np.prod(s)**(-1/len(s)) for s in scores]\n",
      "Finished epoch 10 of 1000; error is 194.4867763519287C:\\Users\\shubh\\My Drive\\MLDL\\stanfordXCS224U\\referenceRepo\\cs224u\\torch_color_describer.py:680: RuntimeWarning: divide by zero encountered in power\n",
      "  perp = [np.prod(s)**(-1/len(s)) for s in scores]\n",
      "Finished epoch 11 of 1000; error is 192.39120817184448C:\\Users\\shubh\\My Drive\\MLDL\\stanfordXCS224U\\referenceRepo\\cs224u\\torch_color_describer.py:680: RuntimeWarning: divide by zero encountered in power\n",
      "  perp = [np.prod(s)**(-1/len(s)) for s in scores]\n",
      "Finished epoch 12 of 1000; error is 190.7843041419983C:\\Users\\shubh\\My Drive\\MLDL\\stanfordXCS224U\\referenceRepo\\cs224u\\torch_color_describer.py:680: RuntimeWarning: divide by zero encountered in power\n",
      "  perp = [np.prod(s)**(-1/len(s)) for s in scores]\n",
      "Finished epoch 13 of 1000; error is 188.6825189590454C:\\Users\\shubh\\My Drive\\MLDL\\stanfordXCS224U\\referenceRepo\\cs224u\\torch_color_describer.py:680: RuntimeWarning: divide by zero encountered in power\n",
      "  perp = [np.prod(s)**(-1/len(s)) for s in scores]\n",
      "Finished epoch 14 of 1000; error is 186.834894657135C:\\Users\\shubh\\My Drive\\MLDL\\stanfordXCS224U\\referenceRepo\\cs224u\\torch_color_describer.py:680: RuntimeWarning: divide by zero encountered in power\n",
      "  perp = [np.prod(s)**(-1/len(s)) for s in scores]\n",
      "Finished epoch 15 of 1000; error is 185.2753391265869C:\\Users\\shubh\\My Drive\\MLDL\\stanfordXCS224U\\referenceRepo\\cs224u\\torch_color_describer.py:680: RuntimeWarning: divide by zero encountered in power\n",
      "  perp = [np.prod(s)**(-1/len(s)) for s in scores]\n",
      "Finished epoch 16 of 1000; error is 183.4399437904358C:\\Users\\shubh\\My Drive\\MLDL\\stanfordXCS224U\\referenceRepo\\cs224u\\torch_color_describer.py:680: RuntimeWarning: divide by zero encountered in power\n",
      "  perp = [np.prod(s)**(-1/len(s)) for s in scores]\n",
      "Finished epoch 17 of 1000; error is 181.4862985610962C:\\Users\\shubh\\My Drive\\MLDL\\stanfordXCS224U\\referenceRepo\\cs224u\\torch_color_describer.py:680: RuntimeWarning: divide by zero encountered in power\n",
      "  perp = [np.prod(s)**(-1/len(s)) for s in scores]\n",
      "Finished epoch 18 of 1000; error is 179.19938564300537C:\\Users\\shubh\\My Drive\\MLDL\\stanfordXCS224U\\referenceRepo\\cs224u\\torch_color_describer.py:680: RuntimeWarning: divide by zero encountered in power\n",
      "  perp = [np.prod(s)**(-1/len(s)) for s in scores]\n",
      "Finished epoch 19 of 1000; error is 177.4928183555603C:\\Users\\shubh\\My Drive\\MLDL\\stanfordXCS224U\\referenceRepo\\cs224u\\torch_color_describer.py:680: RuntimeWarning: divide by zero encountered in power\n",
      "  perp = [np.prod(s)**(-1/len(s)) for s in scores]\n",
      "Finished epoch 20 of 1000; error is 176.81177186965942C:\\Users\\shubh\\My Drive\\MLDL\\stanfordXCS224U\\referenceRepo\\cs224u\\torch_color_describer.py:680: RuntimeWarning: divide by zero encountered in power\n",
      "  perp = [np.prod(s)**(-1/len(s)) for s in scores]\n",
      "Finished epoch 21 of 1000; error is 174.19387912750244C:\\Users\\shubh\\My Drive\\MLDL\\stanfordXCS224U\\referenceRepo\\cs224u\\torch_color_describer.py:680: RuntimeWarning: divide by zero encountered in power\n",
      "  perp = [np.prod(s)**(-1/len(s)) for s in scores]\n",
      "Finished epoch 22 of 1000; error is 172.74828910827637C:\\Users\\shubh\\My Drive\\MLDL\\stanfordXCS224U\\referenceRepo\\cs224u\\torch_color_describer.py:680: RuntimeWarning: divide by zero encountered in power\n",
      "  perp = [np.prod(s)**(-1/len(s)) for s in scores]\n",
      "Finished epoch 23 of 1000; error is 171.40696668624878C:\\Users\\shubh\\My Drive\\MLDL\\stanfordXCS224U\\referenceRepo\\cs224u\\torch_color_describer.py:680: RuntimeWarning: divide by zero encountered in power\n",
      "  perp = [np.prod(s)**(-1/len(s)) for s in scores]\n",
      "Finished epoch 24 of 1000; error is 169.31815767288208C:\\Users\\shubh\\My Drive\\MLDL\\stanfordXCS224U\\referenceRepo\\cs224u\\torch_color_describer.py:680: RuntimeWarning: divide by zero encountered in power\n",
      "  perp = [np.prod(s)**(-1/len(s)) for s in scores]\n",
      "Finished epoch 25 of 1000; error is 167.4473900794983C:\\Users\\shubh\\My Drive\\MLDL\\stanfordXCS224U\\referenceRepo\\cs224u\\torch_color_describer.py:680: RuntimeWarning: divide by zero encountered in power\n",
      "  perp = [np.prod(s)**(-1/len(s)) for s in scores]\n",
      "Finished epoch 26 of 1000; error is 165.76282262802124C:\\Users\\shubh\\My Drive\\MLDL\\stanfordXCS224U\\referenceRepo\\cs224u\\torch_color_describer.py:680: RuntimeWarning: divide by zero encountered in power\n",
      "  perp = [np.prod(s)**(-1/len(s)) for s in scores]\n",
      "Finished epoch 27 of 1000; error is 164.20632696151733C:\\Users\\shubh\\My Drive\\MLDL\\stanfordXCS224U\\referenceRepo\\cs224u\\torch_color_describer.py:680: RuntimeWarning: divide by zero encountered in power\n",
      "  perp = [np.prod(s)**(-1/len(s)) for s in scores]\n",
      "Finished epoch 28 of 1000; error is 162.52114629745483C:\\Users\\shubh\\My Drive\\MLDL\\stanfordXCS224U\\referenceRepo\\cs224u\\torch_color_describer.py:680: RuntimeWarning: divide by zero encountered in power\n",
      "  perp = [np.prod(s)**(-1/len(s)) for s in scores]\n",
      "Finished epoch 29 of 1000; error is 161.19702863693237C:\\Users\\shubh\\My Drive\\MLDL\\stanfordXCS224U\\referenceRepo\\cs224u\\torch_color_describer.py:680: RuntimeWarning: divide by zero encountered in power\n",
      "  perp = [np.prod(s)**(-1/len(s)) for s in scores]\n",
      "Finished epoch 30 of 1000; error is 159.25561332702637C:\\Users\\shubh\\My Drive\\MLDL\\stanfordXCS224U\\referenceRepo\\cs224u\\torch_color_describer.py:680: RuntimeWarning: divide by zero encountered in power\n",
      "  perp = [np.prod(s)**(-1/len(s)) for s in scores]\n",
      "Finished epoch 31 of 1000; error is 157.21305656433105C:\\Users\\shubh\\My Drive\\MLDL\\stanfordXCS224U\\referenceRepo\\cs224u\\torch_color_describer.py:680: RuntimeWarning: divide by zero encountered in power\n",
      "  perp = [np.prod(s)**(-1/len(s)) for s in scores]\n",
      "Finished epoch 32 of 1000; error is 155.78463983535767C:\\Users\\shubh\\My Drive\\MLDL\\stanfordXCS224U\\referenceRepo\\cs224u\\torch_color_describer.py:680: RuntimeWarning: divide by zero encountered in power\n",
      "  perp = [np.prod(s)**(-1/len(s)) for s in scores]\n",
      "Finished epoch 33 of 1000; error is 153.4619598388672C:\\Users\\shubh\\My Drive\\MLDL\\stanfordXCS224U\\referenceRepo\\cs224u\\torch_color_describer.py:680: RuntimeWarning: divide by zero encountered in power\n",
      "  perp = [np.prod(s)**(-1/len(s)) for s in scores]\n",
      "Finished epoch 34 of 1000; error is 152.01338529586792C:\\Users\\shubh\\My Drive\\MLDL\\stanfordXCS224U\\referenceRepo\\cs224u\\torch_color_describer.py:680: RuntimeWarning: divide by zero encountered in power\n",
      "  perp = [np.prod(s)**(-1/len(s)) for s in scores]\n",
      "Finished epoch 35 of 1000; error is 150.588228225708C:\\Users\\shubh\\My Drive\\MLDL\\stanfordXCS224U\\referenceRepo\\cs224u\\torch_color_describer.py:680: RuntimeWarning: divide by zero encountered in power\n",
      "  perp = [np.prod(s)**(-1/len(s)) for s in scores]\n",
      "Finished epoch 36 of 1000; error is 149.2528281211853C:\\Users\\shubh\\My Drive\\MLDL\\stanfordXCS224U\\referenceRepo\\cs224u\\torch_color_describer.py:680: RuntimeWarning: divide by zero encountered in power\n",
      "  perp = [np.prod(s)**(-1/len(s)) for s in scores]\n",
      "Finished epoch 37 of 1000; error is 147.26049280166626C:\\Users\\shubh\\My Drive\\MLDL\\stanfordXCS224U\\referenceRepo\\cs224u\\torch_color_describer.py:680: RuntimeWarning: divide by zero encountered in power\n",
      "  perp = [np.prod(s)**(-1/len(s)) for s in scores]\n",
      "Finished epoch 38 of 1000; error is 145.44241428375244C:\\Users\\shubh\\My Drive\\MLDL\\stanfordXCS224U\\referenceRepo\\cs224u\\torch_color_describer.py:680: RuntimeWarning: divide by zero encountered in power\n",
      "  perp = [np.prod(s)**(-1/len(s)) for s in scores]\n",
      "Finished epoch 39 of 1000; error is 144.14934396743774C:\\Users\\shubh\\My Drive\\MLDL\\stanfordXCS224U\\referenceRepo\\cs224u\\torch_color_describer.py:680: RuntimeWarning: divide by zero encountered in power\n",
      "  perp = [np.prod(s)**(-1/len(s)) for s in scores]\n",
      "Finished epoch 40 of 1000; error is 142.22738409042358C:\\Users\\shubh\\My Drive\\MLDL\\stanfordXCS224U\\referenceRepo\\cs224u\\torch_color_describer.py:680: RuntimeWarning: divide by zero encountered in power\n",
      "  perp = [np.prod(s)**(-1/len(s)) for s in scores]\n",
      "Finished epoch 41 of 1000; error is 140.16388845443726C:\\Users\\shubh\\My Drive\\MLDL\\stanfordXCS224U\\referenceRepo\\cs224u\\torch_color_describer.py:680: RuntimeWarning: divide by zero encountered in power\n",
      "  perp = [np.prod(s)**(-1/len(s)) for s in scores]\n",
      "Finished epoch 42 of 1000; error is 138.7022204399109C:\\Users\\shubh\\My Drive\\MLDL\\stanfordXCS224U\\referenceRepo\\cs224u\\torch_color_describer.py:680: RuntimeWarning: divide by zero encountered in power\n",
      "  perp = [np.prod(s)**(-1/len(s)) for s in scores]\n",
      "Finished epoch 43 of 1000; error is 137.3639612197876C:\\Users\\shubh\\My Drive\\MLDL\\stanfordXCS224U\\referenceRepo\\cs224u\\torch_color_describer.py:680: RuntimeWarning: divide by zero encountered in power\n",
      "  perp = [np.prod(s)**(-1/len(s)) for s in scores]\n",
      "Finished epoch 44 of 1000; error is 135.26927137374878C:\\Users\\shubh\\My Drive\\MLDL\\stanfordXCS224U\\referenceRepo\\cs224u\\torch_color_describer.py:680: RuntimeWarning: divide by zero encountered in power\n",
      "  perp = [np.prod(s)**(-1/len(s)) for s in scores]\n",
      "Finished epoch 45 of 1000; error is 134.28590393066406C:\\Users\\shubh\\My Drive\\MLDL\\stanfordXCS224U\\referenceRepo\\cs224u\\torch_color_describer.py:680: RuntimeWarning: divide by zero encountered in power\n",
      "  perp = [np.prod(s)**(-1/len(s)) for s in scores]\n",
      "Finished epoch 46 of 1000; error is 132.19608306884766C:\\Users\\shubh\\My Drive\\MLDL\\stanfordXCS224U\\referenceRepo\\cs224u\\torch_color_describer.py:680: RuntimeWarning: divide by zero encountered in power\n",
      "  perp = [np.prod(s)**(-1/len(s)) for s in scores]\n",
      "Finished epoch 47 of 1000; error is 130.61012244224548C:\\Users\\shubh\\My Drive\\MLDL\\stanfordXCS224U\\referenceRepo\\cs224u\\torch_color_describer.py:680: RuntimeWarning: divide by zero encountered in power\n",
      "  perp = [np.prod(s)**(-1/len(s)) for s in scores]\n",
      "Finished epoch 48 of 1000; error is 129.2066707611084C:\\Users\\shubh\\My Drive\\MLDL\\stanfordXCS224U\\referenceRepo\\cs224u\\torch_color_describer.py:680: RuntimeWarning: divide by zero encountered in power\n",
      "  perp = [np.prod(s)**(-1/len(s)) for s in scores]\n",
      "Finished epoch 49 of 1000; error is 127.193692445755C:\\Users\\shubh\\My Drive\\MLDL\\stanfordXCS224U\\referenceRepo\\cs224u\\torch_color_describer.py:680: RuntimeWarning: divide by zero encountered in power\n",
      "  perp = [np.prod(s)**(-1/len(s)) for s in scores]\n",
      "Finished epoch 50 of 1000; error is 125.39206790924072C:\\Users\\shubh\\My Drive\\MLDL\\stanfordXCS224U\\referenceRepo\\cs224u\\torch_color_describer.py:680: RuntimeWarning: divide by zero encountered in power\n",
      "  perp = [np.prod(s)**(-1/len(s)) for s in scores]\n",
      "Finished epoch 51 of 1000; error is 124.0065906047821C:\\Users\\shubh\\My Drive\\MLDL\\stanfordXCS224U\\referenceRepo\\cs224u\\torch_color_describer.py:680: RuntimeWarning: divide by zero encountered in power\n",
      "  perp = [np.prod(s)**(-1/len(s)) for s in scores]\n",
      "Finished epoch 52 of 1000; error is 122.32138133049011C:\\Users\\shubh\\My Drive\\MLDL\\stanfordXCS224U\\referenceRepo\\cs224u\\torch_color_describer.py:680: RuntimeWarning: divide by zero encountered in power\n",
      "  perp = [np.prod(s)**(-1/len(s)) for s in scores]\n",
      "Finished epoch 53 of 1000; error is 120.96403884887695C:\\Users\\shubh\\My Drive\\MLDL\\stanfordXCS224U\\referenceRepo\\cs224u\\torch_color_describer.py:680: RuntimeWarning: divide by zero encountered in power\n",
      "  perp = [np.prod(s)**(-1/len(s)) for s in scores]\n",
      "Finished epoch 54 of 1000; error is 119.34273552894592C:\\Users\\shubh\\My Drive\\MLDL\\stanfordXCS224U\\referenceRepo\\cs224u\\torch_color_describer.py:680: RuntimeWarning: divide by zero encountered in power\n",
      "  perp = [np.prod(s)**(-1/len(s)) for s in scores]\n",
      "Finished epoch 55 of 1000; error is 117.3327112197876C:\\Users\\shubh\\My Drive\\MLDL\\stanfordXCS224U\\referenceRepo\\cs224u\\torch_color_describer.py:680: RuntimeWarning: divide by zero encountered in power\n",
      "  perp = [np.prod(s)**(-1/len(s)) for s in scores]\n",
      "Finished epoch 56 of 1000; error is 115.85080218315125C:\\Users\\shubh\\My Drive\\MLDL\\stanfordXCS224U\\referenceRepo\\cs224u\\torch_color_describer.py:680: RuntimeWarning: divide by zero encountered in power\n",
      "  perp = [np.prod(s)**(-1/len(s)) for s in scores]\n",
      "Finished epoch 57 of 1000; error is 114.43592071533203C:\\Users\\shubh\\My Drive\\MLDL\\stanfordXCS224U\\referenceRepo\\cs224u\\torch_color_describer.py:680: RuntimeWarning: divide by zero encountered in power\n",
      "  perp = [np.prod(s)**(-1/len(s)) for s in scores]\n",
      "Finished epoch 58 of 1000; error is 112.46723127365112C:\\Users\\shubh\\My Drive\\MLDL\\stanfordXCS224U\\referenceRepo\\cs224u\\torch_color_describer.py:680: RuntimeWarning: divide by zero encountered in power\n",
      "  perp = [np.prod(s)**(-1/len(s)) for s in scores]\n",
      "Finished epoch 59 of 1000; error is 111.03810596466064C:\\Users\\shubh\\My Drive\\MLDL\\stanfordXCS224U\\referenceRepo\\cs224u\\torch_color_describer.py:680: RuntimeWarning: divide by zero encountered in power\n",
      "  perp = [np.prod(s)**(-1/len(s)) for s in scores]\n",
      "Finished epoch 60 of 1000; error is 109.50980687141418C:\\Users\\shubh\\My Drive\\MLDL\\stanfordXCS224U\\referenceRepo\\cs224u\\torch_color_describer.py:680: RuntimeWarning: divide by zero encountered in power\n",
      "  perp = [np.prod(s)**(-1/len(s)) for s in scores]\n",
      "Finished epoch 61 of 1000; error is 107.47345900535583C:\\Users\\shubh\\My Drive\\MLDL\\stanfordXCS224U\\referenceRepo\\cs224u\\torch_color_describer.py:680: RuntimeWarning: divide by zero encountered in power\n",
      "  perp = [np.prod(s)**(-1/len(s)) for s in scores]\n",
      "Finished epoch 62 of 1000; error is 106.04139375686646C:\\Users\\shubh\\My Drive\\MLDL\\stanfordXCS224U\\referenceRepo\\cs224u\\torch_color_describer.py:680: RuntimeWarning: divide by zero encountered in power\n",
      "  perp = [np.prod(s)**(-1/len(s)) for s in scores]\n",
      "Finished epoch 63 of 1000; error is 104.19533658027649C:\\Users\\shubh\\My Drive\\MLDL\\stanfordXCS224U\\referenceRepo\\cs224u\\torch_color_describer.py:680: RuntimeWarning: divide by zero encountered in power\n",
      "  perp = [np.prod(s)**(-1/len(s)) for s in scores]\n",
      "Finished epoch 64 of 1000; error is 102.77352523803711C:\\Users\\shubh\\My Drive\\MLDL\\stanfordXCS224U\\referenceRepo\\cs224u\\torch_color_describer.py:680: RuntimeWarning: divide by zero encountered in power\n",
      "  perp = [np.prod(s)**(-1/len(s)) for s in scores]\n",
      "Finished epoch 65 of 1000; error is 101.37278151512146C:\\Users\\shubh\\My Drive\\MLDL\\stanfordXCS224U\\referenceRepo\\cs224u\\torch_color_describer.py:680: RuntimeWarning: divide by zero encountered in power\n",
      "  perp = [np.prod(s)**(-1/len(s)) for s in scores]\n",
      "Finished epoch 66 of 1000; error is 99.67352986335754C:\\Users\\shubh\\My Drive\\MLDL\\stanfordXCS224U\\referenceRepo\\cs224u\\torch_color_describer.py:680: RuntimeWarning: divide by zero encountered in power\n",
      "  perp = [np.prod(s)**(-1/len(s)) for s in scores]\n",
      "Finished epoch 67 of 1000; error is 97.96732234954834C:\\Users\\shubh\\My Drive\\MLDL\\stanfordXCS224U\\referenceRepo\\cs224u\\torch_color_describer.py:680: RuntimeWarning: divide by zero encountered in power\n",
      "  perp = [np.prod(s)**(-1/len(s)) for s in scores]\n",
      "Finished epoch 68 of 1000; error is 96.40018033981323C:\\Users\\shubh\\My Drive\\MLDL\\stanfordXCS224U\\referenceRepo\\cs224u\\torch_color_describer.py:680: RuntimeWarning: divide by zero encountered in power\n",
      "  perp = [np.prod(s)**(-1/len(s)) for s in scores]\n",
      "Finished epoch 69 of 1000; error is 95.03282594680786C:\\Users\\shubh\\My Drive\\MLDL\\stanfordXCS224U\\referenceRepo\\cs224u\\torch_color_describer.py:680: RuntimeWarning: divide by zero encountered in power\n",
      "  perp = [np.prod(s)**(-1/len(s)) for s in scores]\n",
      "Finished epoch 70 of 1000; error is 93.4245331287384C:\\Users\\shubh\\My Drive\\MLDL\\stanfordXCS224U\\referenceRepo\\cs224u\\torch_color_describer.py:680: RuntimeWarning: divide by zero encountered in power\n",
      "  perp = [np.prod(s)**(-1/len(s)) for s in scores]\n",
      "Finished epoch 71 of 1000; error is 91.68612027168274C:\\Users\\shubh\\My Drive\\MLDL\\stanfordXCS224U\\referenceRepo\\cs224u\\torch_color_describer.py:680: RuntimeWarning: divide by zero encountered in power\n",
      "  perp = [np.prod(s)**(-1/len(s)) for s in scores]\n",
      "Finished epoch 72 of 1000; error is 90.33310580253601C:\\Users\\shubh\\My Drive\\MLDL\\stanfordXCS224U\\referenceRepo\\cs224u\\torch_color_describer.py:680: RuntimeWarning: divide by zero encountered in power\n",
      "  perp = [np.prod(s)**(-1/len(s)) for s in scores]\n",
      "Finished epoch 73 of 1000; error is 88.68393349647522C:\\Users\\shubh\\My Drive\\MLDL\\stanfordXCS224U\\referenceRepo\\cs224u\\torch_color_describer.py:680: RuntimeWarning: divide by zero encountered in power\n",
      "  perp = [np.prod(s)**(-1/len(s)) for s in scores]\n",
      "Finished epoch 74 of 1000; error is 87.34409046173096C:\\Users\\shubh\\My Drive\\MLDL\\stanfordXCS224U\\referenceRepo\\cs224u\\torch_color_describer.py:680: RuntimeWarning: divide by zero encountered in power\n",
      "  perp = [np.prod(s)**(-1/len(s)) for s in scores]\n",
      "Finished epoch 75 of 1000; error is 85.5056381225586C:\\Users\\shubh\\My Drive\\MLDL\\stanfordXCS224U\\referenceRepo\\cs224u\\torch_color_describer.py:680: RuntimeWarning: divide by zero encountered in power\n",
      "  perp = [np.prod(s)**(-1/len(s)) for s in scores]\n",
      "Finished epoch 76 of 1000; error is 84.1590428352356C:\\Users\\shubh\\My Drive\\MLDL\\stanfordXCS224U\\referenceRepo\\cs224u\\torch_color_describer.py:680: RuntimeWarning: divide by zero encountered in power\n",
      "  perp = [np.prod(s)**(-1/len(s)) for s in scores]\n",
      "Finished epoch 77 of 1000; error is 82.76311111450195C:\\Users\\shubh\\My Drive\\MLDL\\stanfordXCS224U\\referenceRepo\\cs224u\\torch_color_describer.py:680: RuntimeWarning: divide by zero encountered in power\n",
      "  perp = [np.prod(s)**(-1/len(s)) for s in scores]\n",
      "Finished epoch 78 of 1000; error is 81.21179223060608C:\\Users\\shubh\\My Drive\\MLDL\\stanfordXCS224U\\referenceRepo\\cs224u\\torch_color_describer.py:680: RuntimeWarning: divide by zero encountered in power\n",
      "  perp = [np.prod(s)**(-1/len(s)) for s in scores]\n",
      "Finished epoch 79 of 1000; error is 79.64783644676208C:\\Users\\shubh\\My Drive\\MLDL\\stanfordXCS224U\\referenceRepo\\cs224u\\torch_color_describer.py:680: RuntimeWarning: divide by zero encountered in power\n",
      "  perp = [np.prod(s)**(-1/len(s)) for s in scores]\n",
      "Finished epoch 80 of 1000; error is 78.09858798980713C:\\Users\\shubh\\My Drive\\MLDL\\stanfordXCS224U\\referenceRepo\\cs224u\\torch_color_describer.py:680: RuntimeWarning: divide by zero encountered in power\n",
      "  perp = [np.prod(s)**(-1/len(s)) for s in scores]\n",
      "Finished epoch 81 of 1000; error is 76.68754887580872C:\\Users\\shubh\\My Drive\\MLDL\\stanfordXCS224U\\referenceRepo\\cs224u\\torch_color_describer.py:680: RuntimeWarning: divide by zero encountered in power\n",
      "  perp = [np.prod(s)**(-1/len(s)) for s in scores]\n",
      "Finished epoch 82 of 1000; error is 75.23295378684998C:\\Users\\shubh\\My Drive\\MLDL\\stanfordXCS224U\\referenceRepo\\cs224u\\torch_color_describer.py:680: RuntimeWarning: divide by zero encountered in power\n",
      "  perp = [np.prod(s)**(-1/len(s)) for s in scores]\n",
      "Finished epoch 83 of 1000; error is 73.69334173202515C:\\Users\\shubh\\My Drive\\MLDL\\stanfordXCS224U\\referenceRepo\\cs224u\\torch_color_describer.py:680: RuntimeWarning: divide by zero encountered in power\n",
      "  perp = [np.prod(s)**(-1/len(s)) for s in scores]\n",
      "Finished epoch 84 of 1000; error is 72.46364951133728C:\\Users\\shubh\\My Drive\\MLDL\\stanfordXCS224U\\referenceRepo\\cs224u\\torch_color_describer.py:680: RuntimeWarning: divide by zero encountered in power\n",
      "  perp = [np.prod(s)**(-1/len(s)) for s in scores]\n",
      "Finished epoch 85 of 1000; error is 70.88166832923889C:\\Users\\shubh\\My Drive\\MLDL\\stanfordXCS224U\\referenceRepo\\cs224u\\torch_color_describer.py:680: RuntimeWarning: divide by zero encountered in power\n",
      "  perp = [np.prod(s)**(-1/len(s)) for s in scores]\n",
      "Finished epoch 86 of 1000; error is 69.52583813667297C:\\Users\\shubh\\My Drive\\MLDL\\stanfordXCS224U\\referenceRepo\\cs224u\\torch_color_describer.py:680: RuntimeWarning: divide by zero encountered in power\n",
      "  perp = [np.prod(s)**(-1/len(s)) for s in scores]\n",
      "Finished epoch 87 of 1000; error is 68.09141373634338C:\\Users\\shubh\\My Drive\\MLDL\\stanfordXCS224U\\referenceRepo\\cs224u\\torch_color_describer.py:680: RuntimeWarning: divide by zero encountered in power\n",
      "  perp = [np.prod(s)**(-1/len(s)) for s in scores]\n",
      "Finished epoch 88 of 1000; error is 66.71176290512085C:\\Users\\shubh\\My Drive\\MLDL\\stanfordXCS224U\\referenceRepo\\cs224u\\torch_color_describer.py:680: RuntimeWarning: divide by zero encountered in power\n",
      "  perp = [np.prod(s)**(-1/len(s)) for s in scores]\n",
      "Finished epoch 89 of 1000; error is 65.26424074172974C:\\Users\\shubh\\My Drive\\MLDL\\stanfordXCS224U\\referenceRepo\\cs224u\\torch_color_describer.py:680: RuntimeWarning: divide by zero encountered in power\n",
      "  perp = [np.prod(s)**(-1/len(s)) for s in scores]\n",
      "Finished epoch 90 of 1000; error is 63.94142508506775C:\\Users\\shubh\\My Drive\\MLDL\\stanfordXCS224U\\referenceRepo\\cs224u\\torch_color_describer.py:680: RuntimeWarning: divide by zero encountered in power\n",
      "  perp = [np.prod(s)**(-1/len(s)) for s in scores]\n",
      "Finished epoch 91 of 1000; error is 62.61623203754425C:\\Users\\shubh\\My Drive\\MLDL\\stanfordXCS224U\\referenceRepo\\cs224u\\torch_color_describer.py:680: RuntimeWarning: divide by zero encountered in power\n",
      "  perp = [np.prod(s)**(-1/len(s)) for s in scores]\n",
      "Finished epoch 92 of 1000; error is 61.28274881839752C:\\Users\\shubh\\My Drive\\MLDL\\stanfordXCS224U\\referenceRepo\\cs224u\\torch_color_describer.py:680: RuntimeWarning: divide by zero encountered in power\n",
      "  perp = [np.prod(s)**(-1/len(s)) for s in scores]\n",
      "Finished epoch 93 of 1000; error is 59.95061218738556C:\\Users\\shubh\\My Drive\\MLDL\\stanfordXCS224U\\referenceRepo\\cs224u\\torch_color_describer.py:680: RuntimeWarning: divide by zero encountered in power\n",
      "  perp = [np.prod(s)**(-1/len(s)) for s in scores]\n",
      "Finished epoch 94 of 1000; error is 58.67420434951782C:\\Users\\shubh\\My Drive\\MLDL\\stanfordXCS224U\\referenceRepo\\cs224u\\torch_color_describer.py:680: RuntimeWarning: divide by zero encountered in power\n",
      "  perp = [np.prod(s)**(-1/len(s)) for s in scores]\n",
      "Stopping after epoch 95. Validation score did not improve by tol=1e-05 for more than 10 epochs. Final error is 57.38781118392944"
     ]
    },
    {
     "name": "stdout",
     "output_type": "stream",
     "text": [
      "Wall time: 21min 57s\n"
     ]
    }
   ],
   "source": [
    "if 'IS_GRADESCOPE_ENV' not in os.environ:\n",
    "    full_tweaked_mod = ContextualColorDescriber(\n",
    "        full_tweaked_train_vocab,\n",
    "        early_stopping=True)\n",
    "\n",
    "    %time _ = full_tweaked_mod.fit(full_cols_train, full_tweaked_seqs_train)"
   ],
   "metadata": {
    "collapsed": false,
    "pycharm": {
     "name": "#%%\n"
    }
   }
  },
  {
   "cell_type": "code",
   "execution_count": 192,
   "outputs": [
    {
     "name": "stderr",
     "output_type": "stream",
     "text": [
      "C:\\Users\\shubh\\My Drive\\MLDL\\stanfordXCS224U\\referenceRepo\\cs224u\\torch_color_describer.py:680: RuntimeWarning: divide by zero encountered in power\n",
      "  perp = [np.prod(s)**(-1/len(s)) for s in scores]\n"
     ]
    },
    {
     "name": "stdout",
     "output_type": "stream",
     "text": [
      "listener_accuracy:\n",
      " 0.8235594518682441\n",
      "bleu:\n",
      " 0.4511033513493236\n"
     ]
    }
   ],
   "source": [
    "if 'IS_GRADESCOPE_ENV' not in os.environ:\n",
    "    print(\"listener_accuracy:\\n\", full_tweaked_mod.listener_accuracy(full_cols_test, full_tweaked_seqs_test))\n",
    "    print(\"bleu:\\n\", full_tweaked_mod.corpus_bleu(full_cols_test, full_tweaked_seqs_test)[0])"
   ],
   "metadata": {
    "collapsed": false,
    "pycharm": {
     "name": "#%%\n"
    }
   }
  },
  {
   "cell_type": "markdown",
   "source": [
    "Tweaking dataset **_removed about 1100 (33%) vocab words_** and yet the model **_retains the performance with an improved bleu score_**,\n",
    "**_default tweaked model,\n",
    "listener_accuracy: 0.831-0.82356\n",
    "bleu: 0.45_**\n",
    "\n",
    "This shows that **_almost 33% vocab words (rare words) were almost inconsequencial_** to the model's learning"
   ],
   "metadata": {
    "collapsed": false
   }
  },
  {
   "cell_type": "markdown",
   "source": [
    "### 2. Generating train vocab BERT Embeddings that can be used with decoder"
   ],
   "metadata": {
    "collapsed": false
   }
  },
  {
   "cell_type": "code",
   "execution_count": 197,
   "outputs": [],
   "source": [
    "if 'IS_GRADESCOPE_ENV' not in os.environ:\n",
    "\n",
    "    from transformers import BertModel, BertTokenizer\n",
    "    import vsm\n",
    "\n",
    "    bert_weights_name = 'bert-base-uncased'\n",
    "    bert_tokenizer = BertTokenizer.from_pretrained(bert_weights_name)\n",
    "    bert_model = BertModel.from_pretrained(bert_weights_name)\n",
    "\n",
    "    global ctr\n",
    "    ctr = 0\n",
    "\n",
    "    def hf_bert_phi(text):\n",
    "        text_bert_ids = vsm.hf_encode(text, bert_tokenizer,\n",
    "                                    add_special_tokens=True)\n",
    "\n",
    "        text_bert_reps = vsm.hf_represent(text_bert_ids, bert_model, layer=-1) # -> (1, x, 768)\n",
    "\n",
    "        global ctr\n",
    "        if ctr%100 == 0:\n",
    "            print(\"Bert encoding done for ctr \", ctr)\n",
    "        ctr+=1\n",
    "\n",
    "        return torch.mean(text_bert_reps[0], axis=0).cpu().numpy()\n",
    "\n",
    "    # to save time even on a re-run, lets create bert embeddings for all the words in the dataset. We will however inject the model with only the embeddings for the vocab, that is decided for the training set (different in different runtimes).\n",
    "\n",
    "    # lookup to create embeddings\n",
    "    def create_bert_embedding_lookup_on_text_corpora(text_corpora, tokenizer):\n",
    "        corpora_word_seqs = [tokenizer(text) for text in text_corpora]\n",
    "        corpora_words_list = [word for word_seq in corpora_word_seqs for word in word_seq]\n",
    "\n",
    "        corpora_words_set = list(sorted(set(corpora_words_list)))\n",
    "        corpora_word_bert_embedding = {word:hf_bert_phi(word) for word in corpora_words_set}\n",
    "\n",
    "        return corpora_word_bert_embedding\n"
   ],
   "metadata": {
    "collapsed": false,
    "pycharm": {
     "name": "#%%\n"
    }
   }
  },
  {
   "cell_type": "code",
   "execution_count": 198,
   "outputs": [
    {
     "name": "stdout",
     "output_type": "stream",
     "text": [
      "Bert encoding done for ctr  0\n",
      "Bert encoding done for ctr  100\n",
      "Bert encoding done for ctr  200\n",
      "Bert encoding done for ctr  300\n",
      "Bert encoding done for ctr  400\n",
      "Bert encoding done for ctr  500\n",
      "Bert encoding done for ctr  600\n",
      "Bert encoding done for ctr  700\n",
      "Bert encoding done for ctr  800\n",
      "Bert encoding done for ctr  900\n",
      "Bert encoding done for ctr  1000\n",
      "Bert encoding done for ctr  1100\n",
      "Bert encoding done for ctr  1200\n",
      "Bert encoding done for ctr  1300\n",
      "Bert encoding done for ctr  1400\n",
      "Bert encoding done for ctr  1500\n",
      "Bert encoding done for ctr  1600\n",
      "Bert encoding done for ctr  1700\n",
      "Bert encoding done for ctr  1800\n",
      "Bert encoding done for ctr  1900\n",
      "Bert encoding done for ctr  2000\n",
      "Bert encoding done for ctr  2100\n",
      "Bert encoding done for ctr  2200\n",
      "Bert encoding done for ctr  2300\n",
      "Bert encoding done for ctr  2400\n",
      "Bert encoding done for ctr  2500\n",
      "Bert encoding done for ctr  2600\n",
      "Bert encoding done for ctr  2700\n",
      "Bert encoding done for ctr  2800\n",
      "Bert encoding done for ctr  2900\n",
      "Bert encoding done for ctr  3000\n",
      "Bert encoding done for ctr  3100\n",
      "Bert encoding done for ctr  3200\n",
      "Bert encoding done for ctr  3300\n",
      "Bert encoding done for ctr  3400\n",
      "Wall time: 1min\n"
     ]
    }
   ],
   "source": [
    "if 'IS_GRADESCOPE_ENV' not in os.environ:\n",
    "    %time full_corpora_word_bert_embedding = create_bert_embedding_lookup_on_text_corpora(full_texts, tweet_tokenize)"
   ],
   "metadata": {
    "collapsed": false,
    "pycharm": {
     "name": "#%%\n"
    }
   }
  },
  {
   "cell_type": "code",
   "execution_count": 207,
   "outputs": [],
   "source": [
    "if 'IS_GRADESCOPE_ENV' not in os.environ:\n",
    "\n",
    "    def create_bert_embedding(vocab, bert_lookup):\n",
    "        bert_embedding, bert_vocab = utils.create_pretrained_embedding(bert_lookup, vocab)\n",
    "\n",
    "        return bert_embedding, bert_vocab"
   ],
   "metadata": {
    "collapsed": false,
    "pycharm": {
     "name": "#%%\n"
    }
   }
  },
  {
   "cell_type": "code",
   "execution_count": 208,
   "outputs": [],
   "source": [
    "if 'IS_GRADESCOPE_ENV' not in os.environ:\n",
    "    full_train_bert_embedding, full_train_bert_vocab = create_bert_embedding(full_train_vocab, full_corpora_word_bert_embedding)"
   ],
   "metadata": {
    "collapsed": false,
    "pycharm": {
     "name": "#%%\n"
    }
   }
  },
  {
   "cell_type": "code",
   "execution_count": 215,
   "outputs": [
    {
     "name": "stderr",
     "output_type": "stream",
     "text": [
      "C:\\Users\\shubh\\My Drive\\MLDL\\stanfordXCS224U\\referenceRepo\\cs224u\\torch_color_describer.py:680: RuntimeWarning: divide by zero encountered in power\n",
      "  perp = [np.prod(s)**(-1/len(s)) for s in scores]\n",
      "Finished epoch 1 of 1000; error is 243.3389277458191C:\\Users\\shubh\\My Drive\\MLDL\\stanfordXCS224U\\referenceRepo\\cs224u\\torch_color_describer.py:680: RuntimeWarning: divide by zero encountered in power\n",
      "  perp = [np.prod(s)**(-1/len(s)) for s in scores]\n",
      "Finished epoch 2 of 1000; error is 232.31490659713745C:\\Users\\shubh\\My Drive\\MLDL\\stanfordXCS224U\\referenceRepo\\cs224u\\torch_color_describer.py:680: RuntimeWarning: divide by zero encountered in power\n",
      "  perp = [np.prod(s)**(-1/len(s)) for s in scores]\n",
      "Finished epoch 3 of 1000; error is 228.96878290176392C:\\Users\\shubh\\My Drive\\MLDL\\stanfordXCS224U\\referenceRepo\\cs224u\\torch_color_describer.py:680: RuntimeWarning: divide by zero encountered in power\n",
      "  perp = [np.prod(s)**(-1/len(s)) for s in scores]\n",
      "Finished epoch 4 of 1000; error is 228.20233058929443C:\\Users\\shubh\\My Drive\\MLDL\\stanfordXCS224U\\referenceRepo\\cs224u\\torch_color_describer.py:680: RuntimeWarning: divide by zero encountered in power\n",
      "  perp = [np.prod(s)**(-1/len(s)) for s in scores]\n",
      "Finished epoch 5 of 1000; error is 226.9695110321045C:\\Users\\shubh\\My Drive\\MLDL\\stanfordXCS224U\\referenceRepo\\cs224u\\torch_color_describer.py:680: RuntimeWarning: divide by zero encountered in power\n",
      "  perp = [np.prod(s)**(-1/len(s)) for s in scores]\n",
      "Finished epoch 6 of 1000; error is 227.3978443145752C:\\Users\\shubh\\My Drive\\MLDL\\stanfordXCS224U\\referenceRepo\\cs224u\\torch_color_describer.py:680: RuntimeWarning: divide by zero encountered in power\n",
      "  perp = [np.prod(s)**(-1/len(s)) for s in scores]\n",
      "Finished epoch 7 of 1000; error is 226.40064001083374C:\\Users\\shubh\\My Drive\\MLDL\\stanfordXCS224U\\referenceRepo\\cs224u\\torch_color_describer.py:680: RuntimeWarning: divide by zero encountered in power\n",
      "  perp = [np.prod(s)**(-1/len(s)) for s in scores]\n",
      "Finished epoch 8 of 1000; error is 226.35397386550903C:\\Users\\shubh\\My Drive\\MLDL\\stanfordXCS224U\\referenceRepo\\cs224u\\torch_color_describer.py:680: RuntimeWarning: divide by zero encountered in power\n",
      "  perp = [np.prod(s)**(-1/len(s)) for s in scores]\n",
      "Finished epoch 9 of 1000; error is 226.3521213531494C:\\Users\\shubh\\My Drive\\MLDL\\stanfordXCS224U\\referenceRepo\\cs224u\\torch_color_describer.py:680: RuntimeWarning: divide by zero encountered in power\n",
      "  perp = [np.prod(s)**(-1/len(s)) for s in scores]\n",
      "Finished epoch 10 of 1000; error is 225.9675579071045C:\\Users\\shubh\\My Drive\\MLDL\\stanfordXCS224U\\referenceRepo\\cs224u\\torch_color_describer.py:680: RuntimeWarning: divide by zero encountered in power\n",
      "  perp = [np.prod(s)**(-1/len(s)) for s in scores]\n",
      "Finished epoch 11 of 1000; error is 225.2771339416504C:\\Users\\shubh\\My Drive\\MLDL\\stanfordXCS224U\\referenceRepo\\cs224u\\torch_color_describer.py:680: RuntimeWarning: divide by zero encountered in power\n",
      "  perp = [np.prod(s)**(-1/len(s)) for s in scores]\n",
      "Finished epoch 12 of 1000; error is 224.8409399986267C:\\Users\\shubh\\My Drive\\MLDL\\stanfordXCS224U\\referenceRepo\\cs224u\\torch_color_describer.py:680: RuntimeWarning: divide by zero encountered in power\n",
      "  perp = [np.prod(s)**(-1/len(s)) for s in scores]\n",
      "Finished epoch 13 of 1000; error is 224.07327556610107C:\\Users\\shubh\\My Drive\\MLDL\\stanfordXCS224U\\referenceRepo\\cs224u\\torch_color_describer.py:680: RuntimeWarning: divide by zero encountered in power\n",
      "  perp = [np.prod(s)**(-1/len(s)) for s in scores]\n",
      "Finished epoch 14 of 1000; error is 224.93140172958374C:\\Users\\shubh\\My Drive\\MLDL\\stanfordXCS224U\\referenceRepo\\cs224u\\torch_color_describer.py:680: RuntimeWarning: divide by zero encountered in power\n",
      "  perp = [np.prod(s)**(-1/len(s)) for s in scores]\n",
      "Finished epoch 15 of 1000; error is 224.05799341201782C:\\Users\\shubh\\My Drive\\MLDL\\stanfordXCS224U\\referenceRepo\\cs224u\\torch_color_describer.py:680: RuntimeWarning: divide by zero encountered in power\n",
      "  perp = [np.prod(s)**(-1/len(s)) for s in scores]\n",
      "Finished epoch 16 of 1000; error is 224.0422945022583C:\\Users\\shubh\\My Drive\\MLDL\\stanfordXCS224U\\referenceRepo\\cs224u\\torch_color_describer.py:680: RuntimeWarning: divide by zero encountered in power\n",
      "  perp = [np.prod(s)**(-1/len(s)) for s in scores]\n",
      "Finished epoch 17 of 1000; error is 223.1279902458191C:\\Users\\shubh\\My Drive\\MLDL\\stanfordXCS224U\\referenceRepo\\cs224u\\torch_color_describer.py:680: RuntimeWarning: divide by zero encountered in power\n",
      "  perp = [np.prod(s)**(-1/len(s)) for s in scores]\n",
      "Finished epoch 18 of 1000; error is 223.05802154541016C:\\Users\\shubh\\My Drive\\MLDL\\stanfordXCS224U\\referenceRepo\\cs224u\\torch_color_describer.py:680: RuntimeWarning: divide by zero encountered in power\n",
      "  perp = [np.prod(s)**(-1/len(s)) for s in scores]\n",
      "Finished epoch 19 of 1000; error is 222.20163249969482C:\\Users\\shubh\\My Drive\\MLDL\\stanfordXCS224U\\referenceRepo\\cs224u\\torch_color_describer.py:680: RuntimeWarning: divide by zero encountered in power\n",
      "  perp = [np.prod(s)**(-1/len(s)) for s in scores]\n",
      "Finished epoch 20 of 1000; error is 222.09165811538696C:\\Users\\shubh\\My Drive\\MLDL\\stanfordXCS224U\\referenceRepo\\cs224u\\torch_color_describer.py:680: RuntimeWarning: divide by zero encountered in power\n",
      "  perp = [np.prod(s)**(-1/len(s)) for s in scores]\n",
      "Finished epoch 21 of 1000; error is 221.75636434555054C:\\Users\\shubh\\My Drive\\MLDL\\stanfordXCS224U\\referenceRepo\\cs224u\\torch_color_describer.py:680: RuntimeWarning: divide by zero encountered in power\n",
      "  perp = [np.prod(s)**(-1/len(s)) for s in scores]\n",
      "Finished epoch 22 of 1000; error is 221.8256344795227C:\\Users\\shubh\\My Drive\\MLDL\\stanfordXCS224U\\referenceRepo\\cs224u\\torch_color_describer.py:680: RuntimeWarning: divide by zero encountered in power\n",
      "  perp = [np.prod(s)**(-1/len(s)) for s in scores]\n",
      "Finished epoch 23 of 1000; error is 221.09451484680176C:\\Users\\shubh\\My Drive\\MLDL\\stanfordXCS224U\\referenceRepo\\cs224u\\torch_color_describer.py:680: RuntimeWarning: divide by zero encountered in power\n",
      "  perp = [np.prod(s)**(-1/len(s)) for s in scores]\n",
      "Finished epoch 24 of 1000; error is 221.080641746521C:\\Users\\shubh\\My Drive\\MLDL\\stanfordXCS224U\\referenceRepo\\cs224u\\torch_color_describer.py:680: RuntimeWarning: divide by zero encountered in power\n",
      "  perp = [np.prod(s)**(-1/len(s)) for s in scores]\n",
      "Finished epoch 25 of 1000; error is 221.20925903320312C:\\Users\\shubh\\My Drive\\MLDL\\stanfordXCS224U\\referenceRepo\\cs224u\\torch_color_describer.py:680: RuntimeWarning: divide by zero encountered in power\n",
      "  perp = [np.prod(s)**(-1/len(s)) for s in scores]\n",
      "Finished epoch 26 of 1000; error is 221.3360095024109C:\\Users\\shubh\\My Drive\\MLDL\\stanfordXCS224U\\referenceRepo\\cs224u\\torch_color_describer.py:680: RuntimeWarning: divide by zero encountered in power\n",
      "  perp = [np.prod(s)**(-1/len(s)) for s in scores]\n",
      "Finished epoch 27 of 1000; error is 219.2755012512207C:\\Users\\shubh\\My Drive\\MLDL\\stanfordXCS224U\\referenceRepo\\cs224u\\torch_color_describer.py:680: RuntimeWarning: divide by zero encountered in power\n",
      "  perp = [np.prod(s)**(-1/len(s)) for s in scores]\n",
      "Finished epoch 28 of 1000; error is 220.55396699905396C:\\Users\\shubh\\My Drive\\MLDL\\stanfordXCS224U\\referenceRepo\\cs224u\\torch_color_describer.py:680: RuntimeWarning: divide by zero encountered in power\n",
      "  perp = [np.prod(s)**(-1/len(s)) for s in scores]\n",
      "Finished epoch 29 of 1000; error is 220.05077934265137C:\\Users\\shubh\\My Drive\\MLDL\\stanfordXCS224U\\referenceRepo\\cs224u\\torch_color_describer.py:680: RuntimeWarning: divide by zero encountered in power\n",
      "  perp = [np.prod(s)**(-1/len(s)) for s in scores]\n",
      "Finished epoch 30 of 1000; error is 219.54968881607056C:\\Users\\shubh\\My Drive\\MLDL\\stanfordXCS224U\\referenceRepo\\cs224u\\torch_color_describer.py:680: RuntimeWarning: divide by zero encountered in power\n",
      "  perp = [np.prod(s)**(-1/len(s)) for s in scores]\n",
      "Finished epoch 31 of 1000; error is 218.79432439804077C:\\Users\\shubh\\My Drive\\MLDL\\stanfordXCS224U\\referenceRepo\\cs224u\\torch_color_describer.py:680: RuntimeWarning: divide by zero encountered in power\n",
      "  perp = [np.prod(s)**(-1/len(s)) for s in scores]\n",
      "Finished epoch 32 of 1000; error is 218.67422151565552C:\\Users\\shubh\\My Drive\\MLDL\\stanfordXCS224U\\referenceRepo\\cs224u\\torch_color_describer.py:680: RuntimeWarning: divide by zero encountered in power\n",
      "  perp = [np.prod(s)**(-1/len(s)) for s in scores]\n",
      "Finished epoch 33 of 1000; error is 218.59096765518188C:\\Users\\shubh\\My Drive\\MLDL\\stanfordXCS224U\\referenceRepo\\cs224u\\torch_color_describer.py:680: RuntimeWarning: divide by zero encountered in power\n",
      "  perp = [np.prod(s)**(-1/len(s)) for s in scores]\n",
      "Finished epoch 34 of 1000; error is 218.5020236968994C:\\Users\\shubh\\My Drive\\MLDL\\stanfordXCS224U\\referenceRepo\\cs224u\\torch_color_describer.py:680: RuntimeWarning: divide by zero encountered in power\n",
      "  perp = [np.prod(s)**(-1/len(s)) for s in scores]\n",
      "Finished epoch 35 of 1000; error is 217.60642623901367C:\\Users\\shubh\\My Drive\\MLDL\\stanfordXCS224U\\referenceRepo\\cs224u\\torch_color_describer.py:680: RuntimeWarning: divide by zero encountered in power\n",
      "  perp = [np.prod(s)**(-1/len(s)) for s in scores]\n",
      "Finished epoch 36 of 1000; error is 218.47488641738892C:\\Users\\shubh\\My Drive\\MLDL\\stanfordXCS224U\\referenceRepo\\cs224u\\torch_color_describer.py:680: RuntimeWarning: divide by zero encountered in power\n",
      "  perp = [np.prod(s)**(-1/len(s)) for s in scores]\n",
      "Finished epoch 37 of 1000; error is 218.10024642944336C:\\Users\\shubh\\My Drive\\MLDL\\stanfordXCS224U\\referenceRepo\\cs224u\\torch_color_describer.py:680: RuntimeWarning: divide by zero encountered in power\n",
      "  perp = [np.prod(s)**(-1/len(s)) for s in scores]\n",
      "Finished epoch 38 of 1000; error is 217.28519344329834C:\\Users\\shubh\\My Drive\\MLDL\\stanfordXCS224U\\referenceRepo\\cs224u\\torch_color_describer.py:680: RuntimeWarning: divide by zero encountered in power\n",
      "  perp = [np.prod(s)**(-1/len(s)) for s in scores]\n",
      "Finished epoch 39 of 1000; error is 216.92596435546875C:\\Users\\shubh\\My Drive\\MLDL\\stanfordXCS224U\\referenceRepo\\cs224u\\torch_color_describer.py:680: RuntimeWarning: divide by zero encountered in power\n",
      "  perp = [np.prod(s)**(-1/len(s)) for s in scores]\n",
      "Finished epoch 40 of 1000; error is 217.71499013900757C:\\Users\\shubh\\My Drive\\MLDL\\stanfordXCS224U\\referenceRepo\\cs224u\\torch_color_describer.py:680: RuntimeWarning: divide by zero encountered in power\n",
      "  perp = [np.prod(s)**(-1/len(s)) for s in scores]\n",
      "Finished epoch 41 of 1000; error is 217.51139402389526C:\\Users\\shubh\\My Drive\\MLDL\\stanfordXCS224U\\referenceRepo\\cs224u\\torch_color_describer.py:680: RuntimeWarning: divide by zero encountered in power\n",
      "  perp = [np.prod(s)**(-1/len(s)) for s in scores]\n",
      "Finished epoch 42 of 1000; error is 217.0276288986206C:\\Users\\shubh\\My Drive\\MLDL\\stanfordXCS224U\\referenceRepo\\cs224u\\torch_color_describer.py:680: RuntimeWarning: divide by zero encountered in power\n",
      "  perp = [np.prod(s)**(-1/len(s)) for s in scores]\n",
      "Finished epoch 43 of 1000; error is 215.1611213684082C:\\Users\\shubh\\My Drive\\MLDL\\stanfordXCS224U\\referenceRepo\\cs224u\\torch_color_describer.py:680: RuntimeWarning: divide by zero encountered in power\n",
      "  perp = [np.prod(s)**(-1/len(s)) for s in scores]\n",
      "Finished epoch 44 of 1000; error is 216.35252332687378C:\\Users\\shubh\\My Drive\\MLDL\\stanfordXCS224U\\referenceRepo\\cs224u\\torch_color_describer.py:680: RuntimeWarning: divide by zero encountered in power\n",
      "  perp = [np.prod(s)**(-1/len(s)) for s in scores]\n",
      "Finished epoch 45 of 1000; error is 216.42862844467163C:\\Users\\shubh\\My Drive\\MLDL\\stanfordXCS224U\\referenceRepo\\cs224u\\torch_color_describer.py:680: RuntimeWarning: divide by zero encountered in power\n",
      "  perp = [np.prod(s)**(-1/len(s)) for s in scores]\n",
      "Finished epoch 46 of 1000; error is 215.53920221328735C:\\Users\\shubh\\My Drive\\MLDL\\stanfordXCS224U\\referenceRepo\\cs224u\\torch_color_describer.py:680: RuntimeWarning: divide by zero encountered in power\n",
      "  perp = [np.prod(s)**(-1/len(s)) for s in scores]\n",
      "Finished epoch 47 of 1000; error is 216.30892610549927C:\\Users\\shubh\\My Drive\\MLDL\\stanfordXCS224U\\referenceRepo\\cs224u\\torch_color_describer.py:680: RuntimeWarning: divide by zero encountered in power\n",
      "  perp = [np.prod(s)**(-1/len(s)) for s in scores]\n",
      "Finished epoch 48 of 1000; error is 214.55313110351562C:\\Users\\shubh\\My Drive\\MLDL\\stanfordXCS224U\\referenceRepo\\cs224u\\torch_color_describer.py:680: RuntimeWarning: divide by zero encountered in power\n",
      "  perp = [np.prod(s)**(-1/len(s)) for s in scores]\n",
      "Finished epoch 49 of 1000; error is 215.4776849746704C:\\Users\\shubh\\My Drive\\MLDL\\stanfordXCS224U\\referenceRepo\\cs224u\\torch_color_describer.py:680: RuntimeWarning: divide by zero encountered in power\n",
      "  perp = [np.prod(s)**(-1/len(s)) for s in scores]\n",
      "Finished epoch 50 of 1000; error is 215.30396556854248C:\\Users\\shubh\\My Drive\\MLDL\\stanfordXCS224U\\referenceRepo\\cs224u\\torch_color_describer.py:680: RuntimeWarning: divide by zero encountered in power\n",
      "  perp = [np.prod(s)**(-1/len(s)) for s in scores]\n",
      "Finished epoch 51 of 1000; error is 214.65946245193481C:\\Users\\shubh\\My Drive\\MLDL\\stanfordXCS224U\\referenceRepo\\cs224u\\torch_color_describer.py:680: RuntimeWarning: divide by zero encountered in power\n",
      "  perp = [np.prod(s)**(-1/len(s)) for s in scores]\n",
      "Finished epoch 52 of 1000; error is 214.75834846496582C:\\Users\\shubh\\My Drive\\MLDL\\stanfordXCS224U\\referenceRepo\\cs224u\\torch_color_describer.py:680: RuntimeWarning: divide by zero encountered in power\n",
      "  perp = [np.prod(s)**(-1/len(s)) for s in scores]\n",
      "Finished epoch 53 of 1000; error is 213.57122421264648C:\\Users\\shubh\\My Drive\\MLDL\\stanfordXCS224U\\referenceRepo\\cs224u\\torch_color_describer.py:680: RuntimeWarning: divide by zero encountered in power\n",
      "  perp = [np.prod(s)**(-1/len(s)) for s in scores]\n",
      "Finished epoch 54 of 1000; error is 214.32778882980347C:\\Users\\shubh\\My Drive\\MLDL\\stanfordXCS224U\\referenceRepo\\cs224u\\torch_color_describer.py:680: RuntimeWarning: divide by zero encountered in power\n",
      "  perp = [np.prod(s)**(-1/len(s)) for s in scores]\n",
      "Finished epoch 55 of 1000; error is 214.60103559494019C:\\Users\\shubh\\My Drive\\MLDL\\stanfordXCS224U\\referenceRepo\\cs224u\\torch_color_describer.py:680: RuntimeWarning: divide by zero encountered in power\n",
      "  perp = [np.prod(s)**(-1/len(s)) for s in scores]\n",
      "Finished epoch 56 of 1000; error is 214.13518238067627C:\\Users\\shubh\\My Drive\\MLDL\\stanfordXCS224U\\referenceRepo\\cs224u\\torch_color_describer.py:680: RuntimeWarning: divide by zero encountered in power\n",
      "  perp = [np.prod(s)**(-1/len(s)) for s in scores]\n",
      "Finished epoch 57 of 1000; error is 214.3403720855713C:\\Users\\shubh\\My Drive\\MLDL\\stanfordXCS224U\\referenceRepo\\cs224u\\torch_color_describer.py:680: RuntimeWarning: divide by zero encountered in power\n",
      "  perp = [np.prod(s)**(-1/len(s)) for s in scores]\n",
      "Finished epoch 58 of 1000; error is 211.80909824371338C:\\Users\\shubh\\My Drive\\MLDL\\stanfordXCS224U\\referenceRepo\\cs224u\\torch_color_describer.py:680: RuntimeWarning: divide by zero encountered in power\n",
      "  perp = [np.prod(s)**(-1/len(s)) for s in scores]\n",
      "Finished epoch 59 of 1000; error is 213.02829027175903C:\\Users\\shubh\\My Drive\\MLDL\\stanfordXCS224U\\referenceRepo\\cs224u\\torch_color_describer.py:680: RuntimeWarning: divide by zero encountered in power\n",
      "  perp = [np.prod(s)**(-1/len(s)) for s in scores]\n",
      "Finished epoch 60 of 1000; error is 212.99245977401733C:\\Users\\shubh\\My Drive\\MLDL\\stanfordXCS224U\\referenceRepo\\cs224u\\torch_color_describer.py:680: RuntimeWarning: divide by zero encountered in power\n",
      "  perp = [np.prod(s)**(-1/len(s)) for s in scores]\n",
      "Finished epoch 61 of 1000; error is 213.0100178718567C:\\Users\\shubh\\My Drive\\MLDL\\stanfordXCS224U\\referenceRepo\\cs224u\\torch_color_describer.py:680: RuntimeWarning: divide by zero encountered in power\n",
      "  perp = [np.prod(s)**(-1/len(s)) for s in scores]\n",
      "Finished epoch 62 of 1000; error is 212.97752904891968C:\\Users\\shubh\\My Drive\\MLDL\\stanfordXCS224U\\referenceRepo\\cs224u\\torch_color_describer.py:680: RuntimeWarning: divide by zero encountered in power\n",
      "  perp = [np.prod(s)**(-1/len(s)) for s in scores]\n",
      "Finished epoch 63 of 1000; error is 212.88326978683472C:\\Users\\shubh\\My Drive\\MLDL\\stanfordXCS224U\\referenceRepo\\cs224u\\torch_color_describer.py:680: RuntimeWarning: divide by zero encountered in power\n",
      "  perp = [np.prod(s)**(-1/len(s)) for s in scores]\n",
      "Finished epoch 64 of 1000; error is 212.2548713684082C:\\Users\\shubh\\My Drive\\MLDL\\stanfordXCS224U\\referenceRepo\\cs224u\\torch_color_describer.py:680: RuntimeWarning: divide by zero encountered in power\n",
      "  perp = [np.prod(s)**(-1/len(s)) for s in scores]\n",
      "Finished epoch 65 of 1000; error is 212.35452318191528C:\\Users\\shubh\\My Drive\\MLDL\\stanfordXCS224U\\referenceRepo\\cs224u\\torch_color_describer.py:680: RuntimeWarning: divide by zero encountered in power\n",
      "  perp = [np.prod(s)**(-1/len(s)) for s in scores]\n",
      "Finished epoch 66 of 1000; error is 211.93426752090454C:\\Users\\shubh\\My Drive\\MLDL\\stanfordXCS224U\\referenceRepo\\cs224u\\torch_color_describer.py:680: RuntimeWarning: divide by zero encountered in power\n",
      "  perp = [np.prod(s)**(-1/len(s)) for s in scores]\n",
      "Finished epoch 67 of 1000; error is 212.35617399215698C:\\Users\\shubh\\My Drive\\MLDL\\stanfordXCS224U\\referenceRepo\\cs224u\\torch_color_describer.py:680: RuntimeWarning: divide by zero encountered in power\n",
      "  perp = [np.prod(s)**(-1/len(s)) for s in scores]\n",
      "Finished epoch 68 of 1000; error is 210.71661758422852C:\\Users\\shubh\\My Drive\\MLDL\\stanfordXCS224U\\referenceRepo\\cs224u\\torch_color_describer.py:680: RuntimeWarning: divide by zero encountered in power\n",
      "  perp = [np.prod(s)**(-1/len(s)) for s in scores]\n",
      "Finished epoch 69 of 1000; error is 211.98111867904663C:\\Users\\shubh\\My Drive\\MLDL\\stanfordXCS224U\\referenceRepo\\cs224u\\torch_color_describer.py:680: RuntimeWarning: divide by zero encountered in power\n",
      "  perp = [np.prod(s)**(-1/len(s)) for s in scores]\n",
      "Finished epoch 70 of 1000; error is 211.49037408828735C:\\Users\\shubh\\My Drive\\MLDL\\stanfordXCS224U\\referenceRepo\\cs224u\\torch_color_describer.py:680: RuntimeWarning: divide by zero encountered in power\n",
      "  perp = [np.prod(s)**(-1/len(s)) for s in scores]\n",
      "Finished epoch 71 of 1000; error is 211.5900263786316C:\\Users\\shubh\\My Drive\\MLDL\\stanfordXCS224U\\referenceRepo\\cs224u\\torch_color_describer.py:680: RuntimeWarning: divide by zero encountered in power\n",
      "  perp = [np.prod(s)**(-1/len(s)) for s in scores]\n",
      "Finished epoch 72 of 1000; error is 209.96414041519165C:\\Users\\shubh\\My Drive\\MLDL\\stanfordXCS224U\\referenceRepo\\cs224u\\torch_color_describer.py:680: RuntimeWarning: divide by zero encountered in power\n",
      "  perp = [np.prod(s)**(-1/len(s)) for s in scores]\n",
      "Finished epoch 73 of 1000; error is 210.67783212661743C:\\Users\\shubh\\My Drive\\MLDL\\stanfordXCS224U\\referenceRepo\\cs224u\\torch_color_describer.py:680: RuntimeWarning: divide by zero encountered in power\n",
      "  perp = [np.prod(s)**(-1/len(s)) for s in scores]\n",
      "Finished epoch 74 of 1000; error is 209.95112991333008C:\\Users\\shubh\\My Drive\\MLDL\\stanfordXCS224U\\referenceRepo\\cs224u\\torch_color_describer.py:680: RuntimeWarning: divide by zero encountered in power\n",
      "  perp = [np.prod(s)**(-1/len(s)) for s in scores]\n",
      "Finished epoch 75 of 1000; error is 209.7366075515747C:\\Users\\shubh\\My Drive\\MLDL\\stanfordXCS224U\\referenceRepo\\cs224u\\torch_color_describer.py:680: RuntimeWarning: divide by zero encountered in power\n",
      "  perp = [np.prod(s)**(-1/len(s)) for s in scores]\n",
      "Finished epoch 76 of 1000; error is 209.52215576171875C:\\Users\\shubh\\My Drive\\MLDL\\stanfordXCS224U\\referenceRepo\\cs224u\\torch_color_describer.py:680: RuntimeWarning: divide by zero encountered in power\n",
      "  perp = [np.prod(s)**(-1/len(s)) for s in scores]\n",
      "Finished epoch 77 of 1000; error is 210.2441349029541C:\\Users\\shubh\\My Drive\\MLDL\\stanfordXCS224U\\referenceRepo\\cs224u\\torch_color_describer.py:680: RuntimeWarning: divide by zero encountered in power\n",
      "  perp = [np.prod(s)**(-1/len(s)) for s in scores]\n",
      "Finished epoch 78 of 1000; error is 209.72472047805786C:\\Users\\shubh\\My Drive\\MLDL\\stanfordXCS224U\\referenceRepo\\cs224u\\torch_color_describer.py:680: RuntimeWarning: divide by zero encountered in power\n",
      "  perp = [np.prod(s)**(-1/len(s)) for s in scores]\n",
      "Finished epoch 79 of 1000; error is 209.08449792861938C:\\Users\\shubh\\My Drive\\MLDL\\stanfordXCS224U\\referenceRepo\\cs224u\\torch_color_describer.py:680: RuntimeWarning: divide by zero encountered in power\n",
      "  perp = [np.prod(s)**(-1/len(s)) for s in scores]\n",
      "Finished epoch 80 of 1000; error is 209.66743087768555C:\\Users\\shubh\\My Drive\\MLDL\\stanfordXCS224U\\referenceRepo\\cs224u\\torch_color_describer.py:680: RuntimeWarning: divide by zero encountered in power\n",
      "  perp = [np.prod(s)**(-1/len(s)) for s in scores]\n",
      "Finished epoch 81 of 1000; error is 208.8880615234375C:\\Users\\shubh\\My Drive\\MLDL\\stanfordXCS224U\\referenceRepo\\cs224u\\torch_color_describer.py:680: RuntimeWarning: divide by zero encountered in power\n",
      "  perp = [np.prod(s)**(-1/len(s)) for s in scores]\n",
      "Finished epoch 82 of 1000; error is 209.1543927192688C:\\Users\\shubh\\My Drive\\MLDL\\stanfordXCS224U\\referenceRepo\\cs224u\\torch_color_describer.py:680: RuntimeWarning: divide by zero encountered in power\n",
      "  perp = [np.prod(s)**(-1/len(s)) for s in scores]\n",
      "Finished epoch 83 of 1000; error is 207.76723384857178C:\\Users\\shubh\\My Drive\\MLDL\\stanfordXCS224U\\referenceRepo\\cs224u\\torch_color_describer.py:680: RuntimeWarning: divide by zero encountered in power\n",
      "  perp = [np.prod(s)**(-1/len(s)) for s in scores]\n",
      "Finished epoch 84 of 1000; error is 209.4002823829651C:\\Users\\shubh\\My Drive\\MLDL\\stanfordXCS224U\\referenceRepo\\cs224u\\torch_color_describer.py:680: RuntimeWarning: divide by zero encountered in power\n",
      "  perp = [np.prod(s)**(-1/len(s)) for s in scores]\n",
      "Finished epoch 85 of 1000; error is 208.02098846435547C:\\Users\\shubh\\My Drive\\MLDL\\stanfordXCS224U\\referenceRepo\\cs224u\\torch_color_describer.py:680: RuntimeWarning: divide by zero encountered in power\n",
      "  perp = [np.prod(s)**(-1/len(s)) for s in scores]\n",
      "Finished epoch 86 of 1000; error is 208.99093532562256C:\\Users\\shubh\\My Drive\\MLDL\\stanfordXCS224U\\referenceRepo\\cs224u\\torch_color_describer.py:680: RuntimeWarning: divide by zero encountered in power\n",
      "  perp = [np.prod(s)**(-1/len(s)) for s in scores]\n",
      "Finished epoch 87 of 1000; error is 208.03102207183838C:\\Users\\shubh\\My Drive\\MLDL\\stanfordXCS224U\\referenceRepo\\cs224u\\torch_color_describer.py:680: RuntimeWarning: divide by zero encountered in power\n",
      "  perp = [np.prod(s)**(-1/len(s)) for s in scores]\n",
      "Finished epoch 88 of 1000; error is 207.92146730422974C:\\Users\\shubh\\My Drive\\MLDL\\stanfordXCS224U\\referenceRepo\\cs224u\\torch_color_describer.py:680: RuntimeWarning: divide by zero encountered in power\n",
      "  perp = [np.prod(s)**(-1/len(s)) for s in scores]\n",
      "Finished epoch 89 of 1000; error is 208.40271854400635C:\\Users\\shubh\\My Drive\\MLDL\\stanfordXCS224U\\referenceRepo\\cs224u\\torch_color_describer.py:680: RuntimeWarning: divide by zero encountered in power\n",
      "  perp = [np.prod(s)**(-1/len(s)) for s in scores]\n",
      "Finished epoch 90 of 1000; error is 207.20056200027466C:\\Users\\shubh\\My Drive\\MLDL\\stanfordXCS224U\\referenceRepo\\cs224u\\torch_color_describer.py:680: RuntimeWarning: divide by zero encountered in power\n",
      "  perp = [np.prod(s)**(-1/len(s)) for s in scores]\n",
      "Finished epoch 91 of 1000; error is 207.23165655136108C:\\Users\\shubh\\My Drive\\MLDL\\stanfordXCS224U\\referenceRepo\\cs224u\\torch_color_describer.py:680: RuntimeWarning: divide by zero encountered in power\n",
      "  perp = [np.prod(s)**(-1/len(s)) for s in scores]\n",
      "Finished epoch 92 of 1000; error is 206.384663105011C:\\Users\\shubh\\My Drive\\MLDL\\stanfordXCS224U\\referenceRepo\\cs224u\\torch_color_describer.py:680: RuntimeWarning: divide by zero encountered in power\n",
      "  perp = [np.prod(s)**(-1/len(s)) for s in scores]\n",
      "Finished epoch 93 of 1000; error is 206.92937660217285C:\\Users\\shubh\\My Drive\\MLDL\\stanfordXCS224U\\referenceRepo\\cs224u\\torch_color_describer.py:680: RuntimeWarning: divide by zero encountered in power\n",
      "  perp = [np.prod(s)**(-1/len(s)) for s in scores]\n",
      "Finished epoch 94 of 1000; error is 206.91299629211426C:\\Users\\shubh\\My Drive\\MLDL\\stanfordXCS224U\\referenceRepo\\cs224u\\torch_color_describer.py:680: RuntimeWarning: divide by zero encountered in power\n",
      "  perp = [np.prod(s)**(-1/len(s)) for s in scores]\n",
      "Finished epoch 95 of 1000; error is 206.64148092269897C:\\Users\\shubh\\My Drive\\MLDL\\stanfordXCS224U\\referenceRepo\\cs224u\\torch_color_describer.py:680: RuntimeWarning: divide by zero encountered in power\n",
      "  perp = [np.prod(s)**(-1/len(s)) for s in scores]\n",
      "Finished epoch 96 of 1000; error is 205.6990146636963C:\\Users\\shubh\\My Drive\\MLDL\\stanfordXCS224U\\referenceRepo\\cs224u\\torch_color_describer.py:680: RuntimeWarning: divide by zero encountered in power\n",
      "  perp = [np.prod(s)**(-1/len(s)) for s in scores]\n",
      "Finished epoch 97 of 1000; error is 205.5372714996338C:\\Users\\shubh\\My Drive\\MLDL\\stanfordXCS224U\\referenceRepo\\cs224u\\torch_color_describer.py:680: RuntimeWarning: divide by zero encountered in power\n",
      "  perp = [np.prod(s)**(-1/len(s)) for s in scores]\n",
      "Finished epoch 98 of 1000; error is 205.3526096343994C:\\Users\\shubh\\My Drive\\MLDL\\stanfordXCS224U\\referenceRepo\\cs224u\\torch_color_describer.py:680: RuntimeWarning: divide by zero encountered in power\n",
      "  perp = [np.prod(s)**(-1/len(s)) for s in scores]\n",
      "Finished epoch 99 of 1000; error is 206.29073524475098C:\\Users\\shubh\\My Drive\\MLDL\\stanfordXCS224U\\referenceRepo\\cs224u\\torch_color_describer.py:680: RuntimeWarning: divide by zero encountered in power\n",
      "  perp = [np.prod(s)**(-1/len(s)) for s in scores]\n",
      "Finished epoch 100 of 1000; error is 205.00653648376465C:\\Users\\shubh\\My Drive\\MLDL\\stanfordXCS224U\\referenceRepo\\cs224u\\torch_color_describer.py:680: RuntimeWarning: divide by zero encountered in power\n",
      "  perp = [np.prod(s)**(-1/len(s)) for s in scores]\n",
      "Finished epoch 101 of 1000; error is 204.622220993042C:\\Users\\shubh\\My Drive\\MLDL\\stanfordXCS224U\\referenceRepo\\cs224u\\torch_color_describer.py:680: RuntimeWarning: divide by zero encountered in power\n",
      "  perp = [np.prod(s)**(-1/len(s)) for s in scores]\n",
      "Finished epoch 102 of 1000; error is 204.96453285217285C:\\Users\\shubh\\My Drive\\MLDL\\stanfordXCS224U\\referenceRepo\\cs224u\\torch_color_describer.py:680: RuntimeWarning: divide by zero encountered in power\n",
      "  perp = [np.prod(s)**(-1/len(s)) for s in scores]\n",
      "Finished epoch 103 of 1000; error is 204.70450448989868C:\\Users\\shubh\\My Drive\\MLDL\\stanfordXCS224U\\referenceRepo\\cs224u\\torch_color_describer.py:680: RuntimeWarning: divide by zero encountered in power\n",
      "  perp = [np.prod(s)**(-1/len(s)) for s in scores]\n",
      "Finished epoch 104 of 1000; error is 204.09814834594727C:\\Users\\shubh\\My Drive\\MLDL\\stanfordXCS224U\\referenceRepo\\cs224u\\torch_color_describer.py:680: RuntimeWarning: divide by zero encountered in power\n",
      "  perp = [np.prod(s)**(-1/len(s)) for s in scores]\n",
      "Finished epoch 105 of 1000; error is 204.6288046836853C:\\Users\\shubh\\My Drive\\MLDL\\stanfordXCS224U\\referenceRepo\\cs224u\\torch_color_describer.py:680: RuntimeWarning: divide by zero encountered in power\n",
      "  perp = [np.prod(s)**(-1/len(s)) for s in scores]\n",
      "Finished epoch 106 of 1000; error is 204.39370250701904C:\\Users\\shubh\\My Drive\\MLDL\\stanfordXCS224U\\referenceRepo\\cs224u\\torch_color_describer.py:680: RuntimeWarning: divide by zero encountered in power\n",
      "  perp = [np.prod(s)**(-1/len(s)) for s in scores]\n",
      "Finished epoch 107 of 1000; error is 203.8391342163086C:\\Users\\shubh\\My Drive\\MLDL\\stanfordXCS224U\\referenceRepo\\cs224u\\torch_color_describer.py:680: RuntimeWarning: divide by zero encountered in power\n",
      "  perp = [np.prod(s)**(-1/len(s)) for s in scores]\n",
      "Finished epoch 108 of 1000; error is 203.79578495025635C:\\Users\\shubh\\My Drive\\MLDL\\stanfordXCS224U\\referenceRepo\\cs224u\\torch_color_describer.py:680: RuntimeWarning: divide by zero encountered in power\n",
      "  perp = [np.prod(s)**(-1/len(s)) for s in scores]\n",
      "Finished epoch 109 of 1000; error is 204.34174346923828C:\\Users\\shubh\\My Drive\\MLDL\\stanfordXCS224U\\referenceRepo\\cs224u\\torch_color_describer.py:680: RuntimeWarning: divide by zero encountered in power\n",
      "  perp = [np.prod(s)**(-1/len(s)) for s in scores]\n",
      "Finished epoch 110 of 1000; error is 202.98944425582886C:\\Users\\shubh\\My Drive\\MLDL\\stanfordXCS224U\\referenceRepo\\cs224u\\torch_color_describer.py:680: RuntimeWarning: divide by zero encountered in power\n",
      "  perp = [np.prod(s)**(-1/len(s)) for s in scores]\n",
      "Finished epoch 111 of 1000; error is 203.3157081604004C:\\Users\\shubh\\My Drive\\MLDL\\stanfordXCS224U\\referenceRepo\\cs224u\\torch_color_describer.py:680: RuntimeWarning: divide by zero encountered in power\n",
      "  perp = [np.prod(s)**(-1/len(s)) for s in scores]\n",
      "Finished epoch 112 of 1000; error is 202.9831199645996C:\\Users\\shubh\\My Drive\\MLDL\\stanfordXCS224U\\referenceRepo\\cs224u\\torch_color_describer.py:680: RuntimeWarning: divide by zero encountered in power\n",
      "  perp = [np.prod(s)**(-1/len(s)) for s in scores]\n",
      "Finished epoch 113 of 1000; error is 203.50159692764282C:\\Users\\shubh\\My Drive\\MLDL\\stanfordXCS224U\\referenceRepo\\cs224u\\torch_color_describer.py:680: RuntimeWarning: divide by zero encountered in power\n",
      "  perp = [np.prod(s)**(-1/len(s)) for s in scores]\n",
      "Finished epoch 114 of 1000; error is 203.3789496421814C:\\Users\\shubh\\My Drive\\MLDL\\stanfordXCS224U\\referenceRepo\\cs224u\\torch_color_describer.py:680: RuntimeWarning: divide by zero encountered in power\n",
      "  perp = [np.prod(s)**(-1/len(s)) for s in scores]\n",
      "Finished epoch 115 of 1000; error is 201.7985978126526C:\\Users\\shubh\\My Drive\\MLDL\\stanfordXCS224U\\referenceRepo\\cs224u\\torch_color_describer.py:680: RuntimeWarning: divide by zero encountered in power\n",
      "  perp = [np.prod(s)**(-1/len(s)) for s in scores]\n",
      "Finished epoch 116 of 1000; error is 203.1569995880127C:\\Users\\shubh\\My Drive\\MLDL\\stanfordXCS224U\\referenceRepo\\cs224u\\torch_color_describer.py:680: RuntimeWarning: divide by zero encountered in power\n",
      "  perp = [np.prod(s)**(-1/len(s)) for s in scores]\n",
      "Finished epoch 117 of 1000; error is 201.7786159515381C:\\Users\\shubh\\My Drive\\MLDL\\stanfordXCS224U\\referenceRepo\\cs224u\\torch_color_describer.py:680: RuntimeWarning: divide by zero encountered in power\n",
      "  perp = [np.prod(s)**(-1/len(s)) for s in scores]\n",
      "Stopping after epoch 118. Validation score did not improve by tol=1e-05 for more than 10 epochs. Final error is 202.99960470199585"
     ]
    },
    {
     "name": "stdout",
     "output_type": "stream",
     "text": [
      "Wall time: 28min 36s\n"
     ]
    },
    {
     "name": "stderr",
     "output_type": "stream",
     "text": [
      "C:\\Users\\shubh\\My Drive\\MLDL\\stanfordXCS224U\\referenceRepo\\cs224u\\torch_color_describer.py:680: RuntimeWarning: divide by zero encountered in power\n",
      "  perp = [np.prod(s)**(-1/len(s)) for s in scores]\n"
     ]
    },
    {
     "name": "stdout",
     "output_type": "stream",
     "text": [
      "listener_accuracy:\n",
      " 0.8416035407268704\n",
      "bleu:\n",
      " 0.4567892800648781\n"
     ]
    }
   ],
   "source": [
    "# testing the performance of BERT embeddings in the decoder\n",
    "if 'IS_GRADESCOPE_ENV' not in os.environ:\n",
    "    full_bert_embedding_mod = ContextualColorDescriber(\n",
    "        full_train_bert_vocab,\n",
    "        embedding=full_train_bert_embedding,\n",
    "        hidden_dim=512,\n",
    "        early_stopping=True)\n",
    "\n",
    "    %time _ = full_bert_embedding_mod.fit(full_cols_train, full_seqs_train)\n",
    "\n",
    "    print(\"listener_accuracy:\\n\", full_bert_embedding_mod.listener_accuracy(full_cols_test, full_seqs_test))\n",
    "    print(\"bleu:\\n\", full_bert_embedding_mod.corpus_bleu(full_cols_test, full_seqs_test)[0])"
   ],
   "metadata": {
    "collapsed": false,
    "pycharm": {
     "name": "#%%\n"
    }
   }
  },
  {
   "cell_type": "markdown",
   "source": [
    "Default model performance,\n",
    "listener_accuracy: 0.8288, bleu: 0.472:\n",
    "\\+ hidden_dim 256, listener_accuracy: 0.8453, bleu: 0.438\n",
    "**_+ hidden_dim 512, 0.850, 0.447 (accuracy reduces for a greater value of 728)_**\n",
    "in all of them eta stays 0.001 (default)"
   ],
   "metadata": {
    "collapsed": false
   }
  },
  {
   "cell_type": "markdown",
   "source": [
    "### 3. BERT on color input Model"
   ],
   "metadata": {
    "collapsed": false
   }
  },
  {
   "cell_type": "code",
   "execution_count": 219,
   "outputs": [
    {
     "name": "stderr",
     "output_type": "stream",
     "text": [
      "C:\\Users\\shubh\\My Drive\\MLDL\\stanfordXCS224U\\referenceRepo\\cs224u\\torch_color_describer.py:680: RuntimeWarning: divide by zero encountered in power\n",
      "  perp = [np.prod(s)**(-1/len(s)) for s in scores]\n",
      "Finished epoch 1 of 1000; error is 230.8593201637268C:\\Users\\shubh\\My Drive\\MLDL\\stanfordXCS224U\\referenceRepo\\cs224u\\torch_color_describer.py:680: RuntimeWarning: divide by zero encountered in power\n",
      "  perp = [np.prod(s)**(-1/len(s)) for s in scores]\n",
      "Finished epoch 2 of 1000; error is 224.2730312347412C:\\Users\\shubh\\My Drive\\MLDL\\stanfordXCS224U\\referenceRepo\\cs224u\\torch_color_describer.py:680: RuntimeWarning: divide by zero encountered in power\n",
      "  perp = [np.prod(s)**(-1/len(s)) for s in scores]\n",
      "Finished epoch 3 of 1000; error is 221.5634298324585C:\\Users\\shubh\\My Drive\\MLDL\\stanfordXCS224U\\referenceRepo\\cs224u\\torch_color_describer.py:680: RuntimeWarning: divide by zero encountered in power\n",
      "  perp = [np.prod(s)**(-1/len(s)) for s in scores]\n",
      "Finished epoch 4 of 1000; error is 218.8615894317627C:\\Users\\shubh\\My Drive\\MLDL\\stanfordXCS224U\\referenceRepo\\cs224u\\torch_color_describer.py:680: RuntimeWarning: divide by zero encountered in power\n",
      "  perp = [np.prod(s)**(-1/len(s)) for s in scores]\n",
      "Finished epoch 5 of 1000; error is 215.5493779182434C:\\Users\\shubh\\My Drive\\MLDL\\stanfordXCS224U\\referenceRepo\\cs224u\\torch_color_describer.py:680: RuntimeWarning: divide by zero encountered in power\n",
      "  perp = [np.prod(s)**(-1/len(s)) for s in scores]\n",
      "Finished epoch 6 of 1000; error is 214.4679412841797C:\\Users\\shubh\\My Drive\\MLDL\\stanfordXCS224U\\referenceRepo\\cs224u\\torch_color_describer.py:680: RuntimeWarning: divide by zero encountered in power\n",
      "  perp = [np.prod(s)**(-1/len(s)) for s in scores]\n",
      "Finished epoch 7 of 1000; error is 212.89802360534668C:\\Users\\shubh\\My Drive\\MLDL\\stanfordXCS224U\\referenceRepo\\cs224u\\torch_color_describer.py:680: RuntimeWarning: divide by zero encountered in power\n",
      "  perp = [np.prod(s)**(-1/len(s)) for s in scores]\n",
      "Finished epoch 8 of 1000; error is 210.56707668304443C:\\Users\\shubh\\My Drive\\MLDL\\stanfordXCS224U\\referenceRepo\\cs224u\\torch_color_describer.py:680: RuntimeWarning: divide by zero encountered in power\n",
      "  perp = [np.prod(s)**(-1/len(s)) for s in scores]\n",
      "Finished epoch 9 of 1000; error is 207.99475383758545C:\\Users\\shubh\\My Drive\\MLDL\\stanfordXCS224U\\referenceRepo\\cs224u\\torch_color_describer.py:680: RuntimeWarning: divide by zero encountered in power\n",
      "  perp = [np.prod(s)**(-1/len(s)) for s in scores]\n",
      "Finished epoch 10 of 1000; error is 206.3732132911682C:\\Users\\shubh\\My Drive\\MLDL\\stanfordXCS224U\\referenceRepo\\cs224u\\torch_color_describer.py:680: RuntimeWarning: divide by zero encountered in power\n",
      "  perp = [np.prod(s)**(-1/len(s)) for s in scores]\n",
      "Finished epoch 11 of 1000; error is 204.6924729347229C:\\Users\\shubh\\My Drive\\MLDL\\stanfordXCS224U\\referenceRepo\\cs224u\\torch_color_describer.py:680: RuntimeWarning: divide by zero encountered in power\n",
      "  perp = [np.prod(s)**(-1/len(s)) for s in scores]\n",
      "Finished epoch 12 of 1000; error is 203.5314826965332C:\\Users\\shubh\\My Drive\\MLDL\\stanfordXCS224U\\referenceRepo\\cs224u\\torch_color_describer.py:680: RuntimeWarning: divide by zero encountered in power\n",
      "  perp = [np.prod(s)**(-1/len(s)) for s in scores]\n",
      "Finished epoch 13 of 1000; error is 200.70365715026855C:\\Users\\shubh\\My Drive\\MLDL\\stanfordXCS224U\\referenceRepo\\cs224u\\torch_color_describer.py:680: RuntimeWarning: divide by zero encountered in power\n",
      "  perp = [np.prod(s)**(-1/len(s)) for s in scores]\n",
      "Finished epoch 14 of 1000; error is 199.75618648529053C:\\Users\\shubh\\My Drive\\MLDL\\stanfordXCS224U\\referenceRepo\\cs224u\\torch_color_describer.py:680: RuntimeWarning: divide by zero encountered in power\n",
      "  perp = [np.prod(s)**(-1/len(s)) for s in scores]\n",
      "Finished epoch 15 of 1000; error is 197.2570948600769C:\\Users\\shubh\\My Drive\\MLDL\\stanfordXCS224U\\referenceRepo\\cs224u\\torch_color_describer.py:680: RuntimeWarning: divide by zero encountered in power\n",
      "  perp = [np.prod(s)**(-1/len(s)) for s in scores]\n",
      "Finished epoch 16 of 1000; error is 195.97093391418457C:\\Users\\shubh\\My Drive\\MLDL\\stanfordXCS224U\\referenceRepo\\cs224u\\torch_color_describer.py:680: RuntimeWarning: divide by zero encountered in power\n",
      "  perp = [np.prod(s)**(-1/len(s)) for s in scores]\n",
      "Finished epoch 17 of 1000; error is 194.7119107246399C:\\Users\\shubh\\My Drive\\MLDL\\stanfordXCS224U\\referenceRepo\\cs224u\\torch_color_describer.py:680: RuntimeWarning: divide by zero encountered in power\n",
      "  perp = [np.prod(s)**(-1/len(s)) for s in scores]\n",
      "Finished epoch 18 of 1000; error is 192.30882024765015C:\\Users\\shubh\\My Drive\\MLDL\\stanfordXCS224U\\referenceRepo\\cs224u\\torch_color_describer.py:680: RuntimeWarning: divide by zero encountered in power\n",
      "  perp = [np.prod(s)**(-1/len(s)) for s in scores]\n",
      "Finished epoch 19 of 1000; error is 190.59704875946045C:\\Users\\shubh\\My Drive\\MLDL\\stanfordXCS224U\\referenceRepo\\cs224u\\torch_color_describer.py:680: RuntimeWarning: divide by zero encountered in power\n",
      "  perp = [np.prod(s)**(-1/len(s)) for s in scores]\n",
      "Finished epoch 20 of 1000; error is 188.2885227203369C:\\Users\\shubh\\My Drive\\MLDL\\stanfordXCS224U\\referenceRepo\\cs224u\\torch_color_describer.py:680: RuntimeWarning: divide by zero encountered in power\n",
      "  perp = [np.prod(s)**(-1/len(s)) for s in scores]\n",
      "Finished epoch 21 of 1000; error is 187.7458324432373C:\\Users\\shubh\\My Drive\\MLDL\\stanfordXCS224U\\referenceRepo\\cs224u\\torch_color_describer.py:680: RuntimeWarning: divide by zero encountered in power\n",
      "  perp = [np.prod(s)**(-1/len(s)) for s in scores]\n",
      "Finished epoch 22 of 1000; error is 185.50595808029175C:\\Users\\shubh\\My Drive\\MLDL\\stanfordXCS224U\\referenceRepo\\cs224u\\torch_color_describer.py:680: RuntimeWarning: divide by zero encountered in power\n",
      "  perp = [np.prod(s)**(-1/len(s)) for s in scores]\n",
      "Finished epoch 23 of 1000; error is 183.6443214416504C:\\Users\\shubh\\My Drive\\MLDL\\stanfordXCS224U\\referenceRepo\\cs224u\\torch_color_describer.py:680: RuntimeWarning: divide by zero encountered in power\n",
      "  perp = [np.prod(s)**(-1/len(s)) for s in scores]\n",
      "Finished epoch 24 of 1000; error is 181.63403749465942C:\\Users\\shubh\\My Drive\\MLDL\\stanfordXCS224U\\referenceRepo\\cs224u\\torch_color_describer.py:680: RuntimeWarning: divide by zero encountered in power\n",
      "  perp = [np.prod(s)**(-1/len(s)) for s in scores]\n",
      "Finished epoch 25 of 1000; error is 180.2041530609131C:\\Users\\shubh\\My Drive\\MLDL\\stanfordXCS224U\\referenceRepo\\cs224u\\torch_color_describer.py:680: RuntimeWarning: divide by zero encountered in power\n",
      "  perp = [np.prod(s)**(-1/len(s)) for s in scores]\n",
      "Finished epoch 26 of 1000; error is 178.22089767456055C:\\Users\\shubh\\My Drive\\MLDL\\stanfordXCS224U\\referenceRepo\\cs224u\\torch_color_describer.py:680: RuntimeWarning: divide by zero encountered in power\n",
      "  perp = [np.prod(s)**(-1/len(s)) for s in scores]\n",
      "Finished epoch 27 of 1000; error is 176.42380332946777C:\\Users\\shubh\\My Drive\\MLDL\\stanfordXCS224U\\referenceRepo\\cs224u\\torch_color_describer.py:680: RuntimeWarning: divide by zero encountered in power\n",
      "  perp = [np.prod(s)**(-1/len(s)) for s in scores]\n",
      "Finished epoch 28 of 1000; error is 174.52480220794678C:\\Users\\shubh\\My Drive\\MLDL\\stanfordXCS224U\\referenceRepo\\cs224u\\torch_color_describer.py:680: RuntimeWarning: divide by zero encountered in power\n",
      "  perp = [np.prod(s)**(-1/len(s)) for s in scores]\n",
      "Finished epoch 29 of 1000; error is 173.51950407028198C:\\Users\\shubh\\My Drive\\MLDL\\stanfordXCS224U\\referenceRepo\\cs224u\\torch_color_describer.py:680: RuntimeWarning: divide by zero encountered in power\n",
      "  perp = [np.prod(s)**(-1/len(s)) for s in scores]\n",
      "Finished epoch 30 of 1000; error is 171.8250184059143C:\\Users\\shubh\\My Drive\\MLDL\\stanfordXCS224U\\referenceRepo\\cs224u\\torch_color_describer.py:680: RuntimeWarning: divide by zero encountered in power\n",
      "  perp = [np.prod(s)**(-1/len(s)) for s in scores]\n",
      "Finished epoch 31 of 1000; error is 170.17316579818726C:\\Users\\shubh\\My Drive\\MLDL\\stanfordXCS224U\\referenceRepo\\cs224u\\torch_color_describer.py:680: RuntimeWarning: divide by zero encountered in power\n",
      "  perp = [np.prod(s)**(-1/len(s)) for s in scores]\n",
      "Finished epoch 32 of 1000; error is 167.68204069137573C:\\Users\\shubh\\My Drive\\MLDL\\stanfordXCS224U\\referenceRepo\\cs224u\\torch_color_describer.py:680: RuntimeWarning: divide by zero encountered in power\n",
      "  perp = [np.prod(s)**(-1/len(s)) for s in scores]\n",
      "Finished epoch 33 of 1000; error is 166.29423761367798C:\\Users\\shubh\\My Drive\\MLDL\\stanfordXCS224U\\referenceRepo\\cs224u\\torch_color_describer.py:680: RuntimeWarning: divide by zero encountered in power\n",
      "  perp = [np.prod(s)**(-1/len(s)) for s in scores]\n",
      "Stopping after epoch 34. Validation score did not improve by tol=1e-05 for more than 10 epochs. Final error is 163.81444120407104C:\\Users\\shubh\\My Drive\\MLDL\\stanfordXCS224U\\referenceRepo\\cs224u\\torch_color_describer.py:680: RuntimeWarning: divide by zero encountered in power\n",
      "  perp = [np.prod(s)**(-1/len(s)) for s in scores]\n"
     ]
    },
    {
     "name": "stdout",
     "output_type": "stream",
     "text": [
      "listener_accuracy:\n",
      " 0.847731721848668\n",
      "bleu:\n",
      " 0.4712743075321529\n"
     ]
    }
   ],
   "source": [
    "# trying this model to get a ballpark for its performance\n",
    "if 'IS_GRADESCOPE_ENV' not in os.environ:\n",
    "    full_bert_embedding_color_input_mod = ColorizedInputDescriber(\n",
    "        full_train_bert_vocab,\n",
    "        embedding=full_train_bert_embedding,\n",
    "        hidden_dim=256,\n",
    "        early_stopping=True)\n",
    "\n",
    "    _ = full_bert_embedding_color_input_mod.fit(full_cols_train, full_seqs_train)\n",
    "\n",
    "    print(\"listener_accuracy:\\n\", full_bert_embedding_color_input_mod.listener_accuracy(full_cols_test, full_seqs_test))\n",
    "    print(\"bleu:\\n\", full_bert_embedding_color_input_mod.corpus_bleu(full_cols_test, full_seqs_test)[0])"
   ],
   "metadata": {
    "collapsed": false,
    "pycharm": {
     "name": "#%%\n"
    }
   }
  },
  {
   "cell_type": "markdown",
   "source": [
    "Scores:\n",
    "default +hidden_dim = 512, listener_accuracy: 0.845, bleu: 0.451\n",
    "\\+ hidden_dim = 256, 0.849, 0.453 (score reduces for <256 hidden_dim)"
   ],
   "metadata": {
    "collapsed": false
   }
  },
  {
   "cell_type": "markdown",
   "source": [
    "### 4. Custom Encoder-Decoder Model (Experimental, encoder_hidden_dim always equals decoder_hidden_dim)"
   ],
   "metadata": {
    "collapsed": false
   }
  },
  {
   "cell_type": "code",
   "execution_count": 393,
   "outputs": [],
   "source": [
    "if 'IS_GRADESCOPE_ENV' not in os.environ:\n",
    "\n",
    "    class ExpColorContextDecoder(ColorContextDecoder):\n",
    "        def __init__(self, *args, **kwargs):\n",
    "            super().__init__(*args, **kwargs)\n",
    "\n",
    "            self.rnn = nn.LSTM(\n",
    "                input_size=self.embed_dim + self.color_dim,\n",
    "                hidden_size=self.hidden_dim,\n",
    "                num_layers=2,\n",
    "                batch_first=True,\n",
    "                dropout=0.8,\n",
    "                bidirectional=False\n",
    "            )\n",
    "            self.output_layer = nn.Linear((int(self.rnn.bidirectional) + 1) * self.hidden_dim, self.vocab_size)\n",
    "\n",
    "    class ExpEncoder(Encoder):\n",
    "        def __init__(self, *args, **kwargs):\n",
    "            super().__init__(*args, **kwargs)\n",
    "\n",
    "            self.rnn = nn.LSTM(\n",
    "                input_size=self.color_dim,\n",
    "                hidden_size=self.hidden_dim,\n",
    "                num_layers=2,\n",
    "                batch_first=True,\n",
    "                dropout=0.8,\n",
    "                bidirectional=False\n",
    "            )\n",
    "\n",
    "    class ExpColorizedEncoderDecoder(ColorizedEncoderDecoder):\n",
    "        def __init__(self, *args, **kwargs):\n",
    "            super().__init__(*args, **kwargs)\n",
    "\n",
    "        def forward(self,\n",
    "            color_seqs,\n",
    "            word_seqs,\n",
    "            seq_lengths=None,\n",
    "            hidden=None,\n",
    "            targets=None):\n",
    "\n",
    "            if hidden is None:\n",
    "                hidden = self.encoder(color_seqs)\n",
    "\n",
    "            # color_seqs -> (m, 3, color_dim)\n",
    "            target_color_seq = color_seqs[:, 2, :] # -> (m, 1, color_dim)\n",
    "            target_color_seq = torch.squeeze(target_color_seq, dim=1) # -> (m, color_dim)\n",
    "\n",
    "            output, hidden = self.decoder(\n",
    "                word_seqs, seq_lengths=seq_lengths, hidden=hidden, target_colors=target_color_seq)\n",
    "\n",
    "            if self.training:\n",
    "                return output\n",
    "            else:\n",
    "                return output, hidden\n",
    "\n",
    "\n",
    "    class ExpColorizedInputDescriber(ColorizedInputDescriber):\n",
    "        def __init__(self, encoder_hidden_dim=50, decoder_hidden_dim=50, *args, **kwargs):\n",
    "            super().__init__(*args, **kwargs)\n",
    "            self.encoder_hidden_dim = encoder_hidden_dim\n",
    "            self.decoder_hidden_dim = decoder_hidden_dim\n",
    "\n",
    "            # to easily find if self.hidden_dim is being used elsewhere\n",
    "            self.hidden_dim = 0\n",
    "            self.params += ['encoder_hidden_dim', 'decoder_hidden_dim']\n",
    "\n",
    "        def build_graph(self):\n",
    "            encoder = ExpEncoder(\n",
    "                color_dim=self.color_dim,\n",
    "                hidden_dim=self.encoder_hidden_dim\n",
    "            )\n",
    "\n",
    "            decoder = ExpColorContextDecoder(\n",
    "                color_dim=self.color_dim,\n",
    "                vocab_size=self.vocab_size,\n",
    "                embed_dim=self.embed_dim,\n",
    "                embedding=self.embedding,\n",
    "                hidden_dim=self.decoder_hidden_dim,\n",
    "                freeze_embedding=self.freeze_embedding\n",
    "            )\n",
    "\n",
    "            return ExpColorizedEncoderDecoder(encoder, decoder)\n"
   ],
   "metadata": {
    "collapsed": false,
    "pycharm": {
     "name": "#%%\n"
    }
   }
  },
  {
   "cell_type": "code",
   "execution_count": 484,
   "outputs": [],
   "source": [
    "if 'IS_GRADESCOPE_ENV' not in os.environ:\n",
    "\n",
    "    def test_exp_full_system(describer_class):\n",
    "        toy_color_seqs, toy_word_seqs, toy_vocab = create_example_dataset(\n",
    "            group_size=50, vec_dim=2)\n",
    "\n",
    "        toy_color_seqs_train, toy_color_seqs_test, toy_word_seqs_train, toy_word_seqs_test = \\\n",
    "            train_test_split(toy_color_seqs, toy_word_seqs)\n",
    "\n",
    "        toy_mod = describer_class(vocab=toy_vocab, encoder_hidden_dim=32, decoder_hidden_dim=256)\n",
    "\n",
    "        _ = toy_mod.fit(toy_color_seqs_train, toy_word_seqs_train)\n",
    "\n",
    "        acc = toy_mod.listener_accuracy(toy_color_seqs_test, toy_word_seqs_test)\n",
    "\n",
    "        return acc\n",
    "\n",
    "    # print(\"Test result:\\n\", test_exp_full_system(ExpColorizedInputDescriber))"
   ],
   "metadata": {
    "collapsed": false,
    "pycharm": {
     "name": "#%%\n"
    }
   }
  },
  {
   "cell_type": "code",
   "execution_count": 395,
   "outputs": [
    {
     "name": "stderr",
     "output_type": "stream",
     "text": [
      "C:\\Users\\shubh\\My Drive\\MLDL\\stanfordXCS224U\\referenceRepo\\cs224u\\torch_color_describer.py:680: RuntimeWarning: divide by zero encountered in power\n",
      "  for t, w in zip(pred, seq)])\n",
      "Finished epoch 1 of 1000; error is 234.21513175964355C:\\Users\\shubh\\My Drive\\MLDL\\stanfordXCS224U\\referenceRepo\\cs224u\\torch_color_describer.py:680: RuntimeWarning: divide by zero encountered in power\n",
      "  for t, w in zip(pred, seq)])\n",
      "Finished epoch 2 of 1000; error is 227.30474615097046C:\\Users\\shubh\\My Drive\\MLDL\\stanfordXCS224U\\referenceRepo\\cs224u\\torch_color_describer.py:680: RuntimeWarning: divide by zero encountered in power\n",
      "  for t, w in zip(pred, seq)])\n",
      "Finished epoch 3 of 1000; error is 224.15809869766235C:\\Users\\shubh\\My Drive\\MLDL\\stanfordXCS224U\\referenceRepo\\cs224u\\torch_color_describer.py:680: RuntimeWarning: divide by zero encountered in power\n",
      "  for t, w in zip(pred, seq)])\n",
      "Finished epoch 4 of 1000; error is 222.27075242996216C:\\Users\\shubh\\My Drive\\MLDL\\stanfordXCS224U\\referenceRepo\\cs224u\\torch_color_describer.py:680: RuntimeWarning: divide by zero encountered in power\n",
      "  for t, w in zip(pred, seq)])\n",
      "Finished epoch 5 of 1000; error is 220.34591960906982C:\\Users\\shubh\\My Drive\\MLDL\\stanfordXCS224U\\referenceRepo\\cs224u\\torch_color_describer.py:680: RuntimeWarning: divide by zero encountered in power\n",
      "  for t, w in zip(pred, seq)])\n",
      "Finished epoch 6 of 1000; error is 218.45796585083008C:\\Users\\shubh\\My Drive\\MLDL\\stanfordXCS224U\\referenceRepo\\cs224u\\torch_color_describer.py:680: RuntimeWarning: divide by zero encountered in power\n",
      "  for t, w in zip(pred, seq)])\n",
      "Finished epoch 7 of 1000; error is 216.37163305282593C:\\Users\\shubh\\My Drive\\MLDL\\stanfordXCS224U\\referenceRepo\\cs224u\\torch_color_describer.py:680: RuntimeWarning: divide by zero encountered in power\n",
      "  for t, w in zip(pred, seq)])\n",
      "Finished epoch 8 of 1000; error is 213.78180074691772C:\\Users\\shubh\\My Drive\\MLDL\\stanfordXCS224U\\referenceRepo\\cs224u\\torch_color_describer.py:680: RuntimeWarning: divide by zero encountered in power\n",
      "  for t, w in zip(pred, seq)])\n",
      "Finished epoch 9 of 1000; error is 211.62232494354248C:\\Users\\shubh\\My Drive\\MLDL\\stanfordXCS224U\\referenceRepo\\cs224u\\torch_color_describer.py:680: RuntimeWarning: divide by zero encountered in power\n",
      "  for t, w in zip(pred, seq)])\n",
      "Finished epoch 10 of 1000; error is 209.64034938812256C:\\Users\\shubh\\My Drive\\MLDL\\stanfordXCS224U\\referenceRepo\\cs224u\\torch_color_describer.py:680: RuntimeWarning: divide by zero encountered in power\n",
      "  for t, w in zip(pred, seq)])\n",
      "Finished epoch 11 of 1000; error is 207.6005415916443C:\\Users\\shubh\\My Drive\\MLDL\\stanfordXCS224U\\referenceRepo\\cs224u\\torch_color_describer.py:680: RuntimeWarning: divide by zero encountered in power\n",
      "  for t, w in zip(pred, seq)])\n",
      "Finished epoch 12 of 1000; error is 205.80577945709229C:\\Users\\shubh\\My Drive\\MLDL\\stanfordXCS224U\\referenceRepo\\cs224u\\torch_color_describer.py:680: RuntimeWarning: divide by zero encountered in power\n",
      "  for t, w in zip(pred, seq)])\n",
      "Finished epoch 13 of 1000; error is 202.73120641708374C:\\Users\\shubh\\My Drive\\MLDL\\stanfordXCS224U\\referenceRepo\\cs224u\\torch_color_describer.py:680: RuntimeWarning: divide by zero encountered in power\n",
      "  for t, w in zip(pred, seq)])\n",
      "Finished epoch 14 of 1000; error is 202.1137318611145C:\\Users\\shubh\\My Drive\\MLDL\\stanfordXCS224U\\referenceRepo\\cs224u\\torch_color_describer.py:680: RuntimeWarning: divide by zero encountered in power\n",
      "  for t, w in zip(pred, seq)])\n",
      "Finished epoch 15 of 1000; error is 199.28825664520264C:\\Users\\shubh\\My Drive\\MLDL\\stanfordXCS224U\\referenceRepo\\cs224u\\torch_color_describer.py:680: RuntimeWarning: divide by zero encountered in power\n",
      "  for t, w in zip(pred, seq)])\n",
      "Finished epoch 16 of 1000; error is 198.55329608917236C:\\Users\\shubh\\My Drive\\MLDL\\stanfordXCS224U\\referenceRepo\\cs224u\\torch_color_describer.py:680: RuntimeWarning: divide by zero encountered in power\n",
      "  for t, w in zip(pred, seq)])\n",
      "Finished epoch 17 of 1000; error is 196.42627811431885C:\\Users\\shubh\\My Drive\\MLDL\\stanfordXCS224U\\referenceRepo\\cs224u\\torch_color_describer.py:680: RuntimeWarning: divide by zero encountered in power\n",
      "  for t, w in zip(pred, seq)])\n",
      "Finished epoch 18 of 1000; error is 194.81564903259277C:\\Users\\shubh\\My Drive\\MLDL\\stanfordXCS224U\\referenceRepo\\cs224u\\torch_color_describer.py:680: RuntimeWarning: divide by zero encountered in power\n",
      "  for t, w in zip(pred, seq)])\n",
      "Finished epoch 19 of 1000; error is 193.52891540527344C:\\Users\\shubh\\My Drive\\MLDL\\stanfordXCS224U\\referenceRepo\\cs224u\\torch_color_describer.py:680: RuntimeWarning: divide by zero encountered in power\n",
      "  for t, w in zip(pred, seq)])\n",
      "Finished epoch 20 of 1000; error is 190.96646070480347C:\\Users\\shubh\\My Drive\\MLDL\\stanfordXCS224U\\referenceRepo\\cs224u\\torch_color_describer.py:680: RuntimeWarning: divide by zero encountered in power\n",
      "  for t, w in zip(pred, seq)])\n",
      "Finished epoch 21 of 1000; error is 189.86120510101318C:\\Users\\shubh\\My Drive\\MLDL\\stanfordXCS224U\\referenceRepo\\cs224u\\torch_color_describer.py:680: RuntimeWarning: divide by zero encountered in power\n",
      "  for t, w in zip(pred, seq)])\n",
      "Finished epoch 22 of 1000; error is 188.09445524215698C:\\Users\\shubh\\My Drive\\MLDL\\stanfordXCS224U\\referenceRepo\\cs224u\\torch_color_describer.py:680: RuntimeWarning: divide by zero encountered in power\n",
      "  for t, w in zip(pred, seq)])\n",
      "Finished epoch 23 of 1000; error is 186.22433614730835C:\\Users\\shubh\\My Drive\\MLDL\\stanfordXCS224U\\referenceRepo\\cs224u\\torch_color_describer.py:680: RuntimeWarning: divide by zero encountered in power\n",
      "  for t, w in zip(pred, seq)])\n",
      "Finished epoch 24 of 1000; error is 183.8938627243042C:\\Users\\shubh\\My Drive\\MLDL\\stanfordXCS224U\\referenceRepo\\cs224u\\torch_color_describer.py:680: RuntimeWarning: divide by zero encountered in power\n",
      "  for t, w in zip(pred, seq)])\n",
      "Finished epoch 25 of 1000; error is 182.78453636169434C:\\Users\\shubh\\My Drive\\MLDL\\stanfordXCS224U\\referenceRepo\\cs224u\\torch_color_describer.py:680: RuntimeWarning: divide by zero encountered in power\n",
      "  for t, w in zip(pred, seq)])\n",
      "Finished epoch 26 of 1000; error is 181.44719171524048C:\\Users\\shubh\\My Drive\\MLDL\\stanfordXCS224U\\referenceRepo\\cs224u\\torch_color_describer.py:680: RuntimeWarning: divide by zero encountered in power\n",
      "  for t, w in zip(pred, seq)])\n",
      "Finished epoch 27 of 1000; error is 179.20795583724976C:\\Users\\shubh\\My Drive\\MLDL\\stanfordXCS224U\\referenceRepo\\cs224u\\torch_color_describer.py:680: RuntimeWarning: divide by zero encountered in power\n",
      "  for t, w in zip(pred, seq)])\n",
      "Finished epoch 28 of 1000; error is 177.7373127937317C:\\Users\\shubh\\My Drive\\MLDL\\stanfordXCS224U\\referenceRepo\\cs224u\\torch_color_describer.py:680: RuntimeWarning: divide by zero encountered in power\n",
      "  for t, w in zip(pred, seq)])\n",
      "Finished epoch 29 of 1000; error is 175.9772047996521C:\\Users\\shubh\\My Drive\\MLDL\\stanfordXCS224U\\referenceRepo\\cs224u\\torch_color_describer.py:680: RuntimeWarning: divide by zero encountered in power\n",
      "  for t, w in zip(pred, seq)])\n",
      "Finished epoch 30 of 1000; error is 173.96708011627197C:\\Users\\shubh\\My Drive\\MLDL\\stanfordXCS224U\\referenceRepo\\cs224u\\torch_color_describer.py:680: RuntimeWarning: divide by zero encountered in power\n",
      "  for t, w in zip(pred, seq)])\n",
      "Finished epoch 31 of 1000; error is 172.57177782058716C:\\Users\\shubh\\My Drive\\MLDL\\stanfordXCS224U\\referenceRepo\\cs224u\\torch_color_describer.py:680: RuntimeWarning: divide by zero encountered in power\n",
      "  for t, w in zip(pred, seq)])\n",
      "Finished epoch 32 of 1000; error is 170.1446328163147C:\\Users\\shubh\\My Drive\\MLDL\\stanfordXCS224U\\referenceRepo\\cs224u\\torch_color_describer.py:680: RuntimeWarning: divide by zero encountered in power\n",
      "  for t, w in zip(pred, seq)])\n",
      "Finished epoch 33 of 1000; error is 168.8546690940857C:\\Users\\shubh\\My Drive\\MLDL\\stanfordXCS224U\\referenceRepo\\cs224u\\torch_color_describer.py:680: RuntimeWarning: divide by zero encountered in power\n",
      "  for t, w in zip(pred, seq)])\n",
      "Finished epoch 34 of 1000; error is 167.50500631332397C:\\Users\\shubh\\My Drive\\MLDL\\stanfordXCS224U\\referenceRepo\\cs224u\\torch_color_describer.py:680: RuntimeWarning: divide by zero encountered in power\n",
      "  for t, w in zip(pred, seq)])\n",
      "Finished epoch 35 of 1000; error is 165.05342149734497C:\\Users\\shubh\\My Drive\\MLDL\\stanfordXCS224U\\referenceRepo\\cs224u\\torch_color_describer.py:680: RuntimeWarning: divide by zero encountered in power\n",
      "  for t, w in zip(pred, seq)])\n",
      "Finished epoch 36 of 1000; error is 163.3644037246704C:\\Users\\shubh\\My Drive\\MLDL\\stanfordXCS224U\\referenceRepo\\cs224u\\torch_color_describer.py:680: RuntimeWarning: divide by zero encountered in power\n",
      "  for t, w in zip(pred, seq)])\n",
      "Finished epoch 37 of 1000; error is 162.76679134368896C:\\Users\\shubh\\My Drive\\MLDL\\stanfordXCS224U\\referenceRepo\\cs224u\\torch_color_describer.py:680: RuntimeWarning: divide by zero encountered in power\n",
      "  for t, w in zip(pred, seq)])\n",
      "Finished epoch 38 of 1000; error is 160.9144368171692C:\\Users\\shubh\\My Drive\\MLDL\\stanfordXCS224U\\referenceRepo\\cs224u\\torch_color_describer.py:680: RuntimeWarning: divide by zero encountered in power\n",
      "  for t, w in zip(pred, seq)])\n",
      "Finished epoch 39 of 1000; error is 158.49108409881592C:\\Users\\shubh\\My Drive\\MLDL\\stanfordXCS224U\\referenceRepo\\cs224u\\torch_color_describer.py:680: RuntimeWarning: divide by zero encountered in power\n",
      "  for t, w in zip(pred, seq)])\n",
      "Finished epoch 40 of 1000; error is 157.0964322090149C:\\Users\\shubh\\My Drive\\MLDL\\stanfordXCS224U\\referenceRepo\\cs224u\\torch_color_describer.py:680: RuntimeWarning: divide by zero encountered in power\n",
      "  for t, w in zip(pred, seq)])\n",
      "Finished epoch 41 of 1000; error is 155.57518577575684C:\\Users\\shubh\\My Drive\\MLDL\\stanfordXCS224U\\referenceRepo\\cs224u\\torch_color_describer.py:680: RuntimeWarning: divide by zero encountered in power\n",
      "  for t, w in zip(pred, seq)])\n",
      "Finished epoch 42 of 1000; error is 153.4218053817749C:\\Users\\shubh\\My Drive\\MLDL\\stanfordXCS224U\\referenceRepo\\cs224u\\torch_color_describer.py:680: RuntimeWarning: divide by zero encountered in power\n",
      "  for t, w in zip(pred, seq)])\n",
      "Finished epoch 43 of 1000; error is 152.06462287902832C:\\Users\\shubh\\My Drive\\MLDL\\stanfordXCS224U\\referenceRepo\\cs224u\\torch_color_describer.py:680: RuntimeWarning: divide by zero encountered in power\n",
      "  for t, w in zip(pred, seq)])\n",
      "Finished epoch 44 of 1000; error is 150.81730318069458C:\\Users\\shubh\\My Drive\\MLDL\\stanfordXCS224U\\referenceRepo\\cs224u\\torch_color_describer.py:680: RuntimeWarning: divide by zero encountered in power\n",
      "  for t, w in zip(pred, seq)])\n",
      "Finished epoch 45 of 1000; error is 149.1284008026123C:\\Users\\shubh\\My Drive\\MLDL\\stanfordXCS224U\\referenceRepo\\cs224u\\torch_color_describer.py:680: RuntimeWarning: divide by zero encountered in power\n",
      "  for t, w in zip(pred, seq)])\n",
      "Finished epoch 46 of 1000; error is 147.16018295288086C:\\Users\\shubh\\My Drive\\MLDL\\stanfordXCS224U\\referenceRepo\\cs224u\\torch_color_describer.py:680: RuntimeWarning: divide by zero encountered in power\n",
      "  for t, w in zip(pred, seq)])\n",
      "Finished epoch 47 of 1000; error is 145.73839807510376C:\\Users\\shubh\\My Drive\\MLDL\\stanfordXCS224U\\referenceRepo\\cs224u\\torch_color_describer.py:680: RuntimeWarning: divide by zero encountered in power\n",
      "  for t, w in zip(pred, seq)])\n",
      "Finished epoch 48 of 1000; error is 143.84750986099243C:\\Users\\shubh\\My Drive\\MLDL\\stanfordXCS224U\\referenceRepo\\cs224u\\torch_color_describer.py:680: RuntimeWarning: divide by zero encountered in power\n",
      "  for t, w in zip(pred, seq)])\n",
      "Finished epoch 49 of 1000; error is 142.20869970321655C:\\Users\\shubh\\My Drive\\MLDL\\stanfordXCS224U\\referenceRepo\\cs224u\\torch_color_describer.py:680: RuntimeWarning: divide by zero encountered in power\n",
      "  for t, w in zip(pred, seq)])\n",
      "Finished epoch 50 of 1000; error is 140.5294795036316C:\\Users\\shubh\\My Drive\\MLDL\\stanfordXCS224U\\referenceRepo\\cs224u\\torch_color_describer.py:680: RuntimeWarning: divide by zero encountered in power\n",
      "  for t, w in zip(pred, seq)])\n",
      "Finished epoch 51 of 1000; error is 138.42618322372437C:\\Users\\shubh\\My Drive\\MLDL\\stanfordXCS224U\\referenceRepo\\cs224u\\torch_color_describer.py:680: RuntimeWarning: divide by zero encountered in power\n",
      "  for t, w in zip(pred, seq)])\n",
      "Finished epoch 52 of 1000; error is 137.29216623306274C:\\Users\\shubh\\My Drive\\MLDL\\stanfordXCS224U\\referenceRepo\\cs224u\\torch_color_describer.py:680: RuntimeWarning: divide by zero encountered in power\n",
      "  for t, w in zip(pred, seq)])\n",
      "Finished epoch 53 of 1000; error is 135.37789392471313C:\\Users\\shubh\\My Drive\\MLDL\\stanfordXCS224U\\referenceRepo\\cs224u\\torch_color_describer.py:680: RuntimeWarning: divide by zero encountered in power\n",
      "  for t, w in zip(pred, seq)])\n",
      "Finished epoch 54 of 1000; error is 133.5589838027954C:\\Users\\shubh\\My Drive\\MLDL\\stanfordXCS224U\\referenceRepo\\cs224u\\torch_color_describer.py:680: RuntimeWarning: divide by zero encountered in power\n",
      "  for t, w in zip(pred, seq)])\n",
      "Finished epoch 55 of 1000; error is 131.21896409988403C:\\Users\\shubh\\My Drive\\MLDL\\stanfordXCS224U\\referenceRepo\\cs224u\\torch_color_describer.py:680: RuntimeWarning: divide by zero encountered in power\n",
      "  for t, w in zip(pred, seq)])\n",
      "Finished epoch 56 of 1000; error is 130.16431427001953C:\\Users\\shubh\\My Drive\\MLDL\\stanfordXCS224U\\referenceRepo\\cs224u\\torch_color_describer.py:680: RuntimeWarning: divide by zero encountered in power\n",
      "  for t, w in zip(pred, seq)])\n",
      "Finished epoch 57 of 1000; error is 128.29269361495972C:\\Users\\shubh\\My Drive\\MLDL\\stanfordXCS224U\\referenceRepo\\cs224u\\torch_color_describer.py:680: RuntimeWarning: divide by zero encountered in power\n",
      "  for t, w in zip(pred, seq)])\n",
      "Finished epoch 58 of 1000; error is 127.34780311584473C:\\Users\\shubh\\My Drive\\MLDL\\stanfordXCS224U\\referenceRepo\\cs224u\\torch_color_describer.py:680: RuntimeWarning: divide by zero encountered in power\n",
      "  for t, w in zip(pred, seq)])\n",
      "Finished epoch 59 of 1000; error is 125.46887755393982C:\\Users\\shubh\\My Drive\\MLDL\\stanfordXCS224U\\referenceRepo\\cs224u\\torch_color_describer.py:680: RuntimeWarning: divide by zero encountered in power\n",
      "  for t, w in zip(pred, seq)])\n",
      "Finished epoch 60 of 1000; error is 123.67074370384216C:\\Users\\shubh\\My Drive\\MLDL\\stanfordXCS224U\\referenceRepo\\cs224u\\torch_color_describer.py:680: RuntimeWarning: divide by zero encountered in power\n",
      "  for t, w in zip(pred, seq)])\n",
      "Finished epoch 61 of 1000; error is 122.23346400260925C:\\Users\\shubh\\My Drive\\MLDL\\stanfordXCS224U\\referenceRepo\\cs224u\\torch_color_describer.py:680: RuntimeWarning: divide by zero encountered in power\n",
      "  for t, w in zip(pred, seq)])\n",
      "Finished epoch 62 of 1000; error is 120.68885445594788C:\\Users\\shubh\\My Drive\\MLDL\\stanfordXCS224U\\referenceRepo\\cs224u\\torch_color_describer.py:680: RuntimeWarning: divide by zero encountered in power\n",
      "  for t, w in zip(pred, seq)])\n",
      "Finished epoch 63 of 1000; error is 118.84640407562256C:\\Users\\shubh\\My Drive\\MLDL\\stanfordXCS224U\\referenceRepo\\cs224u\\torch_color_describer.py:680: RuntimeWarning: divide by zero encountered in power\n",
      "  for t, w in zip(pred, seq)])\n",
      "Stopping after epoch 64. Validation score did not improve by tol=1e-05 for more than 10 epochs. Final error is 117.08345174789429C:\\Users\\shubh\\My Drive\\MLDL\\stanfordXCS224U\\referenceRepo\\cs224u\\torch_color_describer.py:680: RuntimeWarning: divide by zero encountered in power\n",
      "  for t, w in zip(pred, seq)])\n"
     ]
    },
    {
     "name": "stdout",
     "output_type": "stream",
     "text": [
      "listener_accuracy:\n",
      " 0.8538599029704655\n",
      "bleu:\n",
      " 0.447426941145746\n"
     ]
    }
   ],
   "source": [
    "# trying this model to get a ballpark for its performance\n",
    "if 'IS_GRADESCOPE_ENV' not in os.environ:\n",
    "    full_exp_bert_embedding_color_input_mod = ExpColorizedInputDescriber(\n",
    "        vocab=full_train_bert_vocab,\n",
    "        embedding=full_train_bert_embedding,\n",
    "        encoder_hidden_dim=256,\n",
    "        decoder_hidden_dim=256,\n",
    "        early_stopping=True)\n",
    "\n",
    "    _ = full_exp_bert_embedding_color_input_mod.fit(full_cols_train, full_seqs_train)\n",
    "\n",
    "    print(\"listener_accuracy:\\n\", full_exp_bert_embedding_color_input_mod.listener_accuracy(full_cols_test, full_seqs_test))\n",
    "    print(\"bleu:\\n\", full_exp_bert_embedding_color_input_mod.corpus_bleu(full_cols_test, full_seqs_test)[0])"
   ],
   "metadata": {
    "collapsed": false,
    "pycharm": {
     "name": "#%%\n"
    }
   }
  },
  {
   "cell_type": "markdown",
   "source": [
    "Scores:\n",
    "Bert Embeddings + hidden_dim (256, 256) + 1 layer + unidirection, listener_accuracy: 0.852-0.8498, bleu:0.443-0.451\n",
    "\n",
    "same as above + 2 layer + dropout 0.5, 0.851, 0.451\n",
    "same as above + 2 layer + dropout 0.2, 0.8467, 0.4534\n",
    "same as above + 2 layer + dropout 0.8, 0.854, 0.447\n",
    "\n",
    "Bidirecitonal Variant **_Does not always converge_**. So we are not investigating it further. Also, this model **_still has the limitation of equal hidden_dim for both encoder and decoder. We address that later._**"
   ],
   "metadata": {
    "collapsed": false
   }
  },
  {
   "cell_type": "markdown",
   "source": [
    "### 5. Pipeline decision\n",
    "\n",
    "We see that this `ExpColorizedInputDescriber` has all the properties of `ColorizedInputDescriber` and the general context-color based model we made earlier. On top of that this has the functionality to add more layers and regularization. **_So, we are proceeding with this model_**.\n",
    "\n",
    "We would also like to test the following in our pipeline:\n",
    "1. Roberta/Bert tokenization and per-token embedding based model (not performing quite well)\n",
    "5. Roberta/BERT embeddings on tweet tokens (nice results)"
   ],
   "metadata": {
    "collapsed": false
   }
  },
  {
   "cell_type": "markdown",
   "source": [
    "### 6. RoBERTa tokenizer vocab and embedding calculation"
   ],
   "metadata": {
    "collapsed": false
   }
  },
  {
   "cell_type": "code",
   "execution_count": 411,
   "outputs": [],
   "source": [
    "if 'IS_GRADESCOPE_ENV' not in os.environ:\n",
    "    # find the full vocab on data\n",
    "    from transformers import RobertaModel, RobertaTokenizer\n",
    "    import vsm\n",
    "\n",
    "    roberta_weights_name = 'roberta-large'\n",
    "    roberta_tokenizer = RobertaTokenizer.from_pretrained(roberta_weights_name)\n",
    "    roberta_model = RobertaModel.from_pretrained(roberta_weights_name)"
   ],
   "metadata": {
    "collapsed": false,
    "pycharm": {
     "name": "#%%\n"
    }
   }
  },
  {
   "cell_type": "code",
   "execution_count": 414,
   "outputs": [],
   "source": [
    " if 'IS_GRADESCOPE_ENV' not in os.environ:\n",
    "     def roberta_tokenize(s):\n",
    "         s = s.lower()\n",
    "         return roberta_tokenizer.tokenize(s)\n",
    "\n",
    "     full_roberta_train_vocab, filled_full_roberta_train_word_seqs, full_roberta_train_removed_words = create_vocab_from_content_dataset(train_texts=full_texts_train, lowest_allowed_freq=1, tokenizer=roberta_tokenize)"
   ],
   "metadata": {
    "collapsed": false,
    "pycharm": {
     "name": "#%%\n"
    }
   }
  },
  {
   "cell_type": "code",
   "execution_count": 425,
   "outputs": [],
   "source": [
    "if 'IS_GRADESCOPE_ENV' not in os.environ:\n",
    "\n",
    "    ctr = 0\n",
    "    def tf_phi(text, tf_tokenizer, tf_model):\n",
    "        text_tf_ids = vsm.hf_encode(text, tf_tokenizer,\n",
    "                                    add_special_tokens=True)\n",
    "\n",
    "        text_tf_reps = vsm.hf_represent(text_tf_ids, tf_model, layer=-1) # -> (1, x, 1024)\n",
    "\n",
    "        global ctr\n",
    "        if ctr%100 == 0:\n",
    "            print(\"Transformer encoding done for ctr \", ctr)\n",
    "        ctr+=1\n",
    "\n",
    "        return torch.mean(text_tf_reps[0], axis=0).cpu().numpy()\n",
    "\n",
    "    # lookup to create embeddings\n",
    "    def create_tf_embedding_lookup_on_text_vocab(vocab, tf_tokenizer, tf_model):\n",
    "        corpora_word_tf_embedding = {word:tf_phi(word, tf_tokenizer, tf_model) for word in vocab}\n",
    "\n",
    "        return corpora_word_tf_embedding\n",
    "\n",
    "    def create_tf_embedding(vocab, tf_repr_lookup):\n",
    "        tf_embedding, tf_vocab = utils.create_pretrained_embedding(tf_repr_lookup, vocab)\n",
    "        return tf_embedding, tf_vocab"
   ],
   "metadata": {
    "collapsed": false,
    "pycharm": {
     "name": "#%%\n"
    }
   }
  },
  {
   "cell_type": "code",
   "execution_count": 420,
   "outputs": [
    {
     "name": "stdout",
     "output_type": "stream",
     "text": [
      "Transformer encoding done for ctr  0\n",
      "Transformer encoding done for ctr  100\n",
      "Transformer encoding done for ctr  200\n",
      "Transformer encoding done for ctr  300\n",
      "Transformer encoding done for ctr  400\n",
      "Transformer encoding done for ctr  500\n",
      "Transformer encoding done for ctr  600\n",
      "Transformer encoding done for ctr  700\n",
      "Transformer encoding done for ctr  800\n",
      "Transformer encoding done for ctr  900\n",
      "Transformer encoding done for ctr  1000\n",
      "Transformer encoding done for ctr  1100\n",
      "Transformer encoding done for ctr  1200\n",
      "Transformer encoding done for ctr  1300\n",
      "Transformer encoding done for ctr  1400\n",
      "Transformer encoding done for ctr  1500\n",
      "Transformer encoding done for ctr  1600\n",
      "Transformer encoding done for ctr  1700\n",
      "Transformer encoding done for ctr  1800\n",
      "Transformer encoding done for ctr  1900\n",
      "Transformer encoding done for ctr  2000\n",
      "Transformer encoding done for ctr  2100\n",
      "Transformer encoding done for ctr  2200\n",
      "Transformer encoding done for ctr  2300\n",
      "Transformer encoding done for ctr  2400\n",
      "Transformer encoding done for ctr  2500\n",
      "Transformer encoding done for ctr  2600\n",
      "Transformer encoding done for ctr  2700\n",
      "Transformer encoding done for ctr  2800\n",
      "Wall time: 2min 38s\n"
     ]
    }
   ],
   "source": [
    "if 'IS_GRADESCOPE_ENV' not in os.environ:\n",
    "    %time full_corpora_word_roberta_embedding = create_tf_embedding_lookup_on_text_vocab(full_roberta_train_vocab, roberta_tokenizer, roberta_model)"
   ],
   "metadata": {
    "collapsed": false,
    "pycharm": {
     "name": "#%%\n"
    }
   }
  },
  {
   "cell_type": "code",
   "execution_count": 426,
   "outputs": [],
   "source": [
    "if 'IS_GRADESCOPE_ENV' not in os.environ:\n",
    "    full_train_roberta_embedding, full_train_roberta_vocab = create_tf_embedding(full_roberta_train_vocab, full_corpora_word_roberta_embedding)\n"
   ],
   "metadata": {
    "collapsed": false,
    "pycharm": {
     "name": "#%%\n"
    }
   }
  },
  {
   "cell_type": "code",
   "execution_count": 430,
   "outputs": [
    {
     "name": "stderr",
     "output_type": "stream",
     "text": [
      "C:\\Users\\shubh\\My Drive\\MLDL\\stanfordXCS224U\\referenceRepo\\cs224u\\torch_color_describer.py:680: RuntimeWarning: divide by zero encountered in power\n",
      "  for t, w in zip(pred, seq)])\n",
      "Finished epoch 1 of 1000; error is 231.51431131362915C:\\Users\\shubh\\My Drive\\MLDL\\stanfordXCS224U\\referenceRepo\\cs224u\\torch_color_describer.py:680: RuntimeWarning: divide by zero encountered in power\n",
      "  for t, w in zip(pred, seq)])\n",
      "Finished epoch 2 of 1000; error is 222.63232374191284C:\\Users\\shubh\\My Drive\\MLDL\\stanfordXCS224U\\referenceRepo\\cs224u\\torch_color_describer.py:680: RuntimeWarning: divide by zero encountered in power\n",
      "  for t, w in zip(pred, seq)])\n",
      "Finished epoch 3 of 1000; error is 219.62020635604858C:\\Users\\shubh\\My Drive\\MLDL\\stanfordXCS224U\\referenceRepo\\cs224u\\torch_color_describer.py:680: RuntimeWarning: divide by zero encountered in power\n",
      "  for t, w in zip(pred, seq)])\n",
      "Finished epoch 4 of 1000; error is 218.47230195999146C:\\Users\\shubh\\My Drive\\MLDL\\stanfordXCS224U\\referenceRepo\\cs224u\\torch_color_describer.py:680: RuntimeWarning: divide by zero encountered in power\n",
      "  for t, w in zip(pred, seq)])\n",
      "Finished epoch 5 of 1000; error is 216.48238897323608C:\\Users\\shubh\\My Drive\\MLDL\\stanfordXCS224U\\referenceRepo\\cs224u\\torch_color_describer.py:680: RuntimeWarning: divide by zero encountered in power\n",
      "  for t, w in zip(pred, seq)])\n",
      "Finished epoch 6 of 1000; error is 214.5216841697693C:\\Users\\shubh\\My Drive\\MLDL\\stanfordXCS224U\\referenceRepo\\cs224u\\torch_color_describer.py:680: RuntimeWarning: divide by zero encountered in power\n",
      "  for t, w in zip(pred, seq)])\n",
      "Finished epoch 7 of 1000; error is 212.6393599510193C:\\Users\\shubh\\My Drive\\MLDL\\stanfordXCS224U\\referenceRepo\\cs224u\\torch_color_describer.py:680: RuntimeWarning: divide by zero encountered in power\n",
      "  for t, w in zip(pred, seq)])\n",
      "Finished epoch 8 of 1000; error is 210.50544595718384C:\\Users\\shubh\\My Drive\\MLDL\\stanfordXCS224U\\referenceRepo\\cs224u\\torch_color_describer.py:680: RuntimeWarning: divide by zero encountered in power\n",
      "  for t, w in zip(pred, seq)])\n",
      "Finished epoch 9 of 1000; error is 207.99721956253052C:\\Users\\shubh\\My Drive\\MLDL\\stanfordXCS224U\\referenceRepo\\cs224u\\torch_color_describer.py:680: RuntimeWarning: divide by zero encountered in power\n",
      "  for t, w in zip(pred, seq)])\n",
      "Finished epoch 10 of 1000; error is 205.85124969482422C:\\Users\\shubh\\My Drive\\MLDL\\stanfordXCS224U\\referenceRepo\\cs224u\\torch_color_describer.py:680: RuntimeWarning: divide by zero encountered in power\n",
      "  for t, w in zip(pred, seq)])\n",
      "Finished epoch 11 of 1000; error is 205.05974578857422C:\\Users\\shubh\\My Drive\\MLDL\\stanfordXCS224U\\referenceRepo\\cs224u\\torch_color_describer.py:680: RuntimeWarning: divide by zero encountered in power\n",
      "  for t, w in zip(pred, seq)])\n",
      "Finished epoch 12 of 1000; error is 202.62689876556396C:\\Users\\shubh\\My Drive\\MLDL\\stanfordXCS224U\\referenceRepo\\cs224u\\torch_color_describer.py:680: RuntimeWarning: divide by zero encountered in power\n",
      "  for t, w in zip(pred, seq)])\n",
      "Finished epoch 13 of 1000; error is 201.4226713180542C:\\Users\\shubh\\My Drive\\MLDL\\stanfordXCS224U\\referenceRepo\\cs224u\\torch_color_describer.py:680: RuntimeWarning: divide by zero encountered in power\n",
      "  for t, w in zip(pred, seq)])\n",
      "Finished epoch 14 of 1000; error is 198.64953136444092C:\\Users\\shubh\\My Drive\\MLDL\\stanfordXCS224U\\referenceRepo\\cs224u\\torch_color_describer.py:680: RuntimeWarning: divide by zero encountered in power\n",
      "  for t, w in zip(pred, seq)])\n",
      "Finished epoch 15 of 1000; error is 197.9776430130005C:\\Users\\shubh\\My Drive\\MLDL\\stanfordXCS224U\\referenceRepo\\cs224u\\torch_color_describer.py:680: RuntimeWarning: divide by zero encountered in power\n",
      "  for t, w in zip(pred, seq)])\n",
      "Finished epoch 16 of 1000; error is 196.57121515274048C:\\Users\\shubh\\My Drive\\MLDL\\stanfordXCS224U\\referenceRepo\\cs224u\\torch_color_describer.py:680: RuntimeWarning: divide by zero encountered in power\n",
      "  for t, w in zip(pred, seq)])\n",
      "Finished epoch 17 of 1000; error is 194.5762734413147C:\\Users\\shubh\\My Drive\\MLDL\\stanfordXCS224U\\referenceRepo\\cs224u\\torch_color_describer.py:680: RuntimeWarning: divide by zero encountered in power\n",
      "  for t, w in zip(pred, seq)])\n",
      "Finished epoch 18 of 1000; error is 192.61296463012695C:\\Users\\shubh\\My Drive\\MLDL\\stanfordXCS224U\\referenceRepo\\cs224u\\torch_color_describer.py:680: RuntimeWarning: divide by zero encountered in power\n",
      "  for t, w in zip(pred, seq)])\n",
      "Finished epoch 19 of 1000; error is 190.52175045013428C:\\Users\\shubh\\My Drive\\MLDL\\stanfordXCS224U\\referenceRepo\\cs224u\\torch_color_describer.py:680: RuntimeWarning: divide by zero encountered in power\n",
      "  for t, w in zip(pred, seq)])\n",
      "Finished epoch 20 of 1000; error is 189.1269073486328C:\\Users\\shubh\\My Drive\\MLDL\\stanfordXCS224U\\referenceRepo\\cs224u\\torch_color_describer.py:680: RuntimeWarning: divide by zero encountered in power\n",
      "  for t, w in zip(pred, seq)])\n",
      "Finished epoch 21 of 1000; error is 187.52001857757568C:\\Users\\shubh\\My Drive\\MLDL\\stanfordXCS224U\\referenceRepo\\cs224u\\torch_color_describer.py:680: RuntimeWarning: divide by zero encountered in power\n",
      "  for t, w in zip(pred, seq)])\n",
      "Finished epoch 22 of 1000; error is 185.53060579299927C:\\Users\\shubh\\My Drive\\MLDL\\stanfordXCS224U\\referenceRepo\\cs224u\\torch_color_describer.py:680: RuntimeWarning: divide by zero encountered in power\n",
      "  for t, w in zip(pred, seq)])\n",
      "Finished epoch 23 of 1000; error is 184.6077766418457C:\\Users\\shubh\\My Drive\\MLDL\\stanfordXCS224U\\referenceRepo\\cs224u\\torch_color_describer.py:680: RuntimeWarning: divide by zero encountered in power\n",
      "  for t, w in zip(pred, seq)])\n",
      "Finished epoch 24 of 1000; error is 182.53261470794678C:\\Users\\shubh\\My Drive\\MLDL\\stanfordXCS224U\\referenceRepo\\cs224u\\torch_color_describer.py:680: RuntimeWarning: divide by zero encountered in power\n",
      "  for t, w in zip(pred, seq)])\n",
      "Finished epoch 25 of 1000; error is 180.48378467559814C:\\Users\\shubh\\My Drive\\MLDL\\stanfordXCS224U\\referenceRepo\\cs224u\\torch_color_describer.py:680: RuntimeWarning: divide by zero encountered in power\n",
      "  for t, w in zip(pred, seq)])\n",
      "Finished epoch 26 of 1000; error is 178.14973783493042C:\\Users\\shubh\\My Drive\\MLDL\\stanfordXCS224U\\referenceRepo\\cs224u\\torch_color_describer.py:680: RuntimeWarning: divide by zero encountered in power\n",
      "  for t, w in zip(pred, seq)])\n",
      "Finished epoch 27 of 1000; error is 177.0647840499878C:\\Users\\shubh\\My Drive\\MLDL\\stanfordXCS224U\\referenceRepo\\cs224u\\torch_color_describer.py:680: RuntimeWarning: divide by zero encountered in power\n",
      "  for t, w in zip(pred, seq)])\n",
      "Finished epoch 28 of 1000; error is 174.72056484222412C:\\Users\\shubh\\My Drive\\MLDL\\stanfordXCS224U\\referenceRepo\\cs224u\\torch_color_describer.py:680: RuntimeWarning: divide by zero encountered in power\n",
      "  for t, w in zip(pred, seq)])\n",
      "Finished epoch 29 of 1000; error is 172.44911670684814C:\\Users\\shubh\\My Drive\\MLDL\\stanfordXCS224U\\referenceRepo\\cs224u\\torch_color_describer.py:680: RuntimeWarning: divide by zero encountered in power\n",
      "  for t, w in zip(pred, seq)])\n",
      "Finished epoch 30 of 1000; error is 172.5460386276245C:\\Users\\shubh\\My Drive\\MLDL\\stanfordXCS224U\\referenceRepo\\cs224u\\torch_color_describer.py:680: RuntimeWarning: divide by zero encountered in power\n",
      "  for t, w in zip(pred, seq)])\n",
      "Finished epoch 31 of 1000; error is 170.3560333251953C:\\Users\\shubh\\My Drive\\MLDL\\stanfordXCS224U\\referenceRepo\\cs224u\\torch_color_describer.py:680: RuntimeWarning: divide by zero encountered in power\n",
      "  for t, w in zip(pred, seq)])\n",
      "Finished epoch 32 of 1000; error is 168.92851209640503C:\\Users\\shubh\\My Drive\\MLDL\\stanfordXCS224U\\referenceRepo\\cs224u\\torch_color_describer.py:680: RuntimeWarning: divide by zero encountered in power\n",
      "  for t, w in zip(pred, seq)])\n",
      "Finished epoch 33 of 1000; error is 166.81785917282104C:\\Users\\shubh\\My Drive\\MLDL\\stanfordXCS224U\\referenceRepo\\cs224u\\torch_color_describer.py:680: RuntimeWarning: divide by zero encountered in power\n",
      "  for t, w in zip(pred, seq)])\n",
      "Finished epoch 34 of 1000; error is 165.31324815750122C:\\Users\\shubh\\My Drive\\MLDL\\stanfordXCS224U\\referenceRepo\\cs224u\\torch_color_describer.py:680: RuntimeWarning: divide by zero encountered in power\n",
      "  for t, w in zip(pred, seq)])\n",
      "Finished epoch 35 of 1000; error is 162.81964349746704C:\\Users\\shubh\\My Drive\\MLDL\\stanfordXCS224U\\referenceRepo\\cs224u\\torch_color_describer.py:680: RuntimeWarning: divide by zero encountered in power\n",
      "  for t, w in zip(pred, seq)])\n",
      "Finished epoch 36 of 1000; error is 161.42964363098145C:\\Users\\shubh\\My Drive\\MLDL\\stanfordXCS224U\\referenceRepo\\cs224u\\torch_color_describer.py:680: RuntimeWarning: divide by zero encountered in power\n",
      "  for t, w in zip(pred, seq)])\n",
      "Finished epoch 37 of 1000; error is 160.288809299469C:\\Users\\shubh\\My Drive\\MLDL\\stanfordXCS224U\\referenceRepo\\cs224u\\torch_color_describer.py:680: RuntimeWarning: divide by zero encountered in power\n",
      "  for t, w in zip(pred, seq)])\n",
      "Finished epoch 38 of 1000; error is 158.29491567611694C:\\Users\\shubh\\My Drive\\MLDL\\stanfordXCS224U\\referenceRepo\\cs224u\\torch_color_describer.py:680: RuntimeWarning: divide by zero encountered in power\n",
      "  for t, w in zip(pred, seq)])\n",
      "Finished epoch 39 of 1000; error is 157.35915899276733C:\\Users\\shubh\\My Drive\\MLDL\\stanfordXCS224U\\referenceRepo\\cs224u\\torch_color_describer.py:680: RuntimeWarning: divide by zero encountered in power\n",
      "  for t, w in zip(pred, seq)])\n",
      "Finished epoch 40 of 1000; error is 154.77649021148682C:\\Users\\shubh\\My Drive\\MLDL\\stanfordXCS224U\\referenceRepo\\cs224u\\torch_color_describer.py:680: RuntimeWarning: divide by zero encountered in power\n",
      "  for t, w in zip(pred, seq)])\n",
      "Finished epoch 41 of 1000; error is 154.36246871948242C:\\Users\\shubh\\My Drive\\MLDL\\stanfordXCS224U\\referenceRepo\\cs224u\\torch_color_describer.py:680: RuntimeWarning: divide by zero encountered in power\n",
      "  for t, w in zip(pred, seq)])\n",
      "Finished epoch 42 of 1000; error is 151.76828622817993C:\\Users\\shubh\\My Drive\\MLDL\\stanfordXCS224U\\referenceRepo\\cs224u\\torch_color_describer.py:680: RuntimeWarning: divide by zero encountered in power\n",
      "  for t, w in zip(pred, seq)])\n",
      "Finished epoch 43 of 1000; error is 150.88961839675903C:\\Users\\shubh\\My Drive\\MLDL\\stanfordXCS224U\\referenceRepo\\cs224u\\torch_color_describer.py:680: RuntimeWarning: divide by zero encountered in power\n",
      "  for t, w in zip(pred, seq)])\n",
      "Finished epoch 44 of 1000; error is 148.96999311447144C:\\Users\\shubh\\My Drive\\MLDL\\stanfordXCS224U\\referenceRepo\\cs224u\\torch_color_describer.py:680: RuntimeWarning: divide by zero encountered in power\n",
      "  for t, w in zip(pred, seq)])\n",
      "Finished epoch 45 of 1000; error is 146.54704999923706C:\\Users\\shubh\\My Drive\\MLDL\\stanfordXCS224U\\referenceRepo\\cs224u\\torch_color_describer.py:680: RuntimeWarning: divide by zero encountered in power\n",
      "  for t, w in zip(pred, seq)])\n",
      "Finished epoch 46 of 1000; error is 145.43321180343628C:\\Users\\shubh\\My Drive\\MLDL\\stanfordXCS224U\\referenceRepo\\cs224u\\torch_color_describer.py:680: RuntimeWarning: divide by zero encountered in power\n",
      "  for t, w in zip(pred, seq)])\n",
      "Finished epoch 47 of 1000; error is 143.76481294631958C:\\Users\\shubh\\My Drive\\MLDL\\stanfordXCS224U\\referenceRepo\\cs224u\\torch_color_describer.py:680: RuntimeWarning: divide by zero encountered in power\n",
      "  for t, w in zip(pred, seq)])\n",
      "Finished epoch 48 of 1000; error is 141.844970703125C:\\Users\\shubh\\My Drive\\MLDL\\stanfordXCS224U\\referenceRepo\\cs224u\\torch_color_describer.py:680: RuntimeWarning: divide by zero encountered in power\n",
      "  for t, w in zip(pred, seq)])\n",
      "Finished epoch 49 of 1000; error is 140.3381552696228C:\\Users\\shubh\\My Drive\\MLDL\\stanfordXCS224U\\referenceRepo\\cs224u\\torch_color_describer.py:680: RuntimeWarning: divide by zero encountered in power\n",
      "  for t, w in zip(pred, seq)])\n",
      "Finished epoch 50 of 1000; error is 138.516517162323C:\\Users\\shubh\\My Drive\\MLDL\\stanfordXCS224U\\referenceRepo\\cs224u\\torch_color_describer.py:680: RuntimeWarning: divide by zero encountered in power\n",
      "  for t, w in zip(pred, seq)])\n",
      "Finished epoch 51 of 1000; error is 137.01310539245605C:\\Users\\shubh\\My Drive\\MLDL\\stanfordXCS224U\\referenceRepo\\cs224u\\torch_color_describer.py:680: RuntimeWarning: divide by zero encountered in power\n",
      "  for t, w in zip(pred, seq)])\n",
      "Finished epoch 52 of 1000; error is 135.03683519363403C:\\Users\\shubh\\My Drive\\MLDL\\stanfordXCS224U\\referenceRepo\\cs224u\\torch_color_describer.py:680: RuntimeWarning: divide by zero encountered in power\n",
      "  for t, w in zip(pred, seq)])\n",
      "Finished epoch 53 of 1000; error is 134.0247631072998C:\\Users\\shubh\\My Drive\\MLDL\\stanfordXCS224U\\referenceRepo\\cs224u\\torch_color_describer.py:680: RuntimeWarning: divide by zero encountered in power\n",
      "  for t, w in zip(pred, seq)])\n",
      "Finished epoch 54 of 1000; error is 132.37439823150635C:\\Users\\shubh\\My Drive\\MLDL\\stanfordXCS224U\\referenceRepo\\cs224u\\torch_color_describer.py:680: RuntimeWarning: divide by zero encountered in power\n",
      "  for t, w in zip(pred, seq)])\n",
      "Finished epoch 55 of 1000; error is 130.7800145149231C:\\Users\\shubh\\My Drive\\MLDL\\stanfordXCS224U\\referenceRepo\\cs224u\\torch_color_describer.py:680: RuntimeWarning: divide by zero encountered in power\n",
      "  for t, w in zip(pred, seq)])\n",
      "Finished epoch 56 of 1000; error is 128.3720588684082C:\\Users\\shubh\\My Drive\\MLDL\\stanfordXCS224U\\referenceRepo\\cs224u\\torch_color_describer.py:680: RuntimeWarning: divide by zero encountered in power\n",
      "  for t, w in zip(pred, seq)])\n",
      "Finished epoch 57 of 1000; error is 127.18209457397461C:\\Users\\shubh\\My Drive\\MLDL\\stanfordXCS224U\\referenceRepo\\cs224u\\torch_color_describer.py:680: RuntimeWarning: divide by zero encountered in power\n",
      "  for t, w in zip(pred, seq)])\n",
      "Finished epoch 58 of 1000; error is 125.7353663444519C:\\Users\\shubh\\My Drive\\MLDL\\stanfordXCS224U\\referenceRepo\\cs224u\\torch_color_describer.py:680: RuntimeWarning: divide by zero encountered in power\n",
      "  for t, w in zip(pred, seq)])\n",
      "Finished epoch 59 of 1000; error is 124.18805432319641C:\\Users\\shubh\\My Drive\\MLDL\\stanfordXCS224U\\referenceRepo\\cs224u\\torch_color_describer.py:680: RuntimeWarning: divide by zero encountered in power\n",
      "  for t, w in zip(pred, seq)])\n",
      "Finished epoch 60 of 1000; error is 122.49697542190552C:\\Users\\shubh\\My Drive\\MLDL\\stanfordXCS224U\\referenceRepo\\cs224u\\torch_color_describer.py:680: RuntimeWarning: divide by zero encountered in power\n",
      "  for t, w in zip(pred, seq)])\n",
      "Finished epoch 61 of 1000; error is 120.3936812877655C:\\Users\\shubh\\My Drive\\MLDL\\stanfordXCS224U\\referenceRepo\\cs224u\\torch_color_describer.py:680: RuntimeWarning: divide by zero encountered in power\n",
      "  for t, w in zip(pred, seq)])\n",
      "Finished epoch 62 of 1000; error is 118.71053791046143C:\\Users\\shubh\\My Drive\\MLDL\\stanfordXCS224U\\referenceRepo\\cs224u\\torch_color_describer.py:680: RuntimeWarning: divide by zero encountered in power\n",
      "  for t, w in zip(pred, seq)])\n",
      "Finished epoch 63 of 1000; error is 117.33029437065125C:\\Users\\shubh\\My Drive\\MLDL\\stanfordXCS224U\\referenceRepo\\cs224u\\torch_color_describer.py:680: RuntimeWarning: divide by zero encountered in power\n",
      "  for t, w in zip(pred, seq)])\n",
      "Finished epoch 64 of 1000; error is 115.79099941253662C:\\Users\\shubh\\My Drive\\MLDL\\stanfordXCS224U\\referenceRepo\\cs224u\\torch_color_describer.py:680: RuntimeWarning: divide by zero encountered in power\n",
      "  for t, w in zip(pred, seq)])\n",
      "Finished epoch 65 of 1000; error is 113.99526000022888C:\\Users\\shubh\\My Drive\\MLDL\\stanfordXCS224U\\referenceRepo\\cs224u\\torch_color_describer.py:680: RuntimeWarning: divide by zero encountered in power\n",
      "  for t, w in zip(pred, seq)])\n",
      "Finished epoch 66 of 1000; error is 112.57492923736572C:\\Users\\shubh\\My Drive\\MLDL\\stanfordXCS224U\\referenceRepo\\cs224u\\torch_color_describer.py:680: RuntimeWarning: divide by zero encountered in power\n",
      "  for t, w in zip(pred, seq)])\n",
      "Finished epoch 67 of 1000; error is 110.80067157745361C:\\Users\\shubh\\My Drive\\MLDL\\stanfordXCS224U\\referenceRepo\\cs224u\\torch_color_describer.py:680: RuntimeWarning: divide by zero encountered in power\n",
      "  for t, w in zip(pred, seq)])\n",
      "Finished epoch 68 of 1000; error is 108.8553113937378C:\\Users\\shubh\\My Drive\\MLDL\\stanfordXCS224U\\referenceRepo\\cs224u\\torch_color_describer.py:680: RuntimeWarning: divide by zero encountered in power\n",
      "  for t, w in zip(pred, seq)])\n",
      "Finished epoch 69 of 1000; error is 107.67640709877014C:\\Users\\shubh\\My Drive\\MLDL\\stanfordXCS224U\\referenceRepo\\cs224u\\torch_color_describer.py:680: RuntimeWarning: divide by zero encountered in power\n",
      "  for t, w in zip(pred, seq)])\n",
      "Finished epoch 70 of 1000; error is 105.73438668251038C:\\Users\\shubh\\My Drive\\MLDL\\stanfordXCS224U\\referenceRepo\\cs224u\\torch_color_describer.py:680: RuntimeWarning: divide by zero encountered in power\n",
      "  for t, w in zip(pred, seq)])\n",
      "Stopping after epoch 71. Validation score did not improve by tol=1e-05 for more than 10 epochs. Final error is 104.27487802505493C:\\Users\\shubh\\My Drive\\MLDL\\stanfordXCS224U\\referenceRepo\\cs224u\\torch_color_describer.py:680: RuntimeWarning: divide by zero encountered in power\n",
      "  for t, w in zip(pred, seq)])\n"
     ]
    },
    {
     "name": "stdout",
     "output_type": "stream",
     "text": [
      "listener_accuracy:\n",
      " 0.7094220784747638\n",
      "bleu:\n",
      " 0.3851417899820595\n"
     ]
    }
   ],
   "source": [
    "# trying this model to get a ballpark for its performance\n",
    "if 'IS_GRADESCOPE_ENV' not in os.environ:\n",
    "    full_exp_roberta_embedding_color_input_mod = ExpColorizedInputDescriber(\n",
    "        vocab=full_train_roberta_vocab,\n",
    "        embedding=full_train_roberta_embedding,\n",
    "        encoder_hidden_dim=256,\n",
    "        decoder_hidden_dim=256,\n",
    "        early_stopping=True)\n",
    "\n",
    "    _ = full_exp_roberta_embedding_color_input_mod.fit(full_cols_train, full_seqs_train)\n",
    "\n",
    "    print(\"listener_accuracy:\\n\", full_exp_roberta_embedding_color_input_mod.listener_accuracy(full_cols_test, full_seqs_test))\n",
    "    print(\"bleu:\\n\", full_exp_roberta_embedding_color_input_mod.corpus_bleu(full_cols_test, full_seqs_test)[0])"
   ],
   "metadata": {
    "collapsed": false,
    "pycharm": {
     "name": "#%%\n"
    }
   }
  },
  {
   "cell_type": "markdown",
   "source": [
    "**_Clearly, transformer embeddings on context split tokens and sub-tokens dont work well. This is mainly because the transformer splits words into sub-words based on context and a separate context independent subword token representation on it would not make much sense. Wont proceed with the same on BERT or other transformers._**"
   ],
   "metadata": {
    "collapsed": false,
    "pycharm": {
     "name": "#%% md\n"
    }
   }
  },
  {
   "cell_type": "markdown",
   "source": [
    "### 7. RoBERTa embedding on sentiment-token words"
   ],
   "metadata": {
    "collapsed": false
   }
  },
  {
   "cell_type": "code",
   "execution_count": 431,
   "outputs": [],
   "source": [
    " if 'IS_GRADESCOPE_ENV' not in os.environ:\n",
    "    full_roberta_train_vocab, filled_full_roberta_train_word_seqs, full_roberta_train_removed_words = create_vocab_from_content_dataset(train_texts=full_texts_train, lowest_allowed_freq=1, tokenizer=tweet_tokenize)"
   ],
   "metadata": {
    "collapsed": false,
    "pycharm": {
     "name": "#%%\n"
    }
   }
  },
  {
   "cell_type": "code",
   "execution_count": 437,
   "outputs": [
    {
     "name": "stdout",
     "output_type": "stream",
     "text": [
      "Transformer encoding done for ctr  0\n",
      "Transformer encoding done for ctr  100\n",
      "Transformer encoding done for ctr  200\n",
      "Transformer encoding done for ctr  300\n",
      "Transformer encoding done for ctr  400\n",
      "Transformer encoding done for ctr  500\n",
      "Transformer encoding done for ctr  600\n",
      "Transformer encoding done for ctr  700\n",
      "Transformer encoding done for ctr  800\n",
      "Transformer encoding done for ctr  900\n",
      "Transformer encoding done for ctr  1000\n",
      "Transformer encoding done for ctr  1100\n",
      "Transformer encoding done for ctr  1200\n",
      "Transformer encoding done for ctr  1300\n",
      "Transformer encoding done for ctr  1400\n",
      "Transformer encoding done for ctr  1500\n",
      "Transformer encoding done for ctr  1600\n",
      "Transformer encoding done for ctr  1700\n",
      "Transformer encoding done for ctr  1800\n",
      "Transformer encoding done for ctr  1900\n",
      "Transformer encoding done for ctr  2000\n",
      "Transformer encoding done for ctr  2100\n",
      "Transformer encoding done for ctr  2200\n",
      "Transformer encoding done for ctr  2300\n",
      "Transformer encoding done for ctr  2400\n",
      "Transformer encoding done for ctr  2500\n",
      "Transformer encoding done for ctr  2600\n",
      "Transformer encoding done for ctr  2700\n",
      "Transformer encoding done for ctr  2800\n",
      "Transformer encoding done for ctr  2900\n",
      "Wall time: 2min 43s\n"
     ]
    }
   ],
   "source": [
    "if 'IS_GRADESCOPE_ENV' not in os.environ:\n",
    "    %time full_corpora_word_roberta_embedding = create_tf_embedding_lookup_on_text_vocab(full_roberta_train_vocab, roberta_tokenizer, roberta_model)"
   ],
   "metadata": {
    "collapsed": false,
    "pycharm": {
     "name": "#%%\n"
    }
   }
  },
  {
   "cell_type": "code",
   "execution_count": 439,
   "outputs": [],
   "source": [
    "if 'IS_GRADESCOPE_ENV' not in os.environ:\n",
    "    full_train_roberta_embedding, full_train_roberta_vocab = create_tf_embedding(full_roberta_train_vocab, full_corpora_word_roberta_embedding)"
   ],
   "metadata": {
    "collapsed": false,
    "pycharm": {
     "name": "#%%\n"
    }
   }
  },
  {
   "cell_type": "code",
   "execution_count": 440,
   "outputs": [
    {
     "name": "stderr",
     "output_type": "stream",
     "text": [
      "C:\\Users\\shubh\\My Drive\\MLDL\\stanfordXCS224U\\referenceRepo\\cs224u\\torch_color_describer.py:680: RuntimeWarning: divide by zero encountered in power\n",
      "  for t, w in zip(pred, seq)])\n",
      "Finished epoch 1 of 1000; error is 233.697096824646C:\\Users\\shubh\\My Drive\\MLDL\\stanfordXCS224U\\referenceRepo\\cs224u\\torch_color_describer.py:680: RuntimeWarning: divide by zero encountered in power\n",
      "  for t, w in zip(pred, seq)])\n",
      "Finished epoch 2 of 1000; error is 227.00882387161255C:\\Users\\shubh\\My Drive\\MLDL\\stanfordXCS224U\\referenceRepo\\cs224u\\torch_color_describer.py:680: RuntimeWarning: divide by zero encountered in power\n",
      "  for t, w in zip(pred, seq)])\n",
      "Finished epoch 3 of 1000; error is 225.51258277893066C:\\Users\\shubh\\My Drive\\MLDL\\stanfordXCS224U\\referenceRepo\\cs224u\\torch_color_describer.py:680: RuntimeWarning: divide by zero encountered in power\n",
      "  for t, w in zip(pred, seq)])\n",
      "Finished epoch 4 of 1000; error is 222.86529922485352C:\\Users\\shubh\\My Drive\\MLDL\\stanfordXCS224U\\referenceRepo\\cs224u\\torch_color_describer.py:680: RuntimeWarning: divide by zero encountered in power\n",
      "  for t, w in zip(pred, seq)])\n",
      "Finished epoch 5 of 1000; error is 220.448139667511C:\\Users\\shubh\\My Drive\\MLDL\\stanfordXCS224U\\referenceRepo\\cs224u\\torch_color_describer.py:680: RuntimeWarning: divide by zero encountered in power\n",
      "  for t, w in zip(pred, seq)])\n",
      "Finished epoch 6 of 1000; error is 218.00565910339355C:\\Users\\shubh\\My Drive\\MLDL\\stanfordXCS224U\\referenceRepo\\cs224u\\torch_color_describer.py:680: RuntimeWarning: divide by zero encountered in power\n",
      "  for t, w in zip(pred, seq)])\n",
      "Finished epoch 7 of 1000; error is 216.46102285385132C:\\Users\\shubh\\My Drive\\MLDL\\stanfordXCS224U\\referenceRepo\\cs224u\\torch_color_describer.py:680: RuntimeWarning: divide by zero encountered in power\n",
      "  for t, w in zip(pred, seq)])\n",
      "Finished epoch 8 of 1000; error is 213.99866247177124C:\\Users\\shubh\\My Drive\\MLDL\\stanfordXCS224U\\referenceRepo\\cs224u\\torch_color_describer.py:680: RuntimeWarning: divide by zero encountered in power\n",
      "  for t, w in zip(pred, seq)])\n",
      "Finished epoch 9 of 1000; error is 211.1628656387329C:\\Users\\shubh\\My Drive\\MLDL\\stanfordXCS224U\\referenceRepo\\cs224u\\torch_color_describer.py:680: RuntimeWarning: divide by zero encountered in power\n",
      "  for t, w in zip(pred, seq)])\n",
      "Finished epoch 10 of 1000; error is 209.5591058731079C:\\Users\\shubh\\My Drive\\MLDL\\stanfordXCS224U\\referenceRepo\\cs224u\\torch_color_describer.py:680: RuntimeWarning: divide by zero encountered in power\n",
      "  for t, w in zip(pred, seq)])\n",
      "Finished epoch 11 of 1000; error is 207.72448825836182C:\\Users\\shubh\\My Drive\\MLDL\\stanfordXCS224U\\referenceRepo\\cs224u\\torch_color_describer.py:680: RuntimeWarning: divide by zero encountered in power\n",
      "  for t, w in zip(pred, seq)])\n",
      "Finished epoch 12 of 1000; error is 204.62932443618774C:\\Users\\shubh\\My Drive\\MLDL\\stanfordXCS224U\\referenceRepo\\cs224u\\torch_color_describer.py:680: RuntimeWarning: divide by zero encountered in power\n",
      "  for t, w in zip(pred, seq)])\n",
      "Finished epoch 13 of 1000; error is 204.2107391357422C:\\Users\\shubh\\My Drive\\MLDL\\stanfordXCS224U\\referenceRepo\\cs224u\\torch_color_describer.py:680: RuntimeWarning: divide by zero encountered in power\n",
      "  for t, w in zip(pred, seq)])\n",
      "Finished epoch 14 of 1000; error is 201.93364095687866C:\\Users\\shubh\\My Drive\\MLDL\\stanfordXCS224U\\referenceRepo\\cs224u\\torch_color_describer.py:680: RuntimeWarning: divide by zero encountered in power\n",
      "  for t, w in zip(pred, seq)])\n",
      "Finished epoch 15 of 1000; error is 199.63105154037476C:\\Users\\shubh\\My Drive\\MLDL\\stanfordXCS224U\\referenceRepo\\cs224u\\torch_color_describer.py:680: RuntimeWarning: divide by zero encountered in power\n",
      "  for t, w in zip(pred, seq)])\n",
      "Finished epoch 16 of 1000; error is 198.63433408737183C:\\Users\\shubh\\My Drive\\MLDL\\stanfordXCS224U\\referenceRepo\\cs224u\\torch_color_describer.py:680: RuntimeWarning: divide by zero encountered in power\n",
      "  for t, w in zip(pred, seq)])\n",
      "Finished epoch 17 of 1000; error is 197.01060914993286C:\\Users\\shubh\\My Drive\\MLDL\\stanfordXCS224U\\referenceRepo\\cs224u\\torch_color_describer.py:680: RuntimeWarning: divide by zero encountered in power\n",
      "  for t, w in zip(pred, seq)])\n",
      "Finished epoch 18 of 1000; error is 194.57523107528687C:\\Users\\shubh\\My Drive\\MLDL\\stanfordXCS224U\\referenceRepo\\cs224u\\torch_color_describer.py:680: RuntimeWarning: divide by zero encountered in power\n",
      "  for t, w in zip(pred, seq)])\n",
      "Finished epoch 19 of 1000; error is 193.12234354019165C:\\Users\\shubh\\My Drive\\MLDL\\stanfordXCS224U\\referenceRepo\\cs224u\\torch_color_describer.py:680: RuntimeWarning: divide by zero encountered in power\n",
      "  for t, w in zip(pred, seq)])\n",
      "Finished epoch 20 of 1000; error is 191.30851650238037C:\\Users\\shubh\\My Drive\\MLDL\\stanfordXCS224U\\referenceRepo\\cs224u\\torch_color_describer.py:680: RuntimeWarning: divide by zero encountered in power\n",
      "  for t, w in zip(pred, seq)])\n",
      "Finished epoch 21 of 1000; error is 189.3459072113037C:\\Users\\shubh\\My Drive\\MLDL\\stanfordXCS224U\\referenceRepo\\cs224u\\torch_color_describer.py:680: RuntimeWarning: divide by zero encountered in power\n",
      "  for t, w in zip(pred, seq)])\n",
      "Finished epoch 22 of 1000; error is 187.90433597564697C:\\Users\\shubh\\My Drive\\MLDL\\stanfordXCS224U\\referenceRepo\\cs224u\\torch_color_describer.py:680: RuntimeWarning: divide by zero encountered in power\n",
      "  for t, w in zip(pred, seq)])\n",
      "Finished epoch 23 of 1000; error is 185.721417427063C:\\Users\\shubh\\My Drive\\MLDL\\stanfordXCS224U\\referenceRepo\\cs224u\\torch_color_describer.py:680: RuntimeWarning: divide by zero encountered in power\n",
      "  for t, w in zip(pred, seq)])\n",
      "Finished epoch 24 of 1000; error is 183.91689729690552C:\\Users\\shubh\\My Drive\\MLDL\\stanfordXCS224U\\referenceRepo\\cs224u\\torch_color_describer.py:680: RuntimeWarning: divide by zero encountered in power\n",
      "  for t, w in zip(pred, seq)])\n",
      "Finished epoch 25 of 1000; error is 182.16307544708252C:\\Users\\shubh\\My Drive\\MLDL\\stanfordXCS224U\\referenceRepo\\cs224u\\torch_color_describer.py:680: RuntimeWarning: divide by zero encountered in power\n",
      "  for t, w in zip(pred, seq)])\n",
      "Finished epoch 26 of 1000; error is 181.21537590026855C:\\Users\\shubh\\My Drive\\MLDL\\stanfordXCS224U\\referenceRepo\\cs224u\\torch_color_describer.py:680: RuntimeWarning: divide by zero encountered in power\n",
      "  for t, w in zip(pred, seq)])\n",
      "Finished epoch 27 of 1000; error is 179.02156019210815C:\\Users\\shubh\\My Drive\\MLDL\\stanfordXCS224U\\referenceRepo\\cs224u\\torch_color_describer.py:680: RuntimeWarning: divide by zero encountered in power\n",
      "  for t, w in zip(pred, seq)])\n",
      "Finished epoch 28 of 1000; error is 177.02005577087402C:\\Users\\shubh\\My Drive\\MLDL\\stanfordXCS224U\\referenceRepo\\cs224u\\torch_color_describer.py:680: RuntimeWarning: divide by zero encountered in power\n",
      "  for t, w in zip(pred, seq)])\n",
      "Finished epoch 29 of 1000; error is 175.9434905052185C:\\Users\\shubh\\My Drive\\MLDL\\stanfordXCS224U\\referenceRepo\\cs224u\\torch_color_describer.py:680: RuntimeWarning: divide by zero encountered in power\n",
      "  for t, w in zip(pred, seq)])\n",
      "Finished epoch 30 of 1000; error is 173.605366230011C:\\Users\\shubh\\My Drive\\MLDL\\stanfordXCS224U\\referenceRepo\\cs224u\\torch_color_describer.py:680: RuntimeWarning: divide by zero encountered in power\n",
      "  for t, w in zip(pred, seq)])\n",
      "Finished epoch 31 of 1000; error is 171.92691946029663C:\\Users\\shubh\\My Drive\\MLDL\\stanfordXCS224U\\referenceRepo\\cs224u\\torch_color_describer.py:680: RuntimeWarning: divide by zero encountered in power\n",
      "  for t, w in zip(pred, seq)])\n",
      "Finished epoch 32 of 1000; error is 170.5085048675537C:\\Users\\shubh\\My Drive\\MLDL\\stanfordXCS224U\\referenceRepo\\cs224u\\torch_color_describer.py:680: RuntimeWarning: divide by zero encountered in power\n",
      "  for t, w in zip(pred, seq)])\n",
      "Finished epoch 33 of 1000; error is 169.49397039413452C:\\Users\\shubh\\My Drive\\MLDL\\stanfordXCS224U\\referenceRepo\\cs224u\\torch_color_describer.py:680: RuntimeWarning: divide by zero encountered in power\n",
      "  for t, w in zip(pred, seq)])\n",
      "Finished epoch 34 of 1000; error is 167.38699007034302C:\\Users\\shubh\\My Drive\\MLDL\\stanfordXCS224U\\referenceRepo\\cs224u\\torch_color_describer.py:680: RuntimeWarning: divide by zero encountered in power\n",
      "  for t, w in zip(pred, seq)])\n",
      "Finished epoch 35 of 1000; error is 166.0791974067688C:\\Users\\shubh\\My Drive\\MLDL\\stanfordXCS224U\\referenceRepo\\cs224u\\torch_color_describer.py:680: RuntimeWarning: divide by zero encountered in power\n",
      "  for t, w in zip(pred, seq)])\n",
      "Finished epoch 36 of 1000; error is 164.03070640563965C:\\Users\\shubh\\My Drive\\MLDL\\stanfordXCS224U\\referenceRepo\\cs224u\\torch_color_describer.py:680: RuntimeWarning: divide by zero encountered in power\n",
      "  for t, w in zip(pred, seq)])\n",
      "Finished epoch 37 of 1000; error is 161.93133974075317C:\\Users\\shubh\\My Drive\\MLDL\\stanfordXCS224U\\referenceRepo\\cs224u\\torch_color_describer.py:680: RuntimeWarning: divide by zero encountered in power\n",
      "  for t, w in zip(pred, seq)])\n",
      "Finished epoch 38 of 1000; error is 160.51954078674316C:\\Users\\shubh\\My Drive\\MLDL\\stanfordXCS224U\\referenceRepo\\cs224u\\torch_color_describer.py:680: RuntimeWarning: divide by zero encountered in power\n",
      "  for t, w in zip(pred, seq)])\n",
      "Finished epoch 39 of 1000; error is 158.84549617767334C:\\Users\\shubh\\My Drive\\MLDL\\stanfordXCS224U\\referenceRepo\\cs224u\\torch_color_describer.py:680: RuntimeWarning: divide by zero encountered in power\n",
      "  for t, w in zip(pred, seq)])\n",
      "Finished epoch 40 of 1000; error is 156.71221542358398C:\\Users\\shubh\\My Drive\\MLDL\\stanfordXCS224U\\referenceRepo\\cs224u\\torch_color_describer.py:680: RuntimeWarning: divide by zero encountered in power\n",
      "  for t, w in zip(pred, seq)])\n",
      "Finished epoch 41 of 1000; error is 155.61363172531128C:\\Users\\shubh\\My Drive\\MLDL\\stanfordXCS224U\\referenceRepo\\cs224u\\torch_color_describer.py:680: RuntimeWarning: divide by zero encountered in power\n",
      "  for t, w in zip(pred, seq)])\n",
      "Finished epoch 42 of 1000; error is 153.67461442947388C:\\Users\\shubh\\My Drive\\MLDL\\stanfordXCS224U\\referenceRepo\\cs224u\\torch_color_describer.py:680: RuntimeWarning: divide by zero encountered in power\n",
      "  for t, w in zip(pred, seq)])\n",
      "Finished epoch 43 of 1000; error is 152.5638861656189C:\\Users\\shubh\\My Drive\\MLDL\\stanfordXCS224U\\referenceRepo\\cs224u\\torch_color_describer.py:680: RuntimeWarning: divide by zero encountered in power\n",
      "  for t, w in zip(pred, seq)])\n",
      "Finished epoch 44 of 1000; error is 150.0289626121521C:\\Users\\shubh\\My Drive\\MLDL\\stanfordXCS224U\\referenceRepo\\cs224u\\torch_color_describer.py:680: RuntimeWarning: divide by zero encountered in power\n",
      "  for t, w in zip(pred, seq)])\n",
      "Finished epoch 45 of 1000; error is 149.0944333076477C:\\Users\\shubh\\My Drive\\MLDL\\stanfordXCS224U\\referenceRepo\\cs224u\\torch_color_describer.py:680: RuntimeWarning: divide by zero encountered in power\n",
      "  for t, w in zip(pred, seq)])\n",
      "Finished epoch 46 of 1000; error is 146.32712936401367C:\\Users\\shubh\\My Drive\\MLDL\\stanfordXCS224U\\referenceRepo\\cs224u\\torch_color_describer.py:680: RuntimeWarning: divide by zero encountered in power\n",
      "  for t, w in zip(pred, seq)])\n",
      "Finished epoch 47 of 1000; error is 145.1080722808838C:\\Users\\shubh\\My Drive\\MLDL\\stanfordXCS224U\\referenceRepo\\cs224u\\torch_color_describer.py:680: RuntimeWarning: divide by zero encountered in power\n",
      "  for t, w in zip(pred, seq)])\n",
      "Finished epoch 48 of 1000; error is 144.05890369415283C:\\Users\\shubh\\My Drive\\MLDL\\stanfordXCS224U\\referenceRepo\\cs224u\\torch_color_describer.py:680: RuntimeWarning: divide by zero encountered in power\n",
      "  for t, w in zip(pred, seq)])\n",
      "Finished epoch 49 of 1000; error is 142.05164194107056C:\\Users\\shubh\\My Drive\\MLDL\\stanfordXCS224U\\referenceRepo\\cs224u\\torch_color_describer.py:680: RuntimeWarning: divide by zero encountered in power\n",
      "  for t, w in zip(pred, seq)])\n",
      "Finished epoch 50 of 1000; error is 140.5737271308899C:\\Users\\shubh\\My Drive\\MLDL\\stanfordXCS224U\\referenceRepo\\cs224u\\torch_color_describer.py:680: RuntimeWarning: divide by zero encountered in power\n",
      "  for t, w in zip(pred, seq)])\n",
      "Finished epoch 51 of 1000; error is 138.62855863571167C:\\Users\\shubh\\My Drive\\MLDL\\stanfordXCS224U\\referenceRepo\\cs224u\\torch_color_describer.py:680: RuntimeWarning: divide by zero encountered in power\n",
      "  for t, w in zip(pred, seq)])\n",
      "Finished epoch 52 of 1000; error is 136.7367992401123C:\\Users\\shubh\\My Drive\\MLDL\\stanfordXCS224U\\referenceRepo\\cs224u\\torch_color_describer.py:680: RuntimeWarning: divide by zero encountered in power\n",
      "  for t, w in zip(pred, seq)])\n",
      "Finished epoch 53 of 1000; error is 135.20669889450073C:\\Users\\shubh\\My Drive\\MLDL\\stanfordXCS224U\\referenceRepo\\cs224u\\torch_color_describer.py:680: RuntimeWarning: divide by zero encountered in power\n",
      "  for t, w in zip(pred, seq)])\n",
      "Finished epoch 54 of 1000; error is 133.69271564483643C:\\Users\\shubh\\My Drive\\MLDL\\stanfordXCS224U\\referenceRepo\\cs224u\\torch_color_describer.py:680: RuntimeWarning: divide by zero encountered in power\n",
      "  for t, w in zip(pred, seq)])\n",
      "Finished epoch 55 of 1000; error is 132.15396356582642C:\\Users\\shubh\\My Drive\\MLDL\\stanfordXCS224U\\referenceRepo\\cs224u\\torch_color_describer.py:680: RuntimeWarning: divide by zero encountered in power\n",
      "  for t, w in zip(pred, seq)])\n",
      "Finished epoch 56 of 1000; error is 130.5404314994812C:\\Users\\shubh\\My Drive\\MLDL\\stanfordXCS224U\\referenceRepo\\cs224u\\torch_color_describer.py:680: RuntimeWarning: divide by zero encountered in power\n",
      "  for t, w in zip(pred, seq)])\n",
      "Finished epoch 57 of 1000; error is 128.66676259040833C:\\Users\\shubh\\My Drive\\MLDL\\stanfordXCS224U\\referenceRepo\\cs224u\\torch_color_describer.py:680: RuntimeWarning: divide by zero encountered in power\n",
      "  for t, w in zip(pred, seq)])\n",
      "Finished epoch 58 of 1000; error is 127.3942322731018C:\\Users\\shubh\\My Drive\\MLDL\\stanfordXCS224U\\referenceRepo\\cs224u\\torch_color_describer.py:680: RuntimeWarning: divide by zero encountered in power\n",
      "  for t, w in zip(pred, seq)])\n",
      "Finished epoch 59 of 1000; error is 125.45233941078186C:\\Users\\shubh\\My Drive\\MLDL\\stanfordXCS224U\\referenceRepo\\cs224u\\torch_color_describer.py:680: RuntimeWarning: divide by zero encountered in power\n",
      "  for t, w in zip(pred, seq)])\n",
      "Finished epoch 60 of 1000; error is 123.43405389785767C:\\Users\\shubh\\My Drive\\MLDL\\stanfordXCS224U\\referenceRepo\\cs224u\\torch_color_describer.py:680: RuntimeWarning: divide by zero encountered in power\n",
      "  for t, w in zip(pred, seq)])\n",
      "Finished epoch 61 of 1000; error is 122.21730637550354C:\\Users\\shubh\\My Drive\\MLDL\\stanfordXCS224U\\referenceRepo\\cs224u\\torch_color_describer.py:680: RuntimeWarning: divide by zero encountered in power\n",
      "  for t, w in zip(pred, seq)])\n",
      "Finished epoch 62 of 1000; error is 120.35654377937317C:\\Users\\shubh\\My Drive\\MLDL\\stanfordXCS224U\\referenceRepo\\cs224u\\torch_color_describer.py:680: RuntimeWarning: divide by zero encountered in power\n",
      "  for t, w in zip(pred, seq)])\n",
      "Finished epoch 63 of 1000; error is 118.84622979164124C:\\Users\\shubh\\My Drive\\MLDL\\stanfordXCS224U\\referenceRepo\\cs224u\\torch_color_describer.py:680: RuntimeWarning: divide by zero encountered in power\n",
      "  for t, w in zip(pred, seq)])\n",
      "Finished epoch 64 of 1000; error is 117.01670861244202C:\\Users\\shubh\\My Drive\\MLDL\\stanfordXCS224U\\referenceRepo\\cs224u\\torch_color_describer.py:680: RuntimeWarning: divide by zero encountered in power\n",
      "  for t, w in zip(pred, seq)])\n",
      "Finished epoch 65 of 1000; error is 115.41044235229492C:\\Users\\shubh\\My Drive\\MLDL\\stanfordXCS224U\\referenceRepo\\cs224u\\torch_color_describer.py:680: RuntimeWarning: divide by zero encountered in power\n",
      "  for t, w in zip(pred, seq)])\n",
      "Finished epoch 66 of 1000; error is 114.00812363624573C:\\Users\\shubh\\My Drive\\MLDL\\stanfordXCS224U\\referenceRepo\\cs224u\\torch_color_describer.py:680: RuntimeWarning: divide by zero encountered in power\n",
      "  for t, w in zip(pred, seq)])\n",
      "Finished epoch 67 of 1000; error is 112.19794487953186C:\\Users\\shubh\\My Drive\\MLDL\\stanfordXCS224U\\referenceRepo\\cs224u\\torch_color_describer.py:680: RuntimeWarning: divide by zero encountered in power\n",
      "  for t, w in zip(pred, seq)])\n",
      "Finished epoch 68 of 1000; error is 110.51908040046692C:\\Users\\shubh\\My Drive\\MLDL\\stanfordXCS224U\\referenceRepo\\cs224u\\torch_color_describer.py:680: RuntimeWarning: divide by zero encountered in power\n",
      "  for t, w in zip(pred, seq)])\n",
      "Finished epoch 69 of 1000; error is 109.2890076637268C:\\Users\\shubh\\My Drive\\MLDL\\stanfordXCS224U\\referenceRepo\\cs224u\\torch_color_describer.py:680: RuntimeWarning: divide by zero encountered in power\n",
      "  for t, w in zip(pred, seq)])\n",
      "Finished epoch 70 of 1000; error is 107.27293491363525C:\\Users\\shubh\\My Drive\\MLDL\\stanfordXCS224U\\referenceRepo\\cs224u\\torch_color_describer.py:680: RuntimeWarning: divide by zero encountered in power\n",
      "  for t, w in zip(pred, seq)])\n",
      "Finished epoch 71 of 1000; error is 105.82968163490295C:\\Users\\shubh\\My Drive\\MLDL\\stanfordXCS224U\\referenceRepo\\cs224u\\torch_color_describer.py:680: RuntimeWarning: divide by zero encountered in power\n",
      "  for t, w in zip(pred, seq)])\n",
      "Finished epoch 72 of 1000; error is 104.46718835830688C:\\Users\\shubh\\My Drive\\MLDL\\stanfordXCS224U\\referenceRepo\\cs224u\\torch_color_describer.py:680: RuntimeWarning: divide by zero encountered in power\n",
      "  for t, w in zip(pred, seq)])\n",
      "Finished epoch 73 of 1000; error is 102.42245268821716C:\\Users\\shubh\\My Drive\\MLDL\\stanfordXCS224U\\referenceRepo\\cs224u\\torch_color_describer.py:680: RuntimeWarning: divide by zero encountered in power\n",
      "  for t, w in zip(pred, seq)])\n",
      "Finished epoch 74 of 1000; error is 100.90423917770386C:\\Users\\shubh\\My Drive\\MLDL\\stanfordXCS224U\\referenceRepo\\cs224u\\torch_color_describer.py:680: RuntimeWarning: divide by zero encountered in power\n",
      "  for t, w in zip(pred, seq)])\n",
      "Finished epoch 75 of 1000; error is 99.2496166229248C:\\Users\\shubh\\My Drive\\MLDL\\stanfordXCS224U\\referenceRepo\\cs224u\\torch_color_describer.py:680: RuntimeWarning: divide by zero encountered in power\n",
      "  for t, w in zip(pred, seq)])\n",
      "Finished epoch 76 of 1000; error is 97.53609490394592C:\\Users\\shubh\\My Drive\\MLDL\\stanfordXCS224U\\referenceRepo\\cs224u\\torch_color_describer.py:680: RuntimeWarning: divide by zero encountered in power\n",
      "  for t, w in zip(pred, seq)])\n",
      "Finished epoch 77 of 1000; error is 96.28351712226868C:\\Users\\shubh\\My Drive\\MLDL\\stanfordXCS224U\\referenceRepo\\cs224u\\torch_color_describer.py:680: RuntimeWarning: divide by zero encountered in power\n",
      "  for t, w in zip(pred, seq)])\n",
      "Finished epoch 78 of 1000; error is 94.36228084564209C:\\Users\\shubh\\My Drive\\MLDL\\stanfordXCS224U\\referenceRepo\\cs224u\\torch_color_describer.py:680: RuntimeWarning: divide by zero encountered in power\n",
      "  for t, w in zip(pred, seq)])\n",
      "Finished epoch 79 of 1000; error is 92.88532400131226C:\\Users\\shubh\\My Drive\\MLDL\\stanfordXCS224U\\referenceRepo\\cs224u\\torch_color_describer.py:680: RuntimeWarning: divide by zero encountered in power\n",
      "  for t, w in zip(pred, seq)])\n",
      "Finished epoch 80 of 1000; error is 91.41028094291687C:\\Users\\shubh\\My Drive\\MLDL\\stanfordXCS224U\\referenceRepo\\cs224u\\torch_color_describer.py:680: RuntimeWarning: divide by zero encountered in power\n",
      "  for t, w in zip(pred, seq)])\n",
      "Finished epoch 81 of 1000; error is 89.86175799369812C:\\Users\\shubh\\My Drive\\MLDL\\stanfordXCS224U\\referenceRepo\\cs224u\\torch_color_describer.py:680: RuntimeWarning: divide by zero encountered in power\n",
      "  for t, w in zip(pred, seq)])\n",
      "Finished epoch 82 of 1000; error is 87.904456615448C:\\Users\\shubh\\My Drive\\MLDL\\stanfordXCS224U\\referenceRepo\\cs224u\\torch_color_describer.py:680: RuntimeWarning: divide by zero encountered in power\n",
      "  for t, w in zip(pred, seq)])\n",
      "Finished epoch 83 of 1000; error is 86.74801325798035C:\\Users\\shubh\\My Drive\\MLDL\\stanfordXCS224U\\referenceRepo\\cs224u\\torch_color_describer.py:680: RuntimeWarning: divide by zero encountered in power\n",
      "  for t, w in zip(pred, seq)])\n",
      "Finished epoch 84 of 1000; error is 85.43615055084229C:\\Users\\shubh\\My Drive\\MLDL\\stanfordXCS224U\\referenceRepo\\cs224u\\torch_color_describer.py:680: RuntimeWarning: divide by zero encountered in power\n",
      "  for t, w in zip(pred, seq)])\n",
      "Finished epoch 85 of 1000; error is 83.64473843574524C:\\Users\\shubh\\My Drive\\MLDL\\stanfordXCS224U\\referenceRepo\\cs224u\\torch_color_describer.py:680: RuntimeWarning: divide by zero encountered in power\n",
      "  for t, w in zip(pred, seq)])\n",
      "Finished epoch 86 of 1000; error is 82.11292028427124C:\\Users\\shubh\\My Drive\\MLDL\\stanfordXCS224U\\referenceRepo\\cs224u\\torch_color_describer.py:680: RuntimeWarning: divide by zero encountered in power\n",
      "  for t, w in zip(pred, seq)])\n",
      "Finished epoch 87 of 1000; error is 80.71081399917603C:\\Users\\shubh\\My Drive\\MLDL\\stanfordXCS224U\\referenceRepo\\cs224u\\torch_color_describer.py:680: RuntimeWarning: divide by zero encountered in power\n",
      "  for t, w in zip(pred, seq)])\n",
      "Stopping after epoch 88. Validation score did not improve by tol=1e-05 for more than 10 epochs. Final error is 79.09874248504639C:\\Users\\shubh\\My Drive\\MLDL\\stanfordXCS224U\\referenceRepo\\cs224u\\torch_color_describer.py:680: RuntimeWarning: divide by zero encountered in power\n",
      "  for t, w in zip(pred, seq)])\n"
     ]
    },
    {
     "name": "stdout",
     "output_type": "stream",
     "text": [
      "listener_accuracy:\n",
      " 0.856072857264448\n",
      "bleu:\n",
      " 0.4579539456811523\n"
     ]
    }
   ],
   "source": [
    "# trying this model to get a ballpark for its performance\n",
    "if 'IS_GRADESCOPE_ENV' not in os.environ:\n",
    "    full_exp_roberta_embedding_color_input_mod = ExpColorizedInputDescriber(\n",
    "        vocab=full_train_roberta_vocab,\n",
    "        embedding=full_train_roberta_embedding,\n",
    "        encoder_hidden_dim=256,\n",
    "        decoder_hidden_dim=256,\n",
    "        early_stopping=True)\n",
    "\n",
    "    _ = full_exp_roberta_embedding_color_input_mod.fit(full_cols_train, full_seqs_train)\n",
    "\n",
    "    print(\"listener_accuracy:\\n\", full_exp_roberta_embedding_color_input_mod.listener_accuracy(full_cols_test, full_seqs_test))\n",
    "    print(\"bleu:\\n\", full_exp_roberta_embedding_color_input_mod.corpus_bleu(full_cols_test, full_seqs_test)[0])"
   ],
   "metadata": {
    "collapsed": false,
    "pycharm": {
     "name": "#%%\n"
    }
   }
  },
  {
   "cell_type": "markdown",
   "source": [
    "Scores:\n",
    "**_Default settings + hidden_dim (256, 256) + 2 hidden layers, 0.8 dropout, unidirectional 0.856, 0.458_**"
   ],
   "metadata": {
    "collapsed": false,
    "pycharm": {
     "name": "#%% md\n"
    }
   }
  },
  {
   "cell_type": "markdown",
   "source": [
    "### 9. Trying different hidden dims for encoder and decoder (Improvement on the Experimental Model above)"
   ],
   "metadata": {
    "collapsed": false,
    "pycharm": {
     "name": "#%% md\n"
    }
   }
  },
  {
   "cell_type": "code",
   "execution_count": 503,
   "outputs": [],
   "source": [
    "if 'IS_GRADESCOPE_ENV' not in os.environ:\n",
    "\n",
    "    class VarColorContextDecoder(ColorContextDecoder):\n",
    "        def __init__(self, *args, **kwargs):\n",
    "            super().__init__(*args, **kwargs)\n",
    "\n",
    "            self.rnn = nn.LSTM(\n",
    "                input_size=self.embed_dim + self.color_dim,\n",
    "                hidden_size=self.hidden_dim,\n",
    "                num_layers=2,\n",
    "                batch_first=True,\n",
    "                dropout=0.5,\n",
    "                bidirectional=False\n",
    "            )\n",
    "            self.output_layer = nn.Linear((int(self.rnn.bidirectional) + 1) * self.hidden_dim, self.vocab_size)\n",
    "\n",
    "    class VarEncoder(Encoder):\n",
    "        def __init__(self, *args, **kwargs):\n",
    "            super().__init__(*args, **kwargs)\n",
    "\n",
    "            self.rnn = nn.LSTM(\n",
    "                input_size=self.color_dim,\n",
    "                hidden_size=self.hidden_dim,\n",
    "                num_layers=2,\n",
    "                batch_first=True,\n",
    "                dropout=0.5,\n",
    "                bidirectional=False\n",
    "            )\n",
    "\n",
    "    class VarColorizedEncoderDecoder(ColorizedEncoderDecoder):\n",
    "        def __init__(self, *args, **kwargs):\n",
    "            super().__init__(*args, **kwargs)\n",
    "\n",
    "            # Adapters\n",
    "            self.encoder_decoder_adapter_h = nn.Linear(self.encoder.hidden_dim, self.decoder.hidden_dim)\n",
    "            self.adapter_activation_h = nn.ReLU()\n",
    "            self.dropout_h = nn.Dropout(p=0.5)\n",
    "\n",
    "            self.encoder_decoder_adapter_c = nn.Linear(self.encoder.hidden_dim, self.decoder.hidden_dim)\n",
    "            self.adapter_activation_c = nn.ReLU()\n",
    "            self.dropout_c = nn.Dropout(p=0.5)\n",
    "\n",
    "        def forward(self,\n",
    "            color_seqs,\n",
    "            word_seqs,\n",
    "            seq_lengths=None,\n",
    "            hidden=None,\n",
    "            targets=None):\n",
    "\n",
    "            if hidden is None:\n",
    "                hidden = self.encoder(color_seqs)\n",
    "\n",
    "            if hidden[0].shape[2] != self.decoder.hidden_dim:\n",
    "                hidden_h = self.dropout_h(self.adapter_activation_h(self.encoder_decoder_adapter_h(hidden[0])))\n",
    "                hidden_c = self.dropout_c(self.adapter_activation_c(self.encoder_decoder_adapter_c(hidden[1])))\n",
    "                hidden = (hidden_h, hidden_c)\n",
    "\n",
    "            # color_seqs -> (m, 3, color_dim)\n",
    "            target_color_seq = color_seqs[:, 2, :] # -> (m, 1, color_dim)\n",
    "            target_color_seq = torch.squeeze(target_color_seq, dim=1) # -> (m, color_dim)\n",
    "\n",
    "            output, hidden = self.decoder(\n",
    "                word_seqs, seq_lengths=seq_lengths, hidden=hidden, target_colors=target_color_seq)\n",
    "\n",
    "            if self.training:\n",
    "                return output\n",
    "            else:\n",
    "                return output, hidden\n",
    "\n",
    "\n",
    "    class VarColorizedInputDescriber(ColorizedInputDescriber):\n",
    "        def __init__(self, encoder_hidden_dim=50, decoder_hidden_dim=50, *args, **kwargs):\n",
    "            super().__init__(*args, **kwargs)\n",
    "            self.encoder_hidden_dim = encoder_hidden_dim\n",
    "            self.decoder_hidden_dim = decoder_hidden_dim\n",
    "\n",
    "            # to easily find if self.hidden_dim is being used elsewhere\n",
    "            self.hidden_dim = 0\n",
    "            self.params += ['encoder_hidden_dim', 'decoder_hidden_dim']\n",
    "\n",
    "        def build_graph(self):\n",
    "            encoder = VarEncoder(\n",
    "                color_dim=self.color_dim,\n",
    "                hidden_dim=self.encoder_hidden_dim\n",
    "            )\n",
    "\n",
    "            decoder = VarColorContextDecoder(\n",
    "                color_dim=self.color_dim,\n",
    "                vocab_size=self.vocab_size,\n",
    "                embed_dim=self.embed_dim,\n",
    "                embedding=self.embedding,\n",
    "                hidden_dim=self.decoder_hidden_dim,\n",
    "                freeze_embedding=self.freeze_embedding\n",
    "            )\n",
    "\n",
    "            return VarColorizedEncoderDecoder(encoder, decoder)\n"
   ],
   "metadata": {
    "collapsed": false,
    "pycharm": {
     "name": "#%%\n"
    }
   }
  },
  {
   "cell_type": "code",
   "execution_count": 488,
   "outputs": [
    {
     "name": "stderr",
     "output_type": "stream",
     "text": [
      "Finished epoch 1000 of 1000; error is 0.11831463128328323"
     ]
    },
    {
     "name": "stdout",
     "output_type": "stream",
     "text": [
      "Test result:\n",
      " 1.0\n"
     ]
    }
   ],
   "source": [
    "if 'IS_GRADESCOPE_ENV' not in os.environ:\n",
    "    print(\"Test result:\\n\", test_exp_full_system(VarColorizedInputDescriber))"
   ],
   "metadata": {
    "collapsed": false,
    "pycharm": {
     "name": "#%%\n"
    }
   }
  },
  {
   "cell_type": "code",
   "execution_count": 504,
   "outputs": [
    {
     "name": "stderr",
     "output_type": "stream",
     "text": [
      "C:\\Users\\shubh\\My Drive\\MLDL\\stanfordXCS224U\\referenceRepo\\cs224u\\torch_color_describer.py:680: RuntimeWarning: divide by zero encountered in power\n",
      "  perp = [np.prod(s)**(-1/len(s)) for s in scores]\n",
      "Finished epoch 1 of 1000; error is 233.45282173156738C:\\Users\\shubh\\My Drive\\MLDL\\stanfordXCS224U\\referenceRepo\\cs224u\\torch_color_describer.py:680: RuntimeWarning: divide by zero encountered in power\n",
      "  perp = [np.prod(s)**(-1/len(s)) for s in scores]\n",
      "Finished epoch 2 of 1000; error is 225.92025661468506C:\\Users\\shubh\\My Drive\\MLDL\\stanfordXCS224U\\referenceRepo\\cs224u\\torch_color_describer.py:680: RuntimeWarning: divide by zero encountered in power\n",
      "  perp = [np.prod(s)**(-1/len(s)) for s in scores]\n",
      "Finished epoch 3 of 1000; error is 223.60535717010498C:\\Users\\shubh\\My Drive\\MLDL\\stanfordXCS224U\\referenceRepo\\cs224u\\torch_color_describer.py:680: RuntimeWarning: divide by zero encountered in power\n",
      "  perp = [np.prod(s)**(-1/len(s)) for s in scores]\n",
      "Finished epoch 4 of 1000; error is 221.40638208389282C:\\Users\\shubh\\My Drive\\MLDL\\stanfordXCS224U\\referenceRepo\\cs224u\\torch_color_describer.py:680: RuntimeWarning: divide by zero encountered in power\n",
      "  perp = [np.prod(s)**(-1/len(s)) for s in scores]\n",
      "Finished epoch 5 of 1000; error is 218.93102025985718C:\\Users\\shubh\\My Drive\\MLDL\\stanfordXCS224U\\referenceRepo\\cs224u\\torch_color_describer.py:680: RuntimeWarning: divide by zero encountered in power\n",
      "  perp = [np.prod(s)**(-1/len(s)) for s in scores]\n",
      "Finished epoch 6 of 1000; error is 216.33509302139282C:\\Users\\shubh\\My Drive\\MLDL\\stanfordXCS224U\\referenceRepo\\cs224u\\torch_color_describer.py:680: RuntimeWarning: divide by zero encountered in power\n",
      "  perp = [np.prod(s)**(-1/len(s)) for s in scores]\n",
      "Finished epoch 7 of 1000; error is 214.49367761611938C:\\Users\\shubh\\My Drive\\MLDL\\stanfordXCS224U\\referenceRepo\\cs224u\\torch_color_describer.py:680: RuntimeWarning: divide by zero encountered in power\n",
      "  perp = [np.prod(s)**(-1/len(s)) for s in scores]\n",
      "Finished epoch 8 of 1000; error is 213.03249597549438C:\\Users\\shubh\\My Drive\\MLDL\\stanfordXCS224U\\referenceRepo\\cs224u\\torch_color_describer.py:680: RuntimeWarning: divide by zero encountered in power\n",
      "  perp = [np.prod(s)**(-1/len(s)) for s in scores]\n",
      "Finished epoch 9 of 1000; error is 210.1119623184204C:\\Users\\shubh\\My Drive\\MLDL\\stanfordXCS224U\\referenceRepo\\cs224u\\torch_color_describer.py:680: RuntimeWarning: divide by zero encountered in power\n",
      "  perp = [np.prod(s)**(-1/len(s)) for s in scores]\n",
      "Finished epoch 10 of 1000; error is 208.62554264068604C:\\Users\\shubh\\My Drive\\MLDL\\stanfordXCS224U\\referenceRepo\\cs224u\\torch_color_describer.py:680: RuntimeWarning: divide by zero encountered in power\n",
      "  perp = [np.prod(s)**(-1/len(s)) for s in scores]\n",
      "Finished epoch 11 of 1000; error is 206.483726978302C:\\Users\\shubh\\My Drive\\MLDL\\stanfordXCS224U\\referenceRepo\\cs224u\\torch_color_describer.py:680: RuntimeWarning: divide by zero encountered in power\n",
      "  perp = [np.prod(s)**(-1/len(s)) for s in scores]\n",
      "Finished epoch 12 of 1000; error is 204.60724020004272C:\\Users\\shubh\\My Drive\\MLDL\\stanfordXCS224U\\referenceRepo\\cs224u\\torch_color_describer.py:680: RuntimeWarning: divide by zero encountered in power\n",
      "  perp = [np.prod(s)**(-1/len(s)) for s in scores]\n",
      "Finished epoch 13 of 1000; error is 202.62878131866455C:\\Users\\shubh\\My Drive\\MLDL\\stanfordXCS224U\\referenceRepo\\cs224u\\torch_color_describer.py:680: RuntimeWarning: divide by zero encountered in power\n",
      "  perp = [np.prod(s)**(-1/len(s)) for s in scores]\n",
      "Finished epoch 14 of 1000; error is 201.09660148620605C:\\Users\\shubh\\My Drive\\MLDL\\stanfordXCS224U\\referenceRepo\\cs224u\\torch_color_describer.py:680: RuntimeWarning: divide by zero encountered in power\n",
      "  perp = [np.prod(s)**(-1/len(s)) for s in scores]\n",
      "Finished epoch 15 of 1000; error is 199.2314486503601C:\\Users\\shubh\\My Drive\\MLDL\\stanfordXCS224U\\referenceRepo\\cs224u\\torch_color_describer.py:680: RuntimeWarning: divide by zero encountered in power\n",
      "  perp = [np.prod(s)**(-1/len(s)) for s in scores]\n",
      "Finished epoch 16 of 1000; error is 197.0569486618042C:\\Users\\shubh\\My Drive\\MLDL\\stanfordXCS224U\\referenceRepo\\cs224u\\torch_color_describer.py:680: RuntimeWarning: divide by zero encountered in power\n",
      "  perp = [np.prod(s)**(-1/len(s)) for s in scores]\n",
      "Finished epoch 17 of 1000; error is 195.38982486724854C:\\Users\\shubh\\My Drive\\MLDL\\stanfordXCS224U\\referenceRepo\\cs224u\\torch_color_describer.py:680: RuntimeWarning: divide by zero encountered in power\n",
      "  perp = [np.prod(s)**(-1/len(s)) for s in scores]\n",
      "Finished epoch 18 of 1000; error is 194.21841716766357C:\\Users\\shubh\\My Drive\\MLDL\\stanfordXCS224U\\referenceRepo\\cs224u\\torch_color_describer.py:680: RuntimeWarning: divide by zero encountered in power\n",
      "  perp = [np.prod(s)**(-1/len(s)) for s in scores]\n",
      "Finished epoch 19 of 1000; error is 192.6296305656433C:\\Users\\shubh\\My Drive\\MLDL\\stanfordXCS224U\\referenceRepo\\cs224u\\torch_color_describer.py:680: RuntimeWarning: divide by zero encountered in power\n",
      "  perp = [np.prod(s)**(-1/len(s)) for s in scores]\n",
      "Finished epoch 20 of 1000; error is 190.32748460769653C:\\Users\\shubh\\My Drive\\MLDL\\stanfordXCS224U\\referenceRepo\\cs224u\\torch_color_describer.py:680: RuntimeWarning: divide by zero encountered in power\n",
      "  perp = [np.prod(s)**(-1/len(s)) for s in scores]\n",
      "Finished epoch 21 of 1000; error is 188.18556785583496C:\\Users\\shubh\\My Drive\\MLDL\\stanfordXCS224U\\referenceRepo\\cs224u\\torch_color_describer.py:680: RuntimeWarning: divide by zero encountered in power\n",
      "  perp = [np.prod(s)**(-1/len(s)) for s in scores]\n",
      "Finished epoch 22 of 1000; error is 186.9999566078186C:\\Users\\shubh\\My Drive\\MLDL\\stanfordXCS224U\\referenceRepo\\cs224u\\torch_color_describer.py:680: RuntimeWarning: divide by zero encountered in power\n",
      "  perp = [np.prod(s)**(-1/len(s)) for s in scores]\n",
      "Finished epoch 23 of 1000; error is 185.33752012252808C:\\Users\\shubh\\My Drive\\MLDL\\stanfordXCS224U\\referenceRepo\\cs224u\\torch_color_describer.py:680: RuntimeWarning: divide by zero encountered in power\n",
      "  perp = [np.prod(s)**(-1/len(s)) for s in scores]\n",
      "Finished epoch 24 of 1000; error is 183.90730571746826C:\\Users\\shubh\\My Drive\\MLDL\\stanfordXCS224U\\referenceRepo\\cs224u\\torch_color_describer.py:680: RuntimeWarning: divide by zero encountered in power\n",
      "  perp = [np.prod(s)**(-1/len(s)) for s in scores]\n",
      "Finished epoch 25 of 1000; error is 182.38958883285522C:\\Users\\shubh\\My Drive\\MLDL\\stanfordXCS224U\\referenceRepo\\cs224u\\torch_color_describer.py:680: RuntimeWarning: divide by zero encountered in power\n",
      "  perp = [np.prod(s)**(-1/len(s)) for s in scores]\n",
      "Finished epoch 26 of 1000; error is 180.04336786270142C:\\Users\\shubh\\My Drive\\MLDL\\stanfordXCS224U\\referenceRepo\\cs224u\\torch_color_describer.py:680: RuntimeWarning: divide by zero encountered in power\n",
      "  perp = [np.prod(s)**(-1/len(s)) for s in scores]\n",
      "Finished epoch 27 of 1000; error is 178.3897829055786C:\\Users\\shubh\\My Drive\\MLDL\\stanfordXCS224U\\referenceRepo\\cs224u\\torch_color_describer.py:680: RuntimeWarning: divide by zero encountered in power\n",
      "  perp = [np.prod(s)**(-1/len(s)) for s in scores]\n",
      "Finished epoch 28 of 1000; error is 176.45692014694214C:\\Users\\shubh\\My Drive\\MLDL\\stanfordXCS224U\\referenceRepo\\cs224u\\torch_color_describer.py:680: RuntimeWarning: divide by zero encountered in power\n",
      "  perp = [np.prod(s)**(-1/len(s)) for s in scores]\n",
      "Finished epoch 29 of 1000; error is 175.32860279083252C:\\Users\\shubh\\My Drive\\MLDL\\stanfordXCS224U\\referenceRepo\\cs224u\\torch_color_describer.py:680: RuntimeWarning: divide by zero encountered in power\n",
      "  perp = [np.prod(s)**(-1/len(s)) for s in scores]\n",
      "Finished epoch 30 of 1000; error is 173.2947702407837C:\\Users\\shubh\\My Drive\\MLDL\\stanfordXCS224U\\referenceRepo\\cs224u\\torch_color_describer.py:680: RuntimeWarning: divide by zero encountered in power\n",
      "  perp = [np.prod(s)**(-1/len(s)) for s in scores]\n",
      "Finished epoch 31 of 1000; error is 171.58066749572754C:\\Users\\shubh\\My Drive\\MLDL\\stanfordXCS224U\\referenceRepo\\cs224u\\torch_color_describer.py:680: RuntimeWarning: divide by zero encountered in power\n",
      "  perp = [np.prod(s)**(-1/len(s)) for s in scores]\n",
      "Finished epoch 32 of 1000; error is 170.03514766693115C:\\Users\\shubh\\My Drive\\MLDL\\stanfordXCS224U\\referenceRepo\\cs224u\\torch_color_describer.py:680: RuntimeWarning: divide by zero encountered in power\n",
      "  perp = [np.prod(s)**(-1/len(s)) for s in scores]\n",
      "Finished epoch 33 of 1000; error is 168.30450916290283C:\\Users\\shubh\\My Drive\\MLDL\\stanfordXCS224U\\referenceRepo\\cs224u\\torch_color_describer.py:680: RuntimeWarning: divide by zero encountered in power\n",
      "  perp = [np.prod(s)**(-1/len(s)) for s in scores]\n",
      "Finished epoch 34 of 1000; error is 166.49658107757568C:\\Users\\shubh\\My Drive\\MLDL\\stanfordXCS224U\\referenceRepo\\cs224u\\torch_color_describer.py:680: RuntimeWarning: divide by zero encountered in power\n",
      "  perp = [np.prod(s)**(-1/len(s)) for s in scores]\n",
      "Finished epoch 35 of 1000; error is 164.92350816726685C:\\Users\\shubh\\My Drive\\MLDL\\stanfordXCS224U\\referenceRepo\\cs224u\\torch_color_describer.py:680: RuntimeWarning: divide by zero encountered in power\n",
      "  perp = [np.prod(s)**(-1/len(s)) for s in scores]\n",
      "Finished epoch 36 of 1000; error is 163.49899244308472C:\\Users\\shubh\\My Drive\\MLDL\\stanfordXCS224U\\referenceRepo\\cs224u\\torch_color_describer.py:680: RuntimeWarning: divide by zero encountered in power\n",
      "  perp = [np.prod(s)**(-1/len(s)) for s in scores]\n",
      "Finished epoch 37 of 1000; error is 161.8368844985962C:\\Users\\shubh\\My Drive\\MLDL\\stanfordXCS224U\\referenceRepo\\cs224u\\torch_color_describer.py:680: RuntimeWarning: divide by zero encountered in power\n",
      "  perp = [np.prod(s)**(-1/len(s)) for s in scores]\n",
      "Finished epoch 38 of 1000; error is 160.0142593383789C:\\Users\\shubh\\My Drive\\MLDL\\stanfordXCS224U\\referenceRepo\\cs224u\\torch_color_describer.py:680: RuntimeWarning: divide by zero encountered in power\n",
      "  perp = [np.prod(s)**(-1/len(s)) for s in scores]\n",
      "Finished epoch 39 of 1000; error is 158.21553325653076C:\\Users\\shubh\\My Drive\\MLDL\\stanfordXCS224U\\referenceRepo\\cs224u\\torch_color_describer.py:680: RuntimeWarning: divide by zero encountered in power\n",
      "  perp = [np.prod(s)**(-1/len(s)) for s in scores]\n",
      "Finished epoch 40 of 1000; error is 157.00322151184082C:\\Users\\shubh\\My Drive\\MLDL\\stanfordXCS224U\\referenceRepo\\cs224u\\torch_color_describer.py:680: RuntimeWarning: divide by zero encountered in power\n",
      "  perp = [np.prod(s)**(-1/len(s)) for s in scores]\n",
      "Finished epoch 41 of 1000; error is 155.47571229934692C:\\Users\\shubh\\My Drive\\MLDL\\stanfordXCS224U\\referenceRepo\\cs224u\\torch_color_describer.py:680: RuntimeWarning: divide by zero encountered in power\n",
      "  perp = [np.prod(s)**(-1/len(s)) for s in scores]\n",
      "Finished epoch 42 of 1000; error is 153.01338911056519C:\\Users\\shubh\\My Drive\\MLDL\\stanfordXCS224U\\referenceRepo\\cs224u\\torch_color_describer.py:680: RuntimeWarning: divide by zero encountered in power\n",
      "  perp = [np.prod(s)**(-1/len(s)) for s in scores]\n",
      "Finished epoch 43 of 1000; error is 151.73558378219604C:\\Users\\shubh\\My Drive\\MLDL\\stanfordXCS224U\\referenceRepo\\cs224u\\torch_color_describer.py:680: RuntimeWarning: divide by zero encountered in power\n",
      "  perp = [np.prod(s)**(-1/len(s)) for s in scores]\n",
      "Finished epoch 44 of 1000; error is 149.2596731185913C:\\Users\\shubh\\My Drive\\MLDL\\stanfordXCS224U\\referenceRepo\\cs224u\\torch_color_describer.py:680: RuntimeWarning: divide by zero encountered in power\n",
      "  perp = [np.prod(s)**(-1/len(s)) for s in scores]\n",
      "Finished epoch 45 of 1000; error is 148.680438041687C:\\Users\\shubh\\My Drive\\MLDL\\stanfordXCS224U\\referenceRepo\\cs224u\\torch_color_describer.py:680: RuntimeWarning: divide by zero encountered in power\n",
      "  perp = [np.prod(s)**(-1/len(s)) for s in scores]\n",
      "Finished epoch 46 of 1000; error is 145.72987508773804C:\\Users\\shubh\\My Drive\\MLDL\\stanfordXCS224U\\referenceRepo\\cs224u\\torch_color_describer.py:680: RuntimeWarning: divide by zero encountered in power\n",
      "  perp = [np.prod(s)**(-1/len(s)) for s in scores]\n",
      "Finished epoch 47 of 1000; error is 145.2816925048828C:\\Users\\shubh\\My Drive\\MLDL\\stanfordXCS224U\\referenceRepo\\cs224u\\torch_color_describer.py:680: RuntimeWarning: divide by zero encountered in power\n",
      "  perp = [np.prod(s)**(-1/len(s)) for s in scores]\n",
      "Finished epoch 48 of 1000; error is 142.66485977172852C:\\Users\\shubh\\My Drive\\MLDL\\stanfordXCS224U\\referenceRepo\\cs224u\\torch_color_describer.py:680: RuntimeWarning: divide by zero encountered in power\n",
      "  perp = [np.prod(s)**(-1/len(s)) for s in scores]\n",
      "Finished epoch 49 of 1000; error is 141.19829082489014C:\\Users\\shubh\\My Drive\\MLDL\\stanfordXCS224U\\referenceRepo\\cs224u\\torch_color_describer.py:680: RuntimeWarning: divide by zero encountered in power\n",
      "  perp = [np.prod(s)**(-1/len(s)) for s in scores]\n",
      "Finished epoch 50 of 1000; error is 139.80839109420776C:\\Users\\shubh\\My Drive\\MLDL\\stanfordXCS224U\\referenceRepo\\cs224u\\torch_color_describer.py:680: RuntimeWarning: divide by zero encountered in power\n",
      "  perp = [np.prod(s)**(-1/len(s)) for s in scores]\n",
      "Finished epoch 51 of 1000; error is 138.60863733291626C:\\Users\\shubh\\My Drive\\MLDL\\stanfordXCS224U\\referenceRepo\\cs224u\\torch_color_describer.py:680: RuntimeWarning: divide by zero encountered in power\n",
      "  perp = [np.prod(s)**(-1/len(s)) for s in scores]\n",
      "Finished epoch 52 of 1000; error is 136.747576713562C:\\Users\\shubh\\My Drive\\MLDL\\stanfordXCS224U\\referenceRepo\\cs224u\\torch_color_describer.py:680: RuntimeWarning: divide by zero encountered in power\n",
      "  perp = [np.prod(s)**(-1/len(s)) for s in scores]\n",
      "Finished epoch 53 of 1000; error is 134.76183080673218C:\\Users\\shubh\\My Drive\\MLDL\\stanfordXCS224U\\referenceRepo\\cs224u\\torch_color_describer.py:680: RuntimeWarning: divide by zero encountered in power\n",
      "  perp = [np.prod(s)**(-1/len(s)) for s in scores]\n",
      "Finished epoch 54 of 1000; error is 133.33046007156372C:\\Users\\shubh\\My Drive\\MLDL\\stanfordXCS224U\\referenceRepo\\cs224u\\torch_color_describer.py:680: RuntimeWarning: divide by zero encountered in power\n",
      "  perp = [np.prod(s)**(-1/len(s)) for s in scores]\n",
      "Finished epoch 55 of 1000; error is 131.62655544281006C:\\Users\\shubh\\My Drive\\MLDL\\stanfordXCS224U\\referenceRepo\\cs224u\\torch_color_describer.py:680: RuntimeWarning: divide by zero encountered in power\n",
      "  perp = [np.prod(s)**(-1/len(s)) for s in scores]\n",
      "Finished epoch 56 of 1000; error is 129.8556671142578C:\\Users\\shubh\\My Drive\\MLDL\\stanfordXCS224U\\referenceRepo\\cs224u\\torch_color_describer.py:680: RuntimeWarning: divide by zero encountered in power\n",
      "  perp = [np.prod(s)**(-1/len(s)) for s in scores]\n",
      "Finished epoch 57 of 1000; error is 128.38451504707336C:\\Users\\shubh\\My Drive\\MLDL\\stanfordXCS224U\\referenceRepo\\cs224u\\torch_color_describer.py:680: RuntimeWarning: divide by zero encountered in power\n",
      "  perp = [np.prod(s)**(-1/len(s)) for s in scores]\n",
      "Finished epoch 58 of 1000; error is 126.57376074790955C:\\Users\\shubh\\My Drive\\MLDL\\stanfordXCS224U\\referenceRepo\\cs224u\\torch_color_describer.py:680: RuntimeWarning: divide by zero encountered in power\n",
      "  perp = [np.prod(s)**(-1/len(s)) for s in scores]\n",
      "Finished epoch 59 of 1000; error is 125.2720639705658C:\\Users\\shubh\\My Drive\\MLDL\\stanfordXCS224U\\referenceRepo\\cs224u\\torch_color_describer.py:680: RuntimeWarning: divide by zero encountered in power\n",
      "  perp = [np.prod(s)**(-1/len(s)) for s in scores]\n",
      "Finished epoch 60 of 1000; error is 123.63682055473328C:\\Users\\shubh\\My Drive\\MLDL\\stanfordXCS224U\\referenceRepo\\cs224u\\torch_color_describer.py:680: RuntimeWarning: divide by zero encountered in power\n",
      "  perp = [np.prod(s)**(-1/len(s)) for s in scores]\n",
      "Finished epoch 61 of 1000; error is 121.69597339630127C:\\Users\\shubh\\My Drive\\MLDL\\stanfordXCS224U\\referenceRepo\\cs224u\\torch_color_describer.py:680: RuntimeWarning: divide by zero encountered in power\n",
      "  perp = [np.prod(s)**(-1/len(s)) for s in scores]\n",
      "Finished epoch 62 of 1000; error is 120.3342649936676C:\\Users\\shubh\\My Drive\\MLDL\\stanfordXCS224U\\referenceRepo\\cs224u\\torch_color_describer.py:680: RuntimeWarning: divide by zero encountered in power\n",
      "  perp = [np.prod(s)**(-1/len(s)) for s in scores]\n",
      "Finished epoch 63 of 1000; error is 118.52895212173462C:\\Users\\shubh\\My Drive\\MLDL\\stanfordXCS224U\\referenceRepo\\cs224u\\torch_color_describer.py:680: RuntimeWarning: divide by zero encountered in power\n",
      "  perp = [np.prod(s)**(-1/len(s)) for s in scores]\n",
      "Finished epoch 64 of 1000; error is 116.75930547714233C:\\Users\\shubh\\My Drive\\MLDL\\stanfordXCS224U\\referenceRepo\\cs224u\\torch_color_describer.py:680: RuntimeWarning: divide by zero encountered in power\n",
      "  perp = [np.prod(s)**(-1/len(s)) for s in scores]\n",
      "Finished epoch 65 of 1000; error is 115.37615180015564C:\\Users\\shubh\\My Drive\\MLDL\\stanfordXCS224U\\referenceRepo\\cs224u\\torch_color_describer.py:680: RuntimeWarning: divide by zero encountered in power\n",
      "  perp = [np.prod(s)**(-1/len(s)) for s in scores]\n",
      "Finished epoch 66 of 1000; error is 113.42270040512085C:\\Users\\shubh\\My Drive\\MLDL\\stanfordXCS224U\\referenceRepo\\cs224u\\torch_color_describer.py:680: RuntimeWarning: divide by zero encountered in power\n",
      "  perp = [np.prod(s)**(-1/len(s)) for s in scores]\n",
      "Finished epoch 67 of 1000; error is 111.90007042884827C:\\Users\\shubh\\My Drive\\MLDL\\stanfordXCS224U\\referenceRepo\\cs224u\\torch_color_describer.py:680: RuntimeWarning: divide by zero encountered in power\n",
      "  perp = [np.prod(s)**(-1/len(s)) for s in scores]\n",
      "Finished epoch 68 of 1000; error is 110.37358403205872C:\\Users\\shubh\\My Drive\\MLDL\\stanfordXCS224U\\referenceRepo\\cs224u\\torch_color_describer.py:680: RuntimeWarning: divide by zero encountered in power\n",
      "  perp = [np.prod(s)**(-1/len(s)) for s in scores]\n",
      "Finished epoch 69 of 1000; error is 108.6115140914917C:\\Users\\shubh\\My Drive\\MLDL\\stanfordXCS224U\\referenceRepo\\cs224u\\torch_color_describer.py:680: RuntimeWarning: divide by zero encountered in power\n",
      "  perp = [np.prod(s)**(-1/len(s)) for s in scores]\n",
      "Finished epoch 70 of 1000; error is 106.88396668434143C:\\Users\\shubh\\My Drive\\MLDL\\stanfordXCS224U\\referenceRepo\\cs224u\\torch_color_describer.py:680: RuntimeWarning: divide by zero encountered in power\n",
      "  perp = [np.prod(s)**(-1/len(s)) for s in scores]\n",
      "Finished epoch 71 of 1000; error is 105.20206260681152C:\\Users\\shubh\\My Drive\\MLDL\\stanfordXCS224U\\referenceRepo\\cs224u\\torch_color_describer.py:680: RuntimeWarning: divide by zero encountered in power\n",
      "  perp = [np.prod(s)**(-1/len(s)) for s in scores]\n",
      "Finished epoch 72 of 1000; error is 103.88237166404724C:\\Users\\shubh\\My Drive\\MLDL\\stanfordXCS224U\\referenceRepo\\cs224u\\torch_color_describer.py:680: RuntimeWarning: divide by zero encountered in power\n",
      "  perp = [np.prod(s)**(-1/len(s)) for s in scores]\n",
      "Finished epoch 73 of 1000; error is 102.34123253822327C:\\Users\\shubh\\My Drive\\MLDL\\stanfordXCS224U\\referenceRepo\\cs224u\\torch_color_describer.py:680: RuntimeWarning: divide by zero encountered in power\n",
      "  perp = [np.prod(s)**(-1/len(s)) for s in scores]\n",
      "Finished epoch 74 of 1000; error is 100.88674473762512C:\\Users\\shubh\\My Drive\\MLDL\\stanfordXCS224U\\referenceRepo\\cs224u\\torch_color_describer.py:680: RuntimeWarning: divide by zero encountered in power\n",
      "  perp = [np.prod(s)**(-1/len(s)) for s in scores]\n",
      "Finished epoch 75 of 1000; error is 99.10680413246155C:\\Users\\shubh\\My Drive\\MLDL\\stanfordXCS224U\\referenceRepo\\cs224u\\torch_color_describer.py:680: RuntimeWarning: divide by zero encountered in power\n",
      "  perp = [np.prod(s)**(-1/len(s)) for s in scores]\n",
      "Finished epoch 76 of 1000; error is 97.53511190414429C:\\Users\\shubh\\My Drive\\MLDL\\stanfordXCS224U\\referenceRepo\\cs224u\\torch_color_describer.py:680: RuntimeWarning: divide by zero encountered in power\n",
      "  perp = [np.prod(s)**(-1/len(s)) for s in scores]\n",
      "Finished epoch 77 of 1000; error is 96.13444471359253C:\\Users\\shubh\\My Drive\\MLDL\\stanfordXCS224U\\referenceRepo\\cs224u\\torch_color_describer.py:680: RuntimeWarning: divide by zero encountered in power\n",
      "  perp = [np.prod(s)**(-1/len(s)) for s in scores]\n",
      "Finished epoch 78 of 1000; error is 94.50274300575256C:\\Users\\shubh\\My Drive\\MLDL\\stanfordXCS224U\\referenceRepo\\cs224u\\torch_color_describer.py:680: RuntimeWarning: divide by zero encountered in power\n",
      "  perp = [np.prod(s)**(-1/len(s)) for s in scores]\n",
      "Finished epoch 79 of 1000; error is 92.59046626091003C:\\Users\\shubh\\My Drive\\MLDL\\stanfordXCS224U\\referenceRepo\\cs224u\\torch_color_describer.py:680: RuntimeWarning: divide by zero encountered in power\n",
      "  perp = [np.prod(s)**(-1/len(s)) for s in scores]\n",
      "Finished epoch 80 of 1000; error is 91.18824315071106C:\\Users\\shubh\\My Drive\\MLDL\\stanfordXCS224U\\referenceRepo\\cs224u\\torch_color_describer.py:680: RuntimeWarning: divide by zero encountered in power\n",
      "  perp = [np.prod(s)**(-1/len(s)) for s in scores]\n",
      "Finished epoch 81 of 1000; error is 89.66184687614441C:\\Users\\shubh\\My Drive\\MLDL\\stanfordXCS224U\\referenceRepo\\cs224u\\torch_color_describer.py:680: RuntimeWarning: divide by zero encountered in power\n",
      "  perp = [np.prod(s)**(-1/len(s)) for s in scores]\n",
      "Finished epoch 82 of 1000; error is 88.21655678749084C:\\Users\\shubh\\My Drive\\MLDL\\stanfordXCS224U\\referenceRepo\\cs224u\\torch_color_describer.py:680: RuntimeWarning: divide by zero encountered in power\n",
      "  perp = [np.prod(s)**(-1/len(s)) for s in scores]\n",
      "Finished epoch 83 of 1000; error is 86.4125988483429C:\\Users\\shubh\\My Drive\\MLDL\\stanfordXCS224U\\referenceRepo\\cs224u\\torch_color_describer.py:680: RuntimeWarning: divide by zero encountered in power\n",
      "  perp = [np.prod(s)**(-1/len(s)) for s in scores]\n",
      "Finished epoch 84 of 1000; error is 85.1076431274414C:\\Users\\shubh\\My Drive\\MLDL\\stanfordXCS224U\\referenceRepo\\cs224u\\torch_color_describer.py:680: RuntimeWarning: divide by zero encountered in power\n",
      "  perp = [np.prod(s)**(-1/len(s)) for s in scores]\n",
      "Finished epoch 85 of 1000; error is 83.50339603424072C:\\Users\\shubh\\My Drive\\MLDL\\stanfordXCS224U\\referenceRepo\\cs224u\\torch_color_describer.py:680: RuntimeWarning: divide by zero encountered in power\n",
      "  perp = [np.prod(s)**(-1/len(s)) for s in scores]\n",
      "Finished epoch 86 of 1000; error is 81.83445692062378C:\\Users\\shubh\\My Drive\\MLDL\\stanfordXCS224U\\referenceRepo\\cs224u\\torch_color_describer.py:680: RuntimeWarning: divide by zero encountered in power\n",
      "  perp = [np.prod(s)**(-1/len(s)) for s in scores]\n",
      "Finished epoch 87 of 1000; error is 80.50365853309631C:\\Users\\shubh\\My Drive\\MLDL\\stanfordXCS224U\\referenceRepo\\cs224u\\torch_color_describer.py:680: RuntimeWarning: divide by zero encountered in power\n",
      "  perp = [np.prod(s)**(-1/len(s)) for s in scores]\n",
      "Stopping after epoch 88. Validation score did not improve by tol=1e-05 for more than 10 epochs. Final error is 78.96941423416138C:\\Users\\shubh\\My Drive\\MLDL\\stanfordXCS224U\\referenceRepo\\cs224u\\torch_color_describer.py:680: RuntimeWarning: divide by zero encountered in power\n",
      "  perp = [np.prod(s)**(-1/len(s)) for s in scores]\n"
     ]
    },
    {
     "name": "stdout",
     "output_type": "stream",
     "text": [
      "listener_accuracy:\n",
      " 0.8615201293727126\n",
      "bleu:\n",
      " 0.4432190688502166\n"
     ]
    }
   ],
   "source": [
    "# trying this model to get a ballpark for its performance\n",
    "if 'IS_GRADESCOPE_ENV' not in os.environ:\n",
    "    full_var_bert_embedding_color_input_mod = VarColorizedInputDescriber(\n",
    "        vocab=full_train_bert_vocab,\n",
    "        embedding=full_train_bert_embedding,\n",
    "        encoder_hidden_dim=32,\n",
    "        decoder_hidden_dim=256,\n",
    "        early_stopping=True)\n",
    "\n",
    "    _ = full_var_bert_embedding_color_input_mod.fit(full_cols_train, full_seqs_train)\n",
    "\n",
    "    print(\"listener_accuracy:\\n\", full_var_bert_embedding_color_input_mod.listener_accuracy(full_cols_test, full_seqs_test))\n",
    "    print(\"bleu:\\n\", full_var_bert_embedding_color_input_mod.corpus_bleu(full_cols_test, full_seqs_test)[0])\n"
   ],
   "metadata": {
    "collapsed": false,
    "pycharm": {
     "name": "#%%\n"
    }
   }
  },
  {
   "cell_type": "markdown",
   "source": [
    "Scores:\n",
    "default + 1 hidden_layer, 0 dropout, no adapter dropout, unidirectional, hidden_dim(32, 256)-> 0.851, 0.4299\n",
    "**_default + 1 hidden_layer, 0 dropout, 0.5 adapter dropout, unidirectional, hidden_dim(32, 256)-> 0.859, 0.433_**\n",
    "default + 1 hidden_layer, 0 dropout, 0.8 adapter dropout, unidirectional, hidden_dim(32, 256)-> 0.852, 0.434\n",
    "default + 1 hidden_layer, 0 dropout, 0.2 adapter dropout, unidirectional, hidden_dim(32, 256)-> 0.8586, 0.446\n",
    "default + 1 hidden_layer, 0 dropout, 0.5 adapter dropout, unidirectional, hidden_dim(32, 512)->0.855, x\n",
    "default + 1 hidden_layer, 0 dropout, 0.5 adapter dropout, unidirectional, hidden_dim(64, 256)-><similar to before> 0.857, 0.44\n",
    "**_default + 2 hidden_layer, 0.2 dropout, 0.5 adapter dropout, unidirectional, hidden_dim(32, 256)->0.8594, 0.431_**\n",
    "**_default + 2 hidden_layer, 0.5 dropout, 0.5 adapter dropout, unidirectional, hidden_dim(32, 256)->0.86152, 0.4432\n"
   ],
   "metadata": {
    "collapsed": false
   }
  },
  {
   "cell_type": "code",
   "execution_count": 533,
   "outputs": [
    {
     "name": "stderr",
     "output_type": "stream",
     "text": [
      "C:\\Users\\shubh\\My Drive\\MLDL\\stanfordXCS224U\\referenceRepo\\cs224u\\torch_color_describer.py:680: RuntimeWarning: divide by zero encountered in power\n",
      "  perp = [np.prod(s)**(-1/len(s)) for s in scores]\n",
      "Finished epoch 1 of 1000; error is 235.1858515739441C:\\Users\\shubh\\My Drive\\MLDL\\stanfordXCS224U\\referenceRepo\\cs224u\\torch_color_describer.py:680: RuntimeWarning: divide by zero encountered in power\n",
      "  perp = [np.prod(s)**(-1/len(s)) for s in scores]\n",
      "Finished epoch 2 of 1000; error is 228.11025857925415C:\\Users\\shubh\\My Drive\\MLDL\\stanfordXCS224U\\referenceRepo\\cs224u\\torch_color_describer.py:680: RuntimeWarning: divide by zero encountered in power\n",
      "  perp = [np.prod(s)**(-1/len(s)) for s in scores]\n",
      "Finished epoch 3 of 1000; error is 227.64844179153442C:\\Users\\shubh\\My Drive\\MLDL\\stanfordXCS224U\\referenceRepo\\cs224u\\torch_color_describer.py:680: RuntimeWarning: divide by zero encountered in power\n",
      "  perp = [np.prod(s)**(-1/len(s)) for s in scores]\n",
      "Finished epoch 4 of 1000; error is 224.81482410430908C:\\Users\\shubh\\My Drive\\MLDL\\stanfordXCS224U\\referenceRepo\\cs224u\\torch_color_describer.py:680: RuntimeWarning: divide by zero encountered in power\n",
      "  perp = [np.prod(s)**(-1/len(s)) for s in scores]\n",
      "Finished epoch 5 of 1000; error is 222.59332704544067C:\\Users\\shubh\\My Drive\\MLDL\\stanfordXCS224U\\referenceRepo\\cs224u\\torch_color_describer.py:680: RuntimeWarning: divide by zero encountered in power\n",
      "  perp = [np.prod(s)**(-1/len(s)) for s in scores]\n",
      "Finished epoch 6 of 1000; error is 219.15071201324463C:\\Users\\shubh\\My Drive\\MLDL\\stanfordXCS224U\\referenceRepo\\cs224u\\torch_color_describer.py:680: RuntimeWarning: divide by zero encountered in power\n",
      "  perp = [np.prod(s)**(-1/len(s)) for s in scores]\n",
      "Finished epoch 7 of 1000; error is 217.8801040649414C:\\Users\\shubh\\My Drive\\MLDL\\stanfordXCS224U\\referenceRepo\\cs224u\\torch_color_describer.py:680: RuntimeWarning: divide by zero encountered in power\n",
      "  perp = [np.prod(s)**(-1/len(s)) for s in scores]\n",
      "Finished epoch 8 of 1000; error is 215.62143754959106C:\\Users\\shubh\\My Drive\\MLDL\\stanfordXCS224U\\referenceRepo\\cs224u\\torch_color_describer.py:680: RuntimeWarning: divide by zero encountered in power\n",
      "  perp = [np.prod(s)**(-1/len(s)) for s in scores]\n",
      "Finished epoch 9 of 1000; error is 212.35292291641235C:\\Users\\shubh\\My Drive\\MLDL\\stanfordXCS224U\\referenceRepo\\cs224u\\torch_color_describer.py:680: RuntimeWarning: divide by zero encountered in power\n",
      "  perp = [np.prod(s)**(-1/len(s)) for s in scores]\n",
      "Finished epoch 10 of 1000; error is 210.6489748954773C:\\Users\\shubh\\My Drive\\MLDL\\stanfordXCS224U\\referenceRepo\\cs224u\\torch_color_describer.py:680: RuntimeWarning: divide by zero encountered in power\n",
      "  perp = [np.prod(s)**(-1/len(s)) for s in scores]\n",
      "Finished epoch 11 of 1000; error is 208.98213386535645C:\\Users\\shubh\\My Drive\\MLDL\\stanfordXCS224U\\referenceRepo\\cs224u\\torch_color_describer.py:680: RuntimeWarning: divide by zero encountered in power\n",
      "  perp = [np.prod(s)**(-1/len(s)) for s in scores]\n",
      "Finished epoch 12 of 1000; error is 206.22583436965942C:\\Users\\shubh\\My Drive\\MLDL\\stanfordXCS224U\\referenceRepo\\cs224u\\torch_color_describer.py:680: RuntimeWarning: divide by zero encountered in power\n",
      "  perp = [np.prod(s)**(-1/len(s)) for s in scores]\n",
      "Finished epoch 13 of 1000; error is 204.92908763885498C:\\Users\\shubh\\My Drive\\MLDL\\stanfordXCS224U\\referenceRepo\\cs224u\\torch_color_describer.py:680: RuntimeWarning: divide by zero encountered in power\n",
      "  perp = [np.prod(s)**(-1/len(s)) for s in scores]\n",
      "Finished epoch 14 of 1000; error is 203.43856859207153C:\\Users\\shubh\\My Drive\\MLDL\\stanfordXCS224U\\referenceRepo\\cs224u\\torch_color_describer.py:680: RuntimeWarning: divide by zero encountered in power\n",
      "  perp = [np.prod(s)**(-1/len(s)) for s in scores]\n",
      "Finished epoch 15 of 1000; error is 201.59283876419067C:\\Users\\shubh\\My Drive\\MLDL\\stanfordXCS224U\\referenceRepo\\cs224u\\torch_color_describer.py:680: RuntimeWarning: divide by zero encountered in power\n",
      "  perp = [np.prod(s)**(-1/len(s)) for s in scores]\n",
      "Finished epoch 16 of 1000; error is 199.64011144638062C:\\Users\\shubh\\My Drive\\MLDL\\stanfordXCS224U\\referenceRepo\\cs224u\\torch_color_describer.py:680: RuntimeWarning: divide by zero encountered in power\n",
      "  perp = [np.prod(s)**(-1/len(s)) for s in scores]\n",
      "Finished epoch 17 of 1000; error is 198.35247993469238C:\\Users\\shubh\\My Drive\\MLDL\\stanfordXCS224U\\referenceRepo\\cs224u\\torch_color_describer.py:680: RuntimeWarning: divide by zero encountered in power\n",
      "  perp = [np.prod(s)**(-1/len(s)) for s in scores]\n",
      "Finished epoch 18 of 1000; error is 196.36807870864868C:\\Users\\shubh\\My Drive\\MLDL\\stanfordXCS224U\\referenceRepo\\cs224u\\torch_color_describer.py:680: RuntimeWarning: divide by zero encountered in power\n",
      "  perp = [np.prod(s)**(-1/len(s)) for s in scores]\n",
      "Finished epoch 19 of 1000; error is 194.57400274276733C:\\Users\\shubh\\My Drive\\MLDL\\stanfordXCS224U\\referenceRepo\\cs224u\\torch_color_describer.py:680: RuntimeWarning: divide by zero encountered in power\n",
      "  perp = [np.prod(s)**(-1/len(s)) for s in scores]\n",
      "Finished epoch 20 of 1000; error is 193.7530379295349C:\\Users\\shubh\\My Drive\\MLDL\\stanfordXCS224U\\referenceRepo\\cs224u\\torch_color_describer.py:680: RuntimeWarning: divide by zero encountered in power\n",
      "  perp = [np.prod(s)**(-1/len(s)) for s in scores]\n",
      "Finished epoch 21 of 1000; error is 190.70064449310303C:\\Users\\shubh\\My Drive\\MLDL\\stanfordXCS224U\\referenceRepo\\cs224u\\torch_color_describer.py:680: RuntimeWarning: divide by zero encountered in power\n",
      "  perp = [np.prod(s)**(-1/len(s)) for s in scores]\n",
      "Finished epoch 22 of 1000; error is 189.26273679733276C:\\Users\\shubh\\My Drive\\MLDL\\stanfordXCS224U\\referenceRepo\\cs224u\\torch_color_describer.py:680: RuntimeWarning: divide by zero encountered in power\n",
      "  perp = [np.prod(s)**(-1/len(s)) for s in scores]\n",
      "Finished epoch 23 of 1000; error is 187.37666368484497C:\\Users\\shubh\\My Drive\\MLDL\\stanfordXCS224U\\referenceRepo\\cs224u\\torch_color_describer.py:680: RuntimeWarning: divide by zero encountered in power\n",
      "  perp = [np.prod(s)**(-1/len(s)) for s in scores]\n",
      "Finished epoch 24 of 1000; error is 185.86971521377563C:\\Users\\shubh\\My Drive\\MLDL\\stanfordXCS224U\\referenceRepo\\cs224u\\torch_color_describer.py:680: RuntimeWarning: divide by zero encountered in power\n",
      "  perp = [np.prod(s)**(-1/len(s)) for s in scores]\n",
      "Finished epoch 25 of 1000; error is 184.43372774124146C:\\Users\\shubh\\My Drive\\MLDL\\stanfordXCS224U\\referenceRepo\\cs224u\\torch_color_describer.py:680: RuntimeWarning: divide by zero encountered in power\n",
      "  perp = [np.prod(s)**(-1/len(s)) for s in scores]\n",
      "Finished epoch 26 of 1000; error is 183.12056303024292C:\\Users\\shubh\\My Drive\\MLDL\\stanfordXCS224U\\referenceRepo\\cs224u\\torch_color_describer.py:680: RuntimeWarning: divide by zero encountered in power\n",
      "  perp = [np.prod(s)**(-1/len(s)) for s in scores]\n",
      "Finished epoch 27 of 1000; error is 181.2440333366394C:\\Users\\shubh\\My Drive\\MLDL\\stanfordXCS224U\\referenceRepo\\cs224u\\torch_color_describer.py:680: RuntimeWarning: divide by zero encountered in power\n",
      "  perp = [np.prod(s)**(-1/len(s)) for s in scores]\n",
      "Finished epoch 28 of 1000; error is 178.6323070526123C:\\Users\\shubh\\My Drive\\MLDL\\stanfordXCS224U\\referenceRepo\\cs224u\\torch_color_describer.py:680: RuntimeWarning: divide by zero encountered in power\n",
      "  perp = [np.prod(s)**(-1/len(s)) for s in scores]\n",
      "Finished epoch 29 of 1000; error is 176.66510915756226C:\\Users\\shubh\\My Drive\\MLDL\\stanfordXCS224U\\referenceRepo\\cs224u\\torch_color_describer.py:680: RuntimeWarning: divide by zero encountered in power\n",
      "  perp = [np.prod(s)**(-1/len(s)) for s in scores]\n",
      "Finished epoch 30 of 1000; error is 176.5375657081604C:\\Users\\shubh\\My Drive\\MLDL\\stanfordXCS224U\\referenceRepo\\cs224u\\torch_color_describer.py:680: RuntimeWarning: divide by zero encountered in power\n",
      "  perp = [np.prod(s)**(-1/len(s)) for s in scores]\n",
      "Finished epoch 31 of 1000; error is 174.52988004684448C:\\Users\\shubh\\My Drive\\MLDL\\stanfordXCS224U\\referenceRepo\\cs224u\\torch_color_describer.py:680: RuntimeWarning: divide by zero encountered in power\n",
      "  perp = [np.prod(s)**(-1/len(s)) for s in scores]\n",
      "Finished epoch 32 of 1000; error is 172.63762283325195C:\\Users\\shubh\\My Drive\\MLDL\\stanfordXCS224U\\referenceRepo\\cs224u\\torch_color_describer.py:680: RuntimeWarning: divide by zero encountered in power\n",
      "  perp = [np.prod(s)**(-1/len(s)) for s in scores]\n",
      "Finished epoch 33 of 1000; error is 170.41516399383545C:\\Users\\shubh\\My Drive\\MLDL\\stanfordXCS224U\\referenceRepo\\cs224u\\torch_color_describer.py:680: RuntimeWarning: divide by zero encountered in power\n",
      "  perp = [np.prod(s)**(-1/len(s)) for s in scores]\n",
      "Finished epoch 34 of 1000; error is 168.97901058197021C:\\Users\\shubh\\My Drive\\MLDL\\stanfordXCS224U\\referenceRepo\\cs224u\\torch_color_describer.py:680: RuntimeWarning: divide by zero encountered in power\n",
      "  perp = [np.prod(s)**(-1/len(s)) for s in scores]\n",
      "Finished epoch 35 of 1000; error is 167.47762203216553C:\\Users\\shubh\\My Drive\\MLDL\\stanfordXCS224U\\referenceRepo\\cs224u\\torch_color_describer.py:680: RuntimeWarning: divide by zero encountered in power\n",
      "  perp = [np.prod(s)**(-1/len(s)) for s in scores]\n",
      "Finished epoch 36 of 1000; error is 165.75349617004395C:\\Users\\shubh\\My Drive\\MLDL\\stanfordXCS224U\\referenceRepo\\cs224u\\torch_color_describer.py:680: RuntimeWarning: divide by zero encountered in power\n",
      "  perp = [np.prod(s)**(-1/len(s)) for s in scores]\n",
      "Finished epoch 37 of 1000; error is 164.00444746017456C:\\Users\\shubh\\My Drive\\MLDL\\stanfordXCS224U\\referenceRepo\\cs224u\\torch_color_describer.py:680: RuntimeWarning: divide by zero encountered in power\n",
      "  perp = [np.prod(s)**(-1/len(s)) for s in scores]\n",
      "Finished epoch 38 of 1000; error is 162.41728830337524C:\\Users\\shubh\\My Drive\\MLDL\\stanfordXCS224U\\referenceRepo\\cs224u\\torch_color_describer.py:680: RuntimeWarning: divide by zero encountered in power\n",
      "  perp = [np.prod(s)**(-1/len(s)) for s in scores]\n",
      "Finished epoch 39 of 1000; error is 161.08508014678955C:\\Users\\shubh\\My Drive\\MLDL\\stanfordXCS224U\\referenceRepo\\cs224u\\torch_color_describer.py:680: RuntimeWarning: divide by zero encountered in power\n",
      "  perp = [np.prod(s)**(-1/len(s)) for s in scores]\n",
      "Finished epoch 40 of 1000; error is 159.08671283721924C:\\Users\\shubh\\My Drive\\MLDL\\stanfordXCS224U\\referenceRepo\\cs224u\\torch_color_describer.py:680: RuntimeWarning: divide by zero encountered in power\n",
      "  perp = [np.prod(s)**(-1/len(s)) for s in scores]\n",
      "Finished epoch 41 of 1000; error is 157.5006923675537C:\\Users\\shubh\\My Drive\\MLDL\\stanfordXCS224U\\referenceRepo\\cs224u\\torch_color_describer.py:680: RuntimeWarning: divide by zero encountered in power\n",
      "  perp = [np.prod(s)**(-1/len(s)) for s in scores]\n",
      "Finished epoch 42 of 1000; error is 155.22275018692017C:\\Users\\shubh\\My Drive\\MLDL\\stanfordXCS224U\\referenceRepo\\cs224u\\torch_color_describer.py:680: RuntimeWarning: divide by zero encountered in power\n",
      "  perp = [np.prod(s)**(-1/len(s)) for s in scores]\n",
      "Finished epoch 43 of 1000; error is 153.53069972991943C:\\Users\\shubh\\My Drive\\MLDL\\stanfordXCS224U\\referenceRepo\\cs224u\\torch_color_describer.py:680: RuntimeWarning: divide by zero encountered in power\n",
      "  perp = [np.prod(s)**(-1/len(s)) for s in scores]\n",
      "Finished epoch 44 of 1000; error is 152.25578498840332C:\\Users\\shubh\\My Drive\\MLDL\\stanfordXCS224U\\referenceRepo\\cs224u\\torch_color_describer.py:680: RuntimeWarning: divide by zero encountered in power\n",
      "  perp = [np.prod(s)**(-1/len(s)) for s in scores]\n",
      "Finished epoch 45 of 1000; error is 150.46347665786743C:\\Users\\shubh\\My Drive\\MLDL\\stanfordXCS224U\\referenceRepo\\cs224u\\torch_color_describer.py:680: RuntimeWarning: divide by zero encountered in power\n",
      "  perp = [np.prod(s)**(-1/len(s)) for s in scores]\n",
      "Finished epoch 46 of 1000; error is 148.53262996673584C:\\Users\\shubh\\My Drive\\MLDL\\stanfordXCS224U\\referenceRepo\\cs224u\\torch_color_describer.py:680: RuntimeWarning: divide by zero encountered in power\n",
      "  perp = [np.prod(s)**(-1/len(s)) for s in scores]\n",
      "Finished epoch 47 of 1000; error is 147.22784042358398C:\\Users\\shubh\\My Drive\\MLDL\\stanfordXCS224U\\referenceRepo\\cs224u\\torch_color_describer.py:680: RuntimeWarning: divide by zero encountered in power\n",
      "  perp = [np.prod(s)**(-1/len(s)) for s in scores]\n",
      "Finished epoch 48 of 1000; error is 144.5046043395996C:\\Users\\shubh\\My Drive\\MLDL\\stanfordXCS224U\\referenceRepo\\cs224u\\torch_color_describer.py:680: RuntimeWarning: divide by zero encountered in power\n",
      "  perp = [np.prod(s)**(-1/len(s)) for s in scores]\n",
      "Finished epoch 49 of 1000; error is 143.60539436340332C:\\Users\\shubh\\My Drive\\MLDL\\stanfordXCS224U\\referenceRepo\\cs224u\\torch_color_describer.py:680: RuntimeWarning: divide by zero encountered in power\n",
      "  perp = [np.prod(s)**(-1/len(s)) for s in scores]\n",
      "Finished epoch 50 of 1000; error is 141.83219194412231C:\\Users\\shubh\\My Drive\\MLDL\\stanfordXCS224U\\referenceRepo\\cs224u\\torch_color_describer.py:680: RuntimeWarning: divide by zero encountered in power\n",
      "  perp = [np.prod(s)**(-1/len(s)) for s in scores]\n",
      "Finished epoch 51 of 1000; error is 140.30564832687378C:\\Users\\shubh\\My Drive\\MLDL\\stanfordXCS224U\\referenceRepo\\cs224u\\torch_color_describer.py:680: RuntimeWarning: divide by zero encountered in power\n",
      "  perp = [np.prod(s)**(-1/len(s)) for s in scores]\n",
      "Finished epoch 52 of 1000; error is 138.88144969940186C:\\Users\\shubh\\My Drive\\MLDL\\stanfordXCS224U\\referenceRepo\\cs224u\\torch_color_describer.py:680: RuntimeWarning: divide by zero encountered in power\n",
      "  perp = [np.prod(s)**(-1/len(s)) for s in scores]\n",
      "Finished epoch 53 of 1000; error is 137.21130990982056C:\\Users\\shubh\\My Drive\\MLDL\\stanfordXCS224U\\referenceRepo\\cs224u\\torch_color_describer.py:680: RuntimeWarning: divide by zero encountered in power\n",
      "  perp = [np.prod(s)**(-1/len(s)) for s in scores]\n",
      "Finished epoch 54 of 1000; error is 135.504629611969C:\\Users\\shubh\\My Drive\\MLDL\\stanfordXCS224U\\referenceRepo\\cs224u\\torch_color_describer.py:680: RuntimeWarning: divide by zero encountered in power\n",
      "  perp = [np.prod(s)**(-1/len(s)) for s in scores]\n",
      "Finished epoch 55 of 1000; error is 133.3896288871765C:\\Users\\shubh\\My Drive\\MLDL\\stanfordXCS224U\\referenceRepo\\cs224u\\torch_color_describer.py:680: RuntimeWarning: divide by zero encountered in power\n",
      "  perp = [np.prod(s)**(-1/len(s)) for s in scores]\n",
      "Finished epoch 56 of 1000; error is 132.11527967453003C:\\Users\\shubh\\My Drive\\MLDL\\stanfordXCS224U\\referenceRepo\\cs224u\\torch_color_describer.py:680: RuntimeWarning: divide by zero encountered in power\n",
      "  perp = [np.prod(s)**(-1/len(s)) for s in scores]\n",
      "Finished epoch 57 of 1000; error is 130.36231756210327C:\\Users\\shubh\\My Drive\\MLDL\\stanfordXCS224U\\referenceRepo\\cs224u\\torch_color_describer.py:680: RuntimeWarning: divide by zero encountered in power\n",
      "  perp = [np.prod(s)**(-1/len(s)) for s in scores]\n",
      "Finished epoch 58 of 1000; error is 128.93254470825195C:\\Users\\shubh\\My Drive\\MLDL\\stanfordXCS224U\\referenceRepo\\cs224u\\torch_color_describer.py:680: RuntimeWarning: divide by zero encountered in power\n",
      "  perp = [np.prod(s)**(-1/len(s)) for s in scores]\n",
      "Finished epoch 59 of 1000; error is 127.25272679328918C:\\Users\\shubh\\My Drive\\MLDL\\stanfordXCS224U\\referenceRepo\\cs224u\\torch_color_describer.py:680: RuntimeWarning: divide by zero encountered in power\n",
      "  perp = [np.prod(s)**(-1/len(s)) for s in scores]\n",
      "Finished epoch 60 of 1000; error is 125.34666442871094C:\\Users\\shubh\\My Drive\\MLDL\\stanfordXCS224U\\referenceRepo\\cs224u\\torch_color_describer.py:680: RuntimeWarning: divide by zero encountered in power\n",
      "  perp = [np.prod(s)**(-1/len(s)) for s in scores]\n",
      "Finished epoch 61 of 1000; error is 123.5936062335968C:\\Users\\shubh\\My Drive\\MLDL\\stanfordXCS224U\\referenceRepo\\cs224u\\torch_color_describer.py:680: RuntimeWarning: divide by zero encountered in power\n",
      "  perp = [np.prod(s)**(-1/len(s)) for s in scores]\n",
      "Finished epoch 62 of 1000; error is 122.55589318275452C:\\Users\\shubh\\My Drive\\MLDL\\stanfordXCS224U\\referenceRepo\\cs224u\\torch_color_describer.py:680: RuntimeWarning: divide by zero encountered in power\n",
      "  perp = [np.prod(s)**(-1/len(s)) for s in scores]\n",
      "Finished epoch 63 of 1000; error is 120.34075450897217C:\\Users\\shubh\\My Drive\\MLDL\\stanfordXCS224U\\referenceRepo\\cs224u\\torch_color_describer.py:680: RuntimeWarning: divide by zero encountered in power\n",
      "  perp = [np.prod(s)**(-1/len(s)) for s in scores]\n",
      "Finished epoch 64 of 1000; error is 118.67140531539917C:\\Users\\shubh\\My Drive\\MLDL\\stanfordXCS224U\\referenceRepo\\cs224u\\torch_color_describer.py:680: RuntimeWarning: divide by zero encountered in power\n",
      "  perp = [np.prod(s)**(-1/len(s)) for s in scores]\n",
      "Finished epoch 65 of 1000; error is 117.39861154556274C:\\Users\\shubh\\My Drive\\MLDL\\stanfordXCS224U\\referenceRepo\\cs224u\\torch_color_describer.py:680: RuntimeWarning: divide by zero encountered in power\n",
      "  perp = [np.prod(s)**(-1/len(s)) for s in scores]\n",
      "Finished epoch 66 of 1000; error is 115.76841259002686C:\\Users\\shubh\\My Drive\\MLDL\\stanfordXCS224U\\referenceRepo\\cs224u\\torch_color_describer.py:680: RuntimeWarning: divide by zero encountered in power\n",
      "  perp = [np.prod(s)**(-1/len(s)) for s in scores]\n",
      "Finished epoch 67 of 1000; error is 113.51829218864441C:\\Users\\shubh\\My Drive\\MLDL\\stanfordXCS224U\\referenceRepo\\cs224u\\torch_color_describer.py:680: RuntimeWarning: divide by zero encountered in power\n",
      "  perp = [np.prod(s)**(-1/len(s)) for s in scores]\n",
      "Finished epoch 68 of 1000; error is 112.20778369903564C:\\Users\\shubh\\My Drive\\MLDL\\stanfordXCS224U\\referenceRepo\\cs224u\\torch_color_describer.py:680: RuntimeWarning: divide by zero encountered in power\n",
      "  perp = [np.prod(s)**(-1/len(s)) for s in scores]\n",
      "Finished epoch 69 of 1000; error is 110.86868929862976C:\\Users\\shubh\\My Drive\\MLDL\\stanfordXCS224U\\referenceRepo\\cs224u\\torch_color_describer.py:680: RuntimeWarning: divide by zero encountered in power\n",
      "  perp = [np.prod(s)**(-1/len(s)) for s in scores]\n",
      "Stopping after epoch 70. Validation score did not improve by tol=1e-05 for more than 10 epochs. Final error is 109.0212390422821C:\\Users\\shubh\\My Drive\\MLDL\\stanfordXCS224U\\referenceRepo\\cs224u\\torch_color_describer.py:680: RuntimeWarning: divide by zero encountered in power\n",
      "  perp = [np.prod(s)**(-1/len(s)) for s in scores]\n"
     ]
    },
    {
     "name": "stdout",
     "output_type": "stream",
     "text": [
      "listener_accuracy:\n",
      " 0.8531789939569325\n",
      "bleu:\n",
      " 0.4173848705382833\n"
     ]
    }
   ],
   "source": [
    "# testing roberta on this\n",
    "if 'IS_GRADESCOPE_ENV' not in os.environ:\n",
    "    full_var_roberta_embedding_color_input_mod = VarColorizedInputDescriber(\n",
    "        vocab=full_train_roberta_vocab,\n",
    "        embedding=full_train_roberta_embedding,\n",
    "        encoder_hidden_dim=32,\n",
    "        decoder_hidden_dim=256,\n",
    "        early_stopping=True)\n",
    "\n",
    "    _ = full_var_roberta_embedding_color_input_mod.fit(full_cols_train, full_seqs_train)\n",
    "\n",
    "    print(\"listener_accuracy:\\n\", full_var_roberta_embedding_color_input_mod.listener_accuracy(full_cols_test, full_seqs_test))\n",
    "    print(\"bleu:\\n\", full_var_roberta_embedding_color_input_mod.corpus_bleu(full_cols_test, full_seqs_test)[0])"
   ],
   "metadata": {
    "collapsed": false,
    "pycharm": {
     "name": "#%%\n"
    }
   }
  },
  {
   "cell_type": "markdown",
   "source": [
    "**_Score on similar RoBERTa setup: 0.85998, 0.44581 (hidden_dim 32, 512)_**\n",
    "on a hidden_dim (32, 256) the score is: 0.8531, 0.4173"
   ],
   "metadata": {
    "collapsed": false
   }
  },
  {
   "cell_type": "markdown",
   "source": [
    "### 10. Super-sample the dataset (swap 1st and 2nd colors and keep the target text the same)"
   ],
   "metadata": {
    "collapsed": false
   }
  },
  {
   "cell_type": "code",
   "execution_count": 519,
   "outputs": [],
   "source": [
    "if 'IS_GRADESCOPE_ENV' not in os.environ:\n",
    "    # full_rawcols, full_texts = zip(*[[ex.colors, ex.contents] for ex in full_examples])\n",
    "    new_full_rawcols = [[colors[1], colors[0], colors[2]] for colors in full_rawcols]\n",
    "    new_full_texts = full_texts\n",
    "    sup_full_rawcols = full_rawcols + tuple(new_full_rawcols)\n",
    "    sup_full_texts = full_texts + new_full_texts\n",
    "\n",
    "    sup_full_rawcols_train, sup_full_rawcols_test, sup_full_texts_train, sup_full_texts_test = \\\n",
    "    train_test_split(sup_full_rawcols, sup_full_texts)"
   ],
   "metadata": {
    "collapsed": false,
    "pycharm": {
     "name": "#%%\n"
    }
   }
  },
  {
   "cell_type": "code",
   "execution_count": 521,
   "outputs": [],
   "source": [
    "if 'IS_GRADESCOPE_ENV' not in os.environ:\n",
    "    sup_full_seqs_train = [full_tokenize_example(s) for s in sup_full_texts_train]\n",
    "    sup_full_seqs_test = [full_tokenize_example(s) for s in sup_full_texts_test]\n",
    "    sup_full_cols_train = [represent_color_context(colors) for colors in sup_full_rawcols_train]\n",
    "    sup_full_cols_test = [represent_color_context(colors) for colors in sup_full_rawcols_test]"
   ],
   "metadata": {
    "collapsed": false,
    "pycharm": {
     "name": "#%%\n"
    }
   }
  },
  {
   "cell_type": "code",
   "execution_count": 522,
   "outputs": [
    {
     "name": "stderr",
     "output_type": "stream",
     "text": [
      "C:\\Users\\shubh\\My Drive\\MLDL\\stanfordXCS224U\\referenceRepo\\cs224u\\torch_color_describer.py:680: RuntimeWarning: divide by zero encountered in power\n",
      "  perp = [np.prod(s)**(-1/len(s)) for s in scores]\n",
      "Finished epoch 1 of 1000; error is 459.1022353172302C:\\Users\\shubh\\My Drive\\MLDL\\stanfordXCS224U\\referenceRepo\\cs224u\\torch_color_describer.py:680: RuntimeWarning: divide by zero encountered in power\n",
      "  perp = [np.prod(s)**(-1/len(s)) for s in scores]\n",
      "Finished epoch 2 of 1000; error is 446.01817512512207C:\\Users\\shubh\\My Drive\\MLDL\\stanfordXCS224U\\referenceRepo\\cs224u\\torch_color_describer.py:680: RuntimeWarning: divide by zero encountered in power\n",
      "  perp = [np.prod(s)**(-1/len(s)) for s in scores]\n",
      "Finished epoch 3 of 1000; error is 438.7725167274475C:\\Users\\shubh\\My Drive\\MLDL\\stanfordXCS224U\\referenceRepo\\cs224u\\torch_color_describer.py:680: RuntimeWarning: divide by zero encountered in power\n",
      "  perp = [np.prod(s)**(-1/len(s)) for s in scores]\n",
      "Finished epoch 4 of 1000; error is 429.0334315299988C:\\Users\\shubh\\My Drive\\MLDL\\stanfordXCS224U\\referenceRepo\\cs224u\\torch_color_describer.py:680: RuntimeWarning: divide by zero encountered in power\n",
      "  perp = [np.prod(s)**(-1/len(s)) for s in scores]\n",
      "Finished epoch 5 of 1000; error is 421.0300188064575C:\\Users\\shubh\\My Drive\\MLDL\\stanfordXCS224U\\referenceRepo\\cs224u\\torch_color_describer.py:680: RuntimeWarning: divide by zero encountered in power\n",
      "  perp = [np.prod(s)**(-1/len(s)) for s in scores]\n",
      "Finished epoch 6 of 1000; error is 414.0092444419861C:\\Users\\shubh\\My Drive\\MLDL\\stanfordXCS224U\\referenceRepo\\cs224u\\torch_color_describer.py:680: RuntimeWarning: divide by zero encountered in power\n",
      "  perp = [np.prod(s)**(-1/len(s)) for s in scores]\n",
      "Finished epoch 7 of 1000; error is 406.03850841522217C:\\Users\\shubh\\My Drive\\MLDL\\stanfordXCS224U\\referenceRepo\\cs224u\\torch_color_describer.py:680: RuntimeWarning: divide by zero encountered in power\n",
      "  perp = [np.prod(s)**(-1/len(s)) for s in scores]\n",
      "Finished epoch 8 of 1000; error is 398.8743853569031C:\\Users\\shubh\\My Drive\\MLDL\\stanfordXCS224U\\referenceRepo\\cs224u\\torch_color_describer.py:680: RuntimeWarning: divide by zero encountered in power\n",
      "  perp = [np.prod(s)**(-1/len(s)) for s in scores]\n",
      "Finished epoch 9 of 1000; error is 391.1225781440735C:\\Users\\shubh\\My Drive\\MLDL\\stanfordXCS224U\\referenceRepo\\cs224u\\torch_color_describer.py:680: RuntimeWarning: divide by zero encountered in power\n",
      "  perp = [np.prod(s)**(-1/len(s)) for s in scores]\n",
      "Finished epoch 10 of 1000; error is 383.84746980667114C:\\Users\\shubh\\My Drive\\MLDL\\stanfordXCS224U\\referenceRepo\\cs224u\\torch_color_describer.py:680: RuntimeWarning: divide by zero encountered in power\n",
      "  perp = [np.prod(s)**(-1/len(s)) for s in scores]\n",
      "Finished epoch 11 of 1000; error is 377.5865716934204C:\\Users\\shubh\\My Drive\\MLDL\\stanfordXCS224U\\referenceRepo\\cs224u\\torch_color_describer.py:680: RuntimeWarning: divide by zero encountered in power\n",
      "  perp = [np.prod(s)**(-1/len(s)) for s in scores]\n",
      "Finished epoch 12 of 1000; error is 370.8544502258301C:\\Users\\shubh\\My Drive\\MLDL\\stanfordXCS224U\\referenceRepo\\cs224u\\torch_color_describer.py:680: RuntimeWarning: divide by zero encountered in power\n",
      "  perp = [np.prod(s)**(-1/len(s)) for s in scores]\n",
      "Finished epoch 13 of 1000; error is 364.5835027694702C:\\Users\\shubh\\My Drive\\MLDL\\stanfordXCS224U\\referenceRepo\\cs224u\\torch_color_describer.py:680: RuntimeWarning: divide by zero encountered in power\n",
      "  perp = [np.prod(s)**(-1/len(s)) for s in scores]\n",
      "Finished epoch 14 of 1000; error is 356.3789029121399C:\\Users\\shubh\\My Drive\\MLDL\\stanfordXCS224U\\referenceRepo\\cs224u\\torch_color_describer.py:680: RuntimeWarning: divide by zero encountered in power\n",
      "  perp = [np.prod(s)**(-1/len(s)) for s in scores]\n",
      "Finished epoch 15 of 1000; error is 350.0661964416504C:\\Users\\shubh\\My Drive\\MLDL\\stanfordXCS224U\\referenceRepo\\cs224u\\torch_color_describer.py:680: RuntimeWarning: divide by zero encountered in power\n",
      "  perp = [np.prod(s)**(-1/len(s)) for s in scores]\n",
      "Finished epoch 16 of 1000; error is 343.0197710990906C:\\Users\\shubh\\My Drive\\MLDL\\stanfordXCS224U\\referenceRepo\\cs224u\\torch_color_describer.py:680: RuntimeWarning: divide by zero encountered in power\n",
      "  perp = [np.prod(s)**(-1/len(s)) for s in scores]\n",
      "Finished epoch 17 of 1000; error is 335.20982456207275C:\\Users\\shubh\\My Drive\\MLDL\\stanfordXCS224U\\referenceRepo\\cs224u\\torch_color_describer.py:680: RuntimeWarning: divide by zero encountered in power\n",
      "  perp = [np.prod(s)**(-1/len(s)) for s in scores]\n",
      "Finished epoch 18 of 1000; error is 328.68659591674805C:\\Users\\shubh\\My Drive\\MLDL\\stanfordXCS224U\\referenceRepo\\cs224u\\torch_color_describer.py:680: RuntimeWarning: divide by zero encountered in power\n",
      "  perp = [np.prod(s)**(-1/len(s)) for s in scores]\n",
      "Finished epoch 19 of 1000; error is 322.40375900268555C:\\Users\\shubh\\My Drive\\MLDL\\stanfordXCS224U\\referenceRepo\\cs224u\\torch_color_describer.py:680: RuntimeWarning: divide by zero encountered in power\n",
      "  perp = [np.prod(s)**(-1/len(s)) for s in scores]\n",
      "Finished epoch 20 of 1000; error is 315.569974899292C:\\Users\\shubh\\My Drive\\MLDL\\stanfordXCS224U\\referenceRepo\\cs224u\\torch_color_describer.py:680: RuntimeWarning: divide by zero encountered in power\n",
      "  perp = [np.prod(s)**(-1/len(s)) for s in scores]\n",
      "Finished epoch 21 of 1000; error is 309.71237659454346C:\\Users\\shubh\\My Drive\\MLDL\\stanfordXCS224U\\referenceRepo\\cs224u\\torch_color_describer.py:680: RuntimeWarning: divide by zero encountered in power\n",
      "  perp = [np.prod(s)**(-1/len(s)) for s in scores]\n",
      "Finished epoch 22 of 1000; error is 301.3357563018799C:\\Users\\shubh\\My Drive\\MLDL\\stanfordXCS224U\\referenceRepo\\cs224u\\torch_color_describer.py:680: RuntimeWarning: divide by zero encountered in power\n",
      "  perp = [np.prod(s)**(-1/len(s)) for s in scores]\n",
      "Finished epoch 23 of 1000; error is 295.31039667129517C:\\Users\\shubh\\My Drive\\MLDL\\stanfordXCS224U\\referenceRepo\\cs224u\\torch_color_describer.py:680: RuntimeWarning: divide by zero encountered in power\n",
      "  perp = [np.prod(s)**(-1/len(s)) for s in scores]\n",
      "Finished epoch 24 of 1000; error is 289.0591769218445C:\\Users\\shubh\\My Drive\\MLDL\\stanfordXCS224U\\referenceRepo\\cs224u\\torch_color_describer.py:680: RuntimeWarning: divide by zero encountered in power\n",
      "  perp = [np.prod(s)**(-1/len(s)) for s in scores]\n",
      "Finished epoch 25 of 1000; error is 282.0207657814026C:\\Users\\shubh\\My Drive\\MLDL\\stanfordXCS224U\\referenceRepo\\cs224u\\torch_color_describer.py:680: RuntimeWarning: divide by zero encountered in power\n",
      "  perp = [np.prod(s)**(-1/len(s)) for s in scores]\n",
      "Finished epoch 26 of 1000; error is 276.3761215209961C:\\Users\\shubh\\My Drive\\MLDL\\stanfordXCS224U\\referenceRepo\\cs224u\\torch_color_describer.py:680: RuntimeWarning: divide by zero encountered in power\n",
      "  perp = [np.prod(s)**(-1/len(s)) for s in scores]\n",
      "Finished epoch 27 of 1000; error is 268.7479281425476C:\\Users\\shubh\\My Drive\\MLDL\\stanfordXCS224U\\referenceRepo\\cs224u\\torch_color_describer.py:680: RuntimeWarning: divide by zero encountered in power\n",
      "  perp = [np.prod(s)**(-1/len(s)) for s in scores]\n",
      "Finished epoch 28 of 1000; error is 262.1459436416626C:\\Users\\shubh\\My Drive\\MLDL\\stanfordXCS224U\\referenceRepo\\cs224u\\torch_color_describer.py:680: RuntimeWarning: divide by zero encountered in power\n",
      "  perp = [np.prod(s)**(-1/len(s)) for s in scores]\n",
      "Finished epoch 29 of 1000; error is 256.0770695209503C:\\Users\\shubh\\My Drive\\MLDL\\stanfordXCS224U\\referenceRepo\\cs224u\\torch_color_describer.py:680: RuntimeWarning: divide by zero encountered in power\n",
      "  perp = [np.prod(s)**(-1/len(s)) for s in scores]\n",
      "Finished epoch 30 of 1000; error is 249.7526557445526C:\\Users\\shubh\\My Drive\\MLDL\\stanfordXCS224U\\referenceRepo\\cs224u\\torch_color_describer.py:680: RuntimeWarning: divide by zero encountered in power\n",
      "  perp = [np.prod(s)**(-1/len(s)) for s in scores]\n",
      "Finished epoch 31 of 1000; error is 242.01923727989197C:\\Users\\shubh\\My Drive\\MLDL\\stanfordXCS224U\\referenceRepo\\cs224u\\torch_color_describer.py:680: RuntimeWarning: divide by zero encountered in power\n",
      "  perp = [np.prod(s)**(-1/len(s)) for s in scores]\n",
      "Finished epoch 32 of 1000; error is 235.99337792396545C:\\Users\\shubh\\My Drive\\MLDL\\stanfordXCS224U\\referenceRepo\\cs224u\\torch_color_describer.py:680: RuntimeWarning: divide by zero encountered in power\n",
      "  perp = [np.prod(s)**(-1/len(s)) for s in scores]\n",
      "Finished epoch 33 of 1000; error is 229.31043410301208C:\\Users\\shubh\\My Drive\\MLDL\\stanfordXCS224U\\referenceRepo\\cs224u\\torch_color_describer.py:680: RuntimeWarning: divide by zero encountered in power\n",
      "  perp = [np.prod(s)**(-1/len(s)) for s in scores]\n",
      "Finished epoch 34 of 1000; error is 223.08685111999512C:\\Users\\shubh\\My Drive\\MLDL\\stanfordXCS224U\\referenceRepo\\cs224u\\torch_color_describer.py:680: RuntimeWarning: divide by zero encountered in power\n",
      "  perp = [np.prod(s)**(-1/len(s)) for s in scores]\n",
      "Finished epoch 35 of 1000; error is 216.29804611206055C:\\Users\\shubh\\My Drive\\MLDL\\stanfordXCS224U\\referenceRepo\\cs224u\\torch_color_describer.py:680: RuntimeWarning: divide by zero encountered in power\n",
      "  perp = [np.prod(s)**(-1/len(s)) for s in scores]\n",
      "Finished epoch 36 of 1000; error is 210.08319568634033C:\\Users\\shubh\\My Drive\\MLDL\\stanfordXCS224U\\referenceRepo\\cs224u\\torch_color_describer.py:680: RuntimeWarning: divide by zero encountered in power\n",
      "  perp = [np.prod(s)**(-1/len(s)) for s in scores]\n",
      "Finished epoch 37 of 1000; error is 203.70739459991455C:\\Users\\shubh\\My Drive\\MLDL\\stanfordXCS224U\\referenceRepo\\cs224u\\torch_color_describer.py:680: RuntimeWarning: divide by zero encountered in power\n",
      "  perp = [np.prod(s)**(-1/len(s)) for s in scores]\n",
      "Finished epoch 38 of 1000; error is 196.9602336883545C:\\Users\\shubh\\My Drive\\MLDL\\stanfordXCS224U\\referenceRepo\\cs224u\\torch_color_describer.py:680: RuntimeWarning: divide by zero encountered in power\n",
      "  perp = [np.prod(s)**(-1/len(s)) for s in scores]\n",
      "Finished epoch 39 of 1000; error is 190.45141983032227C:\\Users\\shubh\\My Drive\\MLDL\\stanfordXCS224U\\referenceRepo\\cs224u\\torch_color_describer.py:680: RuntimeWarning: divide by zero encountered in power\n",
      "  perp = [np.prod(s)**(-1/len(s)) for s in scores]\n",
      "Finished epoch 40 of 1000; error is 184.2555170059204C:\\Users\\shubh\\My Drive\\MLDL\\stanfordXCS224U\\referenceRepo\\cs224u\\torch_color_describer.py:680: RuntimeWarning: divide by zero encountered in power\n",
      "  perp = [np.prod(s)**(-1/len(s)) for s in scores]\n",
      "Finished epoch 41 of 1000; error is 178.05708146095276C:\\Users\\shubh\\My Drive\\MLDL\\stanfordXCS224U\\referenceRepo\\cs224u\\torch_color_describer.py:680: RuntimeWarning: divide by zero encountered in power\n",
      "  perp = [np.prod(s)**(-1/len(s)) for s in scores]\n",
      "Finished epoch 42 of 1000; error is 171.83323860168457C:\\Users\\shubh\\My Drive\\MLDL\\stanfordXCS224U\\referenceRepo\\cs224u\\torch_color_describer.py:680: RuntimeWarning: divide by zero encountered in power\n",
      "  perp = [np.prod(s)**(-1/len(s)) for s in scores]\n",
      "Finished epoch 43 of 1000; error is 165.95414543151855C:\\Users\\shubh\\My Drive\\MLDL\\stanfordXCS224U\\referenceRepo\\cs224u\\torch_color_describer.py:680: RuntimeWarning: divide by zero encountered in power\n",
      "  perp = [np.prod(s)**(-1/len(s)) for s in scores]\n",
      "Finished epoch 44 of 1000; error is 160.04180932044983C:\\Users\\shubh\\My Drive\\MLDL\\stanfordXCS224U\\referenceRepo\\cs224u\\torch_color_describer.py:680: RuntimeWarning: divide by zero encountered in power\n",
      "  perp = [np.prod(s)**(-1/len(s)) for s in scores]\n",
      "Finished epoch 45 of 1000; error is 153.87370491027832C:\\Users\\shubh\\My Drive\\MLDL\\stanfordXCS224U\\referenceRepo\\cs224u\\torch_color_describer.py:680: RuntimeWarning: divide by zero encountered in power\n",
      "  perp = [np.prod(s)**(-1/len(s)) for s in scores]\n",
      "Finished epoch 46 of 1000; error is 148.05023527145386C:\\Users\\shubh\\My Drive\\MLDL\\stanfordXCS224U\\referenceRepo\\cs224u\\torch_color_describer.py:680: RuntimeWarning: divide by zero encountered in power\n",
      "  perp = [np.prod(s)**(-1/len(s)) for s in scores]\n",
      "Finished epoch 47 of 1000; error is 142.30136728286743C:\\Users\\shubh\\My Drive\\MLDL\\stanfordXCS224U\\referenceRepo\\cs224u\\torch_color_describer.py:680: RuntimeWarning: divide by zero encountered in power\n",
      "  perp = [np.prod(s)**(-1/len(s)) for s in scores]\n",
      "Finished epoch 48 of 1000; error is 136.62693071365356C:\\Users\\shubh\\My Drive\\MLDL\\stanfordXCS224U\\referenceRepo\\cs224u\\torch_color_describer.py:680: RuntimeWarning: divide by zero encountered in power\n",
      "  perp = [np.prod(s)**(-1/len(s)) for s in scores]\n",
      "Finished epoch 49 of 1000; error is 131.01768326759338C:\\Users\\shubh\\My Drive\\MLDL\\stanfordXCS224U\\referenceRepo\\cs224u\\torch_color_describer.py:680: RuntimeWarning: divide by zero encountered in power\n",
      "  perp = [np.prod(s)**(-1/len(s)) for s in scores]\n",
      "Finished epoch 50 of 1000; error is 125.62305641174316C:\\Users\\shubh\\My Drive\\MLDL\\stanfordXCS224U\\referenceRepo\\cs224u\\torch_color_describer.py:680: RuntimeWarning: divide by zero encountered in power\n",
      "  perp = [np.prod(s)**(-1/len(s)) for s in scores]\n",
      "Finished epoch 51 of 1000; error is 120.20828104019165C:\\Users\\shubh\\My Drive\\MLDL\\stanfordXCS224U\\referenceRepo\\cs224u\\torch_color_describer.py:680: RuntimeWarning: divide by zero encountered in power\n",
      "  perp = [np.prod(s)**(-1/len(s)) for s in scores]\n",
      "Finished epoch 52 of 1000; error is 115.0683045387268C:\\Users\\shubh\\My Drive\\MLDL\\stanfordXCS224U\\referenceRepo\\cs224u\\torch_color_describer.py:680: RuntimeWarning: divide by zero encountered in power\n",
      "  perp = [np.prod(s)**(-1/len(s)) for s in scores]\n",
      "Finished epoch 53 of 1000; error is 109.98053801059723C:\\Users\\shubh\\My Drive\\MLDL\\stanfordXCS224U\\referenceRepo\\cs224u\\torch_color_describer.py:680: RuntimeWarning: divide by zero encountered in power\n",
      "  perp = [np.prod(s)**(-1/len(s)) for s in scores]\n",
      "Finished epoch 54 of 1000; error is 105.04246318340302C:\\Users\\shubh\\My Drive\\MLDL\\stanfordXCS224U\\referenceRepo\\cs224u\\torch_color_describer.py:680: RuntimeWarning: divide by zero encountered in power\n",
      "  perp = [np.prod(s)**(-1/len(s)) for s in scores]\n",
      "Finished epoch 55 of 1000; error is 100.27293503284454C:\\Users\\shubh\\My Drive\\MLDL\\stanfordXCS224U\\referenceRepo\\cs224u\\torch_color_describer.py:680: RuntimeWarning: divide by zero encountered in power\n",
      "  perp = [np.prod(s)**(-1/len(s)) for s in scores]\n",
      "Finished epoch 56 of 1000; error is 95.66449272632599C:\\Users\\shubh\\My Drive\\MLDL\\stanfordXCS224U\\referenceRepo\\cs224u\\torch_color_describer.py:680: RuntimeWarning: divide by zero encountered in power\n",
      "  perp = [np.prod(s)**(-1/len(s)) for s in scores]\n",
      "Finished epoch 57 of 1000; error is 91.27934956550598C:\\Users\\shubh\\My Drive\\MLDL\\stanfordXCS224U\\referenceRepo\\cs224u\\torch_color_describer.py:680: RuntimeWarning: divide by zero encountered in power\n",
      "  perp = [np.prod(s)**(-1/len(s)) for s in scores]\n",
      "Finished epoch 58 of 1000; error is 86.99853444099426C:\\Users\\shubh\\My Drive\\MLDL\\stanfordXCS224U\\referenceRepo\\cs224u\\torch_color_describer.py:680: RuntimeWarning: divide by zero encountered in power\n",
      "  perp = [np.prod(s)**(-1/len(s)) for s in scores]\n",
      "Finished epoch 59 of 1000; error is 83.00074017047882C:\\Users\\shubh\\My Drive\\MLDL\\stanfordXCS224U\\referenceRepo\\cs224u\\torch_color_describer.py:680: RuntimeWarning: divide by zero encountered in power\n",
      "  perp = [np.prod(s)**(-1/len(s)) for s in scores]\n",
      "Finished epoch 60 of 1000; error is 78.94747805595398C:\\Users\\shubh\\My Drive\\MLDL\\stanfordXCS224U\\referenceRepo\\cs224u\\torch_color_describer.py:680: RuntimeWarning: divide by zero encountered in power\n",
      "  perp = [np.prod(s)**(-1/len(s)) for s in scores]\n",
      "Finished epoch 61 of 1000; error is 75.34903705120087C:\\Users\\shubh\\My Drive\\MLDL\\stanfordXCS224U\\referenceRepo\\cs224u\\torch_color_describer.py:680: RuntimeWarning: divide by zero encountered in power\n",
      "  perp = [np.prod(s)**(-1/len(s)) for s in scores]\n",
      "Finished epoch 62 of 1000; error is 71.69040095806122C:\\Users\\shubh\\My Drive\\MLDL\\stanfordXCS224U\\referenceRepo\\cs224u\\torch_color_describer.py:680: RuntimeWarning: divide by zero encountered in power\n",
      "  perp = [np.prod(s)**(-1/len(s)) for s in scores]\n",
      "Finished epoch 63 of 1000; error is 68.30082678794861C:\\Users\\shubh\\My Drive\\MLDL\\stanfordXCS224U\\referenceRepo\\cs224u\\torch_color_describer.py:680: RuntimeWarning: divide by zero encountered in power\n",
      "  perp = [np.prod(s)**(-1/len(s)) for s in scores]\n",
      "Finished epoch 64 of 1000; error is 64.89966928958893C:\\Users\\shubh\\My Drive\\MLDL\\stanfordXCS224U\\referenceRepo\\cs224u\\torch_color_describer.py:680: RuntimeWarning: divide by zero encountered in power\n",
      "  perp = [np.prod(s)**(-1/len(s)) for s in scores]\n",
      "Finished epoch 65 of 1000; error is 62.101187229156494C:\\Users\\shubh\\My Drive\\MLDL\\stanfordXCS224U\\referenceRepo\\cs224u\\torch_color_describer.py:680: RuntimeWarning: divide by zero encountered in power\n",
      "  perp = [np.prod(s)**(-1/len(s)) for s in scores]\n",
      "Finished epoch 66 of 1000; error is 59.07953417301178C:\\Users\\shubh\\My Drive\\MLDL\\stanfordXCS224U\\referenceRepo\\cs224u\\torch_color_describer.py:680: RuntimeWarning: divide by zero encountered in power\n",
      "  perp = [np.prod(s)**(-1/len(s)) for s in scores]\n",
      "Finished epoch 67 of 1000; error is 56.499714493751526C:\\Users\\shubh\\My Drive\\MLDL\\stanfordXCS224U\\referenceRepo\\cs224u\\torch_color_describer.py:680: RuntimeWarning: divide by zero encountered in power\n",
      "  perp = [np.prod(s)**(-1/len(s)) for s in scores]\n",
      "Finished epoch 68 of 1000; error is 53.94904583692551C:\\Users\\shubh\\My Drive\\MLDL\\stanfordXCS224U\\referenceRepo\\cs224u\\torch_color_describer.py:680: RuntimeWarning: divide by zero encountered in power\n",
      "  perp = [np.prod(s)**(-1/len(s)) for s in scores]\n",
      "Finished epoch 69 of 1000; error is 51.6044180393219C:\\Users\\shubh\\My Drive\\MLDL\\stanfordXCS224U\\referenceRepo\\cs224u\\torch_color_describer.py:680: RuntimeWarning: divide by zero encountered in power\n",
      "  perp = [np.prod(s)**(-1/len(s)) for s in scores]\n",
      "Finished epoch 70 of 1000; error is 49.146157920360565C:\\Users\\shubh\\My Drive\\MLDL\\stanfordXCS224U\\referenceRepo\\cs224u\\torch_color_describer.py:680: RuntimeWarning: divide by zero encountered in power\n",
      "  perp = [np.prod(s)**(-1/len(s)) for s in scores]\n",
      "Finished epoch 71 of 1000; error is 46.9909051656723C:\\Users\\shubh\\My Drive\\MLDL\\stanfordXCS224U\\referenceRepo\\cs224u\\torch_color_describer.py:680: RuntimeWarning: divide by zero encountered in power\n",
      "  perp = [np.prod(s)**(-1/len(s)) for s in scores]\n",
      "Finished epoch 72 of 1000; error is 45.243154406547546C:\\Users\\shubh\\My Drive\\MLDL\\stanfordXCS224U\\referenceRepo\\cs224u\\torch_color_describer.py:680: RuntimeWarning: divide by zero encountered in power\n",
      "  perp = [np.prod(s)**(-1/len(s)) for s in scores]\n",
      "Finished epoch 73 of 1000; error is 43.26090848445892C:\\Users\\shubh\\My Drive\\MLDL\\stanfordXCS224U\\referenceRepo\\cs224u\\torch_color_describer.py:680: RuntimeWarning: divide by zero encountered in power\n",
      "  perp = [np.prod(s)**(-1/len(s)) for s in scores]\n",
      "Finished epoch 74 of 1000; error is 41.3637370467186C:\\Users\\shubh\\My Drive\\MLDL\\stanfordXCS224U\\referenceRepo\\cs224u\\torch_color_describer.py:680: RuntimeWarning: divide by zero encountered in power\n",
      "  perp = [np.prod(s)**(-1/len(s)) for s in scores]\n",
      "Finished epoch 75 of 1000; error is 39.84570664167404C:\\Users\\shubh\\My Drive\\MLDL\\stanfordXCS224U\\referenceRepo\\cs224u\\torch_color_describer.py:680: RuntimeWarning: divide by zero encountered in power\n",
      "  perp = [np.prod(s)**(-1/len(s)) for s in scores]\n",
      "Finished epoch 76 of 1000; error is 38.25901556015015C:\\Users\\shubh\\My Drive\\MLDL\\stanfordXCS224U\\referenceRepo\\cs224u\\torch_color_describer.py:680: RuntimeWarning: divide by zero encountered in power\n",
      "  perp = [np.prod(s)**(-1/len(s)) for s in scores]\n",
      "Finished epoch 77 of 1000; error is 36.96425670385361C:\\Users\\shubh\\My Drive\\MLDL\\stanfordXCS224U\\referenceRepo\\cs224u\\torch_color_describer.py:680: RuntimeWarning: divide by zero encountered in power\n",
      "  perp = [np.prod(s)**(-1/len(s)) for s in scores]\n",
      "Finished epoch 78 of 1000; error is 35.74083608388901C:\\Users\\shubh\\My Drive\\MLDL\\stanfordXCS224U\\referenceRepo\\cs224u\\torch_color_describer.py:680: RuntimeWarning: divide by zero encountered in power\n",
      "  perp = [np.prod(s)**(-1/len(s)) for s in scores]\n",
      "Finished epoch 79 of 1000; error is 34.34768816828728C:\\Users\\shubh\\My Drive\\MLDL\\stanfordXCS224U\\referenceRepo\\cs224u\\torch_color_describer.py:680: RuntimeWarning: divide by zero encountered in power\n",
      "  perp = [np.prod(s)**(-1/len(s)) for s in scores]\n",
      "Finished epoch 80 of 1000; error is 33.153532683849335C:\\Users\\shubh\\My Drive\\MLDL\\stanfordXCS224U\\referenceRepo\\cs224u\\torch_color_describer.py:680: RuntimeWarning: divide by zero encountered in power\n",
      "  perp = [np.prod(s)**(-1/len(s)) for s in scores]\n",
      "Finished epoch 81 of 1000; error is 32.16179782152176C:\\Users\\shubh\\My Drive\\MLDL\\stanfordXCS224U\\referenceRepo\\cs224u\\torch_color_describer.py:680: RuntimeWarning: divide by zero encountered in power\n",
      "  perp = [np.prod(s)**(-1/len(s)) for s in scores]\n",
      "Finished epoch 82 of 1000; error is 30.932486176490784C:\\Users\\shubh\\My Drive\\MLDL\\stanfordXCS224U\\referenceRepo\\cs224u\\torch_color_describer.py:680: RuntimeWarning: divide by zero encountered in power\n",
      "  perp = [np.prod(s)**(-1/len(s)) for s in scores]\n",
      "Finished epoch 83 of 1000; error is 29.675334930419922C:\\Users\\shubh\\My Drive\\MLDL\\stanfordXCS224U\\referenceRepo\\cs224u\\torch_color_describer.py:680: RuntimeWarning: divide by zero encountered in power\n",
      "  perp = [np.prod(s)**(-1/len(s)) for s in scores]\n",
      "Finished epoch 84 of 1000; error is 28.89810737967491C:\\Users\\shubh\\My Drive\\MLDL\\stanfordXCS224U\\referenceRepo\\cs224u\\torch_color_describer.py:680: RuntimeWarning: divide by zero encountered in power\n",
      "  perp = [np.prod(s)**(-1/len(s)) for s in scores]\n",
      "Finished epoch 85 of 1000; error is 28.31744024157524C:\\Users\\shubh\\My Drive\\MLDL\\stanfordXCS224U\\referenceRepo\\cs224u\\torch_color_describer.py:680: RuntimeWarning: divide by zero encountered in power\n",
      "  perp = [np.prod(s)**(-1/len(s)) for s in scores]\n",
      "Finished epoch 86 of 1000; error is 27.34683483839035C:\\Users\\shubh\\My Drive\\MLDL\\stanfordXCS224U\\referenceRepo\\cs224u\\torch_color_describer.py:680: RuntimeWarning: divide by zero encountered in power\n",
      "  perp = [np.prod(s)**(-1/len(s)) for s in scores]\n",
      "Finished epoch 87 of 1000; error is 26.384971618652344C:\\Users\\shubh\\My Drive\\MLDL\\stanfordXCS224U\\referenceRepo\\cs224u\\torch_color_describer.py:680: RuntimeWarning: divide by zero encountered in power\n",
      "  perp = [np.prod(s)**(-1/len(s)) for s in scores]\n",
      "Finished epoch 88 of 1000; error is 25.83429878950119C:\\Users\\shubh\\My Drive\\MLDL\\stanfordXCS224U\\referenceRepo\\cs224u\\torch_color_describer.py:680: RuntimeWarning: divide by zero encountered in power\n",
      "  perp = [np.prod(s)**(-1/len(s)) for s in scores]\n",
      "Finished epoch 89 of 1000; error is 24.979571878910065C:\\Users\\shubh\\My Drive\\MLDL\\stanfordXCS224U\\referenceRepo\\cs224u\\torch_color_describer.py:680: RuntimeWarning: divide by zero encountered in power\n",
      "  perp = [np.prod(s)**(-1/len(s)) for s in scores]\n",
      "Finished epoch 90 of 1000; error is 24.38386580348015C:\\Users\\shubh\\My Drive\\MLDL\\stanfordXCS224U\\referenceRepo\\cs224u\\torch_color_describer.py:680: RuntimeWarning: divide by zero encountered in power\n",
      "  perp = [np.prod(s)**(-1/len(s)) for s in scores]\n",
      "Finished epoch 91 of 1000; error is 23.689886152744293C:\\Users\\shubh\\My Drive\\MLDL\\stanfordXCS224U\\referenceRepo\\cs224u\\torch_color_describer.py:680: RuntimeWarning: divide by zero encountered in power\n",
      "  perp = [np.prod(s)**(-1/len(s)) for s in scores]\n",
      "Finished epoch 92 of 1000; error is 22.987135410308838C:\\Users\\shubh\\My Drive\\MLDL\\stanfordXCS224U\\referenceRepo\\cs224u\\torch_color_describer.py:680: RuntimeWarning: divide by zero encountered in power\n",
      "  perp = [np.prod(s)**(-1/len(s)) for s in scores]\n",
      "Finished epoch 93 of 1000; error is 22.464425802230835C:\\Users\\shubh\\My Drive\\MLDL\\stanfordXCS224U\\referenceRepo\\cs224u\\torch_color_describer.py:680: RuntimeWarning: divide by zero encountered in power\n",
      "  perp = [np.prod(s)**(-1/len(s)) for s in scores]\n",
      "Finished epoch 94 of 1000; error is 22.038497537374496C:\\Users\\shubh\\My Drive\\MLDL\\stanfordXCS224U\\referenceRepo\\cs224u\\torch_color_describer.py:680: RuntimeWarning: divide by zero encountered in power\n",
      "  perp = [np.prod(s)**(-1/len(s)) for s in scores]\n",
      "Finished epoch 95 of 1000; error is 21.771012604236603C:\\Users\\shubh\\My Drive\\MLDL\\stanfordXCS224U\\referenceRepo\\cs224u\\torch_color_describer.py:680: RuntimeWarning: divide by zero encountered in power\n",
      "  perp = [np.prod(s)**(-1/len(s)) for s in scores]\n",
      "Finished epoch 96 of 1000; error is 21.10432168841362C:\\Users\\shubh\\My Drive\\MLDL\\stanfordXCS224U\\referenceRepo\\cs224u\\torch_color_describer.py:680: RuntimeWarning: divide by zero encountered in power\n",
      "  perp = [np.prod(s)**(-1/len(s)) for s in scores]\n",
      "Finished epoch 97 of 1000; error is 20.702766716480255C:\\Users\\shubh\\My Drive\\MLDL\\stanfordXCS224U\\referenceRepo\\cs224u\\torch_color_describer.py:680: RuntimeWarning: divide by zero encountered in power\n",
      "  perp = [np.prod(s)**(-1/len(s)) for s in scores]\n",
      "Stopping after epoch 98. Validation score did not improve by tol=1e-05 for more than 10 epochs. Final error is 20.142521053552628C:\\Users\\shubh\\My Drive\\MLDL\\stanfordXCS224U\\referenceRepo\\cs224u\\torch_color_describer.py:680: RuntimeWarning: divide by zero encountered in power\n",
      "  perp = [np.prod(s)**(-1/len(s)) for s in scores]\n"
     ]
    },
    {
     "name": "stdout",
     "output_type": "stream",
     "text": [
      "listener_accuracy:\n",
      " 0.9172234753372771\n",
      "bleu:\n",
      " 0.4530126479409405\n"
     ]
    }
   ],
   "source": [
    "# the super sampled dataset has the same texts (with interchanged disturbances). So the vocab and the embeddings should remain the same\n",
    "if 'IS_GRADESCOPE_ENV' not in os.environ:\n",
    "    sup_full_var_bert_embedding_color_input_mod = VarColorizedInputDescriber(\n",
    "        vocab=full_train_bert_vocab,\n",
    "        embedding=full_train_bert_embedding,\n",
    "        encoder_hidden_dim=32,\n",
    "        decoder_hidden_dim=256,\n",
    "        early_stopping=True)\n",
    "\n",
    "    _ = sup_full_var_bert_embedding_color_input_mod.fit(sup_full_cols_train, sup_full_seqs_train)\n",
    "\n",
    "    print(\"listener_accuracy:\\n\", sup_full_var_bert_embedding_color_input_mod.listener_accuracy(sup_full_cols_test, sup_full_seqs_test))\n",
    "    print(\"bleu:\\n\", sup_full_var_bert_embedding_color_input_mod.corpus_bleu(sup_full_cols_test, sup_full_seqs_test)[0])\n"
   ],
   "metadata": {
    "collapsed": false,
    "pycharm": {
     "name": "#%%\n"
    }
   }
  },
  {
   "cell_type": "code",
   "execution_count": 523,
   "outputs": [],
   "source": [
    "if 'IS_GRADESCOPE_ENV' not in os.environ:\n",
    "    torch.save(sup_full_var_bert_embedding_color_input_mod, os.path.join(\"data\", \"colors\", \"sup_full_var_bert_embedding_color_input_mod.mod\"))"
   ],
   "metadata": {
    "collapsed": false,
    "pycharm": {
     "name": "#%%\n"
    }
   }
  },
  {
   "cell_type": "code",
   "execution_count": 534,
   "outputs": [
    {
     "name": "stderr",
     "output_type": "stream",
     "text": [
      "C:\\Users\\shubh\\My Drive\\MLDL\\stanfordXCS224U\\referenceRepo\\cs224u\\torch_color_describer.py:680: RuntimeWarning: divide by zero encountered in power\n",
      "  perp = [np.prod(s)**(-1/len(s)) for s in scores]\n",
      "Finished epoch 1 of 1000; error is 460.98035192489624C:\\Users\\shubh\\My Drive\\MLDL\\stanfordXCS224U\\referenceRepo\\cs224u\\torch_color_describer.py:680: RuntimeWarning: divide by zero encountered in power\n",
      "  perp = [np.prod(s)**(-1/len(s)) for s in scores]\n",
      "Finished epoch 2 of 1000; error is 447.3191776275635C:\\Users\\shubh\\My Drive\\MLDL\\stanfordXCS224U\\referenceRepo\\cs224u\\torch_color_describer.py:680: RuntimeWarning: divide by zero encountered in power\n",
      "  perp = [np.prod(s)**(-1/len(s)) for s in scores]\n",
      "Finished epoch 3 of 1000; error is 436.418803691864C:\\Users\\shubh\\My Drive\\MLDL\\stanfordXCS224U\\referenceRepo\\cs224u\\torch_color_describer.py:680: RuntimeWarning: divide by zero encountered in power\n",
      "  perp = [np.prod(s)**(-1/len(s)) for s in scores]\n",
      "Finished epoch 4 of 1000; error is 429.4988012313843C:\\Users\\shubh\\My Drive\\MLDL\\stanfordXCS224U\\referenceRepo\\cs224u\\torch_color_describer.py:680: RuntimeWarning: divide by zero encountered in power\n",
      "  perp = [np.prod(s)**(-1/len(s)) for s in scores]\n",
      "Finished epoch 5 of 1000; error is 420.950644493103C:\\Users\\shubh\\My Drive\\MLDL\\stanfordXCS224U\\referenceRepo\\cs224u\\torch_color_describer.py:680: RuntimeWarning: divide by zero encountered in power\n",
      "  perp = [np.prod(s)**(-1/len(s)) for s in scores]\n",
      "Finished epoch 6 of 1000; error is 414.6217908859253C:\\Users\\shubh\\My Drive\\MLDL\\stanfordXCS224U\\referenceRepo\\cs224u\\torch_color_describer.py:680: RuntimeWarning: divide by zero encountered in power\n",
      "  perp = [np.prod(s)**(-1/len(s)) for s in scores]\n",
      "Finished epoch 7 of 1000; error is 405.72508811950684C:\\Users\\shubh\\My Drive\\MLDL\\stanfordXCS224U\\referenceRepo\\cs224u\\torch_color_describer.py:680: RuntimeWarning: divide by zero encountered in power\n",
      "  perp = [np.prod(s)**(-1/len(s)) for s in scores]\n",
      "Finished epoch 8 of 1000; error is 398.8475995063782C:\\Users\\shubh\\My Drive\\MLDL\\stanfordXCS224U\\referenceRepo\\cs224u\\torch_color_describer.py:680: RuntimeWarning: divide by zero encountered in power\n",
      "  perp = [np.prod(s)**(-1/len(s)) for s in scores]\n",
      "Finished epoch 9 of 1000; error is 391.82512378692627C:\\Users\\shubh\\My Drive\\MLDL\\stanfordXCS224U\\referenceRepo\\cs224u\\torch_color_describer.py:680: RuntimeWarning: divide by zero encountered in power\n",
      "  perp = [np.prod(s)**(-1/len(s)) for s in scores]\n",
      "Finished epoch 10 of 1000; error is 385.9202184677124C:\\Users\\shubh\\My Drive\\MLDL\\stanfordXCS224U\\referenceRepo\\cs224u\\torch_color_describer.py:680: RuntimeWarning: divide by zero encountered in power\n",
      "  perp = [np.prod(s)**(-1/len(s)) for s in scores]\n",
      "Finished epoch 11 of 1000; error is 378.24187660217285C:\\Users\\shubh\\My Drive\\MLDL\\stanfordXCS224U\\referenceRepo\\cs224u\\torch_color_describer.py:680: RuntimeWarning: divide by zero encountered in power\n",
      "  perp = [np.prod(s)**(-1/len(s)) for s in scores]\n",
      "Finished epoch 12 of 1000; error is 371.6147356033325C:\\Users\\shubh\\My Drive\\MLDL\\stanfordXCS224U\\referenceRepo\\cs224u\\torch_color_describer.py:680: RuntimeWarning: divide by zero encountered in power\n",
      "  perp = [np.prod(s)**(-1/len(s)) for s in scores]\n",
      "Finished epoch 13 of 1000; error is 364.7670388221741C:\\Users\\shubh\\My Drive\\MLDL\\stanfordXCS224U\\referenceRepo\\cs224u\\torch_color_describer.py:680: RuntimeWarning: divide by zero encountered in power\n",
      "  perp = [np.prod(s)**(-1/len(s)) for s in scores]\n",
      "Finished epoch 14 of 1000; error is 358.1556930541992C:\\Users\\shubh\\My Drive\\MLDL\\stanfordXCS224U\\referenceRepo\\cs224u\\torch_color_describer.py:680: RuntimeWarning: divide by zero encountered in power\n",
      "  perp = [np.prod(s)**(-1/len(s)) for s in scores]\n",
      "Finished epoch 15 of 1000; error is 351.14596796035767C:\\Users\\shubh\\My Drive\\MLDL\\stanfordXCS224U\\referenceRepo\\cs224u\\torch_color_describer.py:680: RuntimeWarning: divide by zero encountered in power\n",
      "  perp = [np.prod(s)**(-1/len(s)) for s in scores]\n",
      "Finished epoch 16 of 1000; error is 343.7636103630066C:\\Users\\shubh\\My Drive\\MLDL\\stanfordXCS224U\\referenceRepo\\cs224u\\torch_color_describer.py:680: RuntimeWarning: divide by zero encountered in power\n",
      "  perp = [np.prod(s)**(-1/len(s)) for s in scores]\n",
      "Finished epoch 17 of 1000; error is 336.31061363220215C:\\Users\\shubh\\My Drive\\MLDL\\stanfordXCS224U\\referenceRepo\\cs224u\\torch_color_describer.py:680: RuntimeWarning: divide by zero encountered in power\n",
      "  perp = [np.prod(s)**(-1/len(s)) for s in scores]\n",
      "Finished epoch 18 of 1000; error is 330.5451855659485C:\\Users\\shubh\\My Drive\\MLDL\\stanfordXCS224U\\referenceRepo\\cs224u\\torch_color_describer.py:680: RuntimeWarning: divide by zero encountered in power\n",
      "  perp = [np.prod(s)**(-1/len(s)) for s in scores]\n",
      "Finished epoch 19 of 1000; error is 323.19404315948486C:\\Users\\shubh\\My Drive\\MLDL\\stanfordXCS224U\\referenceRepo\\cs224u\\torch_color_describer.py:680: RuntimeWarning: divide by zero encountered in power\n",
      "  perp = [np.prod(s)**(-1/len(s)) for s in scores]\n",
      "Finished epoch 20 of 1000; error is 316.8899459838867C:\\Users\\shubh\\My Drive\\MLDL\\stanfordXCS224U\\referenceRepo\\cs224u\\torch_color_describer.py:680: RuntimeWarning: divide by zero encountered in power\n",
      "  perp = [np.prod(s)**(-1/len(s)) for s in scores]\n",
      "Finished epoch 21 of 1000; error is 309.9307942390442C:\\Users\\shubh\\My Drive\\MLDL\\stanfordXCS224U\\referenceRepo\\cs224u\\torch_color_describer.py:680: RuntimeWarning: divide by zero encountered in power\n",
      "  perp = [np.prod(s)**(-1/len(s)) for s in scores]\n",
      "Finished epoch 22 of 1000; error is 303.17956256866455C:\\Users\\shubh\\My Drive\\MLDL\\stanfordXCS224U\\referenceRepo\\cs224u\\torch_color_describer.py:680: RuntimeWarning: divide by zero encountered in power\n",
      "  perp = [np.prod(s)**(-1/len(s)) for s in scores]\n",
      "Finished epoch 23 of 1000; error is 296.18064403533936C:\\Users\\shubh\\My Drive\\MLDL\\stanfordXCS224U\\referenceRepo\\cs224u\\torch_color_describer.py:680: RuntimeWarning: divide by zero encountered in power\n",
      "  perp = [np.prod(s)**(-1/len(s)) for s in scores]\n",
      "Finished epoch 24 of 1000; error is 289.7601752281189C:\\Users\\shubh\\My Drive\\MLDL\\stanfordXCS224U\\referenceRepo\\cs224u\\torch_color_describer.py:680: RuntimeWarning: divide by zero encountered in power\n",
      "  perp = [np.prod(s)**(-1/len(s)) for s in scores]\n",
      "Finished epoch 25 of 1000; error is 283.23570728302C:\\Users\\shubh\\My Drive\\MLDL\\stanfordXCS224U\\referenceRepo\\cs224u\\torch_color_describer.py:680: RuntimeWarning: divide by zero encountered in power\n",
      "  perp = [np.prod(s)**(-1/len(s)) for s in scores]\n",
      "Finished epoch 26 of 1000; error is 276.8246645927429C:\\Users\\shubh\\My Drive\\MLDL\\stanfordXCS224U\\referenceRepo\\cs224u\\torch_color_describer.py:680: RuntimeWarning: divide by zero encountered in power\n",
      "  perp = [np.prod(s)**(-1/len(s)) for s in scores]\n",
      "Finished epoch 27 of 1000; error is 269.68736457824707C:\\Users\\shubh\\My Drive\\MLDL\\stanfordXCS224U\\referenceRepo\\cs224u\\torch_color_describer.py:680: RuntimeWarning: divide by zero encountered in power\n",
      "  perp = [np.prod(s)**(-1/len(s)) for s in scores]\n",
      "Finished epoch 28 of 1000; error is 263.45531845092773C:\\Users\\shubh\\My Drive\\MLDL\\stanfordXCS224U\\referenceRepo\\cs224u\\torch_color_describer.py:680: RuntimeWarning: divide by zero encountered in power\n",
      "  perp = [np.prod(s)**(-1/len(s)) for s in scores]\n",
      "Finished epoch 29 of 1000; error is 256.82331228256226C:\\Users\\shubh\\My Drive\\MLDL\\stanfordXCS224U\\referenceRepo\\cs224u\\torch_color_describer.py:680: RuntimeWarning: divide by zero encountered in power\n",
      "  perp = [np.prod(s)**(-1/len(s)) for s in scores]\n",
      "Finished epoch 30 of 1000; error is 249.7009720802307C:\\Users\\shubh\\My Drive\\MLDL\\stanfordXCS224U\\referenceRepo\\cs224u\\torch_color_describer.py:680: RuntimeWarning: divide by zero encountered in power\n",
      "  perp = [np.prod(s)**(-1/len(s)) for s in scores]\n",
      "Finished epoch 31 of 1000; error is 243.67676281929016C:\\Users\\shubh\\My Drive\\MLDL\\stanfordXCS224U\\referenceRepo\\cs224u\\torch_color_describer.py:680: RuntimeWarning: divide by zero encountered in power\n",
      "  perp = [np.prod(s)**(-1/len(s)) for s in scores]\n",
      "Finished epoch 32 of 1000; error is 236.6611053943634C:\\Users\\shubh\\My Drive\\MLDL\\stanfordXCS224U\\referenceRepo\\cs224u\\torch_color_describer.py:680: RuntimeWarning: divide by zero encountered in power\n",
      "  perp = [np.prod(s)**(-1/len(s)) for s in scores]\n",
      "Finished epoch 33 of 1000; error is 230.08452796936035C:\\Users\\shubh\\My Drive\\MLDL\\stanfordXCS224U\\referenceRepo\\cs224u\\torch_color_describer.py:680: RuntimeWarning: divide by zero encountered in power\n",
      "  perp = [np.prod(s)**(-1/len(s)) for s in scores]\n",
      "Finished epoch 34 of 1000; error is 223.44172430038452C:\\Users\\shubh\\My Drive\\MLDL\\stanfordXCS224U\\referenceRepo\\cs224u\\torch_color_describer.py:680: RuntimeWarning: divide by zero encountered in power\n",
      "  perp = [np.prod(s)**(-1/len(s)) for s in scores]\n",
      "Finished epoch 35 of 1000; error is 216.50099301338196C:\\Users\\shubh\\My Drive\\MLDL\\stanfordXCS224U\\referenceRepo\\cs224u\\torch_color_describer.py:680: RuntimeWarning: divide by zero encountered in power\n",
      "  perp = [np.prod(s)**(-1/len(s)) for s in scores]\n",
      "Finished epoch 36 of 1000; error is 210.02876925468445C:\\Users\\shubh\\My Drive\\MLDL\\stanfordXCS224U\\referenceRepo\\cs224u\\torch_color_describer.py:680: RuntimeWarning: divide by zero encountered in power\n",
      "  perp = [np.prod(s)**(-1/len(s)) for s in scores]\n",
      "Finished epoch 37 of 1000; error is 204.0244698524475C:\\Users\\shubh\\My Drive\\MLDL\\stanfordXCS224U\\referenceRepo\\cs224u\\torch_color_describer.py:680: RuntimeWarning: divide by zero encountered in power\n",
      "  perp = [np.prod(s)**(-1/len(s)) for s in scores]\n",
      "Finished epoch 38 of 1000; error is 197.6508665084839C:\\Users\\shubh\\My Drive\\MLDL\\stanfordXCS224U\\referenceRepo\\cs224u\\torch_color_describer.py:680: RuntimeWarning: divide by zero encountered in power\n",
      "  perp = [np.prod(s)**(-1/len(s)) for s in scores]\n",
      "Finished epoch 39 of 1000; error is 191.08078408241272C:\\Users\\shubh\\My Drive\\MLDL\\stanfordXCS224U\\referenceRepo\\cs224u\\torch_color_describer.py:680: RuntimeWarning: divide by zero encountered in power\n",
      "  perp = [np.prod(s)**(-1/len(s)) for s in scores]\n",
      "Finished epoch 40 of 1000; error is 184.9434096813202C:\\Users\\shubh\\My Drive\\MLDL\\stanfordXCS224U\\referenceRepo\\cs224u\\torch_color_describer.py:680: RuntimeWarning: divide by zero encountered in power\n",
      "  perp = [np.prod(s)**(-1/len(s)) for s in scores]\n",
      "Finished epoch 41 of 1000; error is 178.65430641174316C:\\Users\\shubh\\My Drive\\MLDL\\stanfordXCS224U\\referenceRepo\\cs224u\\torch_color_describer.py:680: RuntimeWarning: divide by zero encountered in power\n",
      "  perp = [np.prod(s)**(-1/len(s)) for s in scores]\n",
      "Finished epoch 42 of 1000; error is 172.32051348686218C:\\Users\\shubh\\My Drive\\MLDL\\stanfordXCS224U\\referenceRepo\\cs224u\\torch_color_describer.py:680: RuntimeWarning: divide by zero encountered in power\n",
      "  perp = [np.prod(s)**(-1/len(s)) for s in scores]\n",
      "Finished epoch 43 of 1000; error is 165.8145272731781C:\\Users\\shubh\\My Drive\\MLDL\\stanfordXCS224U\\referenceRepo\\cs224u\\torch_color_describer.py:680: RuntimeWarning: divide by zero encountered in power\n",
      "  perp = [np.prod(s)**(-1/len(s)) for s in scores]\n",
      "Finished epoch 44 of 1000; error is 160.1716592311859C:\\Users\\shubh\\My Drive\\MLDL\\stanfordXCS224U\\referenceRepo\\cs224u\\torch_color_describer.py:680: RuntimeWarning: divide by zero encountered in power\n",
      "  perp = [np.prod(s)**(-1/len(s)) for s in scores]\n",
      "Finished epoch 45 of 1000; error is 153.7422535419464C:\\Users\\shubh\\My Drive\\MLDL\\stanfordXCS224U\\referenceRepo\\cs224u\\torch_color_describer.py:680: RuntimeWarning: divide by zero encountered in power\n",
      "  perp = [np.prod(s)**(-1/len(s)) for s in scores]\n",
      "Finished epoch 46 of 1000; error is 147.92869091033936C:\\Users\\shubh\\My Drive\\MLDL\\stanfordXCS224U\\referenceRepo\\cs224u\\torch_color_describer.py:680: RuntimeWarning: divide by zero encountered in power\n",
      "  perp = [np.prod(s)**(-1/len(s)) for s in scores]\n",
      "Finished epoch 47 of 1000; error is 142.0126736164093C:\\Users\\shubh\\My Drive\\MLDL\\stanfordXCS224U\\referenceRepo\\cs224u\\torch_color_describer.py:680: RuntimeWarning: divide by zero encountered in power\n",
      "  perp = [np.prod(s)**(-1/len(s)) for s in scores]\n",
      "Finished epoch 48 of 1000; error is 136.24209713935852C:\\Users\\shubh\\My Drive\\MLDL\\stanfordXCS224U\\referenceRepo\\cs224u\\torch_color_describer.py:680: RuntimeWarning: divide by zero encountered in power\n",
      "  perp = [np.prod(s)**(-1/len(s)) for s in scores]\n",
      "Finished epoch 49 of 1000; error is 130.57935333251953C:\\Users\\shubh\\My Drive\\MLDL\\stanfordXCS224U\\referenceRepo\\cs224u\\torch_color_describer.py:680: RuntimeWarning: divide by zero encountered in power\n",
      "  perp = [np.prod(s)**(-1/len(s)) for s in scores]\n",
      "Finished epoch 50 of 1000; error is 124.95907163619995C:\\Users\\shubh\\My Drive\\MLDL\\stanfordXCS224U\\referenceRepo\\cs224u\\torch_color_describer.py:680: RuntimeWarning: divide by zero encountered in power\n",
      "  perp = [np.prod(s)**(-1/len(s)) for s in scores]\n",
      "Finished epoch 51 of 1000; error is 119.65037155151367C:\\Users\\shubh\\My Drive\\MLDL\\stanfordXCS224U\\referenceRepo\\cs224u\\torch_color_describer.py:680: RuntimeWarning: divide by zero encountered in power\n",
      "  perp = [np.prod(s)**(-1/len(s)) for s in scores]\n",
      "Finished epoch 52 of 1000; error is 114.29577159881592C:\\Users\\shubh\\My Drive\\MLDL\\stanfordXCS224U\\referenceRepo\\cs224u\\torch_color_describer.py:680: RuntimeWarning: divide by zero encountered in power\n",
      "  perp = [np.prod(s)**(-1/len(s)) for s in scores]\n",
      "Finished epoch 53 of 1000; error is 109.13669764995575C:\\Users\\shubh\\My Drive\\MLDL\\stanfordXCS224U\\referenceRepo\\cs224u\\torch_color_describer.py:680: RuntimeWarning: divide by zero encountered in power\n",
      "  perp = [np.prod(s)**(-1/len(s)) for s in scores]\n",
      "Finished epoch 54 of 1000; error is 104.166912317276C:\\Users\\shubh\\My Drive\\MLDL\\stanfordXCS224U\\referenceRepo\\cs224u\\torch_color_describer.py:680: RuntimeWarning: divide by zero encountered in power\n",
      "  perp = [np.prod(s)**(-1/len(s)) for s in scores]\n",
      "Finished epoch 55 of 1000; error is 99.19154846668243C:\\Users\\shubh\\My Drive\\MLDL\\stanfordXCS224U\\referenceRepo\\cs224u\\torch_color_describer.py:680: RuntimeWarning: divide by zero encountered in power\n",
      "  perp = [np.prod(s)**(-1/len(s)) for s in scores]\n",
      "Finished epoch 56 of 1000; error is 94.48063826560974C:\\Users\\shubh\\My Drive\\MLDL\\stanfordXCS224U\\referenceRepo\\cs224u\\torch_color_describer.py:680: RuntimeWarning: divide by zero encountered in power\n",
      "  perp = [np.prod(s)**(-1/len(s)) for s in scores]\n",
      "Finished epoch 57 of 1000; error is 89.88440275192261C:\\Users\\shubh\\My Drive\\MLDL\\stanfordXCS224U\\referenceRepo\\cs224u\\torch_color_describer.py:680: RuntimeWarning: divide by zero encountered in power\n",
      "  perp = [np.prod(s)**(-1/len(s)) for s in scores]\n",
      "Finished epoch 58 of 1000; error is 85.50071942806244C:\\Users\\shubh\\My Drive\\MLDL\\stanfordXCS224U\\referenceRepo\\cs224u\\torch_color_describer.py:680: RuntimeWarning: divide by zero encountered in power\n",
      "  perp = [np.prod(s)**(-1/len(s)) for s in scores]\n",
      "Finished epoch 59 of 1000; error is 81.28492426872253C:\\Users\\shubh\\My Drive\\MLDL\\stanfordXCS224U\\referenceRepo\\cs224u\\torch_color_describer.py:680: RuntimeWarning: divide by zero encountered in power\n",
      "  perp = [np.prod(s)**(-1/len(s)) for s in scores]\n",
      "Finished epoch 60 of 1000; error is 77.23522782325745C:\\Users\\shubh\\My Drive\\MLDL\\stanfordXCS224U\\referenceRepo\\cs224u\\torch_color_describer.py:680: RuntimeWarning: divide by zero encountered in power\n",
      "  perp = [np.prod(s)**(-1/len(s)) for s in scores]\n",
      "Finished epoch 61 of 1000; error is 73.38862574100494C:\\Users\\shubh\\My Drive\\MLDL\\stanfordXCS224U\\referenceRepo\\cs224u\\torch_color_describer.py:680: RuntimeWarning: divide by zero encountered in power\n",
      "  perp = [np.prod(s)**(-1/len(s)) for s in scores]\n",
      "Finished epoch 62 of 1000; error is 69.72467195987701C:\\Users\\shubh\\My Drive\\MLDL\\stanfordXCS224U\\referenceRepo\\cs224u\\torch_color_describer.py:680: RuntimeWarning: divide by zero encountered in power\n",
      "  perp = [np.prod(s)**(-1/len(s)) for s in scores]\n",
      "Finished epoch 63 of 1000; error is 66.25287687778473C:\\Users\\shubh\\My Drive\\MLDL\\stanfordXCS224U\\referenceRepo\\cs224u\\torch_color_describer.py:680: RuntimeWarning: divide by zero encountered in power\n",
      "  perp = [np.prod(s)**(-1/len(s)) for s in scores]\n",
      "Finished epoch 64 of 1000; error is 62.907669603824615C:\\Users\\shubh\\My Drive\\MLDL\\stanfordXCS224U\\referenceRepo\\cs224u\\torch_color_describer.py:680: RuntimeWarning: divide by zero encountered in power\n",
      "  perp = [np.prod(s)**(-1/len(s)) for s in scores]\n",
      "Finished epoch 65 of 1000; error is 59.8073074221611C:\\Users\\shubh\\My Drive\\MLDL\\stanfordXCS224U\\referenceRepo\\cs224u\\torch_color_describer.py:680: RuntimeWarning: divide by zero encountered in power\n",
      "  perp = [np.prod(s)**(-1/len(s)) for s in scores]\n",
      "Finished epoch 66 of 1000; error is 56.81753808259964C:\\Users\\shubh\\My Drive\\MLDL\\stanfordXCS224U\\referenceRepo\\cs224u\\torch_color_describer.py:680: RuntimeWarning: divide by zero encountered in power\n",
      "  perp = [np.prod(s)**(-1/len(s)) for s in scores]\n",
      "Finished epoch 67 of 1000; error is 54.04282546043396C:\\Users\\shubh\\My Drive\\MLDL\\stanfordXCS224U\\referenceRepo\\cs224u\\torch_color_describer.py:680: RuntimeWarning: divide by zero encountered in power\n",
      "  perp = [np.prod(s)**(-1/len(s)) for s in scores]\n",
      "Finished epoch 68 of 1000; error is 51.30347138643265C:\\Users\\shubh\\My Drive\\MLDL\\stanfordXCS224U\\referenceRepo\\cs224u\\torch_color_describer.py:680: RuntimeWarning: divide by zero encountered in power\n",
      "  perp = [np.prod(s)**(-1/len(s)) for s in scores]\n",
      "Finished epoch 69 of 1000; error is 48.75136196613312C:\\Users\\shubh\\My Drive\\MLDL\\stanfordXCS224U\\referenceRepo\\cs224u\\torch_color_describer.py:680: RuntimeWarning: divide by zero encountered in power\n",
      "  perp = [np.prod(s)**(-1/len(s)) for s in scores]\n",
      "Finished epoch 70 of 1000; error is 46.52282643318176C:\\Users\\shubh\\My Drive\\MLDL\\stanfordXCS224U\\referenceRepo\\cs224u\\torch_color_describer.py:680: RuntimeWarning: divide by zero encountered in power\n",
      "  perp = [np.prod(s)**(-1/len(s)) for s in scores]\n",
      "Finished epoch 71 of 1000; error is 44.29543733596802C:\\Users\\shubh\\My Drive\\MLDL\\stanfordXCS224U\\referenceRepo\\cs224u\\torch_color_describer.py:680: RuntimeWarning: divide by zero encountered in power\n",
      "  perp = [np.prod(s)**(-1/len(s)) for s in scores]\n",
      "Stopping after epoch 72. Validation score did not improve by tol=1e-05 for more than 10 epochs. Final error is 42.22572386264801C:\\Users\\shubh\\My Drive\\MLDL\\stanfordXCS224U\\referenceRepo\\cs224u\\torch_color_describer.py:680: RuntimeWarning: divide by zero encountered in power\n",
      "  perp = [np.prod(s)**(-1/len(s)) for s in scores]\n"
     ]
    },
    {
     "name": "stdout",
     "output_type": "stream",
     "text": [
      "listener_accuracy:\n",
      " 0.9263735796059072\n",
      "bleu:\n",
      " 0.46715179883476743\n"
     ]
    }
   ],
   "source": [
    "# trying this on RoBERTa\n",
    "# the super sampled dataset has the same texts (with interchanged disturbances). So the vocab and the embeddings should remain the same\n",
    "if 'IS_GRADESCOPE_ENV' not in os.environ:\n",
    "    sup_full_var_roberta_embedding_color_input_mod = VarColorizedInputDescriber(\n",
    "        vocab=full_train_roberta_vocab,\n",
    "        embedding=full_train_roberta_embedding,\n",
    "        encoder_hidden_dim=32,\n",
    "        decoder_hidden_dim=512,\n",
    "        early_stopping=True)\n",
    "\n",
    "    _ = sup_full_var_roberta_embedding_color_input_mod.fit(sup_full_cols_train, sup_full_seqs_train)\n",
    "\n",
    "    print(\"listener_accuracy:\\n\", sup_full_var_roberta_embedding_color_input_mod.listener_accuracy(sup_full_cols_test, sup_full_seqs_test))\n",
    "    print(\"bleu:\\n\", sup_full_var_roberta_embedding_color_input_mod.corpus_bleu(sup_full_cols_test, sup_full_seqs_test)[0])\n"
   ],
   "metadata": {
    "collapsed": false,
    "pycharm": {
     "name": "#%%\n"
    }
   }
  },
  {
   "cell_type": "code",
   "execution_count": 537,
   "outputs": [],
   "source": [
    "if 'IS_GRADESCOPE_ENV' not in os.environ:\n",
    "    torch.save(sup_full_var_roberta_embedding_color_input_mod, os.path.join(\"data\", \"colors\", \"sup_full_var_roberta_embedding_color_input_mod.mod\"))"
   ],
   "metadata": {
    "collapsed": false,
    "pycharm": {
     "name": "#%%\n"
    }
   }
  },
  {
   "cell_type": "markdown",
   "source": [
    "**_Best model so far (BERT Embedding based), score: 0.9172, 0.453_**\n",
    "**_Better one. (RoBERTa Embedding based), score: 0.9264, 0.4671_**"
   ],
   "metadata": {
    "collapsed": false
   }
  },
  {
   "cell_type": "code",
   "execution_count": 538,
   "metadata": {},
   "outputs": [],
   "source": [
    "def evaluate_original_system(trained_model, color_seqs_test, texts_test):\n",
    "\n",
    "    tok_seqs = [full_tokenize_example(s) for s in texts_test]\n",
    "\n",
    "    col_seqs = [represent_color_context(colors)\n",
    "                for colors in color_seqs_test]\n",
    "\n",
    "    evaluation = trained_model.evaluate(col_seqs, tok_seqs)\n",
    "\n",
    "    return evaluation"
   ]
  },
  {
   "cell_type": "code",
   "execution_count": 539,
   "metadata": {},
   "outputs": [
    {
     "name": "stderr",
     "output_type": "stream",
     "text": [
      "C:\\Users\\shubh\\My Drive\\MLDL\\stanfordXCS224U\\referenceRepo\\cs224u\\torch_color_describer.py:680: RuntimeWarning: divide by zero encountered in power\n",
      "  perp = [np.prod(s)**(-1/len(s)) for s in scores]\n"
     ]
    }
   ],
   "source": [
    "my_evaluation = evaluate_original_system(sup_full_var_roberta_embedding_color_input_mod, sup_full_rawcols_test, sup_full_texts_test)"
   ]
  },
  {
   "cell_type": "code",
   "execution_count": 540,
   "metadata": {},
   "outputs": [
    {
     "data": {
      "text/plain": "0.9261607864833808"
     },
     "execution_count": 540,
     "metadata": {},
     "output_type": "execute_result"
    }
   ],
   "source": [
    "my_evaluation['listener_accuracy']"
   ]
  },
  {
   "cell_type": "code",
   "execution_count": 541,
   "metadata": {},
   "outputs": [
    {
     "data": {
      "text/plain": "0.46715179883476743"
     },
     "execution_count": 541,
     "metadata": {},
     "output_type": "execute_result"
    }
   ],
   "source": [
    "my_evaluation['corpus_bleu']"
   ]
  },
  {
   "cell_type": "markdown",
   "source": [
    "## Test results (ran on online judge):\n",
    "**_'listener_accuracy': 0.9030034465780404, 'corpus_bleu': 0.6912203345869538_**\n",
    "\n",
    "**_Avg accuracy for humans to correctly identify the colors based on the description generated by other humans ( in the SCC dataset) is 90%_**\n",
    "This model is at par with an experimental human performance."
   ],
   "metadata": {
    "collapsed": false,
    "pycharm": {
     "name": "#%% md\n"
    }
   }
  },
  {
   "cell_type": "markdown",
   "source": [
    "## Future Work\n",
    "1. Reducing the vocab to include only effective tokens actually improves the english outputs. Since the accuracy did not improve much,\n",
    "we did not proceed with that in the final pipeline. But including this might lead to a good bleu score along with a decent listener_accuracy.\n",
    "2. We can train the ColorDescriber by keeping it on a neural conversation with a neural listener (that replies back too). The dataset supports\n",
    "2-way conversation\n",
    "3. We can pursue an ensemble of various good-performing models above by combining their probability distributions.\n",
    "4. We can try character-level tokenization and representation too."
   ],
   "metadata": {
    "collapsed": false
   }
  },
  {
   "cell_type": "markdown",
   "source": [
    "### References\n",
    "\n",
    "1. [Monroe et. al. 2016](https://nlp.stanford.edu/pubs/monroe2016color.pdf)\n",
    "2. [Monroe et. al. 2017](https://transacl.org/ojs/index.php/tacl/article/view/1142)\n",
    "3. [Prof. Chris Potts' NLP Research Architecture](https://github.com/cgpotts/cs224u)"
   ],
   "metadata": {
    "collapsed": false,
    "pycharm": {
     "name": "#%% md\n"
    }
   }
  }
 ],
 "metadata": {
  "kernelspec": {
   "display_name": "Python 3",
   "language": "python",
   "name": "python3"
  },
  "language_info": {
   "codemirror_mode": {
    "name": "ipython",
    "version": 3
   },
   "file_extension": ".py",
   "mimetype": "text/x-python",
   "name": "python",
   "nbconvert_exporter": "python",
   "pygments_lexer": "ipython3",
   "version": "3.8.8"
  }
 },
 "nbformat": 4,
 "nbformat_minor": 4
}